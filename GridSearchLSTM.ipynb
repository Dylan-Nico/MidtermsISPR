{
 "cells": [
  {
   "cell_type": "code",
   "execution_count": 27,
   "metadata": {},
   "outputs": [],
   "source": [
    "from math import sqrt\n",
    "import numpy as np\n",
    "from numpy import concatenate\n",
    "from numpy import transpose\n",
    "import pandas as pd\n",
    "from tensorflow import keras\n",
    "from sklearn.preprocessing import MinMaxScaler\n",
    "from pandas.plotting import autocorrelation_plot\n",
    "import tensorflow as tf\n",
    "import matplotlib.pyplot as plt\n",
    "from sklearn.preprocessing import MinMaxScaler\n",
    "from sklearn.metrics import mean_squared_error\n",
    "from keras.callbacks import TensorBoard\n",
    "from keras.models import Sequential\n",
    "from keras.layers import Dense\n",
    "from keras.layers import BatchNormalization\n",
    "from keras.layers import LSTM\n",
    "from keras.layers import Dropout, Softmax\n",
    "from keras.optimizers import RMSprop, SGD\n",
    "seed_value= 1\n",
    "\n",
    "# 1. Set the `PYTHONHASHSEED` environment variable at a fixed value\n",
    "import os\n",
    "os.environ['PYTHONHASHSEED']=str(seed_value)\n",
    "\n",
    "# 2. Set the `python` built-in pseudo-random generator at a fixed value\n",
    "import random\n",
    "random.seed(seed_value)\n",
    "\n",
    "# 3. Set the `numpy` pseudo-random generator at a fixed value\n",
    "np.random.seed(seed_value)\n",
    "\n",
    "# 4. Set the `tensorflow` pseudo-random generator at a fixed value\n",
    "tf.random.set_seed(seed_value)\n",
    "# for later versions: \n",
    "# tf.compat.v1.set_random_seed(seed_value)\n",
    "# Get same result every time\n",
    "#np.random.seed(10)\n",
    "#tf.random.set_seed(10)\n",
    "dataset = pd.read_csv('energydata_complete.csv', header = 0, sep=',', quotechar='\"', engine='python', usecols=[0, 1], \n",
    "                           dtype = {\"date\" : \"datetime64[ns]\", \"Appliances\" : \"float\"})\n",
    "\n",
    "#datetime format\n",
    "dataset.index = pd.to_datetime(dataset['date'], format='%Y-%m-%d %H:%M:%S')\n",
    "dataset = dataset.set_index('date')\n",
    "scaler = MinMaxScaler()\n",
    "dataset = scaler.fit_transform(dataset)\n",
    "train_size = int(len(dataset) * 0.80)\n",
    "test_size = len(dataset) - train_size\n",
    "train1, test1 = dataset[0:train_size,:], dataset[train_size:len(dataset),:]\n",
    "\n",
    "def onestep_split(dataset,k=1):\n",
    "    X, Y = [], []\n",
    "    for i in range(len(dataset)-k-1): #(n -(k+1)) k=1\n",
    "        a = dataset[i:(i+k), 0]\n",
    "        X.append(a)\n",
    "        Y.append(dataset[i + k, 0])\n",
    "    return np.array(X), np.array(Y)\n",
    "   \n",
    "\n",
    "X_train, Y_train = onestep_split(train1, 1)\n",
    "X_test, Y_test = onestep_split(test1, 1)\n",
    "\n",
    "# the net needs to get the current time step and the actual value --> shape[1], shape[2]\n",
    "# reshape input to be [samples, time steps, features]\n",
    "X_train = np.reshape(X_train, (X_train.shape[0], 1, X_train.shape[1]))\n",
    "X_test = np.reshape(X_test, (X_test.shape[0], 1, X_test.shape[1]))\n",
    "\n"
   ]
  },
  {
   "cell_type": "code",
   "execution_count": 28,
   "metadata": {},
   "outputs": [],
   "source": [
    "def create_model(optimizer, init='uniform'):\n",
    "    model = keras.Sequential()\n",
    "    model.add(keras.layers.LSTM(1, input_shape=(X_train.shape[1], X_train.shape[2])))\n",
    "    model.add(keras.layers.BatchNormalization())\n",
    "    model.add(keras.layers.Dense(1))    \n",
    "    model.compile(loss='mse', optimizer=optimizer)\n",
    "    return model"
   ]
  },
  {
   "cell_type": "code",
   "execution_count": 29,
   "metadata": {},
   "outputs": [
    {
     "name": "stderr",
     "output_type": "stream",
     "text": [
      "/var/folders/tz/9k5bcs_502z2svd2fr_k2w680000gn/T/ipykernel_842/1061118482.py:2: DeprecationWarning: KerasRegressor is deprecated, use Sci-Keras (https://github.com/adriangb/scikeras) instead. See https://www.adriangb.com/scikeras/stable/migration.html for help migrating.\n",
      "  kears_estimator = KerasRegressor(build_fn=create_model, verbose=1)\n"
     ]
    }
   ],
   "source": [
    "from keras.wrappers.scikit_learn import KerasRegressor\n",
    "kears_estimator = KerasRegressor(build_fn=create_model, verbose=1)"
   ]
  },
  {
   "cell_type": "code",
   "execution_count": 30,
   "metadata": {},
   "outputs": [],
   "source": [
    "from sklearn.pipeline import Pipeline\n",
    "estimator = Pipeline([ \n",
    "                       (\"kc\", kears_estimator)])"
   ]
  },
  {
   "cell_type": "code",
   "execution_count": 31,
   "metadata": {},
   "outputs": [],
   "source": [
    "# define the grid search parameters\n",
    "param_grid = {\n",
    "    'kc__epochs': [10, 20],\n",
    "    'kc__init': [ 'uniform', 'zeros', 'normal'], \n",
    "    'kc__batch_size':[32, 64],\n",
    "    'kc__optimizer':['adam','sgd']\n",
    "}"
   ]
  },
  {
   "cell_type": "code",
   "execution_count": 32,
   "metadata": {},
   "outputs": [],
   "source": [
    "from sklearn.model_selection import GridSearchCV\n",
    "kfold_splits = 5\n",
    "grid = GridSearchCV(estimator=estimator,  \n",
    "                    n_jobs=-1, \n",
    "                    verbose=1,\n",
    "                    return_train_score=True,\n",
    "                    cv=kfold_splits,  #StratifiedKFold(n_splits=kfold_splits, shuffle=True)\n",
    "                    param_grid=param_grid,\n",
    "                    refit=True)"
   ]
  },
  {
   "cell_type": "code",
   "execution_count": 33,
   "metadata": {},
   "outputs": [
    {
     "name": "stdout",
     "output_type": "stream",
     "text": [
      "Fitting 5 folds for each of 24 candidates, totalling 120 fits\n",
      "Metal device set to: Apple M1\n",
      "\n",
      "systemMemory: 8.00 GB\n",
      "maxCacheSize: 2.67 GB\n",
      "\n",
      "Metal device set to: Apple M1\n",
      "\n",
      "systemMemory: 8.00 GB\n",
      "maxCacheSize: 2.67 GB\n",
      "\n",
      "Metal device set to: Apple M1\n",
      "\n",
      "systemMemory: 8.00 GB\n",
      "maxCacheSize: 2.67 GB\n",
      "\n",
      "Metal device set to: Apple M1\n",
      "\n",
      "systemMemory: 8.00 GB\n",
      "maxCacheSize: 2.67 GB\n",
      "\n",
      "Metal device set to: Apple M1\n",
      "\n",
      "systemMemory: 8.00 GB\n",
      "maxCacheSize: 2.67 GB\n",
      "\n"
     ]
    },
    {
     "name": "stderr",
     "output_type": "stream",
     "text": [
      "2023-05-02 11:14:47.337716: I tensorflow/core/common_runtime/pluggable_device/pluggable_device_factory.cc:306] Could not identify NUMA node of platform GPU ID 0, defaulting to 0. Your kernel may not have been built with NUMA support.\n",
      "2023-05-02 11:14:47.340498: I tensorflow/core/common_runtime/pluggable_device/pluggable_device_factory.cc:272] Created TensorFlow device (/job:localhost/replica:0/task:0/device:GPU:0 with 0 MB memory) -> physical PluggableDevice (device: 0, name: METAL, pci bus id: <undefined>)\n",
      "2023-05-02 11:14:47.348740: I tensorflow/core/common_runtime/pluggable_device/pluggable_device_factory.cc:306] Could not identify NUMA node of platform GPU ID 0, defaulting to 0. Your kernel may not have been built with NUMA support.\n",
      "2023-05-02 11:14:47.348869: I tensorflow/core/common_runtime/pluggable_device/pluggable_device_factory.cc:272] Created TensorFlow device (/job:localhost/replica:0/task:0/device:GPU:0 with 0 MB memory) -> physical PluggableDevice (device: 0, name: METAL, pci bus id: <undefined>)\n",
      "2023-05-02 11:14:47.384519: I tensorflow/core/common_runtime/pluggable_device/pluggable_device_factory.cc:306] Could not identify NUMA node of platform GPU ID 0, defaulting to 0. Your kernel may not have been built with NUMA support.\n",
      "2023-05-02 11:14:47.384628: I tensorflow/core/common_runtime/pluggable_device/pluggable_device_factory.cc:272] Created TensorFlow device (/job:localhost/replica:0/task:0/device:GPU:0 with 0 MB memory) -> physical PluggableDevice (device: 0, name: METAL, pci bus id: <undefined>)\n",
      "2023-05-02 11:14:47.400627: I tensorflow/core/common_runtime/pluggable_device/pluggable_device_factory.cc:306] Could not identify NUMA node of platform GPU ID 0, defaulting to 0. Your kernel may not have been built with NUMA support.\n",
      "2023-05-02 11:14:47.402603: I tensorflow/core/common_runtime/pluggable_device/pluggable_device_factory.cc:272] Created TensorFlow device (/job:localhost/replica:0/task:0/device:GPU:0 with 0 MB memory) -> physical PluggableDevice (device: 0, name: METAL, pci bus id: <undefined>)\n",
      "2023-05-02 11:14:47.525651: I tensorflow/core/common_runtime/pluggable_device/pluggable_device_factory.cc:306] Could not identify NUMA node of platform GPU ID 0, defaulting to 0. Your kernel may not have been built with NUMA support.\n",
      "2023-05-02 11:14:47.526503: I tensorflow/core/common_runtime/pluggable_device/pluggable_device_factory.cc:272] Created TensorFlow device (/job:localhost/replica:0/task:0/device:GPU:0 with 0 MB memory) -> physical PluggableDevice (device: 0, name: METAL, pci bus id: <undefined>)\n"
     ]
    },
    {
     "name": "stdout",
     "output_type": "stream",
     "text": [
      "Metal device set to: Apple M1\n",
      "\n",
      "systemMemory: 8.00 GB\n",
      "maxCacheSize: 2.67 GB\n",
      "\n",
      "Metal device set to: Apple M1\n",
      "\n",
      "systemMemory: 8.00 GB\n",
      "maxCacheSize: 2.67 GB\n",
      "\n",
      "Metal device set to: Apple M1\n",
      "\n",
      "systemMemory: 8.00 GB\n",
      "maxCacheSize: 2.67 GB\n",
      "\n"
     ]
    },
    {
     "name": "stderr",
     "output_type": "stream",
     "text": [
      "2023-05-02 11:14:47.581035: I tensorflow/core/common_runtime/pluggable_device/pluggable_device_factory.cc:306] Could not identify NUMA node of platform GPU ID 0, defaulting to 0. Your kernel may not have been built with NUMA support.\n",
      "2023-05-02 11:14:47.581145: I tensorflow/core/common_runtime/pluggable_device/pluggable_device_factory.cc:272] Created TensorFlow device (/job:localhost/replica:0/task:0/device:GPU:0 with 0 MB memory) -> physical PluggableDevice (device: 0, name: METAL, pci bus id: <undefined>)\n",
      "2023-05-02 11:14:47.638708: I tensorflow/core/common_runtime/pluggable_device/pluggable_device_factory.cc:306] Could not identify NUMA node of platform GPU ID 0, defaulting to 0. Your kernel may not have been built with NUMA support.\n",
      "2023-05-02 11:14:47.639484: I tensorflow/core/common_runtime/pluggable_device/pluggable_device_factory.cc:272] Created TensorFlow device (/job:localhost/replica:0/task:0/device:GPU:0 with 0 MB memory) -> physical PluggableDevice (device: 0, name: METAL, pci bus id: <undefined>)\n",
      "2023-05-02 11:14:47.764136: I tensorflow/core/common_runtime/pluggable_device/pluggable_device_factory.cc:306] Could not identify NUMA node of platform GPU ID 0, defaulting to 0. Your kernel may not have been built with NUMA support.\n",
      "2023-05-02 11:14:47.764250: I tensorflow/core/common_runtime/pluggable_device/pluggable_device_factory.cc:272] Created TensorFlow device (/job:localhost/replica:0/task:0/device:GPU:0 with 0 MB memory) -> physical PluggableDevice (device: 0, name: METAL, pci bus id: <undefined>)\n",
      "2023-05-02 11:14:47.788693: W tensorflow/core/platform/profile_utils/cpu_utils.cc:128] Failed to get CPU frequency: 0 Hz\n"
     ]
    },
    {
     "name": "stdout",
     "output_type": "stream",
     "text": [
      "Epoch 1/10\n",
      "Epoch 1/10\n",
      "Epoch 1/10\n",
      "Epoch 1/10\n",
      "Epoch 1/10\n"
     ]
    },
    {
     "name": "stderr",
     "output_type": "stream",
     "text": [
      "2023-05-02 11:14:47.842149: W tensorflow/core/platform/profile_utils/cpu_utils.cc:128] Failed to get CPU frequency: 0 Hz\n",
      "2023-05-02 11:14:47.854904: W tensorflow/core/platform/profile_utils/cpu_utils.cc:128] Failed to get CPU frequency: 0 Hz\n",
      "2023-05-02 11:14:47.874862: W tensorflow/core/platform/profile_utils/cpu_utils.cc:128] Failed to get CPU frequency: 0 Hz\n",
      "2023-05-02 11:14:47.978118: W tensorflow/core/platform/profile_utils/cpu_utils.cc:128] Failed to get CPU frequency: 0 Hz\n",
      "2023-05-02 11:14:47.995058: W tensorflow/core/platform/profile_utils/cpu_utils.cc:128] Failed to get CPU frequency: 0 Hz\n"
     ]
    },
    {
     "name": "stdout",
     "output_type": "stream",
     "text": [
      "Epoch 1/10\n",
      "Epoch 1/10\n"
     ]
    },
    {
     "name": "stderr",
     "output_type": "stream",
     "text": [
      "2023-05-02 11:14:48.048783: W tensorflow/core/platform/profile_utils/cpu_utils.cc:128] Failed to get CPU frequency: 0 Hz\n",
      "2023-05-02 11:14:48.270801: W tensorflow/core/platform/profile_utils/cpu_utils.cc:128] Failed to get CPU frequency: 0 Hz\n"
     ]
    },
    {
     "name": "stdout",
     "output_type": "stream",
     "text": [
      "Epoch 1/10\n"
     ]
    },
    {
     "name": "stderr",
     "output_type": "stream",
     "text": [
      "2023-05-02 11:14:48.811325: I tensorflow/core/grappler/optimizers/custom_graph_optimizer_registry.cc:114] Plugin optimizer for device_type GPU is enabled.\n",
      "2023-05-02 11:14:48.849415: I tensorflow/core/grappler/optimizers/custom_graph_optimizer_registry.cc:114] Plugin optimizer for device_type GPU is enabled.\n",
      "2023-05-02 11:14:48.869029: I tensorflow/core/grappler/optimizers/custom_graph_optimizer_registry.cc:114] Plugin optimizer for device_type GPU is enabled.\n",
      "2023-05-02 11:14:48.915611: I tensorflow/core/grappler/optimizers/custom_graph_optimizer_registry.cc:114] Plugin optimizer for device_type GPU is enabled.\n",
      "2023-05-02 11:14:49.006010: I tensorflow/core/grappler/optimizers/custom_graph_optimizer_registry.cc:114] Plugin optimizer for device_type GPU is enabled.\n",
      "2023-05-02 11:14:49.015431: I tensorflow/core/grappler/optimizers/custom_graph_optimizer_registry.cc:114] Plugin optimizer for device_type GPU is enabled.\n",
      "2023-05-02 11:14:49.081802: I tensorflow/core/grappler/optimizers/custom_graph_optimizer_registry.cc:114] Plugin optimizer for device_type GPU is enabled.\n",
      "2023-05-02 11:14:49.091291: I tensorflow/core/grappler/optimizers/custom_graph_optimizer_registry.cc:114] Plugin optimizer for device_type GPU is enabled.\n",
      "2023-05-02 11:14:49.114464: I tensorflow/core/grappler/optimizers/custom_graph_optimizer_registry.cc:114] Plugin optimizer for device_type GPU is enabled.\n",
      "2023-05-02 11:14:49.200470: I tensorflow/core/grappler/optimizers/custom_graph_optimizer_registry.cc:114] Plugin optimizer for device_type GPU is enabled.\n",
      "2023-05-02 11:14:49.215972: I tensorflow/core/grappler/optimizers/custom_graph_optimizer_registry.cc:114] Plugin optimizer for device_type GPU is enabled.\n",
      "2023-05-02 11:14:49.256467: I tensorflow/core/grappler/optimizers/custom_graph_optimizer_registry.cc:114] Plugin optimizer for device_type GPU is enabled.\n",
      "2023-05-02 11:14:49.321098: I tensorflow/core/grappler/optimizers/custom_graph_optimizer_registry.cc:114] Plugin optimizer for device_type GPU is enabled.\n",
      "2023-05-02 11:14:49.322958: I tensorflow/core/grappler/optimizers/custom_graph_optimizer_registry.cc:114] Plugin optimizer for device_type GPU is enabled.\n",
      "2023-05-02 11:14:49.323777: I tensorflow/core/grappler/optimizers/custom_graph_optimizer_registry.cc:114] Plugin optimizer for device_type GPU is enabled.\n",
      "2023-05-02 11:14:49.323873: I tensorflow/core/grappler/optimizers/custom_graph_optimizer_registry.cc:114] Plugin optimizer for device_type GPU is enabled.\n",
      "2023-05-02 11:14:49.399396: I tensorflow/core/grappler/optimizers/custom_graph_optimizer_registry.cc:114] Plugin optimizer for device_type GPU is enabled.\n"
     ]
    },
    {
     "name": "stdout",
     "output_type": "stream",
     "text": [
      "  9/395 [..............................] - ETA: 9s - loss: 0.0264 70"
     ]
    },
    {
     "name": "stderr",
     "output_type": "stream",
     "text": [
      "2023-05-02 11:14:49.461901: I tensorflow/core/grappler/optimizers/custom_graph_optimizer_registry.cc:114] Plugin optimizer for device_type GPU is enabled.\n",
      "2023-05-02 11:14:49.554603: I tensorflow/core/grappler/optimizers/custom_graph_optimizer_registry.cc:114] Plugin optimizer for device_type GPU is enabled.\n",
      "2023-05-02 11:14:49.582801: I tensorflow/core/grappler/optimizers/custom_graph_optimizer_registry.cc:114] Plugin optimizer for device_type GPU is enabled.\n"
     ]
    },
    {
     "name": "stdout",
     "output_type": "stream",
     "text": [
      " 12/395 [..............................] - ETA: 6s - loss: 0.162932"
     ]
    },
    {
     "name": "stderr",
     "output_type": "stream",
     "text": [
      "2023-05-02 11:14:49.674980: I tensorflow/core/grappler/optimizers/custom_graph_optimizer_registry.cc:114] Plugin optimizer for device_type GPU is enabled.\n",
      "2023-05-02 11:14:49.735994: I tensorflow/core/grappler/optimizers/custom_graph_optimizer_registry.cc:114] Plugin optimizer for device_type GPU is enabled.\n",
      "2023-05-02 11:14:49.815618: I tensorflow/core/grappler/optimizers/custom_graph_optimizer_registry.cc:114] Plugin optimizer for device_type GPU is enabled.\n"
     ]
    },
    {
     "name": "stdout",
     "output_type": "stream",
     "text": [
      "110/395 [=======>......................] - ETA: 4s - loss: 0.4948"
     ]
    },
    {
     "name": "stderr",
     "output_type": "stream",
     "text": [
      "2023-05-02 11:14:51.776777: I tensorflow/core/grappler/optimizers/custom_graph_optimizer_registry.cc:114] Plugin optimizer for device_type GPU is enabled.\n"
     ]
    },
    {
     "name": "stdout",
     "output_type": "stream",
     "text": [
      "395/395 [==============================] - 9s 19ms/step - loss: 0.0114\n",
      "Epoch 2/10\n",
      "395/395 [==============================] - 9s 18ms/step - loss: 0.0297\n",
      "368/395 [==========================>...] - ETA: 0s - loss: 0.2405Epoch 2/10\n",
      "395/395 [==============================] - 9s 20ms/step - loss: 0.0240\n",
      "Epoch 2/10\n",
      "395/395 [==============================] - 9s 20ms/step - loss: 0.0275\n",
      "Epoch 2/10\n",
      "395/395 [==============================] - 9s 19ms/step - loss: 0.0690\n",
      "  1/395 [..............................] - ETA: 7s - loss: 0.0108Epoch 2/10\n",
      "395/395 [==============================] - 10s 19ms/step - loss: 0.2849\n",
      "Epoch 2/10\n",
      "395/395 [==============================] - 10s 20ms/step - loss: 0.2283\n",
      "Epoch 2/10\n",
      "395/395 [==============================] - 12s 20ms/step - loss: 0.0261\n",
      "171/395 [===========>..................] - ETA: 3s - loss: 0.0176Epoch 2/10\n",
      "395/395 [==============================] - 7s 18ms/step - loss: 0.0049\n",
      "209/395 [==============>...............] - ETA: 3s - loss: 0.0051Epoch 3/10\n",
      "395/395 [==============================] - 7s 18ms/step - loss: 0.0053\n",
      "Epoch 3/10\n",
      "395/395 [==============================] - 7s 19ms/step - loss: 0.0044\n",
      "Epoch 3/10\n",
      "395/395 [==============================] - 8s 19ms/step - loss: 0.0134\n",
      "376/395 [===========================>..] - ETA: 0s - loss: 0.0480Epoch 3/10\n",
      "395/395 [==============================] - 8s 19ms/step - loss: 0.0109\n",
      "Epoch 3/10\n",
      "395/395 [==============================] - 8s 19ms/step - loss: 0.0468\n",
      "Epoch 3/10\n",
      "395/395 [==============================] - 7s 19ms/step - loss: 0.0174\n",
      "Epoch 3/10\n",
      "395/395 [==============================] - 7s 17ms/step - loss: 0.0049\n",
      "Epoch 3/10\n",
      "395/395 [==============================] - 7s 18ms/step - loss: 0.0041\n",
      "Epoch 4/10\n",
      "395/395 [==============================] - 7s 18ms/step - loss: 0.0045\n",
      "292/395 [=====================>........] - ETA: 2s - loss: 0.0057Epoch 4/10\n",
      "395/395 [==============================] - 8s 19ms/step - loss: 0.0087\n",
      "Epoch 4/10\n",
      "395/395 [==============================] - 8s 20ms/step - loss: 0.0058\n",
      "Epoch 4/10\n",
      "395/395 [==============================] - 8s 20ms/step - loss: 0.0044\n",
      "363/395 [==========================>...] - ETA: 0s - loss: 0.0056Epoch 4/10\n",
      "395/395 [==============================] - 8s 20ms/step - loss: 0.0128\n",
      "Epoch 4/10\n",
      "395/395 [==============================] - 8s 20ms/step - loss: 0.0056\n",
      "Epoch 4/10\n",
      "395/395 [==============================] - 7s 18ms/step - loss: 0.0047\n",
      "Epoch 4/10\n",
      "395/395 [==============================] - 7s 18ms/step - loss: 0.0044\n",
      "Epoch 5/10\n",
      "395/395 [==============================] - 7s 19ms/step - loss: 0.0041\n",
      "302/395 [=====================>........] - ETA: 1s - loss: 0.0043Epoch 5/10\n",
      "395/395 [==============================] - 8s 19ms/step - loss: 0.0044\n",
      " 99/395 [======>.......................] - ETA: 5s - loss: 0.0044Epoch 5/10\n",
      "395/395 [==============================] - 8s 20ms/step - loss: 0.0053\n",
      "383/395 [============================>.] - ETA: 0s - loss: 0.0042Epoch 5/10\n",
      "395/395 [==============================] - 8s 20ms/step - loss: 0.0043\n",
      "Epoch 5/10\n",
      "395/395 [==============================] - 8s 19ms/step - loss: 0.0059\n",
      "122/395 [========>.....................] - ETA: 5s - loss: 0.0042Epoch 5/10\n",
      "395/395 [==============================] - 8s 20ms/step - loss: 0.0053\n",
      "Epoch 5/10\n",
      "395/395 [==============================] - 7s 17ms/step - loss: 0.0047\n",
      "Epoch 5/10\n",
      "395/395 [==============================] - 7s 18ms/step - loss: 0.0043\n",
      "279/395 [====================>.........] - ETA: 2s - loss: 0.0043Epoch 6/10\n",
      "395/395 [==============================] - 7s 18ms/step - loss: 0.0041\n",
      "Epoch 6/10\n",
      "395/395 [==============================] - 8s 19ms/step - loss: 0.0044\n",
      "Epoch 6/10\n",
      "395/395 [==============================] - 7s 17ms/step - loss: 0.0047\n",
      "Epoch 6/10\n",
      "395/395 [==============================] - 8s 19ms/step - loss: 0.0044\n",
      "Epoch 6/10\n",
      "395/395 [==============================] - 8s 19ms/step - loss: 0.0042\n",
      "Epoch 6/10\n",
      "395/395 [==============================] - 7s 19ms/step - loss: 0.0049\n",
      " 15/395 [>.............................] - ETA: 6s - loss: 0.0051Epoch 6/10\n",
      "395/395 [==============================] - 8s 19ms/step - loss: 0.0052\n",
      "Epoch 6/10\n",
      "395/395 [==============================] - 7s 18ms/step - loss: 0.0043\n",
      "Epoch 7/10\n",
      "395/395 [==============================] - 7s 19ms/step - loss: 0.0040\n",
      "277/395 [====================>.........] - ETA: 2s - loss: 0.0049Epoch 7/10\n",
      "395/395 [==============================] - 7s 18ms/step - loss: 0.0046\n",
      "Epoch 7/10\n",
      "395/395 [==============================] - 8s 20ms/step - loss: 0.0044\n",
      " 31/395 [=>............................] - ETA: 7s - loss: 0.0050Epoch 7/10\n",
      "395/395 [==============================] - 8s 20ms/step - loss: 0.0044\n",
      "  1/395 [..............................] - ETA: 7s - loss: 0.0022Epoch 7/10\n",
      "395/395 [==============================] - 8s 20ms/step - loss: 0.0042\n",
      "Epoch 7/10\n",
      "395/395 [==============================] - 8s 20ms/step - loss: 0.0047\n",
      " 16/395 [>.............................] - ETA: 7s - loss: 0.0037Epoch 7/10\n",
      "395/395 [==============================] - 8s 20ms/step - loss: 0.0051\n",
      "Epoch 7/10\n",
      "395/395 [==============================] - 8s 20ms/step - loss: 0.0043\n",
      "Epoch 8/10\n",
      "395/395 [==============================] - 8s 19ms/step - loss: 0.0041\n",
      "Epoch 8/10\n",
      "395/395 [==============================] - 8s 20ms/step - loss: 0.0046\n",
      "337/395 [========================>.....] - ETA: 1s - loss: 0.0041Epoch 8/10\n",
      "395/395 [==============================] - 8s 21ms/step - loss: 0.0044\n",
      "Epoch 8/10\n",
      "395/395 [==============================] - 8s 21ms/step - loss: 0.0042\n",
      "Epoch 8/10\n",
      "395/395 [==============================] - 8s 21ms/step - loss: 0.0044\n",
      "  4/395 [..............................] - ETA: 7s - loss: 0.0075Epoch 8/10\n",
      "395/395 [==============================] - 8s 20ms/step - loss: 0.0047\n",
      "  4/395 [..............................] - ETA: 7s - loss: 0.0022Epoch 8/10\n",
      "395/395 [==============================] - 8s 20ms/step - loss: 0.0050\n",
      "Epoch 8/10\n",
      "395/395 [==============================] - 7s 19ms/step - loss: 0.0043\n",
      "Epoch 9/10\n",
      "395/395 [==============================] - 7s 19ms/step - loss: 0.0041\n",
      "Epoch 9/10\n",
      "395/395 [==============================] - 7s 18ms/step - loss: 0.0045\n",
      "309/395 [======================>.......] - ETA: 1s - loss: 0.0043Epoch 9/10\n",
      "395/395 [==============================] - 8s 20ms/step - loss: 0.0044\n",
      "189/395 [=============>................] - ETA: 4s - loss: 0.0044Epoch 9/10\n",
      "395/395 [==============================] - 8s 20ms/step - loss: 0.0042\n",
      "Epoch 9/10\n",
      "395/395 [==============================] - 8s 20ms/step - loss: 0.0044\n",
      "Epoch 9/10\n",
      "395/395 [==============================] - 8s 20ms/step - loss: 0.0047\n",
      "Epoch 9/10\n",
      "395/395 [==============================] - 8s 20ms/step - loss: 0.0049\n",
      "Epoch 9/10\n",
      "395/395 [==============================] - 7s 19ms/step - loss: 0.0043\n",
      "Epoch 10/10\n",
      "395/395 [==============================] - 7s 19ms/step - loss: 0.0041\n",
      "Epoch 10/10\n",
      "395/395 [==============================] - 7s 18ms/step - loss: 0.0045\n",
      "Epoch 10/10\n",
      "395/395 [==============================] - 8s 19ms/step - loss: 0.0042\n",
      "Epoch 10/10\n",
      "395/395 [==============================] - 8s 20ms/step - loss: 0.0044\n",
      "Epoch 10/10\n",
      "395/395 [==============================] - 8s 20ms/step - loss: 0.0044\n",
      "394/395 [============================>.] - ETA: 0s - loss: 0.0046Epoch 10/10\n",
      "395/395 [==============================] - 8s 20ms/step - loss: 0.0046\n",
      "Epoch 10/10\n",
      "395/395 [==============================] - 8s 20ms/step - loss: 0.0048\n",
      "Epoch 10/10\n",
      "395/395 [==============================] - 7s 19ms/step - loss: 0.0043\n",
      "395/395 [==============================] - 7s 18ms/step - loss: 0.0040\n",
      "256/395 [==================>...........] - ETA: 2s - loss: 0.0042"
     ]
    },
    {
     "name": "stderr",
     "output_type": "stream",
     "text": [
      "2023-05-02 11:16:04.109208: I tensorflow/core/grappler/optimizers/custom_graph_optimizer_registry.cc:114] Plugin optimizer for device_type GPU is enabled.\n"
     ]
    },
    {
     "name": "stdout",
     "output_type": "stream",
     "text": [
      "395/395 [==============================] - 7s 17ms/step - loss: 0.0046\n",
      "240/395 [=================>............] - ETA: 2s - loss: 0.0049"
     ]
    },
    {
     "name": "stderr",
     "output_type": "stream",
     "text": [
      "2023-05-02 11:16:04.441255: I tensorflow/core/grappler/optimizers/custom_graph_optimizer_registry.cc:114] Plugin optimizer for device_type GPU is enabled.\n"
     ]
    },
    {
     "name": "stdout",
     "output_type": "stream",
     "text": [
      "78/99 [======================>.......] - ETA: 0s - loss: 0.00424"
     ]
    },
    {
     "name": "stderr",
     "output_type": "stream",
     "text": [
      "2023-05-02 11:16:05.578605: I tensorflow/core/grappler/optimizers/custom_graph_optimizer_registry.cc:114] Plugin optimizer for device_type GPU is enabled.\n"
     ]
    },
    {
     "name": "stdout",
     "output_type": "stream",
     "text": [
      "99/99 [==============================] - 3s 14ms/step - loss: 0.0040\n",
      "343/395 [=========================>....] - ETA: 0s - loss: 0.0049"
     ]
    },
    {
     "name": "stderr",
     "output_type": "stream",
     "text": [
      "2023-05-02 11:16:06.164645: I tensorflow/core/grappler/optimizers/custom_graph_optimizer_registry.cc:114] Plugin optimizer for device_type GPU is enabled.\n"
     ]
    },
    {
     "name": "stdout",
     "output_type": "stream",
     "text": [
      "395/395 [==============================] - 7s 17ms/step - loss: 0.0042\n",
      "395/395 [==============================] - 7s 17ms/step - loss: 0.0046\n",
      "395/395 [==============================] - 7s 18ms/step - loss: 0.0044\n",
      "395/395 [==============================] - 7s 18ms/step - loss: 0.0044\n",
      "395/395 [==============================] - 7s 18ms/step - loss: 0.0048\n",
      "99/99 [==============================] - 3s 10ms/step - loss: 0.0047\n",
      "104/395 [======>.......................] - ETA: 3s - loss: 0.0048"
     ]
    },
    {
     "name": "stderr",
     "output_type": "stream",
     "text": [
      "2023-05-02 11:16:07.203769: I tensorflow/core/grappler/optimizers/custom_graph_optimizer_registry.cc:114] Plugin optimizer for device_type GPU is enabled.\n",
      "2023-05-02 11:16:07.287707: I tensorflow/core/grappler/optimizers/custom_graph_optimizer_registry.cc:114] Plugin optimizer for device_type GPU is enabled.\n",
      "2023-05-02 11:16:07.341933: I tensorflow/core/grappler/optimizers/custom_graph_optimizer_registry.cc:114] Plugin optimizer for device_type GPU is enabled.\n",
      "2023-05-02 11:16:07.401470: I tensorflow/core/grappler/optimizers/custom_graph_optimizer_registry.cc:114] Plugin optimizer for device_type GPU is enabled.\n"
     ]
    },
    {
     "name": "stdout",
     "output_type": "stream",
     "text": [
      "25/99 [======>.......................] - ETA: 0s - loss: 0.0060776"
     ]
    },
    {
     "name": "stderr",
     "output_type": "stream",
     "text": [
      "2023-05-02 11:16:07.421014: I tensorflow/core/grappler/optimizers/custom_graph_optimizer_registry.cc:114] Plugin optimizer for device_type GPU is enabled.\n",
      "2023-05-02 11:16:07.536101: I tensorflow/core/grappler/optimizers/custom_graph_optimizer_registry.cc:114] Plugin optimizer for device_type GPU is enabled.\n",
      "2023-05-02 11:16:07.548125: I tensorflow/core/grappler/optimizers/custom_graph_optimizer_registry.cc:114] Plugin optimizer for device_type GPU is enabled.\n",
      "2023-05-02 11:16:07.566973: I tensorflow/core/grappler/optimizers/custom_graph_optimizer_registry.cc:114] Plugin optimizer for device_type GPU is enabled.\n",
      "2023-05-02 11:16:07.597791: I tensorflow/core/grappler/optimizers/custom_graph_optimizer_registry.cc:114] Plugin optimizer for device_type GPU is enabled.\n"
     ]
    },
    {
     "name": "stdout",
     "output_type": "stream",
     "text": [
      "37/99 [==========>...................] - ETA: 0s - loss: 0.00415"
     ]
    },
    {
     "name": "stderr",
     "output_type": "stream",
     "text": [
      "2023-05-02 11:16:07.869180: I tensorflow/core/grappler/optimizers/custom_graph_optimizer_registry.cc:114] Plugin optimizer for device_type GPU is enabled.\n"
     ]
    },
    {
     "name": "stdout",
     "output_type": "stream",
     "text": [
      "99/99 [==============================] - 2s 8ms/step - loss: 0.0048\n",
      "99/99 [==============================] - 2s 9ms/step - loss: 0.0036\n",
      "99/99 [==============================] - 2s 10ms/step - loss: 0.0042\n",
      "99/99 [==============================] - 2s 10ms/step - loss: 0.0039\n",
      "99/99 [==============================] - 2s 9ms/step - loss: 0.0052\n",
      "395/395 [==============================] - 3s 8ms/step - loss: 0.0042\n",
      "395/395 [==============================] - 3s 8ms/step - loss: 0.0044\n",
      "161/395 [===========>..................] - ETA: 2s - loss: 0.0055Epoch 1/10\n",
      "395/395 [==============================] - 4s 9ms/step - loss: 0.0040\n",
      "395/395 [==============================] - 4s 9ms/step - loss: 0.0042\n",
      "395/395 [==============================] - 4s 9ms/step - loss: 0.0044\n",
      "364/395 [==========================>...] - ETA: 0s - loss: 0.0045"
     ]
    },
    {
     "name": "stderr",
     "output_type": "stream",
     "text": [
      "2023-05-02 11:16:12.205251: I tensorflow/core/grappler/optimizers/custom_graph_optimizer_registry.cc:114] Plugin optimizer for device_type GPU is enabled.\n",
      "2023-05-02 11:16:12.351513: I tensorflow/core/grappler/optimizers/custom_graph_optimizer_registry.cc:114] Plugin optimizer for device_type GPU is enabled.\n"
     ]
    },
    {
     "name": "stdout",
     "output_type": "stream",
     "text": [
      "367/395 [==========================>...] - ETA: 0s - loss: 0.0045Epoch 1/10\n",
      "395/395 [==============================] - 4s 10ms/step - loss: 0.0044\n",
      "395/395 [==============================] - 4s 9ms/step - loss: 0.0047\n",
      "59/99 [================>.............] - ETA: 0s - loss: 0.0054Epoch 1/10\n",
      "Epoch 1/10\n",
      "Epoch 1/10\n",
      "73/99 [=====================>........] - ETA: 0s - loss: 0.0049"
     ]
    },
    {
     "name": "stderr",
     "output_type": "stream",
     "text": [
      "2023-05-02 11:16:13.062670: I tensorflow/core/grappler/optimizers/custom_graph_optimizer_registry.cc:114] Plugin optimizer for device_type GPU is enabled.\n"
     ]
    },
    {
     "name": "stdout",
     "output_type": "stream",
     "text": [
      "78/99 [======================>.......] - ETA: 0s - loss: 0.0046Epoch 1/10\n",
      "94/99 [===========================>..] - ETA: 0s - loss: 0.0048"
     ]
    },
    {
     "name": "stderr",
     "output_type": "stream",
     "text": [
      "2023-05-02 11:16:13.392131: I tensorflow/core/grappler/optimizers/custom_graph_optimizer_registry.cc:114] Plugin optimizer for device_type GPU is enabled.\n",
      "2023-05-02 11:16:13.530977: I tensorflow/core/grappler/optimizers/custom_graph_optimizer_registry.cc:114] Plugin optimizer for device_type GPU is enabled.\n"
     ]
    },
    {
     "name": "stdout",
     "output_type": "stream",
     "text": [
      "99/99 [==============================] - 2s 11ms/step - loss: 0.0048\n",
      "Epoch 1/10\n",
      " 12/395 [..............................] - ETA: 4s - loss: 0.0045  "
     ]
    },
    {
     "name": "stderr",
     "output_type": "stream",
     "text": [
      "2023-05-02 11:16:13.614717: I tensorflow/core/grappler/optimizers/custom_graph_optimizer_registry.cc:114] Plugin optimizer for device_type GPU is enabled.\n"
     ]
    },
    {
     "name": "stdout",
     "output_type": "stream",
     "text": [
      " 28/395 [=>............................] - ETA: 4s - loss: 0.0044"
     ]
    },
    {
     "name": "stderr",
     "output_type": "stream",
     "text": [
      "2023-05-02 11:16:13.936775: I tensorflow/core/grappler/optimizers/custom_graph_optimizer_registry.cc:114] Plugin optimizer for device_type GPU is enabled.\n",
      "2023-05-02 11:16:14.082603: I tensorflow/core/grappler/optimizers/custom_graph_optimizer_registry.cc:114] Plugin optimizer for device_type GPU is enabled.\n",
      "2023-05-02 11:16:14.094456: I tensorflow/core/grappler/optimizers/custom_graph_optimizer_registry.cc:114] Plugin optimizer for device_type GPU is enabled.\n"
     ]
    },
    {
     "name": "stdout",
     "output_type": "stream",
     "text": [
      " 10/395 [..............................] - ETA: 7s - loss: 0.1967  "
     ]
    },
    {
     "name": "stderr",
     "output_type": "stream",
     "text": [
      "2023-05-02 11:16:14.167431: I tensorflow/core/grappler/optimizers/custom_graph_optimizer_registry.cc:114] Plugin optimizer for device_type GPU is enabled.\n",
      "2023-05-02 11:16:14.167663: I tensorflow/core/grappler/optimizers/custom_graph_optimizer_registry.cc:114] Plugin optimizer for device_type GPU is enabled.\n"
     ]
    },
    {
     "name": "stdout",
     "output_type": "stream",
     "text": [
      " 81/395 [=====>........................] - ETA: 3s - loss: 0.0042"
     ]
    },
    {
     "name": "stderr",
     "output_type": "stream",
     "text": [
      "2023-05-02 11:16:14.373229: I tensorflow/core/grappler/optimizers/custom_graph_optimizer_registry.cc:114] Plugin optimizer for device_type GPU is enabled.\n",
      "2023-05-02 11:16:14.407308: I tensorflow/core/grappler/optimizers/custom_graph_optimizer_registry.cc:114] Plugin optimizer for device_type GPU is enabled.\n",
      "2023-05-02 11:16:14.455789: I tensorflow/core/grappler/optimizers/custom_graph_optimizer_registry.cc:114] Plugin optimizer for device_type GPU is enabled.\n",
      "2023-05-02 11:16:14.496574: I tensorflow/core/grappler/optimizers/custom_graph_optimizer_registry.cc:114] Plugin optimizer for device_type GPU is enabled.\n",
      "2023-05-02 11:16:14.538234: I tensorflow/core/grappler/optimizers/custom_graph_optimizer_registry.cc:114] Plugin optimizer for device_type GPU is enabled.\n"
     ]
    },
    {
     "name": "stdout",
     "output_type": "stream",
     "text": [
      "  7/395 [..............................] - ETA: 7s - loss: 0.013900"
     ]
    },
    {
     "name": "stderr",
     "output_type": "stream",
     "text": [
      "2023-05-02 11:16:14.578891: I tensorflow/core/grappler/optimizers/custom_graph_optimizer_registry.cc:114] Plugin optimizer for device_type GPU is enabled.\n",
      "2023-05-02 11:16:14.614994: I tensorflow/core/grappler/optimizers/custom_graph_optimizer_registry.cc:114] Plugin optimizer for device_type GPU is enabled.\n",
      "2023-05-02 11:16:14.699119: I tensorflow/core/grappler/optimizers/custom_graph_optimizer_registry.cc:114] Plugin optimizer for device_type GPU is enabled.\n"
     ]
    },
    {
     "name": "stdout",
     "output_type": "stream",
     "text": [
      " 25/395 [>.............................] - ETA: 6s - loss: 0.1306 "
     ]
    },
    {
     "name": "stderr",
     "output_type": "stream",
     "text": [
      "2023-05-02 11:16:15.118125: I tensorflow/core/grappler/optimizers/custom_graph_optimizer_registry.cc:114] Plugin optimizer for device_type GPU is enabled.\n"
     ]
    },
    {
     "name": "stdout",
     "output_type": "stream",
     "text": [
      "181/395 [============>.................] - ETA: 2s - loss: 0.0039"
     ]
    },
    {
     "name": "stderr",
     "output_type": "stream",
     "text": [
      "2023-05-02 11:16:15.428309: I tensorflow/core/grappler/optimizers/custom_graph_optimizer_registry.cc:114] Plugin optimizer for device_type GPU is enabled.\n"
     ]
    },
    {
     "name": "stdout",
     "output_type": "stream",
     "text": [
      "172/395 [============>.................] - ETA: 3s - loss: 0.0059"
     ]
    },
    {
     "name": "stderr",
     "output_type": "stream",
     "text": [
      "2023-05-02 11:16:16.491365: I tensorflow/core/grappler/optimizers/custom_graph_optimizer_registry.cc:114] Plugin optimizer for device_type GPU is enabled.\n"
     ]
    },
    {
     "name": "stdout",
     "output_type": "stream",
     "text": [
      "105/395 [======>.......................] - ETA: 4s - loss: 0.0200"
     ]
    },
    {
     "name": "stderr",
     "output_type": "stream",
     "text": [
      "2023-05-02 11:16:17.282457: I tensorflow/core/grappler/optimizers/custom_graph_optimizer_registry.cc:114] Plugin optimizer for device_type GPU is enabled.\n"
     ]
    },
    {
     "name": "stdout",
     "output_type": "stream",
     "text": [
      "395/395 [==============================] - 5s 13ms/step - loss: 0.0039\n",
      "395/395 [==============================] - 10s 18ms/step - loss: 0.0052\n",
      "Epoch 2/10\n",
      "395/395 [==============================] - 8s 17ms/step - loss: 0.0383\n",
      "Epoch 2/10\n",
      "395/395 [==============================] - 9s 18ms/step - loss: 0.0585\n",
      "Epoch 2/10\n",
      "395/395 [==============================] - 9s 18ms/step - loss: 0.0047\n",
      "354/395 [=========================>....] - ETA: 0s - loss: 0.0114Epoch 2/10\n",
      "395/395 [==============================] - 9s 18ms/step - loss: 0.2386\n",
      " 12/395 [..............................] - ETA: 6s - loss: 0.0190Epoch 2/10\n",
      "273/395 [===================>..........] - ETA: 2s - loss: 0.3529Epoch 1/10\n",
      "395/395 [==============================] - 9s 18ms/step - loss: 0.0107\n",
      "Epoch 2/10\n",
      "395/395 [==============================] - 11s 18ms/step - loss: 0.2745\n",
      "Epoch 2/10\n",
      "395/395 [==============================] - 6s 15ms/step - loss: 0.0044\n",
      "Epoch 3/10\n",
      "395/395 [==============================] - 6s 16ms/step - loss: 0.0052\n",
      "Epoch 3/10\n",
      "395/395 [==============================] - 7s 17ms/step - loss: 0.0137\n",
      "Epoch 3/10\n",
      "395/395 [==============================] - 7s 17ms/step - loss: 0.0202\n",
      "Epoch 3/10\n",
      "395/395 [==============================] - 7s 18ms/step - loss: 0.0041\n",
      "Epoch 3/10\n",
      "395/395 [==============================] - 7s 17ms/step - loss: 0.0044\n",
      "Epoch 3/10\n",
      "347/395 [=========================>....] - ETA: 0s - loss: 0.0305"
     ]
    },
    {
     "name": "stderr",
     "output_type": "stream",
     "text": [
      "2023-05-02 11:16:30.627784: I tensorflow/core/grappler/optimizers/custom_graph_optimizer_registry.cc:114] Plugin optimizer for device_type GPU is enabled.\n"
     ]
    },
    {
     "name": "stdout",
     "output_type": "stream",
     "text": [
      "395/395 [==============================] - 7s 18ms/step - loss: 0.0281\n",
      "Epoch 3/10\n",
      " 69/395 [====>.........................] - ETA: 6s - loss: 0.0098"
     ]
    },
    {
     "name": "stderr",
     "output_type": "stream",
     "text": [
      "2023-05-02 11:16:33.170054: I tensorflow/core/grappler/optimizers/custom_graph_optimizer_registry.cc:114] Plugin optimizer for device_type GPU is enabled.\n"
     ]
    },
    {
     "name": "stdout",
     "output_type": "stream",
     "text": [
      "395/395 [==============================] - 7s 17ms/step - loss: 0.0044\n",
      "Epoch 4/10\n",
      "395/395 [==============================] - 7s 17ms/step - loss: 0.0045\n",
      "Epoch 4/10\n",
      "101/395 [======>.......................] - ETA: 5s - loss: 0.0089"
     ]
    },
    {
     "name": "stderr",
     "output_type": "stream",
     "text": [
      "2023-05-02 11:16:33.726588: I tensorflow/core/grappler/optimizers/custom_graph_optimizer_registry.cc:114] Plugin optimizer for device_type GPU is enabled.\n"
     ]
    },
    {
     "name": "stdout",
     "output_type": "stream",
     "text": [
      "395/395 [==============================] - 7s 18ms/step - loss: 0.0059\n",
      "Epoch 4/10\n",
      "395/395 [==============================] - 7s 19ms/step - loss: 0.0049\n",
      "Epoch 4/10\n",
      "395/395 [==============================] - 8s 19ms/step - loss: 0.0040\n",
      "Epoch 4/10\n",
      "395/395 [==============================] - 8s 21ms/step - loss: 0.0044\n",
      "Epoch 4/10\n",
      "395/395 [==============================] - 9s 22ms/step - loss: 0.0068\n",
      "131/395 [========>.....................] - ETA: 5s - loss: 0.0044Epoch 4/10\n",
      "395/395 [==============================] - 8s 22ms/step - loss: 0.0043\n",
      "Epoch 5/10\n",
      "395/395 [==============================] - 8s 21ms/step - loss: 0.0046\n",
      "Epoch 5/10\n",
      "395/395 [==============================] - 21s 22ms/step - loss: 0.0082\n",
      "Epoch 2/10\n",
      "395/395 [==============================] - 9s 22ms/step - loss: 0.0043\n",
      "108/395 [=======>......................] - ETA: 5s - loss: 0.0047Epoch 5/10\n",
      "395/395 [==============================] - 9s 22ms/step - loss: 0.0046\n",
      "Epoch 5/10\n",
      "395/395 [==============================] - 9s 22ms/step - loss: 0.0040\n",
      "Epoch 5/10\n",
      "395/395 [==============================] - 8s 21ms/step - loss: 0.0044\n",
      "Epoch 5/10\n",
      "395/395 [==============================] - 8s 21ms/step - loss: 0.0049\n",
      "Epoch 5/10\n",
      "395/395 [==============================] - 8s 19ms/step - loss: 0.0046\n",
      "Epoch 6/10\n",
      "395/395 [==============================] - 8s 19ms/step - loss: 0.0044\n",
      "Epoch 6/10\n",
      "395/395 [==============================] - 7s 19ms/step - loss: 0.0045\n",
      "Epoch 3/10\n",
      "395/395 [==============================] - 8s 20ms/step - loss: 0.0042\n",
      "157/395 [==========>...................] - ETA: 4s - loss: 0.0048Epoch 6/10\n",
      "395/395 [==============================] - 8s 21ms/step - loss: 0.0046\n",
      "Epoch 6/10\n",
      "395/395 [==============================] - 8s 20ms/step - loss: 0.0040\n",
      "Epoch 6/10\n",
      "395/395 [==============================] - 8s 20ms/step - loss: 0.0044\n",
      "Epoch 6/10\n",
      "395/395 [==============================] - 8s 20ms/step - loss: 0.0047\n",
      "Epoch 6/10\n",
      "395/395 [==============================] - 7s 19ms/step - loss: 0.0045\n",
      "Epoch 7/10\n",
      "395/395 [==============================] - 7s 19ms/step - loss: 0.0044\n",
      "Epoch 7/10\n",
      "395/395 [==============================] - 8s 19ms/step - loss: 0.0043\n",
      "Epoch 4/10\n",
      "395/395 [==============================] - 8s 20ms/step - loss: 0.0042\n",
      "Epoch 7/10\n",
      "395/395 [==============================] - 8s 20ms/step - loss: 0.0045\n",
      "Epoch 7/10\n",
      "395/395 [==============================] - 8s 20ms/step - loss: 0.0040\n",
      "Epoch 7/10\n",
      "395/395 [==============================] - 8s 20ms/step - loss: 0.0044\n",
      "Epoch 7/10\n",
      "395/395 [==============================] - 7s 19ms/step - loss: 0.0045\n",
      "Epoch 8/10\n",
      "395/395 [==============================] - 8s 20ms/step - loss: 0.0047\n",
      "Epoch 7/10\n",
      "395/395 [==============================] - 8s 19ms/step - loss: 0.0043\n",
      "337/395 [========================>.....] - ETA: 1s - loss: 0.0043Epoch 8/10\n",
      "395/395 [==============================] - 7s 19ms/step - loss: 0.0043\n",
      "296/395 [=====================>........] - ETA: 1s - loss: 0.0041Epoch 5/10\n",
      "395/395 [==============================] - 8s 20ms/step - loss: 0.0042\n",
      "Epoch 8/10\n",
      "395/395 [==============================] - 8s 21ms/step - loss: 0.0045\n",
      "177/395 [============>.................] - ETA: 4s - loss: 0.0043Epoch 8/10\n",
      "395/395 [==============================] - 8s 21ms/step - loss: 0.0040\n",
      "Epoch 8/10\n",
      "395/395 [==============================] - 8s 21ms/step - loss: 0.0044\n",
      " 62/395 [===>..........................] - ETA: 6s - loss: 0.0047Epoch 8/10\n",
      "395/395 [==============================] - 7s 19ms/step - loss: 0.0046\n",
      "316/395 [=======================>......] - ETA: 1s - loss: 0.0043Epoch 9/10\n",
      "395/395 [==============================] - 8s 19ms/step - loss: 0.0044\n",
      "Epoch 9/10\n",
      "395/395 [==============================] - 8s 21ms/step - loss: 0.0047\n",
      "Epoch 8/10\n",
      "395/395 [==============================] - 8s 19ms/step - loss: 0.0043\n",
      "146/395 [==========>...................] - ETA: 5s - loss: 0.0042Epoch 6/10\n",
      "395/395 [==============================] - 8s 20ms/step - loss: 0.0042\n",
      "Epoch 9/10\n",
      "395/395 [==============================] - 8s 21ms/step - loss: 0.0040\n",
      "Epoch 9/10\n",
      "395/395 [==============================] - 8s 21ms/step - loss: 0.0045\n",
      "Epoch 9/10\n",
      "395/395 [==============================] - 8s 21ms/step - loss: 0.0044\n",
      "Epoch 9/10\n",
      "395/395 [==============================] - 8s 20ms/step - loss: 0.0045\n",
      "Epoch 10/10\n",
      "395/395 [==============================] - 8s 20ms/step - loss: 0.0044\n",
      "Epoch 10/10\n",
      "395/395 [==============================] - 8s 21ms/step - loss: 0.0046\n",
      "Epoch 9/10\n",
      "395/395 [==============================] - 8s 19ms/step - loss: 0.0043\n",
      "Epoch 7/10\n",
      "395/395 [==============================] - 8s 20ms/step - loss: 0.0042\n",
      "Epoch 10/10\n",
      "395/395 [==============================] - 8s 21ms/step - loss: 0.0040\n",
      "Epoch 10/10\n",
      "395/395 [==============================] - 8s 20ms/step - loss: 0.0044\n",
      "  1/395 [..............................] - ETA: 6s - loss: 6.8966e-04Epoch 10/10\n",
      "395/395 [==============================] - 8s 21ms/step - loss: 0.0044\n",
      "Epoch 10/10\n",
      "395/395 [==============================] - 7s 19ms/step - loss: 0.0045\n",
      "395/395 [==============================] - 7s 19ms/step - loss: 0.0044\n",
      "129/395 [========>.....................] - ETA: 5s - loss: 0.0038"
     ]
    },
    {
     "name": "stderr",
     "output_type": "stream",
     "text": [
      "2023-05-02 11:17:27.852755: I tensorflow/core/grappler/optimizers/custom_graph_optimizer_registry.cc:114] Plugin optimizer for device_type GPU is enabled.\n",
      "2023-05-02 11:17:27.979322: I tensorflow/core/grappler/optimizers/custom_graph_optimizer_registry.cc:114] Plugin optimizer for device_type GPU is enabled.\n"
     ]
    },
    {
     "name": "stdout",
     "output_type": "stream",
     "text": [
      "141/395 [=========>....................] - ETA: 4s - loss: 0.0043"
     ]
    },
    {
     "name": "stderr",
     "output_type": "stream",
     "text": [
      "2023-05-02 11:17:28.123288: I tensorflow/core/grappler/optimizers/custom_graph_optimizer_registry.cc:114] Plugin optimizer for device_type GPU is enabled.\n"
     ]
    },
    {
     "name": "stdout",
     "output_type": "stream",
     "text": [
      "395/395 [==============================] - 7s 18ms/step - loss: 0.0043\n",
      "Epoch 8/10\n",
      "161/395 [===========>..................] - ETA: 4s - loss: 0.0043e-0"
     ]
    },
    {
     "name": "stderr",
     "output_type": "stream",
     "text": [
      "2023-05-02 11:17:28.562366: I tensorflow/core/grappler/optimizers/custom_graph_optimizer_registry.cc:114] Plugin optimizer for device_type GPU is enabled.\n"
     ]
    },
    {
     "name": "stdout",
     "output_type": "stream",
     "text": [
      "395/395 [==============================] - 8s 20ms/step - loss: 0.0046\n",
      "Epoch 10/10\n",
      "99/99 [==============================] - 3s 14ms/step - loss: 0.0039\n",
      "99/99 [==============================] - 2s 14ms/step - loss: 0.0037\n",
      "395/395 [==============================] - 7s 18ms/step - loss: 0.0042\n",
      "395/395 [==============================] - 7s 18ms/step - loss: 0.0040\n",
      "395/395 [==============================] - 7s 18ms/step - loss: 0.0044\n",
      "260/395 [==================>...........] - ETA: 1s - loss: 0.0043"
     ]
    },
    {
     "name": "stderr",
     "output_type": "stream",
     "text": [
      "2023-05-02 11:17:32.886513: I tensorflow/core/grappler/optimizers/custom_graph_optimizer_registry.cc:114] Plugin optimizer for device_type GPU is enabled.\n"
     ]
    },
    {
     "name": "stdout",
     "output_type": "stream",
     "text": [
      "224/395 [================>.............] - ETA: 1s - loss: 0.0046"
     ]
    },
    {
     "name": "stderr",
     "output_type": "stream",
     "text": [
      "2023-05-02 11:17:33.152172: I tensorflow/core/grappler/optimizers/custom_graph_optimizer_registry.cc:114] Plugin optimizer for device_type GPU is enabled.\n"
     ]
    },
    {
     "name": "stdout",
     "output_type": "stream",
     "text": [
      "395/395 [==============================] - 7s 18ms/step - loss: 0.0044\n",
      "69/99 [===================>..........] - ETA: 0s - loss: 0.00434"
     ]
    },
    {
     "name": "stderr",
     "output_type": "stream",
     "text": [
      "2023-05-02 11:17:33.801093: I tensorflow/core/grappler/optimizers/custom_graph_optimizer_registry.cc:114] Plugin optimizer for device_type GPU is enabled.\n",
      "2023-05-02 11:17:33.973673: I tensorflow/core/grappler/optimizers/custom_graph_optimizer_registry.cc:114] Plugin optimizer for device_type GPU is enabled.\n"
     ]
    },
    {
     "name": "stdout",
     "output_type": "stream",
     "text": [
      "351/395 [=========================>....] - ETA: 0s - loss: 0.0042"
     ]
    },
    {
     "name": "stderr",
     "output_type": "stream",
     "text": [
      "2023-05-02 11:17:34.063389: I tensorflow/core/grappler/optimizers/custom_graph_optimizer_registry.cc:114] Plugin optimizer for device_type GPU is enabled.\n",
      "2023-05-02 11:17:34.110560: I tensorflow/core/grappler/optimizers/custom_graph_optimizer_registry.cc:114] Plugin optimizer for device_type GPU is enabled.\n"
     ]
    },
    {
     "name": "stdout",
     "output_type": "stream",
     "text": [
      "99/99 [==============================] - 3s 10ms/step - loss: 0.0045\n",
      "395/395 [==============================] - 4s 11ms/step - loss: 0.0042\n",
      "337/395 [========================>.....] - ETA: 0s - loss: 0.0045"
     ]
    },
    {
     "name": "stderr",
     "output_type": "stream",
     "text": [
      "2023-05-02 11:17:34.297905: I tensorflow/core/grappler/optimizers/custom_graph_optimizer_registry.cc:114] Plugin optimizer for device_type GPU is enabled.\n"
     ]
    },
    {
     "name": "stdout",
     "output_type": "stream",
     "text": [
      " 1/99 [..............................] - ETA: 1:29 - loss: 0.0014"
     ]
    },
    {
     "name": "stderr",
     "output_type": "stream",
     "text": [
      "2023-05-02 11:17:34.673010: I tensorflow/core/grappler/optimizers/custom_graph_optimizer_registry.cc:114] Plugin optimizer for device_type GPU is enabled.\n"
     ]
    },
    {
     "name": "stdout",
     "output_type": "stream",
     "text": [
      "395/395 [==============================] - 6s 16ms/step - loss: 0.0043\n",
      "64/99 [==================>...........] - ETA: 0s - loss: 0.0052Epoch 9/10\n",
      "395/395 [==============================] - 4s 10ms/step - loss: 0.0044\n",
      "99/99 [==============================] - 2s 9ms/step - loss: 0.0039\n",
      "99/99 [==============================] - 2s 9ms/step - loss: 0.0048\n",
      "  1/395 [..............................] - ETA: 13s - loss: 0.0079Epoch 1/10\n",
      "395/395 [==============================] - 7s 17ms/step - loss: 0.0046\n",
      "99/99 [==============================] - 2s 10ms/step - loss: 0.0041\n",
      "225/395 [================>.............] - ETA: 1s - loss: 0.0040Epoch 1/10\n",
      "295/395 [=====================>........] - ETA: 0s - loss: 0.0042"
     ]
    },
    {
     "name": "stderr",
     "output_type": "stream",
     "text": [
      "2023-05-02 11:17:36.681482: I tensorflow/core/grappler/optimizers/custom_graph_optimizer_registry.cc:114] Plugin optimizer for device_type GPU is enabled.\n"
     ]
    },
    {
     "name": "stdout",
     "output_type": "stream",
     "text": [
      "255/395 [==================>...........] - ETA: 1s - loss: 0.0040"
     ]
    },
    {
     "name": "stderr",
     "output_type": "stream",
     "text": [
      "2023-05-02 11:17:36.966624: I tensorflow/core/grappler/optimizers/custom_graph_optimizer_registry.cc:114] Plugin optimizer for device_type GPU is enabled.\n"
     ]
    },
    {
     "name": "stdout",
     "output_type": "stream",
     "text": [
      "395/395 [==============================] - 3s 8ms/step - loss: 0.0041\n",
      "99/99 [==============================] - 2s 9ms/step - loss: 0.0037\n",
      "395/395 [==============================] - 3s 8ms/step - loss: 0.0039\n",
      "395/395 [==============================] - 3s 8ms/step - loss: 0.0042\n",
      "356/395 [==========================>...] - ETA: 0s - loss: 0.0047Epoch 1/10\n",
      "362/395 [==========================>...] - ETA: 0s - loss: 0.0048"
     ]
    },
    {
     "name": "stderr",
     "output_type": "stream",
     "text": [
      "2023-05-02 11:17:38.431945: I tensorflow/core/grappler/optimizers/custom_graph_optimizer_registry.cc:114] Plugin optimizer for device_type GPU is enabled.\n"
     ]
    },
    {
     "name": "stdout",
     "output_type": "stream",
     "text": [
      "395/395 [==============================] - 3s 7ms/step - loss: 0.0046\n",
      "Epoch 1/10\n",
      "300/395 [=====================>........] - ETA: 1s - loss: 0.0043"
     ]
    },
    {
     "name": "stderr",
     "output_type": "stream",
     "text": [
      "2023-05-02 11:17:38.803599: I tensorflow/core/grappler/optimizers/custom_graph_optimizer_registry.cc:114] Plugin optimizer for device_type GPU is enabled.\n",
      "2023-05-02 11:17:38.964544: I tensorflow/core/grappler/optimizers/custom_graph_optimizer_registry.cc:114] Plugin optimizer for device_type GPU is enabled.\n"
     ]
    },
    {
     "name": "stdout",
     "output_type": "stream",
     "text": [
      "305/395 [======================>.......] - ETA: 1s - loss: 0.0043Epoch 1/10\n",
      " 11/395 [..............................] - ETA: 4s - loss: 0.4300  "
     ]
    },
    {
     "name": "stderr",
     "output_type": "stream",
     "text": [
      "2023-05-02 11:17:39.066748: I tensorflow/core/grappler/optimizers/custom_graph_optimizer_registry.cc:114] Plugin optimizer for device_type GPU is enabled.\n"
     ]
    },
    {
     "name": "stdout",
     "output_type": "stream",
     "text": [
      "217/395 [===============>..............] - ETA: 1s - loss: 0.0046"
     ]
    },
    {
     "name": "stderr",
     "output_type": "stream",
     "text": [
      "2023-05-02 11:17:39.445040: I tensorflow/core/grappler/optimizers/custom_graph_optimizer_registry.cc:114] Plugin optimizer for device_type GPU is enabled.\n",
      "2023-05-02 11:17:39.580729: I tensorflow/core/grappler/optimizers/custom_graph_optimizer_registry.cc:114] Plugin optimizer for device_type GPU is enabled.\n"
     ]
    },
    {
     "name": "stdout",
     "output_type": "stream",
     "text": [
      "237/395 [=================>............] - ETA: 1s - loss: 0.0046  "
     ]
    },
    {
     "name": "stderr",
     "output_type": "stream",
     "text": [
      "2023-05-02 11:17:39.769250: I tensorflow/core/grappler/optimizers/custom_graph_optimizer_registry.cc:114] Plugin optimizer for device_type GPU is enabled.\n",
      "2023-05-02 11:17:39.857921: I tensorflow/core/grappler/optimizers/custom_graph_optimizer_registry.cc:114] Plugin optimizer for device_type GPU is enabled.\n"
     ]
    },
    {
     "name": "stdout",
     "output_type": "stream",
     "text": [
      "Epoch 1/10\n",
      " 29/395 [=>............................] - ETA: 7s - loss: 0.2512"
     ]
    },
    {
     "name": "stderr",
     "output_type": "stream",
     "text": [
      "2023-05-02 11:17:40.104843: I tensorflow/core/grappler/optimizers/custom_graph_optimizer_registry.cc:114] Plugin optimizer for device_type GPU is enabled.\n",
      "2023-05-02 11:17:40.176688: I tensorflow/core/grappler/optimizers/custom_graph_optimizer_registry.cc:114] Plugin optimizer for device_type GPU is enabled.\n",
      "2023-05-02 11:17:40.222971: I tensorflow/core/grappler/optimizers/custom_graph_optimizer_registry.cc:114] Plugin optimizer for device_type GPU is enabled.\n",
      "2023-05-02 11:17:40.257649: I tensorflow/core/grappler/optimizers/custom_graph_optimizer_registry.cc:114] Plugin optimizer for device_type GPU is enabled.\n"
     ]
    },
    {
     "name": "stdout",
     "output_type": "stream",
     "text": [
      "395/395 [==============================] - 6s 14ms/step - loss: 0.0043\n",
      "Epoch 10/10\n",
      "  1/395 [..............................] - ETA: 9s - loss: 0.0058  "
     ]
    },
    {
     "name": "stderr",
     "output_type": "stream",
     "text": [
      "2023-05-02 11:17:40.326298: I tensorflow/core/grappler/optimizers/custom_graph_optimizer_registry.cc:114] Plugin optimizer for device_type GPU is enabled.\n"
     ]
    },
    {
     "name": "stdout",
     "output_type": "stream",
     "text": [
      "108/395 [=======>......................] - ETA: 4s - loss: 0.1450"
     ]
    },
    {
     "name": "stderr",
     "output_type": "stream",
     "text": [
      "2023-05-02 11:17:41.308976: I tensorflow/core/grappler/optimizers/custom_graph_optimizer_registry.cc:114] Plugin optimizer for device_type GPU is enabled.\n"
     ]
    },
    {
     "name": "stdout",
     "output_type": "stream",
     "text": [
      "395/395 [==============================] - 4s 9ms/step - loss: 0.0045\n",
      "171/395 [===========>..................] - ETA: 3s - loss: 0.1452"
     ]
    },
    {
     "name": "stderr",
     "output_type": "stream",
     "text": [
      "2023-05-02 11:17:41.647183: I tensorflow/core/grappler/optimizers/custom_graph_optimizer_registry.cc:114] Plugin optimizer for device_type GPU is enabled.\n"
     ]
    },
    {
     "name": "stdout",
     "output_type": "stream",
     "text": [
      "171/395 [===========>..................] - ETA: 3s - loss: 0.1099Epoch 1/10\n",
      "208/395 [==============>...............] - ETA: 2s - loss: 0.0807"
     ]
    },
    {
     "name": "stderr",
     "output_type": "stream",
     "text": [
      "2023-05-02 11:17:43.361042: I tensorflow/core/grappler/optimizers/custom_graph_optimizer_registry.cc:114] Plugin optimizer for device_type GPU is enabled.\n"
     ]
    },
    {
     "name": "stdout",
     "output_type": "stream",
     "text": [
      "154/395 [==========>...................] - ETA: 3s - loss: 0.0280"
     ]
    },
    {
     "name": "stderr",
     "output_type": "stream",
     "text": [
      "2023-05-02 11:17:44.381009: I tensorflow/core/grappler/optimizers/custom_graph_optimizer_registry.cc:114] Plugin optimizer for device_type GPU is enabled.\n"
     ]
    },
    {
     "name": "stdout",
     "output_type": "stream",
     "text": [
      "292/395 [=====================>........] - ETA: 1s - loss: 0.0630"
     ]
    },
    {
     "name": "stderr",
     "output_type": "stream",
     "text": [
      "2023-05-02 11:17:44.651284: I tensorflow/core/grappler/optimizers/custom_graph_optimizer_registry.cc:114] Plugin optimizer for device_type GPU is enabled.\n"
     ]
    },
    {
     "name": "stdout",
     "output_type": "stream",
     "text": [
      "395/395 [==============================] - 10s 16ms/step - loss: 0.0794\n",
      "Epoch 2/10\n",
      "395/395 [==============================] - 9s 17ms/step - loss: 0.0640\n",
      "Epoch 2/10\n",
      "395/395 [==============================] - 6s 16ms/step - loss: 0.0043\n",
      "395/395 [==============================] - 8s 16ms/step - loss: 0.0502\n",
      "Epoch 2/10\n",
      "395/395 [==============================] - 8s 16ms/step - loss: 0.0077\n",
      "Epoch 2/10\n",
      " 69/395 [====>.........................] - ETA: 4s - loss: 0.0114"
     ]
    },
    {
     "name": "stderr",
     "output_type": "stream",
     "text": [
      "2023-05-02 11:17:47.670589: I tensorflow/core/grappler/optimizers/custom_graph_optimizer_registry.cc:114] Plugin optimizer for device_type GPU is enabled.\n"
     ]
    },
    {
     "name": "stdout",
     "output_type": "stream",
     "text": [
      "181/395 [============>.................] - ETA: 3s - loss: 0.0167"
     ]
    },
    {
     "name": "stderr",
     "output_type": "stream",
     "text": [
      "2023-05-02 11:17:48.048843: I tensorflow/core/grappler/optimizers/custom_graph_optimizer_registry.cc:114] Plugin optimizer for device_type GPU is enabled.\n",
      "2023-05-02 11:17:48.141096: I tensorflow/core/grappler/optimizers/custom_graph_optimizer_registry.cc:114] Plugin optimizer for device_type GPU is enabled.\n"
     ]
    },
    {
     "name": "stdout",
     "output_type": "stream",
     "text": [
      "395/395 [==============================] - 10s 17ms/step - loss: 0.0156\n",
      "Epoch 2/10\n",
      "99/99 [==============================] - 3s 14ms/step - loss: 0.0052\n",
      "197/395 [=============>................] - ETA: 3s - loss: 0.0099"
     ]
    },
    {
     "name": "stderr",
     "output_type": "stream",
     "text": [
      "2023-05-02 11:17:49.817465: I tensorflow/core/grappler/optimizers/custom_graph_optimizer_registry.cc:114] Plugin optimizer for device_type GPU is enabled.\n"
     ]
    },
    {
     "name": "stdout",
     "output_type": "stream",
     "text": [
      "264/395 [===================>..........] - ETA: 2s - loss: 0.0150"
     ]
    },
    {
     "name": "stderr",
     "output_type": "stream",
     "text": [
      "2023-05-02 11:17:50.424250: I tensorflow/core/grappler/optimizers/custom_graph_optimizer_registry.cc:114] Plugin optimizer for device_type GPU is enabled.\n"
     ]
    },
    {
     "name": "stdout",
     "output_type": "stream",
     "text": [
      "395/395 [==============================] - 6s 16ms/step - loss: 0.0144\n",
      "Epoch 3/10\n",
      "395/395 [==============================] - 12s 18ms/step - loss: 0.0122\n",
      "Epoch 2/10\n",
      "395/395 [==============================] - 7s 17ms/step - loss: 0.0135\n",
      " 34/395 [=>............................] - ETA: 7s - loss: 0.0093Epoch 3/10\n",
      "395/395 [==============================] - 7s 17ms/step - loss: 0.0085\n",
      " 59/395 [===>..........................] - ETA: 6s - loss: 0.0087Epoch 3/10\n",
      "395/395 [==============================] - 7s 17ms/step - loss: 0.0044\n",
      "Epoch 3/10\n",
      "395/395 [==============================] - 6s 15ms/step - loss: 0.0042\n",
      "395/395 [==============================] - 7s 19ms/step - loss: 0.0042\n",
      "245/395 [=================>............] - ETA: 2s - loss: 0.0110Epoch 3/10\n",
      "183/395 [============>.................] - ETA: 4s - loss: 0.0043Epoch 1/10\n",
      "395/395 [==============================] - 16s 20ms/step - loss: 0.0044\n",
      "Epoch 2/10\n",
      "395/395 [==============================] - 7s 18ms/step - loss: 0.0103\n",
      "344/395 [=========================>....] - ETA: 0s - loss: 0.0057Epoch 4/10\n",
      "395/395 [==============================] - 8s 20ms/step - loss: 0.0055\n",
      "Epoch 3/10\n",
      "395/395 [==============================] - 7s 18ms/step - loss: 0.0078\n",
      "Epoch 4/10\n",
      "395/395 [==============================] - 7s 18ms/step - loss: 0.0056\n",
      "Epoch 4/10\n",
      "395/395 [==============================] - 7s 18ms/step - loss: 0.0045\n",
      "Epoch 4/10\n",
      "395/395 [==============================] - 7s 19ms/step - loss: 0.0040\n",
      "Epoch 4/10\n",
      "395/395 [==============================] - 7s 17ms/step - loss: 0.0083\n",
      "109/395 [=======>......................] - ETA: 5s - loss: 0.0039Epoch 5/10\n",
      "395/395 [==============================] - 7s 18ms/step - loss: 0.0042\n",
      "Epoch 3/10\n",
      "395/395 [==============================] - 7s 17ms/step - loss: 0.0055\n",
      "Epoch 5/10\n",
      "395/395 [==============================] - 7s 17ms/step - loss: 0.0050\n",
      "Epoch 5/10\n",
      "395/395 [==============================] - 7s 18ms/step - loss: 0.0044\n",
      "Epoch 4/10\n",
      "395/395 [==============================] - 7s 17ms/step - loss: 0.0044\n",
      "Epoch 5/10\n",
      "  7/395 [..............................] - ETA: 7s - loss: 0.0049"
     ]
    },
    {
     "name": "stderr",
     "output_type": "stream",
     "text": [
      "2023-05-02 11:18:07.605647: I tensorflow/core/grappler/optimizers/custom_graph_optimizer_registry.cc:114] Plugin optimizer for device_type GPU is enabled.\n"
     ]
    },
    {
     "name": "stdout",
     "output_type": "stream",
     "text": [
      "137/395 [=========>....................] - ETA: 4s - loss: 0.0051"
     ]
    },
    {
     "name": "stderr",
     "output_type": "stream",
     "text": [
      "2023-05-02 11:18:09.307419: I tensorflow/core/grappler/optimizers/custom_graph_optimizer_registry.cc:114] Plugin optimizer for device_type GPU is enabled.\n"
     ]
    },
    {
     "name": "stdout",
     "output_type": "stream",
     "text": [
      "146/395 [==========>...................] - ETA: 4s - loss: 0.0043"
     ]
    },
    {
     "name": "stderr",
     "output_type": "stream",
     "text": [
      "2023-05-02 11:18:09.993968: I tensorflow/core/grappler/optimizers/custom_graph_optimizer_registry.cc:114] Plugin optimizer for device_type GPU is enabled.\n"
     ]
    },
    {
     "name": "stdout",
     "output_type": "stream",
     "text": [
      "395/395 [==============================] - 7s 19ms/step - loss: 0.0040\n",
      "Epoch 5/10\n",
      "395/395 [==============================] - 7s 18ms/step - loss: 0.0068\n",
      "Epoch 6/10\n",
      "395/395 [==============================] - 8s 19ms/step - loss: 0.0042\n",
      "324/395 [=======================>......] - ETA: 1s - loss: 0.0043Epoch 4/10\n",
      "395/395 [==============================] - 7s 18ms/step - loss: 0.0046\n",
      "Epoch 6/10\n",
      "395/395 [==============================] - 7s 18ms/step - loss: 0.0048\n",
      "363/395 [==========================>...] - ETA: 0s - loss: 0.0043Epoch 6/10\n",
      "395/395 [==============================] - 7s 18ms/step - loss: 0.0044\n",
      "Epoch 6/10\n",
      "395/395 [==============================] - 8s 20ms/step - loss: 0.0044\n",
      "  7/395 [..............................] - ETA: 8s - loss: 0.0058Epoch 5/10\n",
      "395/395 [==============================] - 21s 21ms/step - loss: 0.1985\n",
      "Epoch 2/10\n",
      "395/395 [==============================] - 8s 20ms/step - loss: 0.0041\n",
      "193/395 [=============>................] - ETA: 4s - loss: 0.0045Epoch 6/10\n",
      "395/395 [==============================] - 7s 19ms/step - loss: 0.0055\n",
      " 49/395 [==>...........................] - ETA: 7s - loss: 0.0039Epoch 7/10\n",
      "395/395 [==============================] - 7s 19ms/step - loss: 0.0043\n",
      "136/395 [=========>....................] - ETA: 5s - loss: 0.0317Epoch 7/10\n",
      "395/395 [==============================] - 8s 20ms/step - loss: 0.0042\n",
      "Epoch 5/10\n",
      "395/395 [==============================] - 7s 19ms/step - loss: 0.0048\n",
      "  4/395 [..............................] - ETA: 8s - loss: 0.0041Epoch 7/10\n",
      "395/395 [==============================] - 7s 19ms/step - loss: 0.0044\n",
      "Epoch 7/10\n",
      "395/395 [==============================] - 8s 21ms/step - loss: 0.0044\n",
      "Epoch 6/10\n",
      "395/395 [==============================] - 8s 20ms/step - loss: 0.0166\n",
      "Epoch 3/10\n",
      "395/395 [==============================] - 8s 20ms/step - loss: 0.0040\n",
      "Epoch 7/10\n",
      "395/395 [==============================] - 7s 19ms/step - loss: 0.0049\n",
      "Epoch 8/10\n",
      "395/395 [==============================] - 8s 19ms/step - loss: 0.0042\n",
      "Epoch 8/10\n",
      "395/395 [==============================] - 7s 19ms/step - loss: 0.0047\n",
      "Epoch 8/10\n",
      "395/395 [==============================] - 8s 21ms/step - loss: 0.0042\n",
      "151/395 [==========>...................] - ETA: 5s - loss: 0.0054Epoch 6/10\n",
      "395/395 [==============================] - 8s 19ms/step - loss: 0.0044\n",
      "Epoch 8/10\n",
      "395/395 [==============================] - 8s 20ms/step - loss: 0.0044\n",
      "209/395 [==============>...............] - ETA: 3s - loss: 0.0040Epoch 7/10\n",
      "395/395 [==============================] - 8s 19ms/step - loss: 0.0045\n",
      "181/395 [============>.................] - ETA: 4s - loss: 0.0040Epoch 9/10\n",
      "395/395 [==============================] - 8s 21ms/step - loss: 0.0045\n",
      "Epoch 4/10\n",
      "395/395 [==============================] - 8s 21ms/step - loss: 0.0040\n",
      "Epoch 8/10\n",
      "395/395 [==============================] - 8s 19ms/step - loss: 0.0042\n",
      "Epoch 9/10\n",
      "395/395 [==============================] - 8s 19ms/step - loss: 0.0047\n",
      "Epoch 9/10\n",
      "395/395 [==============================] - 8s 19ms/step - loss: 0.0044\n",
      "Epoch 9/10\n",
      "395/395 [==============================] - 8s 21ms/step - loss: 0.0041\n",
      "Epoch 7/10\n",
      "395/395 [==============================] - 8s 20ms/step - loss: 0.0044\n",
      "Epoch 8/10\n",
      "395/395 [==============================] - 7s 19ms/step - loss: 0.0045\n",
      "292/395 [=====================>........] - ETA: 1s - loss: 0.0046Epoch 10/10\n",
      "395/395 [==============================] - 8s 20ms/step - loss: 0.0043\n",
      " 32/395 [=>............................] - ETA: 7s - loss: 0.0039Epoch 5/10\n",
      "395/395 [==============================] - 8s 20ms/step - loss: 0.0040\n",
      "Epoch 9/10\n",
      "395/395 [==============================] - 7s 19ms/step - loss: 0.0042\n",
      "Epoch 10/10\n",
      "395/395 [==============================] - 8s 19ms/step - loss: 0.0048\n",
      "Epoch 10/10\n",
      "395/395 [==============================] - 7s 19ms/step - loss: 0.0044\n",
      " 95/395 [======>.......................] - ETA: 6s - loss: 0.0046Epoch 10/10\n",
      "395/395 [==============================] - 8s 20ms/step - loss: 0.0042\n",
      "130/395 [========>.....................] - ETA: 5s - loss: 0.0044Epoch 8/10\n",
      "395/395 [==============================] - 8s 21ms/step - loss: 0.0044\n",
      "268/395 [===================>..........] - ETA: 2s - loss: 0.0043Epoch 9/10\n",
      "395/395 [==============================] - 7s 19ms/step - loss: 0.0044\n",
      "395/395 [==============================] - 8s 20ms/step - loss: 0.0044\n",
      "Epoch 6/10\n",
      "395/395 [==============================] - 8s 20ms/step - loss: 0.0040\n",
      "Epoch 10/10\n",
      " 17/395 [>.............................] - ETA: 6s - loss: 0.0039"
     ]
    },
    {
     "name": "stderr",
     "output_type": "stream",
     "text": [
      "2023-05-02 11:18:51.268155: I tensorflow/core/grappler/optimizers/custom_graph_optimizer_registry.cc:114] Plugin optimizer for device_type GPU is enabled.\n"
     ]
    },
    {
     "name": "stdout",
     "output_type": "stream",
     "text": [
      "395/395 [==============================] - 8s 19ms/step - loss: 0.0042\n",
      "395/395 [==============================] - 7s 19ms/step - loss: 0.0048\n",
      "231/395 [================>.............] - ETA: 3s - loss: 0.0047"
     ]
    },
    {
     "name": "stderr",
     "output_type": "stream",
     "text": [
      "2023-05-02 11:18:51.840655: I tensorflow/core/grappler/optimizers/custom_graph_optimizer_registry.cc:114] Plugin optimizer for device_type GPU is enabled.\n"
     ]
    },
    {
     "name": "stdout",
     "output_type": "stream",
     "text": [
      "395/395 [==============================] - 7s 19ms/step - loss: 0.0044\n",
      " 84/395 [=====>........................] - ETA: 5s - loss: 0.0041"
     ]
    },
    {
     "name": "stderr",
     "output_type": "stream",
     "text": [
      "2023-05-02 11:18:52.458033: I tensorflow/core/grappler/optimizers/custom_graph_optimizer_registry.cc:114] Plugin optimizer for device_type GPU is enabled.\n",
      "2023-05-02 11:18:52.612647: I tensorflow/core/grappler/optimizers/custom_graph_optimizer_registry.cc:114] Plugin optimizer for device_type GPU is enabled.\n"
     ]
    },
    {
     "name": "stdout",
     "output_type": "stream",
     "text": [
      " 6/99 [>.............................] - ETA: 1s - loss: 0.0067  "
     ]
    },
    {
     "name": "stderr",
     "output_type": "stream",
     "text": [
      "2023-05-02 11:18:52.696125: I tensorflow/core/grappler/optimizers/custom_graph_optimizer_registry.cc:114] Plugin optimizer for device_type GPU is enabled.\n",
      "2023-05-02 11:18:52.754888: I tensorflow/core/grappler/optimizers/custom_graph_optimizer_registry.cc:114] Plugin optimizer for device_type GPU is enabled.\n"
     ]
    },
    {
     "name": "stdout",
     "output_type": "stream",
     "text": [
      "99/99 [==============================] - 3s 10ms/step - loss: 0.0040\n",
      "395/395 [==============================] - 8s 19ms/step - loss: 0.0042\n",
      "Epoch 9/10\n",
      "99/99 [==============================] - 2s 10ms/step - loss: 0.0040\n",
      "99/99 [==============================] - 2s 11ms/step - loss: 0.0045\n",
      "395/395 [==============================] - 7s 19ms/step - loss: 0.0044\n",
      "207/395 [==============>...............] - ETA: 3s - loss: 0.0045Epoch 10/10\n",
      "395/395 [==============================] - 4s 11ms/step - loss: 0.0042\n",
      "395/395 [==============================] - 7s 18ms/step - loss: 0.0044\n",
      "Epoch 7/10\n",
      "395/395 [==============================] - 7s 17ms/step - loss: 0.0040\n",
      "188/395 [=============>................] - ETA: 3s - loss: 0.0044Epoch 1/10\n",
      "395/395 [==============================] - 4s 10ms/step - loss: 0.0041\n",
      "395/395 [==============================] - 4s 11ms/step - loss: 0.0046\n",
      "216/395 [===============>..............] - ETA: 3s - loss: 0.0044"
     ]
    },
    {
     "name": "stderr",
     "output_type": "stream",
     "text": [
      "2023-05-02 11:18:58.447828: I tensorflow/core/grappler/optimizers/custom_graph_optimizer_registry.cc:114] Plugin optimizer for device_type GPU is enabled.\n",
      "2023-05-02 11:18:58.578535: I tensorflow/core/grappler/optimizers/custom_graph_optimizer_registry.cc:114] Plugin optimizer for device_type GPU is enabled.\n"
     ]
    },
    {
     "name": "stdout",
     "output_type": "stream",
     "text": [
      "224/395 [================>.............] - ETA: 2s - loss: 0.0043Epoch 1/10\n",
      "72/99 [====================>.........] - ETA: 0s - loss: 0.0051Epoch 1/10\n",
      "99/99 [==============================] - 2s 11ms/step - loss: 0.0048\n",
      " 10/395 [..............................] - ETA: 5s - loss: 0.0049"
     ]
    },
    {
     "name": "stderr",
     "output_type": "stream",
     "text": [
      "2023-05-02 11:18:59.841920: I tensorflow/core/grappler/optimizers/custom_graph_optimizer_registry.cc:114] Plugin optimizer for device_type GPU is enabled.\n",
      "2023-05-02 11:19:00.012675: I tensorflow/core/grappler/optimizers/custom_graph_optimizer_registry.cc:114] Plugin optimizer for device_type GPU is enabled.\n"
     ]
    },
    {
     "name": "stdout",
     "output_type": "stream",
     "text": [
      "311/395 [======================>.......] - ETA: 1s - loss: 0.0044"
     ]
    },
    {
     "name": "stderr",
     "output_type": "stream",
     "text": [
      "2023-05-02 11:19:00.128730: I tensorflow/core/grappler/optimizers/custom_graph_optimizer_registry.cc:114] Plugin optimizer for device_type GPU is enabled.\n",
      "2023-05-02 11:19:00.279391: I tensorflow/core/grappler/optimizers/custom_graph_optimizer_registry.cc:114] Plugin optimizer for device_type GPU is enabled.\n",
      "2023-05-02 11:19:00.300079: I tensorflow/core/grappler/optimizers/custom_graph_optimizer_registry.cc:114] Plugin optimizer for device_type GPU is enabled.\n"
     ]
    },
    {
     "name": "stdout",
     "output_type": "stream",
     "text": [
      "395/395 [==============================] - 7s 18ms/step - loss: 0.0042\n",
      " 44/395 [==>...........................] - ETA: 5s - loss: 0.0041Epoch 10/10\n",
      "  8/395 [..............................] - ETA: 9s - loss: 0.1824 9"
     ]
    },
    {
     "name": "stderr",
     "output_type": "stream",
     "text": [
      "2023-05-02 11:19:00.448887: I tensorflow/core/grappler/optimizers/custom_graph_optimizer_registry.cc:114] Plugin optimizer for device_type GPU is enabled.\n"
     ]
    },
    {
     "name": "stdout",
     "output_type": "stream",
     "text": [
      "370/395 [===========================>..] - ETA: 0s - loss: 0.0044"
     ]
    },
    {
     "name": "stderr",
     "output_type": "stream",
     "text": [
      "2023-05-02 11:19:01.203568: I tensorflow/core/grappler/optimizers/custom_graph_optimizer_registry.cc:114] Plugin optimizer for device_type GPU is enabled.\n"
     ]
    },
    {
     "name": "stdout",
     "output_type": "stream",
     "text": [
      "393/395 [============================>.] - ETA: 0s - loss: 0.0044"
     ]
    },
    {
     "name": "stderr",
     "output_type": "stream",
     "text": [
      "2023-05-02 11:19:01.580783: I tensorflow/core/grappler/optimizers/custom_graph_optimizer_registry.cc:114] Plugin optimizer for device_type GPU is enabled.\n"
     ]
    },
    {
     "name": "stdout",
     "output_type": "stream",
     "text": [
      "395/395 [==============================] - 7s 17ms/step - loss: 0.0044\n",
      " 89/395 [=====>........................] - ETA: 5s - loss: 0.1045"
     ]
    },
    {
     "name": "stderr",
     "output_type": "stream",
     "text": [
      "2023-05-02 11:19:01.847774: I tensorflow/core/grappler/optimizers/custom_graph_optimizer_registry.cc:114] Plugin optimizer for device_type GPU is enabled.\n"
     ]
    },
    {
     "name": "stdout",
     "output_type": "stream",
     "text": [
      "126/395 [========>.....................] - ETA: 4s - loss: 0.0043"
     ]
    },
    {
     "name": "stderr",
     "output_type": "stream",
     "text": [
      "2023-05-02 11:19:02.560403: I tensorflow/core/grappler/optimizers/custom_graph_optimizer_registry.cc:114] Plugin optimizer for device_type GPU is enabled.\n"
     ]
    },
    {
     "name": "stdout",
     "output_type": "stream",
     "text": [
      "281/395 [====================>.........] - ETA: 1s - loss: 0.0039"
     ]
    },
    {
     "name": "stderr",
     "output_type": "stream",
     "text": [
      "2023-05-02 11:19:02.861767: I tensorflow/core/grappler/optimizers/custom_graph_optimizer_registry.cc:114] Plugin optimizer for device_type GPU is enabled.\n",
      "2023-05-02 11:19:02.940265: I tensorflow/core/grappler/optimizers/custom_graph_optimizer_registry.cc:114] Plugin optimizer for device_type GPU is enabled.\n"
     ]
    },
    {
     "name": "stdout",
     "output_type": "stream",
     "text": [
      "336/395 [========================>.....] - ETA: 0s - loss: 0.0040"
     ]
    },
    {
     "name": "stderr",
     "output_type": "stream",
     "text": [
      "2023-05-02 11:19:03.423580: I tensorflow/core/grappler/optimizers/custom_graph_optimizer_registry.cc:114] Plugin optimizer for device_type GPU is enabled.\n"
     ]
    },
    {
     "name": "stdout",
     "output_type": "stream",
     "text": [
      "395/395 [==============================] - 5s 11ms/step - loss: 0.0039\n",
      "99/99 [==============================] - 3s 14ms/step - loss: 0.0042\n",
      "99/99 [==============================] - 3s 12ms/step - loss: 0.0037\n",
      "395/395 [==============================] - 7s 18ms/step - loss: 0.0044\n",
      "Epoch 8/10\n",
      "296/395 [=====================>........] - ETA: 1s - loss: 0.0607Epoch 1/10\n",
      "395/395 [==============================] - 9s 17ms/step - loss: 0.0293\n",
      "Epoch 2/10\n",
      "395/395 [==============================] - 7s 18ms/step - loss: 0.0042\n",
      "395/395 [==============================] - 10s 19ms/step - loss: 0.0484\n",
      " 30/395 [=>............................] - ETA: 5s - loss: 0.0059Epoch 2/10\n",
      "199/395 [==============>...............] - ETA: 3s - loss: 0.0043"
     ]
    },
    {
     "name": "stderr",
     "output_type": "stream",
     "text": [
      "2023-05-02 11:19:08.592931: I tensorflow/core/grappler/optimizers/custom_graph_optimizer_registry.cc:114] Plugin optimizer for device_type GPU is enabled.\n",
      "2023-05-02 11:19:08.748287: I tensorflow/core/grappler/optimizers/custom_graph_optimizer_registry.cc:114] Plugin optimizer for device_type GPU is enabled.\n"
     ]
    },
    {
     "name": "stdout",
     "output_type": "stream",
     "text": [
      "395/395 [==============================] - 4s 11ms/step - loss: 0.0044\n",
      "395/395 [==============================] - 9s 17ms/step - loss: 0.0110\n",
      "348/395 [=========================>....] - ETA: 0s - loss: 0.0044Epoch 2/10\n",
      "395/395 [==============================] - 4s 11ms/step - loss: 0.0043\n",
      "99/99 [==============================] - 2s 10ms/step - loss: 0.0044\n",
      "119/395 [========>.....................] - ETA: 4s - loss: 0.0073Epoch 1/10\n",
      "137/395 [=========>....................] - ETA: 4s - loss: 0.0074Epoch 1/10\n",
      " 68/395 [====>.........................] - ETA: 3s - loss: 0.0050"
     ]
    },
    {
     "name": "stderr",
     "output_type": "stream",
     "text": [
      "2023-05-02 11:19:10.490771: I tensorflow/core/grappler/optimizers/custom_graph_optimizer_registry.cc:114] Plugin optimizer for device_type GPU is enabled.\n"
     ]
    },
    {
     "name": "stdout",
     "output_type": "stream",
     "text": [
      "147/395 [==========>...................] - ETA: 4s - loss: 0.0045"
     ]
    },
    {
     "name": "stderr",
     "output_type": "stream",
     "text": [
      "2023-05-02 11:19:11.087829: I tensorflow/core/grappler/optimizers/custom_graph_optimizer_registry.cc:114] Plugin optimizer for device_type GPU is enabled.\n",
      "2023-05-02 11:19:11.265213: I tensorflow/core/grappler/optimizers/custom_graph_optimizer_registry.cc:114] Plugin optimizer for device_type GPU is enabled.\n"
     ]
    },
    {
     "name": "stdout",
     "output_type": "stream",
     "text": [
      "395/395 [==============================] - 7s 18ms/step - loss: 0.0044\n",
      "Epoch 9/10\n",
      "102/395 [======>.......................] - ETA: 4s - loss: 0.0124"
     ]
    },
    {
     "name": "stderr",
     "output_type": "stream",
     "text": [
      "2023-05-02 11:19:13.008469: I tensorflow/core/grappler/optimizers/custom_graph_optimizer_registry.cc:114] Plugin optimizer for device_type GPU is enabled.\n"
     ]
    },
    {
     "name": "stdout",
     "output_type": "stream",
     "text": [
      "395/395 [==============================] - 7s 17ms/step - loss: 0.0049\n",
      "Epoch 3/10\n",
      "395/395 [==============================] - 4s 10ms/step - loss: 0.0040\n",
      "351/395 [=========================>....] - ETA: 0s - loss: 0.0058"
     ]
    },
    {
     "name": "stderr",
     "output_type": "stream",
     "text": [
      "2023-05-02 11:19:14.029974: I tensorflow/core/grappler/optimizers/custom_graph_optimizer_registry.cc:114] Plugin optimizer for device_type GPU is enabled.\n",
      "2023-05-02 11:19:14.116419: I tensorflow/core/grappler/optimizers/custom_graph_optimizer_registry.cc:114] Plugin optimizer for device_type GPU is enabled.\n"
     ]
    },
    {
     "name": "stdout",
     "output_type": "stream",
     "text": [
      "338/395 [========================>.....] - ETA: 0s - loss: 0.0045"
     ]
    },
    {
     "name": "stderr",
     "output_type": "stream",
     "text": [
      "2023-05-02 11:19:14.245596: I tensorflow/core/grappler/optimizers/custom_graph_optimizer_registry.cc:114] Plugin optimizer for device_type GPU is enabled.\n"
     ]
    },
    {
     "name": "stdout",
     "output_type": "stream",
     "text": [
      "395/395 [==============================] - 7s 18ms/step - loss: 0.0057\n",
      "Epoch 3/10\n",
      "222/395 [===============>..............] - ETA: 2s - loss: 0.0089Epoch 1/20\n",
      "395/395 [==============================] - 6s 16ms/step - loss: 0.0045\n",
      "Epoch 3/10\n",
      " 54/395 [===>..........................] - ETA: 5s - loss: 0.0169"
     ]
    },
    {
     "name": "stderr",
     "output_type": "stream",
     "text": [
      "2023-05-02 11:19:15.290201: I tensorflow/core/grappler/optimizers/custom_graph_optimizer_registry.cc:114] Plugin optimizer for device_type GPU is enabled.\n"
     ]
    },
    {
     "name": "stdout",
     "output_type": "stream",
     "text": [
      " 36/395 [=>............................] - ETA: 5s - loss: 0.0047"
     ]
    },
    {
     "name": "stderr",
     "output_type": "stream",
     "text": [
      "2023-05-02 11:19:15.601010: I tensorflow/core/grappler/optimizers/custom_graph_optimizer_registry.cc:114] Plugin optimizer for device_type GPU is enabled.\n"
     ]
    },
    {
     "name": "stdout",
     "output_type": "stream",
     "text": [
      "395/395 [==============================] - 12s 17ms/step - loss: 0.0072\n",
      "Epoch 2/10\n",
      "395/395 [==============================] - 7s 18ms/step - loss: 0.0043\n",
      "Epoch 10/10\n",
      "395/395 [==============================] - 7s 17ms/step - loss: 0.0048\n",
      "Epoch 4/10\n",
      "395/395 [==============================] - 12s 18ms/step - loss: 0.0095\n",
      "Epoch 2/10\n",
      "395/395 [==============================] - 7s 17ms/step - loss: 0.0043\n",
      " 29/395 [=>............................] - ETA: 4s - loss: 0.0050Epoch 4/10\n",
      "395/395 [==============================] - 7s 18ms/step - loss: 0.0045\n",
      "Epoch 4/10\n",
      "395/395 [==============================] - 13s 18ms/step - loss: 0.0064\n",
      " 74/395 [====>.........................] - ETA: 5s - loss: 0.0045Epoch 2/10\n",
      "395/395 [==============================] - 7s 18ms/step - loss: 0.0044\n",
      "Epoch 3/10\n",
      "293/395 [=====================>........] - ETA: 1s - loss: 0.0054"
     ]
    },
    {
     "name": "stderr",
     "output_type": "stream",
     "text": [
      "2023-05-02 11:19:26.103373: I tensorflow/core/grappler/optimizers/custom_graph_optimizer_registry.cc:114] Plugin optimizer for device_type GPU is enabled.\n"
     ]
    },
    {
     "name": "stdout",
     "output_type": "stream",
     "text": [
      "395/395 [==============================] - 7s 19ms/step - loss: 0.0044\n",
      "330/395 [========================>.....] - ETA: 1s - loss: 0.0043"
     ]
    },
    {
     "name": "stderr",
     "output_type": "stream",
     "text": [
      "2023-05-02 11:19:27.322614: I tensorflow/core/grappler/optimizers/custom_graph_optimizer_registry.cc:114] Plugin optimizer for device_type GPU is enabled.\n"
     ]
    },
    {
     "name": "stdout",
     "output_type": "stream",
     "text": [
      "395/395 [==============================] - 7s 17ms/step - loss: 0.0047\n",
      "Epoch 5/10\n",
      "284/395 [====================>.........] - ETA: 1s - loss: 0.0046"
     ]
    },
    {
     "name": "stderr",
     "output_type": "stream",
     "text": [
      "2023-05-02 11:19:27.713762: I tensorflow/core/grappler/optimizers/custom_graph_optimizer_registry.cc:114] Plugin optimizer for device_type GPU is enabled.\n",
      "2023-05-02 11:19:27.788133: I tensorflow/core/grappler/optimizers/custom_graph_optimizer_registry.cc:114] Plugin optimizer for device_type GPU is enabled.\n"
     ]
    },
    {
     "name": "stdout",
     "output_type": "stream",
     "text": [
      "395/395 [==============================] - 6s 16ms/step - loss: 0.0052\n",
      "Epoch 3/10\n",
      "331/395 [========================>.....] - ETA: 1s - loss: 0.0045    "
     ]
    },
    {
     "name": "stderr",
     "output_type": "stream",
     "text": [
      "2023-05-02 11:19:28.019154: I tensorflow/core/grappler/optimizers/custom_graph_optimizer_registry.cc:114] Plugin optimizer for device_type GPU is enabled.\n"
     ]
    },
    {
     "name": "stdout",
     "output_type": "stream",
     "text": [
      "395/395 [==============================] - 7s 17ms/step - loss: 0.0043\n",
      "Epoch 5/10\n",
      "395/395 [==============================] - 7s 18ms/step - loss: 0.0045\n",
      "Epoch 5/10\n",
      "99/99 [==============================] - 3s 17ms/step - loss: 0.0037\n",
      "395/395 [==============================] - 7s 17ms/step - loss: 0.0047\n",
      "Epoch 3/10\n",
      "395/395 [==============================] - 7s 18ms/step - loss: 0.0043\n",
      "Epoch 4/10\n",
      "395/395 [==============================] - 7s 18ms/step - loss: 0.0047\n",
      "Epoch 6/10\n",
      "395/395 [==============================] - 7s 18ms/step - loss: 0.0045\n",
      " 10/395 [..............................] - ETA: 6s - loss: 0.0043Epoch 4/10\n",
      "395/395 [==============================] - 7s 18ms/step - loss: 0.0043\n",
      "Epoch 6/10\n",
      "395/395 [==============================] - 6s 15ms/step - loss: 0.0042\n",
      "395/395 [==============================] - 21s 21ms/step - loss: 0.0292\n",
      "Epoch 2/20\n",
      "395/395 [==============================] - 7s 18ms/step - loss: 0.0044\n",
      "Epoch 4/10\n",
      "395/395 [==============================] - 8s 20ms/step - loss: 0.0045\n",
      "Epoch 6/10\n",
      "124/395 [========>.....................] - ETA: 5s - loss: 0.0048Epoch 1/20\n",
      "395/395 [==============================] - 7s 18ms/step - loss: 0.0044\n",
      "Epoch 5/10\n",
      "395/395 [==============================] - 7s 17ms/step - loss: 0.0044\n",
      "Epoch 5/10\n",
      "395/395 [==============================] - 7s 18ms/step - loss: 0.0046\n",
      "Epoch 7/10\n",
      "395/395 [==============================] - 7s 18ms/step - loss: 0.0043\n",
      "Epoch 7/10\n",
      "395/395 [==============================] - 7s 19ms/step - loss: 0.0045\n",
      "341/395 [========================>.....] - ETA: 1s - loss: 0.0045Epoch 3/20\n",
      "395/395 [==============================] - 7s 18ms/step - loss: 0.0044\n",
      "Epoch 5/10\n",
      "395/395 [==============================] - 8s 19ms/step - loss: 0.0045\n",
      "Epoch 7/10\n",
      "395/395 [==============================] - 7s 18ms/step - loss: 0.0043\n",
      "Epoch 6/10\n",
      "395/395 [==============================] - 7s 17ms/step - loss: 0.0044\n",
      "Epoch 6/10\n",
      "395/395 [==============================] - 7s 17ms/step - loss: 0.0046\n",
      "Epoch 8/10\n",
      "395/395 [==============================] - 7s 17ms/step - loss: 0.0043\n",
      "182/395 [============>.................] - ETA: 3s - loss: 0.0045Epoch 8/10\n",
      "225/395 [================>.............] - ETA: 2s - loss: 0.0046 "
     ]
    },
    {
     "name": "stderr",
     "output_type": "stream",
     "text": [
      "2023-05-02 11:19:49.926520: I tensorflow/core/grappler/optimizers/custom_graph_optimizer_registry.cc:114] Plugin optimizer for device_type GPU is enabled.\n"
     ]
    },
    {
     "name": "stdout",
     "output_type": "stream",
     "text": [
      "395/395 [==============================] - 7s 17ms/step - loss: 0.0043\n",
      "Epoch 6/10\n",
      "395/395 [==============================] - 7s 18ms/step - loss: 0.0044\n",
      "Epoch 4/20\n",
      "395/395 [==============================] - 7s 18ms/step - loss: 0.0044\n",
      "Epoch 8/10\n",
      "227/395 [================>.............] - ETA: 2s - loss: 0.0044"
     ]
    },
    {
     "name": "stderr",
     "output_type": "stream",
     "text": [
      "2023-05-02 11:19:52.073988: I tensorflow/core/grappler/optimizers/custom_graph_optimizer_registry.cc:114] Plugin optimizer for device_type GPU is enabled.\n"
     ]
    },
    {
     "name": "stdout",
     "output_type": "stream",
     "text": [
      "113/395 [=======>......................] - ETA: 5s - loss: 0.0042"
     ]
    },
    {
     "name": "stderr",
     "output_type": "stream",
     "text": [
      "2023-05-02 11:19:52.728179: I tensorflow/core/grappler/optimizers/custom_graph_optimizer_registry.cc:114] Plugin optimizer for device_type GPU is enabled.\n"
     ]
    },
    {
     "name": "stdout",
     "output_type": "stream",
     "text": [
      "395/395 [==============================] - 7s 18ms/step - loss: 0.0043\n",
      "Epoch 7/10\n",
      "395/395 [==============================] - 7s 18ms/step - loss: 0.0043\n",
      "167/395 [===========>..................] - ETA: 4s - loss: 0.0043Epoch 7/10\n",
      "395/395 [==============================] - 7s 18ms/step - loss: 0.0045\n",
      "144/395 [=========>....................] - ETA: 4s - loss: 0.0043Epoch 9/10\n",
      "395/395 [==============================] - 7s 18ms/step - loss: 0.0043\n",
      "214/395 [===============>..............] - ETA: 3s - loss: 0.0044Epoch 9/10\n",
      "395/395 [==============================] - 7s 19ms/step - loss: 0.0043\n",
      "Epoch 7/10\n",
      "395/395 [==============================] - 8s 20ms/step - loss: 0.0043\n",
      "Epoch 5/20\n",
      "395/395 [==============================] - 8s 21ms/step - loss: 0.0044\n",
      "Epoch 9/10\n",
      "395/395 [==============================] - 8s 20ms/step - loss: 0.0043\n",
      "Epoch 8/10\n",
      "395/395 [==============================] - 23s 21ms/step - loss: 0.0757\n",
      "Epoch 2/20\n",
      "395/395 [==============================] - 7s 18ms/step - loss: 0.0044\n",
      "Epoch 8/10\n",
      "395/395 [==============================] - 8s 20ms/step - loss: 0.0045\n",
      "Epoch 10/10\n",
      "395/395 [==============================] - 8s 19ms/step - loss: 0.0043\n",
      "Epoch 10/10\n",
      "395/395 [==============================] - 8s 20ms/step - loss: 0.0044\n",
      "Epoch 8/10\n",
      "395/395 [==============================] - 8s 21ms/step - loss: 0.0043\n",
      "Epoch 6/20\n",
      "395/395 [==============================] - 8s 21ms/step - loss: 0.0044\n",
      "Epoch 10/10\n",
      "395/395 [==============================] - 8s 20ms/step - loss: 0.0043\n",
      "Epoch 9/10\n",
      "395/395 [==============================] - 8s 21ms/step - loss: 0.0107\n",
      "Epoch 3/20\n",
      "395/395 [==============================] - 7s 19ms/step - loss: 0.0043\n",
      "Epoch 9/10\n",
      "395/395 [==============================] - 8s 19ms/step - loss: 0.0045\n",
      "395/395 [==============================] - 8s 19ms/step - loss: 0.0043\n",
      "150/395 [==========>...................] - ETA: 4s - loss: 0.0056"
     ]
    },
    {
     "name": "stderr",
     "output_type": "stream",
     "text": [
      "2023-05-02 11:20:12.687762: I tensorflow/core/grappler/optimizers/custom_graph_optimizer_registry.cc:114] Plugin optimizer for device_type GPU is enabled.\n",
      "2023-05-02 11:20:12.690318: I tensorflow/core/grappler/optimizers/custom_graph_optimizer_registry.cc:114] Plugin optimizer for device_type GPU is enabled.\n"
     ]
    },
    {
     "name": "stdout",
     "output_type": "stream",
     "text": [
      "246/395 [=================>............] - ETA: 2s - loss: 0.0042"
     ]
    },
    {
     "name": "stderr",
     "output_type": "stream",
     "text": [
      "2023-05-02 11:20:13.034211: I tensorflow/core/grappler/optimizers/custom_graph_optimizer_registry.cc:114] Plugin optimizer for device_type GPU is enabled.\n",
      "2023-05-02 11:20:13.140131: I tensorflow/core/grappler/optimizers/custom_graph_optimizer_registry.cc:114] Plugin optimizer for device_type GPU is enabled.\n"
     ]
    },
    {
     "name": "stdout",
     "output_type": "stream",
     "text": [
      "395/395 [==============================] - 7s 19ms/step - loss: 0.0043\n",
      "251/395 [==================>...........] - ETA: 2s - loss: 0.0042Epoch 9/10\n",
      "395/395 [==============================] - 8s 19ms/step - loss: 0.0042\n",
      "317/395 [=======================>......] - ETA: 1s - loss: 0.0045Epoch 7/20\n",
      "99/99 [==============================] - 3s 15ms/step - loss: 0.0061\n",
      "99/99 [==============================] - 3s 15ms/step - loss: 0.0039\n",
      "395/395 [==============================] - 7s 18ms/step - loss: 0.0043\n",
      " 75/395 [====>.........................] - ETA: 5s - loss: 0.0041Epoch 10/10\n",
      "395/395 [==============================] - 8s 19ms/step - loss: 0.0044\n",
      "395/395 [==============================] - 7s 17ms/step - loss: 0.0044\n",
      "Epoch 10/10\n",
      "395/395 [==============================] - 7s 19ms/step - loss: 0.0047\n",
      "Epoch 4/20\n",
      " 10/395 [..............................] - ETA: 7s - loss: 0.0039"
     ]
    },
    {
     "name": "stderr",
     "output_type": "stream",
     "text": [
      "2023-05-02 11:20:17.425913: I tensorflow/core/grappler/optimizers/custom_graph_optimizer_registry.cc:114] Plugin optimizer for device_type GPU is enabled.\n"
     ]
    },
    {
     "name": "stdout",
     "output_type": "stream",
     "text": [
      " 68/395 [====>.........................] - ETA: 5s - loss: 0.0050"
     ]
    },
    {
     "name": "stderr",
     "output_type": "stream",
     "text": [
      "2023-05-02 11:20:18.001279: I tensorflow/core/grappler/optimizers/custom_graph_optimizer_registry.cc:114] Plugin optimizer for device_type GPU is enabled.\n"
     ]
    },
    {
     "name": "stdout",
     "output_type": "stream",
     "text": [
      "99/99 [==============================] - 3s 13ms/step - loss: 0.0036\n",
      "395/395 [==============================] - 5s 12ms/step - loss: 0.0043\n",
      "395/395 [==============================] - 5s 12ms/step - loss: 0.0041\n",
      "395/395 [==============================] - 7s 18ms/step - loss: 0.0044\n",
      "154/395 [==========>...................] - ETA: 4s - loss: 0.0043Epoch 10/10\n",
      " 64/395 [===>..........................] - ETA: 3s - loss: 0.0054Epoch 1/20\n",
      "324/395 [=======================>......] - ETA: 1s - loss: 0.0042Epoch 1/20\n",
      "395/395 [==============================] - 7s 18ms/step - loss: 0.0042\n",
      "Epoch 8/20\n",
      "395/395 [==============================] - 7s 17ms/step - loss: 0.0043\n",
      "391/395 [============================>.] - ETA: 0s - loss: 0.0044"
     ]
    },
    {
     "name": "stderr",
     "output_type": "stream",
     "text": [
      "2023-05-02 11:20:23.218081: I tensorflow/core/grappler/optimizers/custom_graph_optimizer_registry.cc:114] Plugin optimizer for device_type GPU is enabled.\n"
     ]
    },
    {
     "name": "stdout",
     "output_type": "stream",
     "text": [
      "395/395 [==============================] - 4s 9ms/step - loss: 0.0043\n",
      "395/395 [==============================] - 6s 16ms/step - loss: 0.0043\n",
      "112/395 [=======>......................] - ETA: 4s - loss: 0.0047"
     ]
    },
    {
     "name": "stderr",
     "output_type": "stream",
     "text": [
      "2023-05-02 11:20:23.425197: I tensorflow/core/grappler/optimizers/custom_graph_optimizer_registry.cc:114] Plugin optimizer for device_type GPU is enabled.\n"
     ]
    },
    {
     "name": "stdout",
     "output_type": "stream",
     "text": [
      "375/395 [===========================>..] - ETA: 0s - loss: 0.0044"
     ]
    },
    {
     "name": "stderr",
     "output_type": "stream",
     "text": [
      "2023-05-02 11:20:23.831600: I tensorflow/core/grappler/optimizers/custom_graph_optimizer_registry.cc:114] Plugin optimizer for device_type GPU is enabled.\n",
      "2023-05-02 11:20:24.005459: I tensorflow/core/grappler/optimizers/custom_graph_optimizer_registry.cc:114] Plugin optimizer for device_type GPU is enabled.\n"
     ]
    },
    {
     "name": "stdout",
     "output_type": "stream",
     "text": [
      "93/99 [===========================>..] - ETA: 0s - loss: 0.0043     "
     ]
    },
    {
     "name": "stderr",
     "output_type": "stream",
     "text": [
      "2023-05-02 11:20:24.104567: I tensorflow/core/grappler/optimizers/custom_graph_optimizer_registry.cc:114] Plugin optimizer for device_type GPU is enabled.\n",
      "2023-05-02 11:20:24.141326: I tensorflow/core/grappler/optimizers/custom_graph_optimizer_registry.cc:114] Plugin optimizer for device_type GPU is enabled.\n"
     ]
    },
    {
     "name": "stdout",
     "output_type": "stream",
     "text": [
      "99/99 [==============================] - 2s 7ms/step - loss: 0.0046\n",
      "395/395 [==============================] - 7s 18ms/step - loss: 0.0044\n",
      "27/99 [=======>......................] - ETA: 0s - loss: 0.0029Epoch 5/20\n",
      "99/99 [==============================] - 2s 9ms/step - loss: 0.0036\n",
      " 72/395 [====>.........................] - ETA: 3s - loss: 0.0052"
     ]
    },
    {
     "name": "stderr",
     "output_type": "stream",
     "text": [
      "2023-05-02 11:20:24.824608: I tensorflow/core/grappler/optimizers/custom_graph_optimizer_registry.cc:114] Plugin optimizer for device_type GPU is enabled.\n",
      "2023-05-02 11:20:24.904241: I tensorflow/core/grappler/optimizers/custom_graph_optimizer_registry.cc:114] Plugin optimizer for device_type GPU is enabled.\n"
     ]
    },
    {
     "name": "stdout",
     "output_type": "stream",
     "text": [
      "319/395 [=======================>......] - ETA: 1s - loss: 0.0044"
     ]
    },
    {
     "name": "stderr",
     "output_type": "stream",
     "text": [
      "2023-05-02 11:20:25.078759: I tensorflow/core/grappler/optimizers/custom_graph_optimizer_registry.cc:114] Plugin optimizer for device_type GPU is enabled.\n",
      "2023-05-02 11:20:25.081456: I tensorflow/core/grappler/optimizers/custom_graph_optimizer_registry.cc:114] Plugin optimizer for device_type GPU is enabled.\n"
     ]
    },
    {
     "name": "stdout",
     "output_type": "stream",
     "text": [
      "  4/395 [..............................] - ETA: 7s - loss: 0.0350   Epoch 1/20\n",
      "395/395 [==============================] - 6s 16ms/step - loss: 0.0044\n",
      "219/395 [===============>..............] - ETA: 1s - loss: 0.0042"
     ]
    },
    {
     "name": "stderr",
     "output_type": "stream",
     "text": [
      "2023-05-02 11:20:27.437545: I tensorflow/core/grappler/optimizers/custom_graph_optimizer_registry.cc:114] Plugin optimizer for device_type GPU is enabled.\n"
     ]
    },
    {
     "name": "stdout",
     "output_type": "stream",
     "text": [
      "350/395 [=========================>....] - ETA: 0s - loss: 0.0043"
     ]
    },
    {
     "name": "stderr",
     "output_type": "stream",
     "text": [
      "2023-05-02 11:20:27.824997: I tensorflow/core/grappler/optimizers/custom_graph_optimizer_registry.cc:114] Plugin optimizer for device_type GPU is enabled.\n"
     ]
    },
    {
     "name": "stdout",
     "output_type": "stream",
     "text": [
      "395/395 [==============================] - 4s 10ms/step - loss: 0.0042\n",
      "395/395 [==============================] - 7s 18ms/step - loss: 0.0042\n",
      "Epoch 9/20\n",
      "99/99 [==============================] - 2s 11ms/step - loss: 0.0036\n",
      "395/395 [==============================] - 4s 11ms/step - loss: 0.0041\n",
      "225/395 [================>.............] - ETA: 3s - loss: 0.0087Epoch 1/20\n",
      "259/395 [==================>...........] - ETA: 2s - loss: 0.0081Epoch 1/20\n",
      "181/395 [============>.................] - ETA: 1s - loss: 0.0045"
     ]
    },
    {
     "name": "stderr",
     "output_type": "stream",
     "text": [
      "2023-05-02 11:20:30.484116: I tensorflow/core/grappler/optimizers/custom_graph_optimizer_registry.cc:114] Plugin optimizer for device_type GPU is enabled.\n"
     ]
    },
    {
     "name": "stdout",
     "output_type": "stream",
     "text": [
      "323/395 [=======================>......] - ETA: 1s - loss: 0.0074"
     ]
    },
    {
     "name": "stderr",
     "output_type": "stream",
     "text": [
      "2023-05-02 11:20:30.926908: I tensorflow/core/grappler/optimizers/custom_graph_optimizer_registry.cc:114] Plugin optimizer for device_type GPU is enabled.\n"
     ]
    },
    {
     "name": "stdout",
     "output_type": "stream",
     "text": [
      "249/395 [=================>............] - ETA: 1s - loss: 0.0043"
     ]
    },
    {
     "name": "stderr",
     "output_type": "stream",
     "text": [
      "2023-05-02 11:20:31.201800: I tensorflow/core/grappler/optimizers/custom_graph_optimizer_registry.cc:114] Plugin optimizer for device_type GPU is enabled.\n"
     ]
    },
    {
     "name": "stdout",
     "output_type": "stream",
     "text": [
      "395/395 [==============================] - 7s 18ms/step - loss: 0.0044\n",
      "Epoch 6/20\n",
      "395/395 [==============================] - 12s 18ms/step - loss: 0.0069\n",
      "218/395 [===============>..............] - ETA: 3s - loss: 0.0041Epoch 2/20\n",
      "395/395 [==============================] - 12s 18ms/step - loss: 0.0057\n",
      "374/395 [===========================>..] - ETA: 0s - loss: 0.0041Epoch 2/20\n",
      "395/395 [==============================] - 4s 9ms/step - loss: 0.0042\n",
      " 71/395 [====>.........................] - ETA: 5s - loss: 0.0048"
     ]
    },
    {
     "name": "stderr",
     "output_type": "stream",
     "text": [
      "2023-05-02 11:20:32.811707: I tensorflow/core/grappler/optimizers/custom_graph_optimizer_registry.cc:114] Plugin optimizer for device_type GPU is enabled.\n"
     ]
    },
    {
     "name": "stdout",
     "output_type": "stream",
     "text": [
      " 59/395 [===>..........................] - ETA: 5s - loss: 0.0049"
     ]
    },
    {
     "name": "stderr",
     "output_type": "stream",
     "text": [
      "2023-05-02 11:20:33.399060: I tensorflow/core/grappler/optimizers/custom_graph_optimizer_registry.cc:114] Plugin optimizer for device_type GPU is enabled.\n"
     ]
    },
    {
     "name": "stdout",
     "output_type": "stream",
     "text": [
      " 62/395 [===>..........................] - ETA: 5s - loss: 0.0048Epoch 1/20\n",
      " 71/395 [====>.........................] - ETA: 5s - loss: 0.0047"
     ]
    },
    {
     "name": "stderr",
     "output_type": "stream",
     "text": [
      "2023-05-02 11:20:33.601389: I tensorflow/core/grappler/optimizers/custom_graph_optimizer_registry.cc:114] Plugin optimizer for device_type GPU is enabled.\n"
     ]
    },
    {
     "name": "stdout",
     "output_type": "stream",
     "text": [
      " 86/395 [=====>........................] - ETA: 5s - loss: 0.0039"
     ]
    },
    {
     "name": "stderr",
     "output_type": "stream",
     "text": [
      "2023-05-02 11:20:33.842581: I tensorflow/core/grappler/optimizers/custom_graph_optimizer_registry.cc:114] Plugin optimizer for device_type GPU is enabled.\n"
     ]
    },
    {
     "name": "stdout",
     "output_type": "stream",
     "text": [
      "156/395 [==========>...................] - ETA: 4s - loss: 0.040999"
     ]
    },
    {
     "name": "stderr",
     "output_type": "stream",
     "text": [
      "2023-05-02 11:20:34.091981: I tensorflow/core/grappler/optimizers/custom_graph_optimizer_registry.cc:114] Plugin optimizer for device_type GPU is enabled.\n"
     ]
    },
    {
     "name": "stdout",
     "output_type": "stream",
     "text": [
      "350/395 [=========================>....] - ETA: 0s - loss: 0.0041"
     ]
    },
    {
     "name": "stderr",
     "output_type": "stream",
     "text": [
      "2023-05-02 11:20:34.565761: I tensorflow/core/grappler/optimizers/custom_graph_optimizer_registry.cc:114] Plugin optimizer for device_type GPU is enabled.\n"
     ]
    },
    {
     "name": "stdout",
     "output_type": "stream",
     "text": [
      "395/395 [==============================] - 7s 18ms/step - loss: 0.0042\n",
      "Epoch 10/20\n",
      "395/395 [==============================] - 7s 18ms/step - loss: 0.0044\n",
      "Epoch 7/20\n",
      "395/395 [==============================] - 13s 19ms/step - loss: 0.0268\n",
      "Epoch 2/20\n",
      "395/395 [==============================] - 7s 18ms/step - loss: 0.0044\n",
      " 53/395 [===>..........................] - ETA: 6s - loss: 0.0125Epoch 3/20\n",
      "395/395 [==============================] - 7s 19ms/step - loss: 0.0043\n",
      "Epoch 3/20\n",
      "395/395 [==============================] - 12s 18ms/step - loss: 0.0747\n",
      "Epoch 2/20\n",
      "395/395 [==============================] - 12s 18ms/step - loss: 0.0047\n",
      "107/395 [=======>......................] - ETA: 5s - loss: 0.0042Epoch 2/20\n",
      " 53/395 [===>..........................] - ETA: 5s - loss: 0.0186"
     ]
    },
    {
     "name": "stderr",
     "output_type": "stream",
     "text": [
      "2023-05-02 11:20:41.706059: I tensorflow/core/grappler/optimizers/custom_graph_optimizer_registry.cc:114] Plugin optimizer for device_type GPU is enabled.\n"
     ]
    },
    {
     "name": "stdout",
     "output_type": "stream",
     "text": [
      "395/395 [==============================] - 7s 19ms/step - loss: 0.0041\n",
      "Epoch 11/20\n",
      "265/395 [===================>..........] - ETA: 2s - loss: 0.0043"
     ]
    },
    {
     "name": "stderr",
     "output_type": "stream",
     "text": [
      "2023-05-02 11:20:43.568134: I tensorflow/core/grappler/optimizers/custom_graph_optimizer_registry.cc:114] Plugin optimizer for device_type GPU is enabled.\n"
     ]
    },
    {
     "name": "stdout",
     "output_type": "stream",
     "text": [
      " 83/395 [=====>........................] - ETA: 6s - loss: 0.0036"
     ]
    },
    {
     "name": "stderr",
     "output_type": "stream",
     "text": [
      "2023-05-02 11:20:44.422899: I tensorflow/core/grappler/optimizers/custom_graph_optimizer_registry.cc:114] Plugin optimizer for device_type GPU is enabled.\n"
     ]
    },
    {
     "name": "stdout",
     "output_type": "stream",
     "text": [
      "395/395 [==============================] - 8s 19ms/step - loss: 0.0095\n",
      "Epoch 3/20\n",
      "395/395 [==============================] - 8s 19ms/step - loss: 0.0044\n",
      "253/395 [==================>...........] - ETA: 2s - loss: 0.0041Epoch 8/20\n",
      "395/395 [==============================] - 8s 20ms/step - loss: 0.0044\n",
      "Epoch 4/20\n",
      "395/395 [==============================] - 8s 20ms/step - loss: 0.0042\n",
      "Epoch 4/20\n",
      "395/395 [==============================] - 7s 18ms/step - loss: 0.0176\n",
      "338/395 [========================>.....] - ETA: 1s - loss: 0.0043Epoch 3/20\n",
      "395/395 [==============================] - 7s 19ms/step - loss: 0.0043\n",
      "Epoch 3/20\n",
      "395/395 [==============================] - 8s 20ms/step - loss: 0.0041\n",
      "Epoch 12/20\n",
      "395/395 [==============================] - 19s 20ms/step - loss: 0.0117\n",
      "Epoch 2/20\n",
      "395/395 [==============================] - 8s 21ms/step - loss: 0.0052\n",
      "391/395 [============================>.] - ETA: 0s - loss: 0.0044Epoch 4/20\n",
      "395/395 [==============================] - 8s 21ms/step - loss: 0.0044\n",
      "  6/395 [..............................] - ETA: 9s - loss: 0.0034 Epoch 9/20\n",
      "395/395 [==============================] - 8s 19ms/step - loss: 0.0126\n",
      "Epoch 4/20\n",
      "395/395 [==============================] - 8s 21ms/step - loss: 0.0044\n",
      "166/395 [===========>..................] - ETA: 4s - loss: 0.0051Epoch 5/20\n",
      "395/395 [==============================] - 8s 21ms/step - loss: 0.0042\n",
      "Epoch 5/20\n",
      "395/395 [==============================] - 8s 20ms/step - loss: 0.0043\n",
      "222/395 [===============>..............] - ETA: 3s - loss: 0.0050Epoch 4/20\n",
      "395/395 [==============================] - 8s 21ms/step - loss: 0.0041\n",
      "Epoch 13/20\n",
      "395/395 [==============================] - 8s 19ms/step - loss: 0.0052\n",
      "Epoch 3/20\n",
      "395/395 [==============================] - 8s 21ms/step - loss: 0.0044\n",
      "Epoch 5/20\n",
      "395/395 [==============================] - 8s 21ms/step - loss: 0.0044\n",
      "Epoch 10/20\n",
      "395/395 [==============================] - 7s 19ms/step - loss: 0.0106\n",
      "Epoch 5/20\n",
      "395/395 [==============================] - 8s 21ms/step - loss: 0.0042\n",
      "Epoch 6/20\n",
      "395/395 [==============================] - 8s 21ms/step - loss: 0.0044\n",
      "Epoch 6/20\n",
      "395/395 [==============================] - 8s 19ms/step - loss: 0.0043\n",
      "Epoch 5/20\n",
      "395/395 [==============================] - 8s 20ms/step - loss: 0.0041\n",
      "Epoch 14/20\n",
      "395/395 [==============================] - 8s 20ms/step - loss: 0.0051\n",
      "248/395 [=================>............] - ETA: 3s - loss: 0.0041Epoch 4/20\n",
      "395/395 [==============================] - 7s 19ms/step - loss: 0.0095\n",
      "Epoch 6/20\n",
      "395/395 [==============================] - 8s 20ms/step - loss: 0.0044\n",
      "Epoch 6/20\n",
      "395/395 [==============================] - 8s 21ms/step - loss: 0.0044\n",
      "Epoch 11/20\n",
      "395/395 [==============================] - 8s 21ms/step - loss: 0.0044\n",
      "Epoch 7/20\n",
      "395/395 [==============================] - 8s 20ms/step - loss: 0.0043\n",
      "Epoch 6/20\n",
      "395/395 [==============================] - 8s 21ms/step - loss: 0.0042\n",
      "Epoch 7/20\n",
      "395/395 [==============================] - 8s 20ms/step - loss: 0.0040\n",
      "Epoch 15/20\n",
      "395/395 [==============================] - 8s 20ms/step - loss: 0.0049\n",
      "Epoch 5/20\n",
      "395/395 [==============================] - 7s 19ms/step - loss: 0.0087\n",
      "298/395 [=====================>........] - ETA: 1s - loss: 0.0043Epoch 7/20\n",
      "395/395 [==============================] - 8s 20ms/step - loss: 0.0044\n",
      "315/395 [======================>.......] - ETA: 1s - loss: 0.0041Epoch 7/20\n",
      "395/395 [==============================] - 8s 21ms/step - loss: 0.0044\n",
      "Epoch 12/20\n",
      "395/395 [==============================] - 8s 20ms/step - loss: 0.0043\n",
      "Epoch 7/20\n",
      "395/395 [==============================] - 8s 21ms/step - loss: 0.0043\n",
      "212/395 [===============>..............] - ETA: 3s - loss: 0.0050Epoch 8/20\n",
      "395/395 [==============================] - 8s 21ms/step - loss: 0.0042\n",
      "129/395 [========>.....................] - ETA: 5s - loss: 0.0084Epoch 8/20\n",
      "395/395 [==============================] - 8s 20ms/step - loss: 0.0041\n",
      "160/395 [===========>..................] - ETA: 4s - loss: 0.0042Epoch 16/20\n",
      "395/395 [==============================] - 8s 20ms/step - loss: 0.0049\n",
      "Epoch 6/20\n",
      "395/395 [==============================] - 8s 19ms/step - loss: 0.0080\n",
      "Epoch 8/20\n",
      "395/395 [==============================] - 8s 21ms/step - loss: 0.0044\n",
      "Epoch 8/20\n",
      "395/395 [==============================] - 8s 21ms/step - loss: 0.0044\n",
      "Epoch 13/20\n",
      "395/395 [==============================] - 8s 19ms/step - loss: 0.0043\n",
      "356/395 [==========================>...] - ETA: 0s - loss: 0.0044Epoch 8/20\n",
      "395/395 [==============================] - 8s 21ms/step - loss: 0.0043\n",
      "Epoch 9/20\n",
      "395/395 [==============================] - 8s 21ms/step - loss: 0.0042\n",
      "Epoch 9/20\n",
      "395/395 [==============================] - 8s 20ms/step - loss: 0.0041\n",
      "Epoch 17/20\n",
      "395/395 [==============================] - 8s 20ms/step - loss: 0.0048\n",
      "Epoch 7/20\n",
      "395/395 [==============================] - 8s 19ms/step - loss: 0.0073\n",
      "213/395 [===============>..............] - ETA: 3s - loss: 0.0039Epoch 9/20\n",
      "395/395 [==============================] - 8s 21ms/step - loss: 0.0044\n",
      "387/395 [============================>.] - ETA: 0s - loss: 0.0043Epoch 9/20\n",
      "395/395 [==============================] - 8s 20ms/step - loss: 0.0043\n",
      "Epoch 9/20\n",
      "395/395 [==============================] - 8s 21ms/step - loss: 0.0044\n",
      "Epoch 14/20\n",
      "395/395 [==============================] - 8s 21ms/step - loss: 0.0043\n",
      "Epoch 10/20\n",
      "395/395 [==============================] - 8s 21ms/step - loss: 0.0042\n",
      "Epoch 10/20\n",
      "395/395 [==============================] - 8s 21ms/step - loss: 0.0041\n",
      "183/395 [============>.................] - ETA: 4s - loss: 0.0042Epoch 18/20\n",
      "395/395 [==============================] - 8s 20ms/step - loss: 0.0047\n",
      "Epoch 8/20\n",
      "395/395 [==============================] - 8s 19ms/step - loss: 0.0066\n",
      " 66/395 [====>.........................] - ETA: 6s - loss: 0.0046Epoch 10/20\n",
      "395/395 [==============================] - 8s 19ms/step - loss: 0.0043\n",
      "192/395 [=============>................] - ETA: 4s - loss: 0.0038Epoch 10/20\n",
      "395/395 [==============================] - 8s 21ms/step - loss: 0.0044\n",
      "Epoch 10/20\n",
      "395/395 [==============================] - 8s 21ms/step - loss: 0.0044\n",
      " 51/395 [==>...........................] - ETA: 6s - loss: 0.0045Epoch 15/20\n",
      "395/395 [==============================] - 8s 21ms/step - loss: 0.0044\n",
      "Epoch 11/20\n",
      "395/395 [==============================] - 8s 21ms/step - loss: 0.0042\n",
      "Epoch 11/20\n",
      "395/395 [==============================] - 8s 19ms/step - loss: 0.0046\n",
      "Epoch 9/20\n",
      "395/395 [==============================] - 8s 20ms/step - loss: 0.0040\n",
      "Epoch 19/20\n",
      "395/395 [==============================] - 8s 19ms/step - loss: 0.0060\n",
      "Epoch 11/20\n",
      "395/395 [==============================] - 8s 19ms/step - loss: 0.0043\n",
      "Epoch 11/20\n",
      "395/395 [==============================] - 8s 21ms/step - loss: 0.0044\n",
      "Epoch 11/20\n",
      "395/395 [==============================] - 8s 21ms/step - loss: 0.0044\n",
      "Epoch 16/20\n",
      "395/395 [==============================] - 8s 21ms/step - loss: 0.0044\n",
      "Epoch 12/20\n",
      "395/395 [==============================] - 8s 21ms/step - loss: 0.0041\n",
      "Epoch 12/20\n",
      "395/395 [==============================] - 8s 19ms/step - loss: 0.0046\n",
      "152/395 [==========>...................] - ETA: 5s - loss: 0.0042Epoch 10/20\n",
      "395/395 [==============================] - 8s 21ms/step - loss: 0.0041\n",
      "Epoch 20/20\n",
      "395/395 [==============================] - 8s 19ms/step - loss: 0.0054\n",
      "Epoch 12/20\n",
      "395/395 [==============================] - 8s 20ms/step - loss: 0.0043\n",
      "Epoch 12/20\n",
      "395/395 [==============================] - 8s 21ms/step - loss: 0.0044\n",
      "341/395 [========================>.....] - ETA: 1s - loss: 0.0044Epoch 12/20\n",
      "395/395 [==============================] - 8s 20ms/step - loss: 0.0044\n",
      "Epoch 17/20\n",
      "395/395 [==============================] - 8s 21ms/step - loss: 0.0044\n",
      "Epoch 13/20\n",
      "395/395 [==============================] - 8s 21ms/step - loss: 0.0042\n",
      "Epoch 13/20\n",
      "395/395 [==============================] - 8s 20ms/step - loss: 0.0046\n",
      "Epoch 11/20\n",
      "395/395 [==============================] - 7s 19ms/step - loss: 0.0049\n",
      "Epoch 13/20\n",
      "395/395 [==============================] - 8s 21ms/step - loss: 0.0041\n",
      " 91/395 [=====>........................] - ETA: 5s - loss: 0.0041"
     ]
    },
    {
     "name": "stderr",
     "output_type": "stream",
     "text": [
      "2023-05-02 11:22:04.704713: I tensorflow/core/grappler/optimizers/custom_graph_optimizer_registry.cc:114] Plugin optimizer for device_type GPU is enabled.\n"
     ]
    },
    {
     "name": "stdout",
     "output_type": "stream",
     "text": [
      "204/395 [==============>...............] - ETA: 3s - loss: 0.0043"
     ]
    },
    {
     "name": "stderr",
     "output_type": "stream",
     "text": [
      "2023-05-02 11:22:05.073564: I tensorflow/core/grappler/optimizers/custom_graph_optimizer_registry.cc:114] Plugin optimizer for device_type GPU is enabled.\n"
     ]
    },
    {
     "name": "stdout",
     "output_type": "stream",
     "text": [
      "395/395 [==============================] - 8s 19ms/step - loss: 0.0043\n",
      "Epoch 13/20\n",
      "99/99 [==============================] - 3s 17ms/step - loss: 0.0050\n",
      "395/395 [==============================] - 8s 20ms/step - loss: 0.0044\n",
      "309/395 [======================>.......] - ETA: 1s - loss: 0.0041Epoch 13/20\n",
      "395/395 [==============================] - 8s 21ms/step - loss: 0.0044\n",
      "317/395 [=======================>......] - ETA: 1s - loss: 0.0045Epoch 18/20\n",
      "395/395 [==============================] - 8s 20ms/step - loss: 0.0043\n",
      "375/395 [===========================>..] - ETA: 0s - loss: 0.0041Epoch 14/20\n",
      "395/395 [==============================] - 8s 20ms/step - loss: 0.0042\n",
      "Epoch 14/20\n",
      "395/395 [==============================] - 7s 18ms/step - loss: 0.0045\n",
      "Epoch 12/20\n",
      "395/395 [==============================] - 7s 18ms/step - loss: 0.0045\n",
      " 83/395 [=====>........................] - ETA: 6s - loss: 0.0046Epoch 14/20\n",
      "395/395 [==============================] - 6s 16ms/step - loss: 0.0040\n",
      "395/395 [==============================] - 7s 19ms/step - loss: 0.0043\n",
      "Epoch 14/20\n",
      "395/395 [==============================] - 8s 20ms/step - loss: 0.0044\n",
      "Epoch 14/20\n",
      "309/395 [======================>.......] - ETA: 1s - loss: 0.0041Epoch 1/20\n",
      "395/395 [==============================] - 8s 20ms/step - loss: 0.0043\n",
      "Epoch 19/20\n",
      "395/395 [==============================] - 8s 19ms/step - loss: 0.0044\n",
      "Epoch 15/20\n",
      "395/395 [==============================] - 7s 18ms/step - loss: 0.0045\n",
      "Epoch 13/20\n",
      "395/395 [==============================] - 8s 19ms/step - loss: 0.0041\n",
      "Epoch 15/20\n",
      "395/395 [==============================] - 7s 18ms/step - loss: 0.0043\n",
      "Epoch 15/20\n",
      "395/395 [==============================] - 7s 17ms/step - loss: 0.0043\n",
      "Epoch 15/20\n",
      "395/395 [==============================] - 7s 19ms/step - loss: 0.0044\n",
      "308/395 [======================>.......] - ETA: 1s - loss: 0.0042Epoch 15/20\n",
      "395/395 [==============================] - 7s 17ms/step - loss: 0.0045\n",
      "Epoch 14/20\n",
      "395/395 [==============================] - 7s 19ms/step - loss: 0.0044\n",
      "Epoch 20/20\n",
      "395/395 [==============================] - 7s 17ms/step - loss: 0.0042\n",
      "Epoch 16/20\n",
      "395/395 [==============================] - 7s 19ms/step - loss: 0.0044\n",
      "Epoch 16/20\n",
      "395/395 [==============================] - 7s 19ms/step - loss: 0.0042\n",
      "Epoch 16/20\n",
      " 75/395 [====>.........................] - ETA: 5s - loss: 0.0044 "
     ]
    },
    {
     "name": "stderr",
     "output_type": "stream",
     "text": [
      "2023-05-02 11:22:24.948482: I tensorflow/core/grappler/optimizers/custom_graph_optimizer_registry.cc:114] Plugin optimizer for device_type GPU is enabled.\n"
     ]
    },
    {
     "name": "stdout",
     "output_type": "stream",
     "text": [
      "123/395 [========>.....................] - ETA: 4s - loss: 0.0040"
     ]
    },
    {
     "name": "stderr",
     "output_type": "stream",
     "text": [
      "2023-05-02 11:22:26.554021: I tensorflow/core/grappler/optimizers/custom_graph_optimizer_registry.cc:114] Plugin optimizer for device_type GPU is enabled.\n"
     ]
    },
    {
     "name": "stdout",
     "output_type": "stream",
     "text": [
      "143/395 [=========>....................] - ETA: 4s - loss: 0.0042"
     ]
    },
    {
     "name": "stderr",
     "output_type": "stream",
     "text": [
      "2023-05-02 11:22:26.956218: I tensorflow/core/grappler/optimizers/custom_graph_optimizer_registry.cc:114] Plugin optimizer for device_type GPU is enabled.\n"
     ]
    },
    {
     "name": "stdout",
     "output_type": "stream",
     "text": [
      "395/395 [==============================] - 7s 17ms/step - loss: 0.0043\n",
      "Epoch 16/20\n",
      "395/395 [==============================] - 8s 20ms/step - loss: 0.0044\n",
      "Epoch 16/20\n",
      "395/395 [==============================] - 7s 18ms/step - loss: 0.0044\n",
      "Epoch 15/20\n",
      "395/395 [==============================] - 7s 18ms/step - loss: 0.0041\n",
      "350/395 [=========================>....] - ETA: 0s - loss: 0.0043Epoch 17/20\n",
      "395/395 [==============================] - 8s 20ms/step - loss: 0.0043\n",
      "395/395 [==============================] - 8s 20ms/step - loss: 0.0044\n",
      "Epoch 17/20\n",
      "395/395 [==============================] - 8s 20ms/step - loss: 0.0041\n",
      "Epoch 17/20\n",
      "281/395 [====================>.........] - ETA: 2s - loss: 0.0045"
     ]
    },
    {
     "name": "stderr",
     "output_type": "stream",
     "text": [
      "2023-05-02 11:22:32.459041: I tensorflow/core/grappler/optimizers/custom_graph_optimizer_registry.cc:114] Plugin optimizer for device_type GPU is enabled.\n"
     ]
    },
    {
     "name": "stdout",
     "output_type": "stream",
     "text": [
      "312/395 [======================>.......] - ETA: 1s - loss: 0.0262"
     ]
    },
    {
     "name": "stderr",
     "output_type": "stream",
     "text": [
      "2023-05-02 11:22:32.963362: I tensorflow/core/grappler/optimizers/custom_graph_optimizer_registry.cc:114] Plugin optimizer for device_type GPU is enabled.\n"
     ]
    },
    {
     "name": "stdout",
     "output_type": "stream",
     "text": [
      "99/99 [==============================] - 3s 14ms/step - loss: 0.0042\n",
      "395/395 [==============================] - 8s 19ms/step - loss: 0.0043\n",
      "389/395 [============================>.] - ETA: 0s - loss: 0.0220Epoch 17/20\n",
      "395/395 [==============================] - 19s 19ms/step - loss: 0.0218\n",
      "Epoch 2/20\n",
      "395/395 [==============================] - 8s 20ms/step - loss: 0.0041\n",
      "390/395 [============================>.] - ETA: 0s - loss: 0.0044Epoch 18/20\n",
      "395/395 [==============================] - 8s 20ms/step - loss: 0.0045\n",
      "Epoch 16/20\n",
      "395/395 [==============================] - 9s 22ms/step - loss: 0.0044\n",
      "Epoch 17/20\n",
      "395/395 [==============================] - 8s 21ms/step - loss: 0.0044\n",
      "Epoch 18/20\n",
      "395/395 [==============================] - 9s 22ms/step - loss: 0.0042\n",
      "Epoch 18/20\n",
      "395/395 [==============================] - 7s 17ms/step - loss: 0.0044\n",
      "395/395 [==============================] - 8s 20ms/step - loss: 0.0043\n",
      "Epoch 18/20\n",
      "395/395 [==============================] - 8s 21ms/step - loss: 0.0050\n",
      "Epoch 3/20\n",
      "  1/395 [..............................] - ETA: 5s - loss: 0.0083Epoch 1/20\n",
      "395/395 [==============================] - 7s 18ms/step - loss: 0.0041\n",
      "Epoch 19/20\n",
      "395/395 [==============================] - 7s 19ms/step - loss: 0.0044\n",
      "273/395 [===================>..........] - ETA: 2s - loss: 0.0041Epoch 17/20\n",
      "395/395 [==============================] - 8s 20ms/step - loss: 0.0044\n",
      "Epoch 18/20\n",
      "395/395 [==============================] - 8s 20ms/step - loss: 0.0044\n",
      "Epoch 19/20\n",
      "395/395 [==============================] - 8s 20ms/step - loss: 0.0042\n",
      "Epoch 19/20\n",
      "395/395 [==============================] - 7s 18ms/step - loss: 0.0043\n",
      "Epoch 19/20\n",
      "395/395 [==============================] - 7s 18ms/step - loss: 0.0050\n",
      "Epoch 4/20\n",
      "184/395 [============>.................] - ETA: 4s - loss: 0.0043"
     ]
    },
    {
     "name": "stderr",
     "output_type": "stream",
     "text": [
      "2023-05-02 11:22:52.076266: I tensorflow/core/grappler/optimizers/custom_graph_optimizer_registry.cc:114] Plugin optimizer for device_type GPU is enabled.\n"
     ]
    },
    {
     "name": "stdout",
     "output_type": "stream",
     "text": [
      "395/395 [==============================] - 7s 17ms/step - loss: 0.0040\n",
      "192/395 [=============>................] - ETA: 3s - loss: 0.0045Epoch 20/20\n",
      "395/395 [==============================] - 7s 18ms/step - loss: 0.0044\n",
      "Epoch 18/20\n",
      "287/395 [====================>.........] - ETA: 2s - loss: 0.0046"
     ]
    },
    {
     "name": "stderr",
     "output_type": "stream",
     "text": [
      "2023-05-02 11:22:53.656293: I tensorflow/core/grappler/optimizers/custom_graph_optimizer_registry.cc:114] Plugin optimizer for device_type GPU is enabled.\n",
      "2023-05-02 11:22:53.849525: I tensorflow/core/grappler/optimizers/custom_graph_optimizer_registry.cc:114] Plugin optimizer for device_type GPU is enabled.\n"
     ]
    },
    {
     "name": "stdout",
     "output_type": "stream",
     "text": [
      "395/395 [==============================] - 8s 19ms/step - loss: 0.0044\n",
      "328/395 [=======================>......] - ETA: 1s - loss: 0.0045Epoch 19/20\n",
      "395/395 [==============================] - 8s 20ms/step - loss: 0.0044\n",
      "Epoch 20/20\n",
      "395/395 [==============================] - 8s 20ms/step - loss: 0.0042\n",
      "Epoch 20/20\n",
      "395/395 [==============================] - 7s 19ms/step - loss: 0.0043\n",
      "Epoch 20/20\n",
      "395/395 [==============================] - 8s 19ms/step - loss: 0.0050\n",
      "249/395 [=================>............] - ETA: 2s - loss: 0.0041Epoch 5/20\n",
      "395/395 [==============================] - 8s 20ms/step - loss: 0.0040\n",
      "395/395 [==============================] - 8s 20ms/step - loss: 0.0044\n",
      "Epoch 19/20\n",
      "395/395 [==============================] - 19s 20ms/step - loss: 0.0184\n",
      "285/395 [====================>.........] - ETA: 2s - loss: 0.0045Epoch 2/20\n",
      "385/395 [============================>.] - ETA: 0s - loss: 0.0044"
     ]
    },
    {
     "name": "stderr",
     "output_type": "stream",
     "text": [
      "2023-05-02 11:23:02.335073: I tensorflow/core/grappler/optimizers/custom_graph_optimizer_registry.cc:114] Plugin optimizer for device_type GPU is enabled.\n"
     ]
    },
    {
     "name": "stdout",
     "output_type": "stream",
     "text": [
      "395/395 [==============================] - 8s 21ms/step - loss: 0.0044\n",
      "Epoch 20/20\n",
      "287/395 [====================>.........] - ETA: 2s - loss: 0.0050"
     ]
    },
    {
     "name": "stderr",
     "output_type": "stream",
     "text": [
      "2023-05-02 11:23:03.156047: I tensorflow/core/grappler/optimizers/custom_graph_optimizer_registry.cc:114] Plugin optimizer for device_type GPU is enabled.\n"
     ]
    },
    {
     "name": "stdout",
     "output_type": "stream",
     "text": [
      "395/395 [==============================] - 8s 21ms/step - loss: 0.0044\n",
      "395/395 [==============================] - 7s 19ms/step - loss: 0.0043\n",
      "99/99 [==============================] - 4s 12ms/step - loss: 0.0048\n",
      "395/395 [==============================] - 8s 20ms/step - loss: 0.0041\n",
      "391/395 [============================>.] - ETA: 0s - loss: 0.0049"
     ]
    },
    {
     "name": "stderr",
     "output_type": "stream",
     "text": [
      "2023-05-02 11:23:05.005059: I tensorflow/core/grappler/optimizers/custom_graph_optimizer_registry.cc:114] Plugin optimizer for device_type GPU is enabled.\n",
      "2023-05-02 11:23:05.135797: I tensorflow/core/grappler/optimizers/custom_graph_optimizer_registry.cc:114] Plugin optimizer for device_type GPU is enabled.\n"
     ]
    },
    {
     "name": "stdout",
     "output_type": "stream",
     "text": [
      "395/395 [==============================] - 7s 18ms/step - loss: 0.0049\n",
      "Epoch 6/20\n",
      "130/395 [========>.....................] - ETA: 5s - loss: 0.0050"
     ]
    },
    {
     "name": "stderr",
     "output_type": "stream",
     "text": [
      "2023-05-02 11:23:05.214691: I tensorflow/core/grappler/optimizers/custom_graph_optimizer_registry.cc:114] Plugin optimizer for device_type GPU is enabled.\n",
      "2023-05-02 11:23:05.257022: I tensorflow/core/grappler/optimizers/custom_graph_optimizer_registry.cc:114] Plugin optimizer for device_type GPU is enabled.\n"
     ]
    },
    {
     "name": "stdout",
     "output_type": "stream",
     "text": [
      "99/99 [==============================] - 2s 10ms/step - loss: 0.0044\n",
      "99/99 [==============================] - 2s 12ms/step - loss: 0.0040\n",
      "395/395 [==============================] - 7s 17ms/step - loss: 0.0044\n",
      "Epoch 20/20\n",
      "395/395 [==============================] - 4s 10ms/step - loss: 0.0039\n",
      "395/395 [==============================] - 7s 17ms/step - loss: 0.0045\n",
      "335/395 [========================>.....] - ETA: 1s - loss: 0.0045Epoch 3/20\n",
      "273/395 [===================>..........] - ETA: 1s - loss: 0.0042Epoch 1/20\n",
      "395/395 [==============================] - 7s 18ms/step - loss: 0.0044\n",
      "395/395 [==============================] - 4s 10ms/step - loss: 0.0040\n",
      "395/395 [==============================] - 4s 10ms/step - loss: 0.0041\n",
      "335/395 [========================>.....] - ETA: 0s - loss: 0.0047"
     ]
    },
    {
     "name": "stderr",
     "output_type": "stream",
     "text": [
      "2023-05-02 11:23:10.445602: I tensorflow/core/grappler/optimizers/custom_graph_optimizer_registry.cc:114] Plugin optimizer for device_type GPU is enabled.\n",
      "2023-05-02 11:23:10.607976: I tensorflow/core/grappler/optimizers/custom_graph_optimizer_registry.cc:114] Plugin optimizer for device_type GPU is enabled.\n"
     ]
    },
    {
     "name": "stdout",
     "output_type": "stream",
     "text": [
      "Epoch 1/20\n",
      "342/395 [========================>.....] - ETA: 0s - loss: 0.0048Epoch 1/20\n",
      "81/99 [=======================>......] - ETA: 0s - loss: 0.00394"
     ]
    },
    {
     "name": "stderr",
     "output_type": "stream",
     "text": [
      "2023-05-02 11:23:11.363385: I tensorflow/core/grappler/optimizers/custom_graph_optimizer_registry.cc:114] Plugin optimizer for device_type GPU is enabled.\n"
     ]
    },
    {
     "name": "stdout",
     "output_type": "stream",
     "text": [
      "395/395 [==============================] - 6s 16ms/step - loss: 0.0048\n",
      "95/99 [===========================>..] - ETA: 0s - loss: 0.0038Epoch 7/20\n",
      "99/99 [==============================] - 2s 10ms/step - loss: 0.0037\n",
      " 13/395 [..............................] - ETA: 7s - loss: 0.0048"
     ]
    },
    {
     "name": "stderr",
     "output_type": "stream",
     "text": [
      "2023-05-02 11:23:11.652339: I tensorflow/core/grappler/optimizers/custom_graph_optimizer_registry.cc:114] Plugin optimizer for device_type GPU is enabled.\n",
      "2023-05-02 11:23:11.836426: I tensorflow/core/grappler/optimizers/custom_graph_optimizer_registry.cc:114] Plugin optimizer for device_type GPU is enabled.\n"
     ]
    },
    {
     "name": "stdout",
     "output_type": "stream",
     "text": [
      "218/395 [===============>..............] - ETA: 3s - loss: 0.0044"
     ]
    },
    {
     "name": "stderr",
     "output_type": "stream",
     "text": [
      "2023-05-02 11:23:12.495540: I tensorflow/core/grappler/optimizers/custom_graph_optimizer_registry.cc:114] Plugin optimizer for device_type GPU is enabled.\n",
      "2023-05-02 11:23:12.599667: I tensorflow/core/grappler/optimizers/custom_graph_optimizer_registry.cc:114] Plugin optimizer for device_type GPU is enabled.\n"
     ]
    },
    {
     "name": "stdout",
     "output_type": "stream",
     "text": [
      "299/395 [=====================>........] - ETA: 1s - loss: 0.0045"
     ]
    },
    {
     "name": "stderr",
     "output_type": "stream",
     "text": [
      "2023-05-02 11:23:12.800858: I tensorflow/core/grappler/optimizers/custom_graph_optimizer_registry.cc:114] Plugin optimizer for device_type GPU is enabled.\n"
     ]
    },
    {
     "name": "stdout",
     "output_type": "stream",
     "text": [
      " 93/395 [======>.......................] - ETA: 5s - loss: 0.0047"
     ]
    },
    {
     "name": "stderr",
     "output_type": "stream",
     "text": [
      "2023-05-02 11:23:13.143656: I tensorflow/core/grappler/optimizers/custom_graph_optimizer_registry.cc:114] Plugin optimizer for device_type GPU is enabled.\n",
      "2023-05-02 11:23:13.227026: I tensorflow/core/grappler/optimizers/custom_graph_optimizer_registry.cc:114] Plugin optimizer for device_type GPU is enabled.\n"
     ]
    },
    {
     "name": "stdout",
     "output_type": "stream",
     "text": [
      " 75/395 [====>.........................] - ETA: 6s - loss: 0.4004  "
     ]
    },
    {
     "name": "stderr",
     "output_type": "stream",
     "text": [
      "2023-05-02 11:23:13.432825: I tensorflow/core/grappler/optimizers/custom_graph_optimizer_registry.cc:114] Plugin optimizer for device_type GPU is enabled.\n"
     ]
    },
    {
     "name": "stdout",
     "output_type": "stream",
     "text": [
      "395/395 [==============================] - 7s 17ms/step - loss: 0.0043\n",
      "395/395 [==============================] - 7s 18ms/step - loss: 0.0045\n",
      "Epoch 4/20\n",
      "395/395 [==============================] - 4s 11ms/step - loss: 0.0043\n",
      " 45/395 [==>...........................] - ETA: 5s - loss: 0.0042Epoch 1/20\n",
      "395/395 [==============================] - 7s 17ms/step - loss: 0.0048\n",
      "Epoch 8/20\n",
      "395/395 [==============================] - 10s 18ms/step - loss: 0.1821\n",
      "Epoch 2/20\n",
      " 18/395 [>.............................] - ETA: 5s - loss: 0.0435"
     ]
    },
    {
     "name": "stderr",
     "output_type": "stream",
     "text": [
      "2023-05-02 11:23:19.314057: I tensorflow/core/grappler/optimizers/custom_graph_optimizer_registry.cc:114] Plugin optimizer for device_type GPU is enabled.\n"
     ]
    },
    {
     "name": "stdout",
     "output_type": "stream",
     "text": [
      "355/395 [=========================>....] - ETA: 0s - loss: 0.1663"
     ]
    },
    {
     "name": "stderr",
     "output_type": "stream",
     "text": [
      "2023-05-02 11:23:19.699655: I tensorflow/core/grappler/optimizers/custom_graph_optimizer_registry.cc:114] Plugin optimizer for device_type GPU is enabled.\n"
     ]
    },
    {
     "name": "stdout",
     "output_type": "stream",
     "text": [
      "124/395 [========>.....................] - ETA: 4s - loss: 0.0045"
     ]
    },
    {
     "name": "stderr",
     "output_type": "stream",
     "text": [
      "2023-05-02 11:23:19.939244: I tensorflow/core/grappler/optimizers/custom_graph_optimizer_registry.cc:114] Plugin optimizer for device_type GPU is enabled.\n"
     ]
    },
    {
     "name": "stdout",
     "output_type": "stream",
     "text": [
      "395/395 [==============================] - 10s 18ms/step - loss: 0.0054\n",
      "Epoch 2/20\n",
      "395/395 [==============================] - 10s 18ms/step - loss: 0.1542\n",
      "Epoch 2/20\n",
      "395/395 [==============================] - 6s 15ms/step - loss: 0.0045\n",
      "Epoch 5/20\n",
      "395/395 [==============================] - 6s 16ms/step - loss: 0.0048\n",
      "Epoch 9/20\n",
      "395/395 [==============================] - 7s 17ms/step - loss: 0.0219\n",
      "Epoch 3/20\n",
      "395/395 [==============================] - 7s 17ms/step - loss: 0.0043\n",
      "395/395 [==============================] - 11s 18ms/step - loss: 0.0118\n",
      "Epoch 3/20\n",
      "Epoch 2/20\n",
      "395/395 [==============================] - 7s 17ms/step - loss: 0.0183\n",
      "Epoch 3/20\n",
      "395/395 [==============================] - 6s 16ms/step - loss: 0.0045\n",
      "233/395 [================>.............] - ETA: 2s - loss: 0.0049Epoch 6/20\n",
      "395/395 [==============================] - 6s 16ms/step - loss: 0.0048\n",
      "284/395 [====================>.........] - ETA: 1s - loss: 0.0066Epoch 10/20\n",
      "395/395 [==============================] - 7s 17ms/step - loss: 0.0060\n",
      "Epoch 4/20\n",
      "395/395 [==============================] - 7s 17ms/step - loss: 0.0043\n",
      "Epoch 4/20\n",
      "395/395 [==============================] - 7s 18ms/step - loss: 0.0048\n",
      "Epoch 3/20\n",
      "395/395 [==============================] - 6s 16ms/step - loss: 0.0044\n",
      "Epoch 7/20\n",
      "395/395 [==============================] - 7s 18ms/step - loss: 0.0057\n",
      "Epoch 4/20\n",
      "395/395 [==============================] - 6s 16ms/step - loss: 0.0047\n",
      "Epoch 11/20\n",
      "395/395 [==============================] - 7s 17ms/step - loss: 0.0042\n",
      "Epoch 5/20\n",
      "395/395 [==============================] - 6s 16ms/step - loss: 0.0045\n",
      "Epoch 8/20\n",
      "395/395 [==============================] - 7s 18ms/step - loss: 0.0043\n",
      "Epoch 5/20\n",
      "395/395 [==============================] - 7s 17ms/step - loss: 0.0044\n",
      "Epoch 4/20\n",
      "395/395 [==============================] - 7s 17ms/step - loss: 0.0043\n",
      "Epoch 5/20\n",
      "395/395 [==============================] - 6s 16ms/step - loss: 0.0048\n",
      "Epoch 12/20\n",
      "395/395 [==============================] - 7s 17ms/step - loss: 0.0041\n",
      "Epoch 6/20\n",
      "322/395 [=======================>......] - ETA: 1s - loss: 0.0042"
     ]
    },
    {
     "name": "stderr",
     "output_type": "stream",
     "text": [
      "2023-05-02 11:23:47.153343: I tensorflow/core/grappler/optimizers/custom_graph_optimizer_registry.cc:114] Plugin optimizer for device_type GPU is enabled.\n"
     ]
    },
    {
     "name": "stdout",
     "output_type": "stream",
     "text": [
      "395/395 [==============================] - 6s 16ms/step - loss: 0.0044\n",
      "350/395 [=========================>....] - ETA: 0s - loss: 0.0045Epoch 9/20\n",
      "364/395 [==========================>...] - ETA: 0s - loss: 0.0042e-0"
     ]
    },
    {
     "name": "stderr",
     "output_type": "stream",
     "text": [
      "2023-05-02 11:23:47.488463: I tensorflow/core/grappler/optimizers/custom_graph_optimizer_registry.cc:114] Plugin optimizer for device_type GPU is enabled.\n"
     ]
    },
    {
     "name": "stdout",
     "output_type": "stream",
     "text": [
      "395/395 [==============================] - 7s 18ms/step - loss: 0.0044\n",
      "Epoch 5/20\n",
      "395/395 [==============================] - 7s 18ms/step - loss: 0.0043\n",
      "38/99 [==========>...................] - ETA: 1s - loss: 0.0039Epoch 6/20\n",
      "395/395 [==============================] - 7s 18ms/step - loss: 0.0042\n",
      "Epoch 6/20\n",
      "99/99 [==============================] - 2s 17ms/step - loss: 0.0037\n",
      "395/395 [==============================] - 7s 17ms/step - loss: 0.0047\n",
      "Epoch 13/20\n",
      "395/395 [==============================] - 8s 20ms/step - loss: 0.0041\n",
      "302/395 [=====================>........] - ETA: 1s - loss: 0.0044Epoch 7/20\n",
      "395/395 [==============================] - 5s 13ms/step - loss: 0.0043\n",
      "395/395 [==============================] - 7s 18ms/step - loss: 0.0044\n",
      "Epoch 10/20\n",
      "338/395 [========================>.....] - ETA: 1s - loss: 0.0043Epoch 1/20\n",
      "395/395 [==============================] - 8s 20ms/step - loss: 0.0044\n",
      "Epoch 6/20\n",
      "395/395 [==============================] - 8s 20ms/step - loss: 0.0043\n",
      "Epoch 7/20\n",
      "395/395 [==============================] - 8s 20ms/step - loss: 0.0042\n",
      "Epoch 7/20\n",
      "395/395 [==============================] - 7s 18ms/step - loss: 0.0047\n",
      "Epoch 14/20\n",
      "294/395 [=====================>........] - ETA: 1s - loss: 0.0044"
     ]
    },
    {
     "name": "stderr",
     "output_type": "stream",
     "text": [
      "2023-05-02 11:23:59.296236: I tensorflow/core/grappler/optimizers/custom_graph_optimizer_registry.cc:114] Plugin optimizer for device_type GPU is enabled.\n"
     ]
    },
    {
     "name": "stdout",
     "output_type": "stream",
     "text": [
      "229/395 [================>.............] - ETA: 3s - loss: 0.0042"
     ]
    },
    {
     "name": "stderr",
     "output_type": "stream",
     "text": [
      "2023-05-02 11:24:00.005717: I tensorflow/core/grappler/optimizers/custom_graph_optimizer_registry.cc:114] Plugin optimizer for device_type GPU is enabled.\n"
     ]
    },
    {
     "name": "stdout",
     "output_type": "stream",
     "text": [
      "201/395 [==============>...............] - ETA: 3s - loss: 0.0041"
     ]
    },
    {
     "name": "stderr",
     "output_type": "stream",
     "text": [
      "2023-05-02 11:24:00.226176: I tensorflow/core/grappler/optimizers/custom_graph_optimizer_registry.cc:114] Plugin optimizer for device_type GPU is enabled.\n"
     ]
    },
    {
     "name": "stdout",
     "output_type": "stream",
     "text": [
      "395/395 [==============================] - 7s 17ms/step - loss: 0.0044\n",
      "Epoch 11/20\n",
      "395/395 [==============================] - 7s 19ms/step - loss: 0.0040\n",
      "Epoch 8/20\n",
      "395/395 [==============================] - 7s 19ms/step - loss: 0.0044\n",
      "Epoch 7/20\n",
      "395/395 [==============================] - 8s 19ms/step - loss: 0.0043\n",
      "Epoch 8/20\n",
      "395/395 [==============================] - 8s 19ms/step - loss: 0.0041\n",
      "188/395 [=============>................] - ETA: 3s - loss: 0.0068Epoch 8/20\n",
      "395/395 [==============================] - 7s 18ms/step - loss: 0.0047\n",
      "Epoch 15/20\n",
      "256/395 [==================>...........] - ETA: 2s - loss: 0.0041"
     ]
    },
    {
     "name": "stderr",
     "output_type": "stream",
     "text": [
      "2023-05-02 11:24:06.266717: I tensorflow/core/grappler/optimizers/custom_graph_optimizer_registry.cc:114] Plugin optimizer for device_type GPU is enabled.\n"
     ]
    },
    {
     "name": "stdout",
     "output_type": "stream",
     "text": [
      "160/395 [===========>..................] - ETA: 4s - loss: 0.0042"
     ]
    },
    {
     "name": "stderr",
     "output_type": "stream",
     "text": [
      "2023-05-02 11:24:07.014984: I tensorflow/core/grappler/optimizers/custom_graph_optimizer_registry.cc:114] Plugin optimizer for device_type GPU is enabled.\n"
     ]
    },
    {
     "name": "stdout",
     "output_type": "stream",
     "text": [
      "395/395 [==============================] - 7s 18ms/step - loss: 0.0044\n",
      "Epoch 12/20\n",
      "395/395 [==============================] - 13s 20ms/step - loss: 0.0055\n",
      "Epoch 2/20\n",
      "99/99 [==============================] - 3s 15ms/step - loss: 0.0047\n",
      "395/395 [==============================] - 8s 20ms/step - loss: 0.0040\n",
      "Epoch 9/20\n",
      "395/395 [==============================] - 8s 20ms/step - loss: 0.0044\n",
      "379/395 [===========================>..] - ETA: 0s - loss: 0.0046Epoch 8/20\n",
      "395/395 [==============================] - 8s 20ms/step - loss: 0.0043\n",
      "Epoch 9/20\n",
      "395/395 [==============================] - 7s 19ms/step - loss: 0.0046\n",
      "Epoch 16/20\n",
      "395/395 [==============================] - 8s 20ms/step - loss: 0.0041\n",
      " 23/395 [>.............................] - ETA: 6s - loss: 0.0052Epoch 9/20\n",
      "395/395 [==============================] - 6s 16ms/step - loss: 0.0043\n",
      "395/395 [==============================] - 7s 19ms/step - loss: 0.0045\n",
      "Epoch 13/20\n",
      "395/395 [==============================] - 8s 21ms/step - loss: 0.0044\n",
      "Epoch 3/20\n",
      "395/395 [==============================] - 8s 20ms/step - loss: 0.0040\n",
      "Epoch 10/20\n",
      "308/395 [======================>.......] - ETA: 1s - loss: 0.0045Epoch 1/20\n",
      "395/395 [==============================] - 7s 18ms/step - loss: 0.0046\n",
      " 93/395 [======>.......................] - ETA: 5s - loss: 0.0039Epoch 17/20\n",
      "395/395 [==============================] - 8s 20ms/step - loss: 0.0043\n",
      "Epoch 9/20\n",
      "395/395 [==============================] - 8s 20ms/step - loss: 0.0043\n",
      "Epoch 10/20\n",
      "395/395 [==============================] - 8s 20ms/step - loss: 0.0041\n",
      "Epoch 10/20\n",
      "395/395 [==============================] - 7s 17ms/step - loss: 0.0044\n",
      "Epoch 14/20\n",
      "395/395 [==============================] - 8s 19ms/step - loss: 0.0044\n",
      " 90/395 [=====>........................] - ETA: 5s - loss: 0.0040Epoch 4/20\n",
      "395/395 [==============================] - 8s 19ms/step - loss: 0.0040\n",
      "Epoch 11/20\n",
      " 32/395 [=>............................] - ETA: 6s - loss: 0.0033"
     ]
    },
    {
     "name": "stderr",
     "output_type": "stream",
     "text": [
      "2023-05-02 11:24:25.110902: I tensorflow/core/grappler/optimizers/custom_graph_optimizer_registry.cc:114] Plugin optimizer for device_type GPU is enabled.\n"
     ]
    },
    {
     "name": "stdout",
     "output_type": "stream",
     "text": [
      "395/395 [==============================] - 7s 18ms/step - loss: 0.0046\n",
      "353/395 [=========================>....] - ETA: 0s - loss: 0.0044Epoch 18/20\n",
      "111/395 [=======>......................] - ETA: 5s - loss: 0.0041"
     ]
    },
    {
     "name": "stderr",
     "output_type": "stream",
     "text": [
      "2023-05-02 11:24:26.218085: I tensorflow/core/grappler/optimizers/custom_graph_optimizer_registry.cc:114] Plugin optimizer for device_type GPU is enabled.\n"
     ]
    },
    {
     "name": "stdout",
     "output_type": "stream",
     "text": [
      "395/395 [==============================] - 8s 19ms/step - loss: 0.0044\n",
      "Epoch 10/20\n",
      "106/395 [=======>......................] - ETA: 5s - loss: 0.0038"
     ]
    },
    {
     "name": "stderr",
     "output_type": "stream",
     "text": [
      "2023-05-02 11:24:26.598389: I tensorflow/core/grappler/optimizers/custom_graph_optimizer_registry.cc:114] Plugin optimizer for device_type GPU is enabled.\n"
     ]
    },
    {
     "name": "stdout",
     "output_type": "stream",
     "text": [
      "395/395 [==============================] - 8s 19ms/step - loss: 0.0043\n",
      "Epoch 11/20\n",
      "395/395 [==============================] - 8s 19ms/step - loss: 0.0042\n",
      "Epoch 11/20\n",
      "395/395 [==============================] - 7s 18ms/step - loss: 0.0044\n",
      "Epoch 15/20\n",
      "395/395 [==============================] - 8s 21ms/step - loss: 0.0044\n",
      "Epoch 5/20\n",
      "395/395 [==============================] - 8s 20ms/step - loss: 0.0040\n",
      "146/395 [==========>...................] - ETA: 4s - loss: 0.0047Epoch 12/20\n",
      "395/395 [==============================] - 8s 19ms/step - loss: 0.0046\n",
      "Epoch 19/20\n",
      "395/395 [==============================] - 17s 19ms/step - loss: 0.0068\n",
      "Epoch 2/20\n",
      "395/395 [==============================] - 8s 21ms/step - loss: 0.0044\n",
      "Epoch 11/20\n",
      "395/395 [==============================] - 8s 21ms/step - loss: 0.0043\n",
      " 92/395 [=====>........................] - ETA: 5s - loss: 0.0041Epoch 12/20\n",
      "395/395 [==============================] - 8s 21ms/step - loss: 0.0042\n",
      "Epoch 12/20\n",
      "395/395 [==============================] - 8s 20ms/step - loss: 0.0045\n",
      "Epoch 16/20\n",
      "395/395 [==============================] - 8s 21ms/step - loss: 0.0044\n",
      "Epoch 6/20\n",
      "395/395 [==============================] - 8s 21ms/step - loss: 0.0040\n",
      "Epoch 13/20\n",
      "395/395 [==============================] - 8s 20ms/step - loss: 0.0046\n",
      "Epoch 20/20\n",
      "395/395 [==============================] - 8s 20ms/step - loss: 0.0041\n",
      "251/395 [==================>...........] - ETA: 2s - loss: 0.0044Epoch 3/20\n",
      "395/395 [==============================] - 9s 22ms/step - loss: 0.0044\n",
      "Epoch 12/20\n",
      "395/395 [==============================] - 9s 22ms/step - loss: 0.0043\n",
      "137/395 [=========>....................] - ETA: 5s - loss: 0.0047Epoch 13/20\n",
      "395/395 [==============================] - 8s 22ms/step - loss: 0.0041\n",
      "Epoch 13/20\n",
      "395/395 [==============================] - 8s 20ms/step - loss: 0.0044\n",
      "Epoch 17/20\n",
      "395/395 [==============================] - 8s 20ms/step - loss: 0.0046\n",
      "395/395 [==============================] - 8s 21ms/step - loss: 0.0044\n",
      "Epoch 7/20\n",
      "395/395 [==============================] - 8s 21ms/step - loss: 0.0040\n",
      "Epoch 14/20\n",
      "257/395 [==================>...........] - ETA: 2s - loss: 0.0046"
     ]
    },
    {
     "name": "stderr",
     "output_type": "stream",
     "text": [
      "2023-05-02 11:24:50.121481: I tensorflow/core/grappler/optimizers/custom_graph_optimizer_registry.cc:114] Plugin optimizer for device_type GPU is enabled.\n"
     ]
    },
    {
     "name": "stdout",
     "output_type": "stream",
     "text": [
      "395/395 [==============================] - 8s 19ms/step - loss: 0.0040\n",
      "Epoch 4/20\n",
      "334/395 [========================>.....] - ETA: 1s - loss: 0.0044"
     ]
    },
    {
     "name": "stderr",
     "output_type": "stream",
     "text": [
      "2023-05-02 11:24:50.469906: I tensorflow/core/grappler/optimizers/custom_graph_optimizer_registry.cc:114] Plugin optimizer for device_type GPU is enabled.\n"
     ]
    },
    {
     "name": "stdout",
     "output_type": "stream",
     "text": [
      "395/395 [==============================] - 8s 21ms/step - loss: 0.0044\n",
      "Epoch 13/20\n",
      "395/395 [==============================] - 8s 21ms/step - loss: 0.0043\n",
      "Epoch 14/20\n",
      "99/99 [==============================] - 3s 16ms/step - loss: 0.0039\n",
      "395/395 [==============================] - 8s 21ms/step - loss: 0.0041\n",
      "Epoch 14/20\n",
      "395/395 [==============================] - 7s 19ms/step - loss: 0.0045\n",
      "Epoch 18/20\n",
      "395/395 [==============================] - 8s 20ms/step - loss: 0.0040\n",
      "Epoch 15/20\n",
      "395/395 [==============================] - 8s 20ms/step - loss: 0.0044\n",
      "236/395 [================>.............] - ETA: 2s - loss: 0.0048Epoch 8/20\n",
      "395/395 [==============================] - 7s 18ms/step - loss: 0.0040\n",
      "Epoch 5/20\n",
      "395/395 [==============================] - 6s 16ms/step - loss: 0.0044\n",
      "395/395 [==============================] - 8s 20ms/step - loss: 0.0043\n",
      "Epoch 14/20\n",
      "395/395 [==============================] - 8s 20ms/step - loss: 0.0043\n",
      "Epoch 15/20\n",
      "395/395 [==============================] - 7s 19ms/step - loss: 0.0044\n",
      "Epoch 19/20\n",
      " 33/395 [=>............................] - ETA: 6s - loss: 0.0051Epoch 1/20\n",
      "395/395 [==============================] - 8s 20ms/step - loss: 0.0041\n",
      " 49/395 [==>...........................] - ETA: 6s - loss: 0.0044Epoch 15/20\n",
      "395/395 [==============================] - 7s 18ms/step - loss: 0.0040\n",
      "Epoch 6/20\n",
      "395/395 [==============================] - 8s 20ms/step - loss: 0.0040\n",
      "207/395 [==============>...............] - ETA: 3s - loss: 0.0042Epoch 16/20\n",
      "395/395 [==============================] - 8s 19ms/step - loss: 0.0044\n",
      "Epoch 9/20\n",
      "395/395 [==============================] - 7s 17ms/step - loss: 0.0044\n",
      "Epoch 20/20\n",
      "395/395 [==============================] - 8s 19ms/step - loss: 0.0044\n",
      "176/395 [============>.................] - ETA: 3s - loss: 0.0041Epoch 15/20\n",
      "395/395 [==============================] - 8s 19ms/step - loss: 0.0042\n",
      "Epoch 16/20\n",
      "395/395 [==============================] - 8s 19ms/step - loss: 0.0042\n",
      "Epoch 16/20\n",
      "395/395 [==============================] - 7s 18ms/step - loss: 0.0040\n",
      "Epoch 7/20\n",
      "211/395 [===============>..............] - ETA: 3s - loss: 0.0046"
     ]
    },
    {
     "name": "stderr",
     "output_type": "stream",
     "text": [
      "2023-05-02 11:25:11.431178: I tensorflow/core/grappler/optimizers/custom_graph_optimizer_registry.cc:114] Plugin optimizer for device_type GPU is enabled.\n"
     ]
    },
    {
     "name": "stdout",
     "output_type": "stream",
     "text": [
      "395/395 [==============================] - 8s 19ms/step - loss: 0.0040\n",
      "Epoch 17/20\n",
      "395/395 [==============================] - 8s 19ms/step - loss: 0.0044\n",
      "Epoch 10/20\n",
      " 58/395 [===>..........................] - ETA: 6s - loss: 0.0033"
     ]
    },
    {
     "name": "stderr",
     "output_type": "stream",
     "text": [
      "2023-05-02 11:25:13.353611: I tensorflow/core/grappler/optimizers/custom_graph_optimizer_registry.cc:114] Plugin optimizer for device_type GPU is enabled.\n",
      "2023-05-02 11:25:13.550215: I tensorflow/core/grappler/optimizers/custom_graph_optimizer_registry.cc:114] Plugin optimizer for device_type GPU is enabled.\n"
     ]
    },
    {
     "name": "stdout",
     "output_type": "stream",
     "text": [
      "395/395 [==============================] - 7s 18ms/step - loss: 0.0045\n",
      "395/395 [==============================] - 8s 19ms/step - loss: 0.0044\n",
      "Epoch 16/20\n",
      "395/395 [==============================] - 8s 20ms/step - loss: 0.0043\n",
      "Epoch 17/20\n",
      "395/395 [==============================] - 8s 20ms/step - loss: 0.0041\n",
      "123/395 [========>.....................] - ETA: 4s - loss: 0.0062Epoch 17/20\n",
      " 56/395 [===>..........................] - ETA: 6s - loss: 0.0043"
     ]
    },
    {
     "name": "stderr",
     "output_type": "stream",
     "text": [
      "2023-05-02 11:25:17.235503: I tensorflow/core/grappler/optimizers/custom_graph_optimizer_registry.cc:114] Plugin optimizer for device_type GPU is enabled.\n"
     ]
    },
    {
     "name": "stdout",
     "output_type": "stream",
     "text": [
      " 89/395 [=====>........................] - ETA: 6s - loss: 0.0044"
     ]
    },
    {
     "name": "stderr",
     "output_type": "stream",
     "text": [
      "2023-05-02 11:25:17.886331: I tensorflow/core/grappler/optimizers/custom_graph_optimizer_registry.cc:114] Plugin optimizer for device_type GPU is enabled.\n"
     ]
    },
    {
     "name": "stdout",
     "output_type": "stream",
     "text": [
      "395/395 [==============================] - 7s 18ms/step - loss: 0.0040\n",
      "Epoch 8/20\n",
      "99/99 [==============================] - 4s 14ms/step - loss: 0.0038\n",
      "395/395 [==============================] - 8s 20ms/step - loss: 0.0040\n",
      "Epoch 18/20\n",
      "395/395 [==============================] - 8s 20ms/step - loss: 0.0044\n",
      "Epoch 11/20\n",
      "395/395 [==============================] - 21s 18ms/step - loss: 0.0050\n",
      "Epoch 2/20\n",
      "395/395 [==============================] - 8s 21ms/step - loss: 0.0044\n",
      "Epoch 17/20\n",
      "395/395 [==============================] - 8s 21ms/step - loss: 0.0043\n",
      "Epoch 18/20\n",
      "395/395 [==============================] - 8s 21ms/step - loss: 0.0042\n",
      "315/395 [======================>.......] - ETA: 1s - loss: 0.0044Epoch 18/20\n",
      "395/395 [==============================] - 6s 15ms/step - loss: 0.0043\n",
      "395/395 [==============================] - 8s 19ms/step - loss: 0.0040\n",
      "Epoch 9/20\n",
      "295/395 [=====================>........] - ETA: 1s - loss: 0.0046Epoch 1/20\n",
      "395/395 [==============================] - 8s 20ms/step - loss: 0.0040\n",
      "Epoch 19/20\n",
      "395/395 [==============================] - 8s 20ms/step - loss: 0.0044\n",
      "Epoch 12/20\n",
      "395/395 [==============================] - 8s 19ms/step - loss: 0.0045\n",
      "Epoch 3/20\n",
      "395/395 [==============================] - 8s 20ms/step - loss: 0.0044\n",
      "Epoch 18/20\n",
      "395/395 [==============================] - 8s 20ms/step - loss: 0.0043\n",
      "Epoch 19/20\n",
      "395/395 [==============================] - 8s 20ms/step - loss: 0.0042\n",
      "Epoch 19/20\n",
      "395/395 [==============================] - 7s 18ms/step - loss: 0.0040\n",
      "Epoch 10/20\n",
      "134/395 [=========>....................] - ETA: 4s - loss: 0.0041"
     ]
    },
    {
     "name": "stderr",
     "output_type": "stream",
     "text": [
      "2023-05-02 11:25:35.504464: I tensorflow/core/grappler/optimizers/custom_graph_optimizer_registry.cc:114] Plugin optimizer for device_type GPU is enabled.\n"
     ]
    },
    {
     "name": "stdout",
     "output_type": "stream",
     "text": [
      "395/395 [==============================] - 8s 19ms/step - loss: 0.0040\n",
      "385/395 [============================>.] - ETA: 0s - loss: 0.0046Epoch 20/20\n",
      "395/395 [==============================] - 7s 18ms/step - loss: 0.0045\n",
      "Epoch 4/20\n",
      "395/395 [==============================] - 8s 20ms/step - loss: 0.0044\n",
      "206/395 [==============>...............] - ETA: 3s - loss: 0.0041Epoch 13/20\n",
      "278/395 [====================>.........] - ETA: 2s - loss: 0.0041"
     ]
    },
    {
     "name": "stderr",
     "output_type": "stream",
     "text": [
      "2023-05-02 11:25:37.519929: I tensorflow/core/grappler/optimizers/custom_graph_optimizer_registry.cc:114] Plugin optimizer for device_type GPU is enabled.\n"
     ]
    },
    {
     "name": "stdout",
     "output_type": "stream",
     "text": [
      "276/395 [===================>..........] - ETA: 2s - loss: 0.0039"
     ]
    },
    {
     "name": "stderr",
     "output_type": "stream",
     "text": [
      "2023-05-02 11:25:37.985702: I tensorflow/core/grappler/optimizers/custom_graph_optimizer_registry.cc:114] Plugin optimizer for device_type GPU is enabled.\n"
     ]
    },
    {
     "name": "stdout",
     "output_type": "stream",
     "text": [
      "395/395 [==============================] - 8s 20ms/step - loss: 0.0044\n",
      "Epoch 19/20\n",
      "395/395 [==============================] - 8s 20ms/step - loss: 0.0043\n",
      "145/395 [==========>...................] - ETA: 4s - loss: 0.0043Epoch 20/20\n",
      "395/395 [==============================] - 8s 20ms/step - loss: 0.0042\n",
      "Epoch 20/20\n",
      "395/395 [==============================] - 7s 19ms/step - loss: 0.0041\n",
      "Epoch 11/20\n",
      "395/395 [==============================] - 7s 19ms/step - loss: 0.0045\n",
      "Epoch 5/20\n",
      "395/395 [==============================] - 8s 20ms/step - loss: 0.0040\n",
      "395/395 [==============================] - 8s 20ms/step - loss: 0.0044\n",
      "Epoch 14/20\n",
      "395/395 [==============================] - 19s 20ms/step - loss: 0.0434\n",
      "Epoch 2/20\n",
      "395/395 [==============================] - 8s 21ms/step - loss: 0.0043\n",
      "Epoch 20/20\n",
      " 44/395 [==>...........................] - ETA: 5s - loss: 0.0057"
     ]
    },
    {
     "name": "stderr",
     "output_type": "stream",
     "text": [
      "2023-05-02 11:25:47.036213: I tensorflow/core/grappler/optimizers/custom_graph_optimizer_registry.cc:114] Plugin optimizer for device_type GPU is enabled.\n"
     ]
    },
    {
     "name": "stdout",
     "output_type": "stream",
     "text": [
      "395/395 [==============================] - 8s 21ms/step - loss: 0.0043\n",
      "372/395 [===========================>..] - ETA: 0s - loss: 0.0040"
     ]
    },
    {
     "name": "stderr",
     "output_type": "stream",
     "text": [
      "2023-05-02 11:25:47.440977: I tensorflow/core/grappler/optimizers/custom_graph_optimizer_registry.cc:114] Plugin optimizer for device_type GPU is enabled.\n"
     ]
    },
    {
     "name": "stdout",
     "output_type": "stream",
     "text": [
      "395/395 [==============================] - 7s 19ms/step - loss: 0.0040\n",
      " 48/395 [==>...........................] - ETA: 6s - loss: 0.0053Epoch 12/20\n",
      "395/395 [==============================] - 8s 21ms/step - loss: 0.0041\n",
      "99/99 [==============================] - 5s 11ms/step - loss: 0.0050\n",
      "311/395 [======================>.......] - ETA: 1s - loss: 0.0045"
     ]
    },
    {
     "name": "stderr",
     "output_type": "stream",
     "text": [
      "2023-05-02 11:25:48.665807: I tensorflow/core/grappler/optimizers/custom_graph_optimizer_registry.cc:114] Plugin optimizer for device_type GPU is enabled.\n"
     ]
    },
    {
     "name": "stdout",
     "output_type": "stream",
     "text": [
      " 23/395 [>.............................] - ETA: 3s - loss: 0.0033"
     ]
    },
    {
     "name": "stderr",
     "output_type": "stream",
     "text": [
      "2023-05-02 11:25:48.868284: I tensorflow/core/grappler/optimizers/custom_graph_optimizer_registry.cc:114] Plugin optimizer for device_type GPU is enabled.\n"
     ]
    },
    {
     "name": "stdout",
     "output_type": "stream",
     "text": [
      "99/99 [==============================] - 3s 12ms/step - loss: 0.0039\n",
      "395/395 [==============================] - 7s 17ms/step - loss: 0.0045\n",
      "Epoch 6/20\n",
      "395/395 [==============================] - 8s 19ms/step - loss: 0.0044\n",
      "174/395 [============>.................] - ETA: 2s - loss: 0.0044Epoch 15/20\n",
      "395/395 [==============================] - 4s 11ms/step - loss: 0.0039\n",
      "395/395 [==============================] - 7s 18ms/step - loss: 0.0048\n",
      "Epoch 3/20\n",
      "216/395 [===============>..............] - ETA: 2s - loss: 0.0044Epoch 1/20\n",
      "395/395 [==============================] - 4s 10ms/step - loss: 0.0041\n",
      "395/395 [==============================] - 8s 19ms/step - loss: 0.0043\n",
      "395/395 [==============================] - 7s 17ms/step - loss: 0.0041\n",
      "Epoch 13/20\n",
      "  5/395 [..............................] - ETA: 5s - loss: 0.0029Epoch 1/20\n",
      "306/395 [======================>.......] - ETA: 1s - loss: 0.0045"
     ]
    },
    {
     "name": "stderr",
     "output_type": "stream",
     "text": [
      "2023-05-02 11:25:55.107329: I tensorflow/core/grappler/optimizers/custom_graph_optimizer_registry.cc:114] Plugin optimizer for device_type GPU is enabled.\n",
      "2023-05-02 11:25:55.269743: I tensorflow/core/grappler/optimizers/custom_graph_optimizer_registry.cc:114] Plugin optimizer for device_type GPU is enabled.\n"
     ]
    },
    {
     "name": "stdout",
     "output_type": "stream",
     "text": [
      " 68/395 [====>.........................] - ETA: 5s - loss: 0.0048 "
     ]
    },
    {
     "name": "stderr",
     "output_type": "stream",
     "text": [
      "2023-05-02 11:25:55.709569: I tensorflow/core/grappler/optimizers/custom_graph_optimizer_registry.cc:114] Plugin optimizer for device_type GPU is enabled.\n"
     ]
    },
    {
     "name": "stdout",
     "output_type": "stream",
     "text": [
      "353/395 [=========================>....] - ETA: 0s - loss: 0.0045"
     ]
    },
    {
     "name": "stderr",
     "output_type": "stream",
     "text": [
      "2023-05-02 11:25:56.034963: I tensorflow/core/grappler/optimizers/custom_graph_optimizer_registry.cc:114] Plugin optimizer for device_type GPU is enabled.\n",
      "2023-05-02 11:25:56.138713: I tensorflow/core/grappler/optimizers/custom_graph_optimizer_registry.cc:114] Plugin optimizer for device_type GPU is enabled.\n",
      "2023-05-02 11:25:56.209582: I tensorflow/core/grappler/optimizers/custom_graph_optimizer_registry.cc:114] Plugin optimizer for device_type GPU is enabled.\n"
     ]
    },
    {
     "name": "stdout",
     "output_type": "stream",
     "text": [
      "386/395 [============================>.] - ETA: 0s - loss: 0.00458"
     ]
    },
    {
     "name": "stderr",
     "output_type": "stream",
     "text": [
      "2023-05-02 11:25:56.703414: I tensorflow/core/grappler/optimizers/custom_graph_optimizer_registry.cc:114] Plugin optimizer for device_type GPU is enabled.\n"
     ]
    },
    {
     "name": "stdout",
     "output_type": "stream",
     "text": [
      "99/99 [==============================] - 2s 14ms/step - loss: 0.0037\n",
      "395/395 [==============================] - 7s 17ms/step - loss: 0.0045\n",
      " 27/395 [=>............................] - ETA: 7s - loss: 0.0171Epoch 7/20\n",
      " 40/395 [==>...........................] - ETA: 7s - loss: 0.015884"
     ]
    },
    {
     "name": "stderr",
     "output_type": "stream",
     "text": [
      "2023-05-02 11:25:56.963202: I tensorflow/core/grappler/optimizers/custom_graph_optimizer_registry.cc:114] Plugin optimizer for device_type GPU is enabled.\n"
     ]
    },
    {
     "name": "stdout",
     "output_type": "stream",
     "text": [
      "395/395 [==============================] - 8s 19ms/step - loss: 0.0044\n",
      "Epoch 16/20\n",
      "395/395 [==============================] - 7s 17ms/step - loss: 0.0043\n",
      "Epoch 4/20\n",
      "395/395 [==============================] - 5s 11ms/step - loss: 0.0043\n",
      "395/395 [==============================] - 7s 17ms/step - loss: 0.0040\n",
      "Epoch 14/20\n",
      "129/395 [========>.....................] - ETA: 4s - loss: 0.0044Epoch 1/20\n",
      "395/395 [==============================] - 10s 18ms/step - loss: 0.0067\n",
      "372/395 [===========================>..] - ETA: 0s - loss: 0.0443Epoch 2/20\n",
      "395/395 [==============================] - 7s 17ms/step - loss: 0.0045\n",
      "Epoch 8/20\n",
      "395/395 [==============================] - 9s 17ms/step - loss: 0.0421\n",
      "Epoch 2/20\n",
      "335/395 [========================>.....] - ETA: 1s - loss: 0.0045"
     ]
    },
    {
     "name": "stderr",
     "output_type": "stream",
     "text": [
      "2023-05-02 11:26:05.656395: I tensorflow/core/grappler/optimizers/custom_graph_optimizer_registry.cc:114] Plugin optimizer for device_type GPU is enabled.\n"
     ]
    },
    {
     "name": "stdout",
     "output_type": "stream",
     "text": [
      "166/395 [===========>..................] - ETA: 3s - loss: 0.0047"
     ]
    },
    {
     "name": "stderr",
     "output_type": "stream",
     "text": [
      "2023-05-02 11:26:06.489004: I tensorflow/core/grappler/optimizers/custom_graph_optimizer_registry.cc:114] Plugin optimizer for device_type GPU is enabled.\n"
     ]
    },
    {
     "name": "stdout",
     "output_type": "stream",
     "text": [
      "316/395 [=======================>......] - ETA: 1s - loss: 0.0040"
     ]
    },
    {
     "name": "stderr",
     "output_type": "stream",
     "text": [
      "2023-05-02 11:26:06.746152: I tensorflow/core/grappler/optimizers/custom_graph_optimizer_registry.cc:114] Plugin optimizer for device_type GPU is enabled.\n"
     ]
    },
    {
     "name": "stdout",
     "output_type": "stream",
     "text": [
      "395/395 [==============================] - 7s 18ms/step - loss: 0.0044\n",
      "Epoch 17/20\n",
      "395/395 [==============================] - 7s 17ms/step - loss: 0.0042\n",
      "Epoch 5/20\n",
      "395/395 [==============================] - 7s 17ms/step - loss: 0.0040\n",
      "Epoch 15/20\n",
      "395/395 [==============================] - 7s 17ms/step - loss: 0.0045\n",
      "Epoch 9/20\n",
      "395/395 [==============================] - 7s 17ms/step - loss: 0.0044\n",
      "Epoch 3/20\n",
      "395/395 [==============================] - 7s 17ms/step - loss: 0.0050\n",
      "Epoch 3/20\n",
      "395/395 [==============================] - 7s 18ms/step - loss: 0.0042\n",
      "Epoch 6/20\n",
      "395/395 [==============================] - 13s 19ms/step - loss: 0.0050\n",
      "Epoch 2/20\n",
      "395/395 [==============================] - 8s 20ms/step - loss: 0.0044\n",
      "229/395 [================>.............] - ETA: 2s - loss: 0.0048Epoch 18/20\n",
      "395/395 [==============================] - 7s 17ms/step - loss: 0.0040\n",
      "293/395 [=====================>........] - ETA: 1s - loss: 0.0044Epoch 16/20\n",
      "395/395 [==============================] - 7s 17ms/step - loss: 0.0045\n",
      "Epoch 10/20\n",
      "395/395 [==============================] - 7s 18ms/step - loss: 0.0044\n",
      "Epoch 4/20\n",
      "395/395 [==============================] - 7s 18ms/step - loss: 0.0050\n",
      "Epoch 4/20\n",
      "395/395 [==============================] - 7s 18ms/step - loss: 0.0041\n",
      "223/395 [===============>..............] - ETA: 3s - loss: 0.0042Epoch 7/20\n",
      "395/395 [==============================] - 7s 17ms/step - loss: 0.0040\n",
      "Epoch 17/20\n",
      "395/395 [==============================] - 7s 19ms/step - loss: 0.0041\n",
      "Epoch 3/20\n",
      "395/395 [==============================] - 8s 19ms/step - loss: 0.0044\n",
      "Epoch 19/20\n",
      "395/395 [==============================] - 7s 17ms/step - loss: 0.0045\n",
      "Epoch 11/20\n",
      "395/395 [==============================] - 7s 18ms/step - loss: 0.0043\n",
      "Epoch 5/20\n",
      "395/395 [==============================] - 7s 18ms/step - loss: 0.0050\n",
      "Epoch 5/20\n",
      "395/395 [==============================] - 7s 17ms/step - loss: 0.0042\n",
      "Epoch 8/20\n",
      "395/395 [==============================] - 7s 17ms/step - loss: 0.0040\n",
      "Epoch 18/20\n",
      "395/395 [==============================] - 7s 19ms/step - loss: 0.0041\n",
      "277/395 [====================>.........] - ETA: 2s - loss: 0.0049Epoch 4/20\n",
      "395/395 [==============================] - 8s 19ms/step - loss: 0.0044\n",
      "Epoch 20/20\n",
      "395/395 [==============================] - 7s 17ms/step - loss: 0.0045\n",
      "Epoch 12/20\n",
      "395/395 [==============================] - 7s 18ms/step - loss: 0.0043\n",
      "Epoch 6/20\n",
      "395/395 [==============================] - 7s 17ms/step - loss: 0.0049\n",
      "Epoch 6/20\n",
      "395/395 [==============================] - 7s 17ms/step - loss: 0.0042\n",
      "Epoch 9/20\n",
      "395/395 [==============================] - 7s 17ms/step - loss: 0.0040\n",
      "Epoch 19/20\n",
      "387/395 [============================>.] - ETA: 0s - loss: 0.0040"
     ]
    },
    {
     "name": "stderr",
     "output_type": "stream",
     "text": [
      "2023-05-02 11:26:36.377850: I tensorflow/core/grappler/optimizers/custom_graph_optimizer_registry.cc:114] Plugin optimizer for device_type GPU is enabled.\n"
     ]
    },
    {
     "name": "stdout",
     "output_type": "stream",
     "text": [
      "395/395 [==============================] - 7s 19ms/step - loss: 0.0040\n",
      "Epoch 5/20\n",
      "332/395 [========================>.....] - ETA: 1s - loss: 0.0047"
     ]
    },
    {
     "name": "stderr",
     "output_type": "stream",
     "text": [
      "2023-05-02 11:26:37.217942: I tensorflow/core/grappler/optimizers/custom_graph_optimizer_registry.cc:114] Plugin optimizer for device_type GPU is enabled.\n"
     ]
    },
    {
     "name": "stdout",
     "output_type": "stream",
     "text": [
      "395/395 [==============================] - 7s 17ms/step - loss: 0.0045\n",
      "Epoch 13/20\n",
      "395/395 [==============================] - 8s 20ms/step - loss: 0.0044\n",
      "395/395 [==============================] - 7s 18ms/step - loss: 0.0044\n",
      "Epoch 7/20\n",
      "99/99 [==============================] - 3s 11ms/step - loss: 0.0044\n",
      "395/395 [==============================] - 7s 18ms/step - loss: 0.0049\n",
      "Epoch 7/20\n",
      "224/395 [================>.............] - ETA: 3s - loss: 0.0041"
     ]
    },
    {
     "name": "stderr",
     "output_type": "stream",
     "text": [
      "2023-05-02 11:26:39.437614: I tensorflow/core/grappler/optimizers/custom_graph_optimizer_registry.cc:114] Plugin optimizer for device_type GPU is enabled.\n"
     ]
    },
    {
     "name": "stdout",
     "output_type": "stream",
     "text": [
      "154/395 [==========>...................] - ETA: 4s - loss: 0.0045"
     ]
    },
    {
     "name": "stderr",
     "output_type": "stream",
     "text": [
      "2023-05-02 11:26:40.041105: I tensorflow/core/grappler/optimizers/custom_graph_optimizer_registry.cc:114] Plugin optimizer for device_type GPU is enabled.\n"
     ]
    },
    {
     "name": "stdout",
     "output_type": "stream",
     "text": [
      "99/99 [==============================] - 4s 15ms/step - loss: 0.0038\n",
      "395/395 [==============================] - 7s 18ms/step - loss: 0.0041\n",
      "Epoch 10/20\n",
      "395/395 [==============================] - 7s 18ms/step - loss: 0.0040\n",
      "233/395 [================>.............] - ETA: 2s - loss: 0.0044Epoch 20/20\n",
      "395/395 [==============================] - 5s 13ms/step - loss: 0.0040\n",
      "395/395 [==============================] - 8s 20ms/step - loss: 0.0040\n",
      "Epoch 6/20\n",
      "395/395 [==============================] - 7s 18ms/step - loss: 0.0045\n",
      "Epoch 14/20\n",
      "147/395 [==========>...................] - ETA: 4s - loss: 0.0042Epoch 1/20\n",
      "395/395 [==============================] - 7s 18ms/step - loss: 0.0044\n",
      "223/395 [===============>..............] - ETA: 2s - loss: 0.0045Epoch 8/20\n",
      "395/395 [==============================] - 7s 18ms/step - loss: 0.0049\n",
      " 68/395 [====>.........................] - ETA: 6s - loss: 0.0038Epoch 8/20\n",
      "395/395 [==============================] - 5s 12ms/step - loss: 0.0044\n",
      "344/395 [=========================>....] - ETA: 0s - loss: 0.0040Epoch 1/20\n",
      "395/395 [==============================] - 7s 18ms/step - loss: 0.0041\n",
      "Epoch 11/20\n",
      "395/395 [==============================] - 7s 18ms/step - loss: 0.0040\n",
      "242/395 [=================>............] - ETA: 2s - loss: 0.0051"
     ]
    },
    {
     "name": "stderr",
     "output_type": "stream",
     "text": [
      "2023-05-02 11:26:49.654925: I tensorflow/core/grappler/optimizers/custom_graph_optimizer_registry.cc:114] Plugin optimizer for device_type GPU is enabled.\n"
     ]
    },
    {
     "name": "stdout",
     "output_type": "stream",
     "text": [
      "336/395 [========================>.....] - ETA: 0s - loss: 0.0046"
     ]
    },
    {
     "name": "stderr",
     "output_type": "stream",
     "text": [
      "2023-05-02 11:26:49.979746: I tensorflow/core/grappler/optimizers/custom_graph_optimizer_registry.cc:114] Plugin optimizer for device_type GPU is enabled.\n"
     ]
    },
    {
     "name": "stdout",
     "output_type": "stream",
     "text": [
      "327/395 [=======================>......] - ETA: 1s - loss: 0.0040"
     ]
    },
    {
     "name": "stderr",
     "output_type": "stream",
     "text": [
      "2023-05-02 11:26:50.207803: I tensorflow/core/grappler/optimizers/custom_graph_optimizer_registry.cc:114] Plugin optimizer for device_type GPU is enabled.\n"
     ]
    },
    {
     "name": "stdout",
     "output_type": "stream",
     "text": [
      "395/395 [==============================] - 7s 17ms/step - loss: 0.0045\n",
      "Epoch 15/20\n",
      "109/395 [=======>......................] - ETA: 4s - loss: 0.0044"
     ]
    },
    {
     "name": "stderr",
     "output_type": "stream",
     "text": [
      "2023-05-02 11:26:51.062845: I tensorflow/core/grappler/optimizers/custom_graph_optimizer_registry.cc:114] Plugin optimizer for device_type GPU is enabled.\n"
     ]
    },
    {
     "name": "stdout",
     "output_type": "stream",
     "text": [
      "395/395 [==============================] - 7s 18ms/step - loss: 0.0040\n",
      "Epoch 7/20\n",
      " 40/395 [==>...........................] - ETA: 6s - loss: 0.0038"
     ]
    },
    {
     "name": "stderr",
     "output_type": "stream",
     "text": [
      "2023-05-02 11:26:51.767990: I tensorflow/core/grappler/optimizers/custom_graph_optimizer_registry.cc:114] Plugin optimizer for device_type GPU is enabled.\n"
     ]
    },
    {
     "name": "stdout",
     "output_type": "stream",
     "text": [
      "157/395 [==========>...................] - ETA: 4s - loss: 0.0042"
     ]
    },
    {
     "name": "stderr",
     "output_type": "stream",
     "text": [
      "2023-05-02 11:26:52.005187: I tensorflow/core/grappler/optimizers/custom_graph_optimizer_registry.cc:114] Plugin optimizer for device_type GPU is enabled.\n"
     ]
    },
    {
     "name": "stdout",
     "output_type": "stream",
     "text": [
      "395/395 [==============================] - 7s 17ms/step - loss: 0.0049\n",
      "Epoch 9/20\n",
      "395/395 [==============================] - 7s 17ms/step - loss: 0.0044\n",
      "Epoch 9/20\n",
      "395/395 [==============================] - 7s 18ms/step - loss: 0.0042\n",
      "209/395 [==============>...............] - ETA: 3s - loss: 0.0058Epoch 12/20\n",
      "395/395 [==============================] - 13s 19ms/step - loss: 0.1952\n",
      " 94/395 [======>.......................] - ETA: 5s - loss: 0.0038Epoch 2/20\n",
      "395/395 [==============================] - 7s 17ms/step - loss: 0.0045\n",
      "Epoch 16/20\n",
      "395/395 [==============================] - 7s 19ms/step - loss: 0.0041\n",
      "Epoch 8/20\n",
      "395/395 [==============================] - 7s 18ms/step - loss: 0.0049\n",
      "Epoch 10/20\n",
      "395/395 [==============================] - 7s 18ms/step - loss: 0.0044\n",
      "Epoch 10/20\n",
      "395/395 [==============================] - 11s 19ms/step - loss: 0.0050\n",
      "Epoch 2/20\n",
      "395/395 [==============================] - 7s 18ms/step - loss: 0.0041\n",
      "Epoch 13/20\n",
      "395/395 [==============================] - 7s 17ms/step - loss: 0.0045\n",
      "Epoch 17/20\n",
      "395/395 [==============================] - 7s 18ms/step - loss: 0.0174\n",
      "Epoch 3/20\n",
      "395/395 [==============================] - 7s 18ms/step - loss: 0.0048\n",
      "Epoch 11/20\n",
      "395/395 [==============================] - 7s 18ms/step - loss: 0.0044\n",
      "Epoch 11/20\n",
      "395/395 [==============================] - 7s 19ms/step - loss: 0.0040\n",
      "Epoch 9/20\n",
      "395/395 [==============================] - 7s 18ms/step - loss: 0.0042\n",
      "Epoch 3/20\n",
      "395/395 [==============================] - 7s 18ms/step - loss: 0.0042\n",
      "Epoch 14/20\n",
      "395/395 [==============================] - 7s 17ms/step - loss: 0.0045\n",
      "Epoch 18/20\n",
      "395/395 [==============================] - 8s 19ms/step - loss: 0.0054\n",
      "Epoch 4/20\n",
      "395/395 [==============================] - 7s 18ms/step - loss: 0.0049\n",
      "Epoch 12/20\n",
      "395/395 [==============================] - 7s 18ms/step - loss: 0.0044\n",
      "Epoch 12/20\n",
      "395/395 [==============================] - 7s 18ms/step - loss: 0.0040\n",
      "Epoch 10/20\n",
      "395/395 [==============================] - 7s 19ms/step - loss: 0.0042\n",
      "182/395 [============>.................] - ETA: 3s - loss: 0.0041Epoch 4/20\n",
      "395/395 [==============================] - 7s 18ms/step - loss: 0.0042\n",
      "215/395 [===============>..............] - ETA: 3s - loss: 0.0042Epoch 15/20\n",
      "395/395 [==============================] - 7s 17ms/step - loss: 0.0045\n",
      "Epoch 19/20\n",
      "395/395 [==============================] - 7s 19ms/step - loss: 0.0046\n",
      "Epoch 5/20\n",
      "395/395 [==============================] - 7s 18ms/step - loss: 0.0048\n",
      "Epoch 13/20\n",
      "395/395 [==============================] - 7s 18ms/step - loss: 0.0044\n",
      "Epoch 13/20\n",
      "395/395 [==============================] - 7s 19ms/step - loss: 0.0040\n",
      "335/395 [========================>.....] - ETA: 1s - loss: 0.0042Epoch 11/20\n",
      "395/395 [==============================] - 8s 19ms/step - loss: 0.0042\n",
      "269/395 [===================>..........] - ETA: 2s - loss: 0.0044Epoch 5/20\n",
      "395/395 [==============================] - 7s 18ms/step - loss: 0.0041\n",
      "Epoch 16/20\n",
      "395/395 [==============================] - 7s 18ms/step - loss: 0.0045\n",
      "278/395 [====================>.........] - ETA: 2s - loss: 0.0047Epoch 20/20\n",
      "395/395 [==============================] - 7s 18ms/step - loss: 0.0049\n",
      "Epoch 14/20\n",
      "395/395 [==============================] - 8s 19ms/step - loss: 0.0045\n",
      "Epoch 6/20\n",
      "395/395 [==============================] - 7s 18ms/step - loss: 0.0044\n",
      "Epoch 14/20\n",
      "395/395 [==============================] - 8s 19ms/step - loss: 0.0040\n",
      "Epoch 12/20\n",
      "395/395 [==============================] - 8s 19ms/step - loss: 0.0042\n",
      "Epoch 6/20\n",
      "395/395 [==============================] - 7s 18ms/step - loss: 0.0041\n",
      "Epoch 17/20\n",
      "395/395 [==============================] - 7s 17ms/step - loss: 0.0045\n",
      "267/395 [===================>..........] - ETA: 2s - loss: 0.0040"
     ]
    },
    {
     "name": "stderr",
     "output_type": "stream",
     "text": [
      "2023-05-02 11:27:33.325589: I tensorflow/core/grappler/optimizers/custom_graph_optimizer_registry.cc:114] Plugin optimizer for device_type GPU is enabled.\n"
     ]
    },
    {
     "name": "stdout",
     "output_type": "stream",
     "text": [
      "279/395 [====================>.........] - ETA: 2s - loss: 0.0040"
     ]
    },
    {
     "name": "stderr",
     "output_type": "stream",
     "text": [
      "2023-05-02 11:27:33.576634: I tensorflow/core/grappler/optimizers/custom_graph_optimizer_registry.cc:114] Plugin optimizer for device_type GPU is enabled.\n"
     ]
    },
    {
     "name": "stdout",
     "output_type": "stream",
     "text": [
      "395/395 [==============================] - 7s 17ms/step - loss: 0.0048\n",
      "Epoch 15/20\n",
      "395/395 [==============================] - 7s 17ms/step - loss: 0.0043\n",
      "Epoch 15/20\n",
      "99/99 [==============================] - 2s 12ms/step - loss: 0.0042\n",
      "395/395 [==============================] - 7s 19ms/step - loss: 0.0045\n",
      "Epoch 7/20\n",
      "395/395 [==============================] - 7s 18ms/step - loss: 0.0041\n",
      " 38/395 [=>............................] - ETA: 6s - loss: 0.0046Epoch 13/20\n",
      "395/395 [==============================] - 7s 19ms/step - loss: 0.0042\n",
      "Epoch 7/20\n",
      "395/395 [==============================] - 7s 18ms/step - loss: 0.0042\n",
      "Epoch 18/20\n",
      "395/395 [==============================] - 4s 11ms/step - loss: 0.0044\n",
      "259/395 [==================>...........] - ETA: 2s - loss: 0.0043Epoch 1/20\n",
      "395/395 [==============================] - 7s 17ms/step - loss: 0.0048\n",
      "Epoch 16/20\n",
      "395/395 [==============================] - 7s 17ms/step - loss: 0.0044\n",
      "Epoch 16/20\n",
      "395/395 [==============================] - 7s 18ms/step - loss: 0.0045\n",
      "Epoch 8/20\n",
      "395/395 [==============================] - 7s 18ms/step - loss: 0.0040\n",
      "Epoch 14/20\n",
      "339/395 [========================>.....] - ETA: 0s - loss: 0.0041"
     ]
    },
    {
     "name": "stderr",
     "output_type": "stream",
     "text": [
      "2023-05-02 11:27:42.916488: I tensorflow/core/grappler/optimizers/custom_graph_optimizer_registry.cc:114] Plugin optimizer for device_type GPU is enabled.\n"
     ]
    },
    {
     "name": "stdout",
     "output_type": "stream",
     "text": [
      " 84/395 [=====>........................] - ETA: 5s - loss: 0.0043"
     ]
    },
    {
     "name": "stderr",
     "output_type": "stream",
     "text": [
      "2023-05-02 11:27:43.579935: I tensorflow/core/grappler/optimizers/custom_graph_optimizer_registry.cc:114] Plugin optimizer for device_type GPU is enabled.\n"
     ]
    },
    {
     "name": "stdout",
     "output_type": "stream",
     "text": [
      " 92/395 [=====>........................] - ETA: 5s - loss: 0.0044"
     ]
    },
    {
     "name": "stderr",
     "output_type": "stream",
     "text": [
      "2023-05-02 11:27:43.792885: I tensorflow/core/grappler/optimizers/custom_graph_optimizer_registry.cc:114] Plugin optimizer for device_type GPU is enabled.\n"
     ]
    },
    {
     "name": "stdout",
     "output_type": "stream",
     "text": [
      "395/395 [==============================] - 7s 18ms/step - loss: 0.0042\n",
      "Epoch 8/20\n",
      "395/395 [==============================] - 7s 18ms/step - loss: 0.0041\n",
      "273/395 [===================>..........] - ETA: 2s - loss: 0.0048Epoch 19/20\n",
      "395/395 [==============================] - 7s 17ms/step - loss: 0.0048\n",
      "Epoch 17/20\n",
      "395/395 [==============================] - 7s 18ms/step - loss: 0.0043\n",
      "Epoch 17/20\n",
      "395/395 [==============================] - 8s 19ms/step - loss: 0.0045\n",
      "232/395 [================>.............] - ETA: 2s - loss: 0.0042Epoch 9/20\n",
      "395/395 [==============================] - 8s 19ms/step - loss: 0.0041\n",
      "Epoch 15/20\n",
      "393/395 [============================>.] - ETA: 0s - loss: 0.0042"
     ]
    },
    {
     "name": "stderr",
     "output_type": "stream",
     "text": [
      "2023-05-02 11:27:51.622160: I tensorflow/core/grappler/optimizers/custom_graph_optimizer_registry.cc:114] Plugin optimizer for device_type GPU is enabled.\n"
     ]
    },
    {
     "name": "stdout",
     "output_type": "stream",
     "text": [
      "395/395 [==============================] - 8s 19ms/step - loss: 0.0042\n",
      "343/395 [=========================>....] - ETA: 0s - loss: 0.0041Epoch 9/20\n",
      "115/395 [=======>......................] - ETA: 5s - loss: 0.0046"
     ]
    },
    {
     "name": "stderr",
     "output_type": "stream",
     "text": [
      "2023-05-02 11:27:51.871301: I tensorflow/core/grappler/optimizers/custom_graph_optimizer_registry.cc:114] Plugin optimizer for device_type GPU is enabled.\n"
     ]
    },
    {
     "name": "stdout",
     "output_type": "stream",
     "text": [
      "395/395 [==============================] - 12s 20ms/step - loss: 0.0069\n",
      "Epoch 2/20\n",
      "395/395 [==============================] - 7s 19ms/step - loss: 0.0041\n",
      "61/99 [=================>............] - ETA: 0s - loss: 0.0054Epoch 20/20\n",
      "99/99 [==============================] - 5s 15ms/step - loss: 0.0048\n",
      "395/395 [==============================] - 7s 19ms/step - loss: 0.0047\n",
      "Epoch 18/20\n",
      "395/395 [==============================] - 8s 19ms/step - loss: 0.0043\n",
      "Epoch 18/20\n",
      "395/395 [==============================] - 8s 20ms/step - loss: 0.0045\n",
      "Epoch 10/20\n",
      "395/395 [==============================] - 8s 20ms/step - loss: 0.0040\n",
      "274/395 [===================>..........] - ETA: 1s - loss: 0.0038Epoch 16/20\n",
      "395/395 [==============================] - 8s 20ms/step - loss: 0.0042\n",
      "Epoch 10/20\n",
      "395/395 [==============================] - 6s 16ms/step - loss: 0.0039\n",
      "395/395 [==============================] - 8s 20ms/step - loss: 0.0044\n",
      "Epoch 3/20\n",
      "395/395 [==============================] - 8s 19ms/step - loss: 0.0042\n",
      " 60/395 [===>..........................] - ETA: 6s - loss: 0.0046Epoch 1/20\n",
      "208/395 [==============>...............] - ETA: 3s - loss: 0.0043"
     ]
    },
    {
     "name": "stderr",
     "output_type": "stream",
     "text": [
      "2023-05-02 11:28:01.697844: I tensorflow/core/grappler/optimizers/custom_graph_optimizer_registry.cc:114] Plugin optimizer for device_type GPU is enabled.\n"
     ]
    },
    {
     "name": "stdout",
     "output_type": "stream",
     "text": [
      "395/395 [==============================] - 7s 18ms/step - loss: 0.0048\n",
      "106/395 [=======>......................] - ETA: 5s - loss: 0.0043Epoch 19/20\n",
      "  1/395 [..............................] - ETA: 7s - loss: 0.0011"
     ]
    },
    {
     "name": "stderr",
     "output_type": "stream",
     "text": [
      "2023-05-02 11:28:02.120900: I tensorflow/core/grappler/optimizers/custom_graph_optimizer_registry.cc:114] Plugin optimizer for device_type GPU is enabled.\n"
     ]
    },
    {
     "name": "stdout",
     "output_type": "stream",
     "text": [
      "99/99 [==============================] - 3s 12ms/step - loss: 0.0044\n",
      "395/395 [==============================] - 7s 18ms/step - loss: 0.0044\n",
      "Epoch 19/20\n",
      "395/395 [==============================] - 8s 19ms/step - loss: 0.0044\n",
      "Epoch 11/20\n",
      "395/395 [==============================] - 8s 19ms/step - loss: 0.0040\n",
      "Epoch 17/20\n",
      "395/395 [==============================] - 7s 19ms/step - loss: 0.0042\n",
      "Epoch 11/20\n",
      "395/395 [==============================] - 7s 19ms/step - loss: 0.0043\n",
      " 91/395 [=====>........................] - ETA: 6s - loss: 0.0042Epoch 4/20\n",
      "395/395 [==============================] - 5s 11ms/step - loss: 0.0040\n",
      " 56/395 [===>..........................] - ETA: 6s - loss: 0.0045"
     ]
    },
    {
     "name": "stderr",
     "output_type": "stream",
     "text": [
      "2023-05-02 11:28:08.634200: I tensorflow/core/grappler/optimizers/custom_graph_optimizer_registry.cc:114] Plugin optimizer for device_type GPU is enabled.\n"
     ]
    },
    {
     "name": "stdout",
     "output_type": "stream",
     "text": [
      "395/395 [==============================] - 7s 17ms/step - loss: 0.0047\n",
      "Epoch 20/20\n",
      "187/395 [=============>................] - ETA: 3s - loss: 0.0040Epoch 1/20\n",
      "214/395 [===============>..............] - ETA: 3s - loss: 0.0039"
     ]
    },
    {
     "name": "stderr",
     "output_type": "stream",
     "text": [
      "2023-05-02 11:28:09.774787: I tensorflow/core/grappler/optimizers/custom_graph_optimizer_registry.cc:114] Plugin optimizer for device_type GPU is enabled.\n"
     ]
    },
    {
     "name": "stdout",
     "output_type": "stream",
     "text": [
      "383/395 [============================>.] - ETA: 0s - loss: 0.0043"
     ]
    },
    {
     "name": "stderr",
     "output_type": "stream",
     "text": [
      "2023-05-02 11:28:10.128817: I tensorflow/core/grappler/optimizers/custom_graph_optimizer_registry.cc:114] Plugin optimizer for device_type GPU is enabled.\n"
     ]
    },
    {
     "name": "stdout",
     "output_type": "stream",
     "text": [
      "395/395 [==============================] - 7s 18ms/step - loss: 0.0043\n",
      " 98/395 [======>.......................] - ETA: 5s - loss: 0.0051Epoch 20/20\n",
      "395/395 [==============================] - 8s 19ms/step - loss: 0.0044\n",
      "Epoch 12/20\n",
      "395/395 [==============================] - 8s 19ms/step - loss: 0.0040\n",
      "Epoch 18/20\n",
      "395/395 [==============================] - 7s 19ms/step - loss: 0.0042\n",
      "374/395 [===========================>..] - ETA: 0s - loss: 0.0044Epoch 12/20\n",
      "395/395 [==============================] - 7s 19ms/step - loss: 0.0043\n",
      "Epoch 5/20\n",
      "395/395 [==============================] - 7s 18ms/step - loss: 0.0048\n",
      "347/395 [=========================>....] - ETA: 0s - loss: 0.0054"
     ]
    },
    {
     "name": "stderr",
     "output_type": "stream",
     "text": [
      "2023-05-02 11:28:16.917130: I tensorflow/core/grappler/optimizers/custom_graph_optimizer_registry.cc:114] Plugin optimizer for device_type GPU is enabled.\n"
     ]
    },
    {
     "name": "stdout",
     "output_type": "stream",
     "text": [
      "207/395 [==============>...............] - ETA: 3s - loss: 0.0039"
     ]
    },
    {
     "name": "stderr",
     "output_type": "stream",
     "text": [
      "2023-05-02 11:28:17.152744: I tensorflow/core/grappler/optimizers/custom_graph_optimizer_registry.cc:114] Plugin optimizer for device_type GPU is enabled.\n",
      "2023-05-02 11:28:17.249617: I tensorflow/core/grappler/optimizers/custom_graph_optimizer_registry.cc:114] Plugin optimizer for device_type GPU is enabled.\n"
     ]
    },
    {
     "name": "stdout",
     "output_type": "stream",
     "text": [
      "395/395 [==============================] - 7s 18ms/step - loss: 0.0044\n",
      "395/395 [==============================] - 17s 20ms/step - loss: 0.0053\n",
      "Epoch 2/20\n",
      "99/99 [==============================] - 2s 11ms/step - loss: 0.0041\n",
      "300/395 [=====================>........] - ETA: 1s - loss: 0.0043"
     ]
    },
    {
     "name": "stderr",
     "output_type": "stream",
     "text": [
      "2023-05-02 11:28:18.293700: I tensorflow/core/grappler/optimizers/custom_graph_optimizer_registry.cc:114] Plugin optimizer for device_type GPU is enabled.\n"
     ]
    },
    {
     "name": "stdout",
     "output_type": "stream",
     "text": [
      "194/395 [=============>................] - ETA: 3s - loss: 0.0044"
     ]
    },
    {
     "name": "stderr",
     "output_type": "stream",
     "text": [
      "2023-05-02 11:28:18.603804: I tensorflow/core/grappler/optimizers/custom_graph_optimizer_registry.cc:114] Plugin optimizer for device_type GPU is enabled.\n",
      "2023-05-02 11:28:18.634930: I tensorflow/core/grappler/optimizers/custom_graph_optimizer_registry.cc:114] Plugin optimizer for device_type GPU is enabled.\n"
     ]
    },
    {
     "name": "stdout",
     "output_type": "stream",
     "text": [
      "215/395 [===============>..............] - ETA: 3s - loss: 0.0044    "
     ]
    },
    {
     "name": "stderr",
     "output_type": "stream",
     "text": [
      "2023-05-02 11:28:19.099967: I tensorflow/core/grappler/optimizers/custom_graph_optimizer_registry.cc:114] Plugin optimizer for device_type GPU is enabled.\n"
     ]
    },
    {
     "name": "stdout",
     "output_type": "stream",
     "text": [
      "395/395 [==============================] - 8s 19ms/step - loss: 0.0044\n",
      "Epoch 13/20\n",
      "99/99 [==============================] - 3s 17ms/step - loss: 0.0037\n",
      "395/395 [==============================] - 8s 19ms/step - loss: 0.0040\n",
      "Epoch 19/20\n",
      "395/395 [==============================] - 8s 19ms/step - loss: 0.0042\n",
      "Epoch 13/20\n",
      "395/395 [==============================] - 8s 20ms/step - loss: 0.0044\n",
      "Epoch 6/20\n",
      "395/395 [==============================] - 6s 15ms/step - loss: 0.0047\n",
      "289/395 [====================>.........] - ETA: 1s - loss: 0.0043Epoch 1/20\n",
      "395/395 [==============================] - 8s 21ms/step - loss: 0.0044\n",
      "Epoch 3/20\n",
      "395/395 [==============================] - 17s 20ms/step - loss: 0.0164\n",
      "Epoch 2/20\n",
      "395/395 [==============================] - 6s 15ms/step - loss: 0.0042\n",
      "233/395 [================>.............] - ETA: 3s - loss: 0.0046Epoch 1/20\n",
      "395/395 [==============================] - 8s 20ms/step - loss: 0.0044\n",
      "Epoch 14/20\n",
      "395/395 [==============================] - 8s 20ms/step - loss: 0.0040\n",
      "329/395 [=======================>......] - ETA: 1s - loss: 0.0041Epoch 20/20\n",
      "395/395 [==============================] - 8s 20ms/step - loss: 0.0042\n",
      "Epoch 14/20\n",
      "365/395 [==========================>...] - ETA: 0s - loss: 0.0044"
     ]
    },
    {
     "name": "stderr",
     "output_type": "stream",
     "text": [
      "2023-05-02 11:28:30.095925: I tensorflow/core/grappler/optimizers/custom_graph_optimizer_registry.cc:114] Plugin optimizer for device_type GPU is enabled.\n"
     ]
    },
    {
     "name": "stdout",
     "output_type": "stream",
     "text": [
      "395/395 [==============================] - 8s 19ms/step - loss: 0.0043\n",
      "Epoch 7/20\n",
      "137/395 [=========>....................] - ETA: 4s - loss: 0.0039"
     ]
    },
    {
     "name": "stderr",
     "output_type": "stream",
     "text": [
      "2023-05-02 11:28:31.070522: I tensorflow/core/grappler/optimizers/custom_graph_optimizer_registry.cc:114] Plugin optimizer for device_type GPU is enabled.\n"
     ]
    },
    {
     "name": "stdout",
     "output_type": "stream",
     "text": [
      " 42/395 [==>...........................] - ETA: 6s - loss: 0.0046"
     ]
    },
    {
     "name": "stderr",
     "output_type": "stream",
     "text": [
      "2023-05-02 11:28:31.335605: I tensorflow/core/grappler/optimizers/custom_graph_optimizer_registry.cc:114] Plugin optimizer for device_type GPU is enabled.\n"
     ]
    },
    {
     "name": "stdout",
     "output_type": "stream",
     "text": [
      "342/395 [========================>.....] - ETA: 0s - loss: 0.0044"
     ]
    },
    {
     "name": "stderr",
     "output_type": "stream",
     "text": [
      "2023-05-02 11:28:32.681289: I tensorflow/core/grappler/optimizers/custom_graph_optimizer_registry.cc:114] Plugin optimizer for device_type GPU is enabled.\n"
     ]
    },
    {
     "name": "stdout",
     "output_type": "stream",
     "text": [
      "395/395 [==============================] - 7s 17ms/step - loss: 0.0041\n",
      "Epoch 3/20\n",
      "395/395 [==============================] - 7s 18ms/step - loss: 0.0044\n",
      "Epoch 4/20\n",
      "302/395 [=====================>........] - ETA: 1s - loss: 0.0040"
     ]
    },
    {
     "name": "stderr",
     "output_type": "stream",
     "text": [
      "2023-05-02 11:28:34.297767: I tensorflow/core/grappler/optimizers/custom_graph_optimizer_registry.cc:114] Plugin optimizer for device_type GPU is enabled.\n"
     ]
    },
    {
     "name": "stdout",
     "output_type": "stream",
     "text": [
      "187/395 [=============>................] - ETA: 3s - loss: 0.0952"
     ]
    },
    {
     "name": "stderr",
     "output_type": "stream",
     "text": [
      "2023-05-02 11:28:34.613257: I tensorflow/core/grappler/optimizers/custom_graph_optimizer_registry.cc:114] Plugin optimizer for device_type GPU is enabled.\n"
     ]
    },
    {
     "name": "stdout",
     "output_type": "stream",
     "text": [
      "395/395 [==============================] - 7s 18ms/step - loss: 0.0043\n",
      "Epoch 15/20\n",
      "395/395 [==============================] - 7s 18ms/step - loss: 0.0040\n",
      "395/395 [==============================] - 7s 19ms/step - loss: 0.0042\n",
      "Epoch 15/20\n",
      "199/395 [==============>...............] - ETA: 3s - loss: 0.0044"
     ]
    },
    {
     "name": "stderr",
     "output_type": "stream",
     "text": [
      "2023-05-02 11:28:37.458820: I tensorflow/core/grappler/optimizers/custom_graph_optimizer_registry.cc:114] Plugin optimizer for device_type GPU is enabled.\n"
     ]
    },
    {
     "name": "stdout",
     "output_type": "stream",
     "text": [
      " 1/99 [..............................] - ETA: 3:10 - loss: 0.0077"
     ]
    },
    {
     "name": "stderr",
     "output_type": "stream",
     "text": [
      "2023-05-02 11:28:38.023142: I tensorflow/core/grappler/optimizers/custom_graph_optimizer_registry.cc:114] Plugin optimizer for device_type GPU is enabled.\n"
     ]
    },
    {
     "name": "stdout",
     "output_type": "stream",
     "text": [
      "395/395 [==============================] - 8s 19ms/step - loss: 0.0044\n",
      "Epoch 8/20\n",
      "395/395 [==============================] - 13s 18ms/step - loss: 0.0501\n",
      "Epoch 2/20\n",
      "99/99 [==============================] - 3s 16ms/step - loss: 0.0049\n",
      "395/395 [==============================] - 7s 18ms/step - loss: 0.0041\n",
      "119/395 [========>.....................] - ETA: 5s - loss: 0.0043Epoch 4/20\n",
      "395/395 [==============================] - 8s 19ms/step - loss: 0.0044\n",
      "Epoch 5/20\n",
      "395/395 [==============================] - 15s 19ms/step - loss: 0.0054\n",
      "Epoch 2/20\n",
      "395/395 [==============================] - 8s 19ms/step - loss: 0.0043\n",
      "259/395 [==================>...........] - ETA: 2s - loss: 0.0054Epoch 16/20\n",
      "395/395 [==============================] - 8s 19ms/step - loss: 0.0042\n",
      "Epoch 16/20\n",
      "395/395 [==============================] - 7s 18ms/step - loss: 0.0051\n",
      "Epoch 3/20\n",
      "395/395 [==============================] - 8s 19ms/step - loss: 0.0044\n",
      "Epoch 9/20\n",
      "395/395 [==============================] - 6s 14ms/step - loss: 0.0039\n",
      "395/395 [==============================] - 7s 18ms/step - loss: 0.0041\n",
      "313/395 [======================>.......] - ETA: 1s - loss: 0.0045Epoch 5/20\n",
      "331/395 [========================>.....] - ETA: 1s - loss: 0.0045Epoch 1/20\n",
      "395/395 [==============================] - 8s 20ms/step - loss: 0.0044\n",
      "178/395 [============>.................] - ETA: 4s - loss: 0.0045Epoch 6/20\n",
      "395/395 [==============================] - 7s 17ms/step - loss: 0.0042\n",
      "Epoch 3/20\n",
      "395/395 [==============================] - 7s 18ms/step - loss: 0.0043\n",
      "Epoch 17/20\n",
      "395/395 [==============================] - 7s 17ms/step - loss: 0.0045\n",
      "Epoch 4/20\n",
      "395/395 [==============================] - 7s 18ms/step - loss: 0.0042\n",
      "Epoch 17/20\n",
      "395/395 [==============================] - 7s 18ms/step - loss: 0.0044\n",
      "Epoch 10/20\n",
      "395/395 [==============================] - 7s 17ms/step - loss: 0.0041\n",
      "Epoch 6/20\n",
      "273/395 [===================>..........] - ETA: 2s - loss: 0.0042"
     ]
    },
    {
     "name": "stderr",
     "output_type": "stream",
     "text": [
      "2023-05-02 11:28:54.006328: I tensorflow/core/grappler/optimizers/custom_graph_optimizer_registry.cc:114] Plugin optimizer for device_type GPU is enabled.\n"
     ]
    },
    {
     "name": "stdout",
     "output_type": "stream",
     "text": [
      "277/395 [====================>.........] - ETA: 2s - loss: 0.0041"
     ]
    },
    {
     "name": "stderr",
     "output_type": "stream",
     "text": [
      "2023-05-02 11:28:55.403100: I tensorflow/core/grappler/optimizers/custom_graph_optimizer_registry.cc:114] Plugin optimizer for device_type GPU is enabled.\n"
     ]
    },
    {
     "name": "stdout",
     "output_type": "stream",
     "text": [
      "298/395 [=====================>........] - ETA: 1s - loss: 0.0041"
     ]
    },
    {
     "name": "stderr",
     "output_type": "stream",
     "text": [
      "2023-05-02 11:28:55.742995: I tensorflow/core/grappler/optimizers/custom_graph_optimizer_registry.cc:114] Plugin optimizer for device_type GPU is enabled.\n"
     ]
    },
    {
     "name": "stdout",
     "output_type": "stream",
     "text": [
      "395/395 [==============================] - 7s 17ms/step - loss: 0.0041\n",
      "372/395 [===========================>..] - ETA: 0s - loss: 0.0043Epoch 4/20\n",
      "395/395 [==============================] - 7s 19ms/step - loss: 0.0044\n",
      "Epoch 7/20\n",
      "395/395 [==============================] - 7s 19ms/step - loss: 0.0043\n",
      "296/395 [=====================>........] - ETA: 1s - loss: 0.0043Epoch 18/20\n",
      "395/395 [==============================] - 7s 17ms/step - loss: 0.0044\n",
      "Epoch 5/20\n",
      "395/395 [==============================] - 8s 19ms/step - loss: 0.0042\n",
      "Epoch 18/20\n",
      "395/395 [==============================] - 8s 19ms/step - loss: 0.0043\n",
      "Epoch 11/20\n",
      "395/395 [==============================] - 7s 18ms/step - loss: 0.0041 - loss: 0.00 loss: 0.004\n",
      "274/395 [===================>..........] - ETA: 2s - loss: 0.0092Epoch 7/20\n",
      "395/395 [==============================] - 7s 19ms/step - loss: 0.0042[=========================>....] - ETA: 0s - loss: 0.008==========>.................] - ETA: 4s - loss: 0.004\n",
      "Epoch 5/20\n",
      "395/395 [==============================] - 16s 19ms/step - loss: 0.0081\n",
      "178/395 [============>.................] - ETA: 4s - loss: 0.0045Epoch 2/20\n",
      "395/395 [==============================] - 8s 20ms/step - loss: 0.0044\n",
      "Epoch 8/20\n",
      "395/395 [==============================] - 8s 19ms/step - loss: 0.0044ss: 0.0040.0\n",
      "Epoch 19/20\n",
      "395/395 [==============================] - 7s 19ms/step - loss: 0.0044[==========>...................] - ETA: 4s - loss: 0.004\n",
      "Epoch 6/20\n",
      "395/395 [==============================] - 8s 19ms/step - loss: 0.0042\n",
      "Epoch 19/20\n",
      "395/395 [==============================] - 8s 19ms/step - loss: 0.0044\n",
      "133/395 [=========>....................] - ETA: 4s - loss: 0.0048Epoch 12/20\n",
      "395/395 [==============================] - 7s 19ms/step - loss: 0.0041- loss: 0.004\n",
      "Epoch 8/20\n",
      "395/395 [==============================] - 7s 18ms/step - loss: 0.0041===>.....................] - ETA: 5s - loss: 0.004\n",
      "Epoch 6/20\n",
      "395/395 [==============================] - 7s 18ms/step - loss: 0.0047\n",
      "Epoch 3/20\n",
      "395/395 [==============================] - 8s 20ms/step - loss: 0.0044\n",
      "Epoch 9/20\n",
      "395/395 [==============================] - 8s 19ms/step - loss: 0.0043004\n",
      "Epoch 20/20\n",
      "395/395 [==============================] - 7s 19ms/step - loss: 0.0044\n",
      "Epoch 7/20\n",
      "395/395 [==============================] - 8s 19ms/step - loss: 0.00410.0043\n",
      "Epoch 20/20\n",
      "395/395 [==============================] - 8s 19ms/step - loss: 0.0043\n",
      "183/395 [============>.................] - ETA: 4s - loss: 0.0041Epoch 13/20\n",
      "395/395 [==============================] - 7s 19ms/step - loss: 0.0041: 7s - loss: 0.007\n",
      "Epoch 9/20\n",
      "395/395 [==============================] - 7s 19ms/step - loss: 0.0042\n",
      "Epoch 7/20\n",
      "395/395 [==============================] - 8s 19ms/step - loss: 0.0044s: 0.004\n",
      "Epoch 4/20\n",
      "395/395 [==============================] - 8s 20ms/step - loss: 0.0044================>............] - ETA: 2s - loss: 0.004\n",
      "Epoch 10/20\n",
      "241/395 [=================>............] - ETA: 2s - loss: 0.004"
     ]
    },
    {
     "name": "stderr",
     "output_type": "stream",
     "text": [
      "2023-05-02 11:29:22.276530: I tensorflow/core/grappler/optimizers/custom_graph_optimizer_registry.cc:114] Plugin optimizer for device_type GPU is enabled.\n"
     ]
    },
    {
     "name": "stdout",
     "output_type": "stream",
     "text": [
      "395/395 [==============================] - 8s 20ms/step - loss: 0.0044\n",
      "395/395 [==============================] - 7s 18ms/step - loss: 0.0044\n",
      "Epoch 8/20\n",
      "177/395 [============>.................] - ETA: 4s - loss: 0.0033"
     ]
    },
    {
     "name": "stderr",
     "output_type": "stream",
     "text": [
      "2023-05-02 11:29:22.724169: I tensorflow/core/grappler/optimizers/custom_graph_optimizer_registry.cc:114] Plugin optimizer for device_type GPU is enabled.\n"
     ]
    },
    {
     "name": "stdout",
     "output_type": "stream",
     "text": [
      "395/395 [==============================] - 8s 19ms/step - loss: 0.0042==========>...............] - ETA: 3s - loss: 0.004\n",
      "395/395 [==============================] - 7s 18ms/step - loss: 0.0041\n",
      "381/395 [===========================>..] - ETA: 0s - loss: 0.0043Epoch 10/20\n",
      "395/395 [==============================] - 8s 19ms/step - loss: 0.0043\n",
      "177/395 [============>...............] - ETA: 0s - loss: 0.003"
     ]
    },
    {
     "name": "stderr",
     "output_type": "stream",
     "text": [
      "2023-05-02 11:29:23.863662: I tensorflow/core/grappler/optimizers/custom_graph_optimizer_registry.cc:114] Plugin optimizer for device_type GPU is enabled.\n"
     ]
    },
    {
     "name": "stdout",
     "output_type": "stream",
     "text": [
      ".............] - ETA: 4s - loss: 0.0039Epoch 14/20\n",
      "85/99 [========================>.....] - ETA: 0s - loss: 0.003042   "
     ]
    },
    {
     "name": "stderr",
     "output_type": "stream",
     "text": [
      "2023-05-02 11:29:24.206959: I tensorflow/core/grappler/optimizers/custom_graph_optimizer_registry.cc:114] Plugin optimizer for device_type GPU is enabled.\n"
     ]
    },
    {
     "name": "stdout",
     "output_type": "stream",
     "text": [
      "99/99 [==============================] - 3s 12ms/step - loss: 0.0038\n",
      "395/395 [==============================] - 7s 18ms/step - loss: 0.0041\n",
      " 69/395 [====>.........................] - ETA: 4s - loss: 0.0052Epoch 8/20\n",
      "395/395 [==============================] - 7s 18ms/step - loss: 0.0043\n",
      "Epoch 5/20\n",
      "99/99 [==============================] - 3s 13ms/step - loss: 0.0044\n",
      "395/395 [==============================] - 8s 19ms/step - loss: 0.0044\n",
      "Epoch 11/20\n",
      "395/395 [==============================] - 7s 17ms/step - loss: 0.0044\n",
      " 14/395 [>.............................] - ETA: 6s - loss: 0.0032Epoch 9/20\n",
      "395/395 [==============================] - 5s 12ms/step - loss: 0.0041\n",
      "120/395 [========>.....................] - ETA: 4s - loss: 0.0045Epoch 1/20\n",
      "395/395 [==============================] - 7s 17ms/step - loss: 0.0041\n",
      "Epoch 11/20\n",
      "395/395 [==============================] - 5s 12ms/step - loss: 0.0040\n",
      "395/395 [==============================] - 7s 19ms/step - loss: 0.0044\n",
      "Epoch 15/20\n",
      "363/395 [==========================>...] - ETA: 0s - loss: 0.0042Epoch 1/10\n",
      "395/395 [==============================] - 7s 17ms/step - loss: 0.0041\n",
      "Epoch 9/20\n",
      "395/395 [==============================] - 7s 17ms/step - loss: 0.0043\n",
      "Epoch 6/20\n",
      " 98/395 [======>.......................] - ETA: 4s - loss: 0.0049"
     ]
    },
    {
     "name": "stderr",
     "output_type": "stream",
     "text": [
      "2023-05-02 11:29:33.417569: I tensorflow/core/grappler/optimizers/custom_graph_optimizer_registry.cc:114] Plugin optimizer for device_type GPU is enabled.\n"
     ]
    },
    {
     "name": "stdout",
     "output_type": "stream",
     "text": [
      "395/395 [==============================] - 6s 16ms/step - loss: 0.0044\n",
      "Epoch 10/20\n",
      "170/395 [===========>..................] - ETA: 3s - loss: 0.0043"
     ]
    },
    {
     "name": "stderr",
     "output_type": "stream",
     "text": [
      "2023-05-02 11:29:34.233087: I tensorflow/core/grappler/optimizers/custom_graph_optimizer_registry.cc:114] Plugin optimizer for device_type GPU is enabled.\n"
     ]
    },
    {
     "name": "stdout",
     "output_type": "stream",
     "text": [
      "395/395 [==============================] - 7s 18ms/step - loss: 0.0044\n",
      "156/395 [==========>...................] - ETA: 3s - loss: 0.0046Epoch 12/20\n",
      " 34/395 [=>............................] - ETA: 5s - loss: 0.0040"
     ]
    },
    {
     "name": "stderr",
     "output_type": "stream",
     "text": [
      "2023-05-02 11:29:34.504680: I tensorflow/core/grappler/optimizers/custom_graph_optimizer_registry.cc:114] Plugin optimizer for device_type GPU is enabled.\n"
     ]
    },
    {
     "name": "stdout",
     "output_type": "stream",
     "text": [
      " 82/395 [=====>........................] - ETA: 5s - loss: 0.0041"
     ]
    },
    {
     "name": "stderr",
     "output_type": "stream",
     "text": [
      "2023-05-02 11:29:35.293441: I tensorflow/core/grappler/optimizers/custom_graph_optimizer_registry.cc:114] Plugin optimizer for device_type GPU is enabled.\n"
     ]
    },
    {
     "name": "stdout",
     "output_type": "stream",
     "text": [
      "395/395 [==============================] - 6s 16ms/step - loss: 0.0041\n",
      "Epoch 12/20\n",
      "169/395 [===========>..................] - ETA: 3s - loss: 0.0044 "
     ]
    },
    {
     "name": "stderr",
     "output_type": "stream",
     "text": [
      "2023-05-02 11:29:36.827755: I tensorflow/core/grappler/optimizers/custom_graph_optimizer_registry.cc:114] Plugin optimizer for device_type GPU is enabled.\n"
     ]
    },
    {
     "name": "stdout",
     "output_type": "stream",
     "text": [
      " 80/395 [=====>........................] - ETA: 5s - loss: 0.0045"
     ]
    },
    {
     "name": "stderr",
     "output_type": "stream",
     "text": [
      "2023-05-02 11:29:37.701773: I tensorflow/core/grappler/optimizers/custom_graph_optimizer_registry.cc:114] Plugin optimizer for device_type GPU is enabled.\n"
     ]
    },
    {
     "name": "stdout",
     "output_type": "stream",
     "text": [
      "395/395 [==============================] - 7s 18ms/step - loss: 0.0044\n",
      "Epoch 16/20\n",
      "395/395 [==============================] - 7s 17ms/step - loss: 0.0041\n",
      "Epoch 10/20\n",
      "395/395 [==============================] - 7s 17ms/step - loss: 0.0043\n",
      "Epoch 7/20\n",
      "395/395 [==============================] - 7s 18ms/step - loss: 0.0044.......] - ETA: 6s - loss: 0.004....] - ETA: 1s - loss: 0.035TA: 5s - loss: 0.004\n",
      "361/395 [==========================>...] - ETA: 0s - loss: 0.0315Epoch 11/20\n",
      "395/395 [==============================] - 12s 18ms/step - loss: 0.0293.......] - ETA: 2s - loss: 0.004\n",
      "Epoch 2/20\n",
      "395/395 [==============================] - 8s 20ms/step - loss: 0.0044\n",
      "Epoch 13/20\n",
      "198/198 [==============================] - 11s 23ms/step - loss: 0.0274\n",
      "Epoch 2/10\n",
      "395/395 [==============================] - 7s 19ms/step - loss: 0.0041\n",
      "Epoch 13/20\n",
      "395/395 [==============================] - 8s 19ms/step - loss: 0.0041\n",
      "395/395 [==============================] - 8s 20ms/step - loss: 0.0043\n",
      "243/395 [=================>............] - ETA: 2s - loss: 0.0045Epoch 11/20\n",
      "Epoch 17/20\n",
      "395/395 [==============================] - 8s 19ms/step - loss: 0.0043\n",
      "Epoch 8/20\n",
      "198/198 [==============================] - 4s 20ms/step - loss: 0.0131\n",
      "Epoch 3/10\n",
      "395/395 [==============================] - 7s 19ms/step - loss: 0.0045\n",
      "Epoch 12/20\n",
      "395/395 [==============================] - 7s 19ms/step - loss: 0.0052\n",
      "Epoch 3/20\n",
      "395/395 [==============================] - 8s 20ms/step - loss: 0.0044\n",
      "Epoch 14/20\n",
      "198/198 [==============================] - 4s 20ms/step - loss: 0.0101\n",
      "Epoch 4/10\n",
      "395/395 [==============================] - 8s 19ms/step - loss: 0.0041\n",
      "Epoch 14/20\n",
      "395/395 [==============================] - 7s 19ms/step - loss: 0.0041\n",
      "Epoch 12/20\n",
      "395/395 [==============================] - 8s 20ms/step - loss: 0.0044\n",
      "Epoch 18/20\n",
      "395/395 [==============================] - 8s 19ms/step - loss: 0.0043\n",
      "Epoch 9/20\n",
      "198/198 [==============================] - 4s 20ms/step - loss: 0.0092\n",
      "Epoch 5/10\n",
      "395/395 [==============================] - 7s 19ms/step - loss: 0.0044\n",
      "Epoch 13/20\n",
      "395/395 [==============================] - 7s 19ms/step - loss: 0.0045\n",
      "Epoch 4/20\n",
      "395/395 [==============================] - 8s 20ms/step - loss: 0.0044\n",
      "Epoch 15/20\n",
      "198/198 [==============================] - 4s 20ms/step - loss: 0.0088\n",
      "241/395 [=================>............] - ETA: 2s - loss: 0.0043Epoch 6/10\n",
      "395/395 [==============================] - 7s 18ms/step - loss: 0.0041\n",
      "Epoch 15/20\n",
      "395/395 [==============================] - 7s 19ms/step - loss: 0.0041\n",
      "Epoch 13/20\n",
      "395/395 [==============================] - 7s 18ms/step - loss: 0.0043\n",
      "134/198 [===================>..........] - ETA: 1s - loss: 0.0087Epoch 10/20\n",
      "395/395 [==============================] - 8s 20ms/step - loss: 0.0044\n",
      "Epoch 19/20\n",
      "198/198 [==============================] - 4s 20ms/step - loss: 0.0084\n",
      "Epoch 7/10\n",
      "395/395 [==============================] - 7s 18ms/step - loss: 0.0044\n",
      "Epoch 14/20\n",
      "395/395 [==============================] - 7s 18ms/step - loss: 0.0045\n",
      "Epoch 5/20\n",
      "395/395 [==============================] - 7s 19ms/step - loss: 0.0041\n",
      "Epoch 16/20\n",
      "395/395 [==============================] - 8s 20ms/step - loss: 0.0044\n",
      "  4/395 [..............................] - ETA: 7s - loss: 0.0021Epoch 16/20\n",
      "198/198 [==============================] - 4s 20ms/step - loss: 0.0075\n",
      "279/395 [====================>.........] - ETA: 2s - loss: 0.0042Epoch 8/10\n",
      "395/395 [==============================] - 7s 19ms/step - loss: 0.0042\n",
      " 90/198 [============>.................] - ETA: 2s - loss: 0.0060Epoch 14/20\n",
      "395/395 [==============================] - 7s 19ms/step - loss: 0.0043\n",
      "111/395 [=======>......................] - ETA: 5s - loss: 0.0045Epoch 11/20\n",
      "395/395 [==============================] - 8s 20ms/step - loss: 0.0044\n",
      "Epoch 20/20\n",
      "198/198 [==============================] - 4s 21ms/step - loss: 0.0054\n",
      "Epoch 9/10\n",
      "395/395 [==============================] - 7s 19ms/step - loss: 0.0044\n",
      "Epoch 15/20\n",
      "395/395 [==============================] - 7s 19ms/step - loss: 0.0045\n",
      " 91/395 [=====>........................] - ETA: 6s - loss: 0.0041Epoch 6/20\n",
      "395/395 [==============================] - 8s 19ms/step - loss: 0.0041\n",
      "Epoch 17/20\n",
      "395/395 [==============================] - 8s 20ms/step - loss: 0.0044\n",
      "Epoch 17/20\n",
      "198/198 [==============================] - 4s 19ms/step - loss: 0.0041\n",
      "Epoch 10/10\n",
      "395/395 [==============================] - 7s 19ms/step - loss: 0.0041\n",
      "Epoch 15/20\n",
      "395/395 [==============================] - 7s 18ms/step - loss: 0.0043\n",
      "Epoch 12/20\n",
      "395/395 [==============================] - 8s 20ms/step - loss: 0.0043\n",
      "395/395 [==============================] - 7s 18ms/step - loss: 0.0044\n",
      "Epoch 16/20\n",
      "198/198 [==============================] - 4s 19ms/step - loss: 0.0040\n",
      "395/395 [==============================] - 7s 18ms/step - loss: 0.0045\n",
      "Epoch 7/20\n",
      "145/395 [==========>...................] - ETA: 4s - loss: 0.0043"
     ]
    },
    {
     "name": "stderr",
     "output_type": "stream",
     "text": [
      "2023-05-02 11:30:18.372109: I tensorflow/core/grappler/optimizers/custom_graph_optimizer_registry.cc:114] Plugin optimizer for device_type GPU is enabled.\n"
     ]
    },
    {
     "name": "stdout",
     "output_type": "stream",
     "text": [
      "283/395 [====================>.........] - ETA: 1s - loss: 0.0039"
     ]
    },
    {
     "name": "stderr",
     "output_type": "stream",
     "text": [
      "2023-05-02 11:30:18.633679: I tensorflow/core/grappler/optimizers/custom_graph_optimizer_registry.cc:114] Plugin optimizer for device_type GPU is enabled.\n"
     ]
    },
    {
     "name": "stdout",
     "output_type": "stream",
     "text": [
      "183/395 [============>.................] - ETA: 3s - loss: 0.0044  "
     ]
    },
    {
     "name": "stderr",
     "output_type": "stream",
     "text": [
      "2023-05-02 11:30:18.917636: I tensorflow/core/grappler/optimizers/custom_graph_optimizer_registry.cc:114] Plugin optimizer for device_type GPU is enabled.\n"
     ]
    },
    {
     "name": "stdout",
     "output_type": "stream",
     "text": [
      " 94/395 [======>.......................] - ETA: 5s - loss: 0.0042"
     ]
    },
    {
     "name": "stderr",
     "output_type": "stream",
     "text": [
      "2023-05-02 11:30:19.287162: I tensorflow/core/grappler/optimizers/custom_graph_optimizer_registry.cc:114] Plugin optimizer for device_type GPU is enabled.\n"
     ]
    },
    {
     "name": "stdout",
     "output_type": "stream",
     "text": [
      "99/99 [==============================] - 3s 14ms/step - loss: 0.0037\n",
      "50/50 [==============================] - 2s 15ms/step - loss: 0.0048\n",
      "395/395 [==============================] - 7s 18ms/step - loss: 0.0040\n",
      "Epoch 18/20\n",
      "395/395 [==============================] - 8s 19ms/step - loss: 0.0044\n",
      "Epoch 18/20\n",
      "395/395 [==============================] - 7s 18ms/step - loss: 0.0041\n",
      "173/198 [=========================>....] - ETA: 0s - loss: 0.0040Epoch 16/20\n",
      "395/395 [==============================] - 7s 18ms/step - loss: 0.0043\n",
      "Epoch 13/20\n",
      "198/198 [==============================] - 3s 12ms/step - loss: 0.0039\n",
      "358/395 [==========================>...] - ETA: 0s - loss: 0.0044Epoch 1/10\n",
      "395/395 [==============================] - 7s 17ms/step - loss: 0.0044\n",
      "Epoch 17/20\n",
      "395/395 [==============================] - 7s 17ms/step - loss: 0.0045\n",
      "142/395 [=========>....................] - ETA: 4s - loss: 0.0043Epoch 8/20\n",
      "395/395 [==============================] - 5s 12ms/step - loss: 0.0042\n",
      "189/395 [=============>................] - ETA: 3s - loss: 0.0044Epoch 1/10\n",
      "395/395 [==============================] - 7s 17ms/step - loss: 0.0041\n",
      "Epoch 19/20\n",
      "395/395 [==============================] - 6s 16ms/step - loss: 0.0042\n",
      "Epoch 17/20\n",
      "395/395 [==============================] - 7s 18ms/step - loss: 0.0044\n",
      "Epoch 19/20\n",
      "395/395 [==============================] - 7s 16ms/step - loss: 0.0043\n",
      "Epoch 14/20\n",
      " 26/395 [>.............................] - ETA: 6s - loss: 0.0057"
     ]
    },
    {
     "name": "stderr",
     "output_type": "stream",
     "text": [
      "2023-05-02 11:30:29.247549: I tensorflow/core/grappler/optimizers/custom_graph_optimizer_registry.cc:114] Plugin optimizer for device_type GPU is enabled.\n"
     ]
    },
    {
     "name": "stdout",
     "output_type": "stream",
     "text": [
      "327/395 [=======================>......] - ETA: 1s - loss: 0.0047"
     ]
    },
    {
     "name": "stderr",
     "output_type": "stream",
     "text": [
      "2023-05-02 11:30:29.903933: I tensorflow/core/grappler/optimizers/custom_graph_optimizer_registry.cc:114] Plugin optimizer for device_type GPU is enabled.\n"
     ]
    },
    {
     "name": "stdout",
     "output_type": "stream",
     "text": [
      " 72/395 [====>.........................] - ETA: 5s - loss: 0.0043"
     ]
    },
    {
     "name": "stderr",
     "output_type": "stream",
     "text": [
      "2023-05-02 11:30:30.193971: I tensorflow/core/grappler/optimizers/custom_graph_optimizer_registry.cc:114] Plugin optimizer for device_type GPU is enabled.\n"
     ]
    },
    {
     "name": "stdout",
     "output_type": "stream",
     "text": [
      " 84/395 [=====>........................] - ETA: 5s - loss: 0.0043"
     ]
    },
    {
     "name": "stderr",
     "output_type": "stream",
     "text": [
      "2023-05-02 11:30:30.404976: I tensorflow/core/grappler/optimizers/custom_graph_optimizer_registry.cc:114] Plugin optimizer for device_type GPU is enabled.\n"
     ]
    },
    {
     "name": "stdout",
     "output_type": "stream",
     "text": [
      "231/395 [================>.............] - ETA: 2s - loss: 0.0042 "
     ]
    },
    {
     "name": "stderr",
     "output_type": "stream",
     "text": [
      "2023-05-02 11:30:30.947958: I tensorflow/core/grappler/optimizers/custom_graph_optimizer_registry.cc:114] Plugin optimizer for device_type GPU is enabled.\n"
     ]
    },
    {
     "name": "stdout",
     "output_type": "stream",
     "text": [
      "395/395 [==============================] - 7s 17ms/step - loss: 0.0044\n",
      "Epoch 18/20\n",
      "395/395 [==============================] - 6s 16ms/step - loss: 0.0046\n",
      "Epoch 9/20\n",
      "142/395 [=========>....................] - ETA: 4s - loss: 0.0043"
     ]
    },
    {
     "name": "stderr",
     "output_type": "stream",
     "text": [
      "2023-05-02 11:30:31.616357: I tensorflow/core/grappler/optimizers/custom_graph_optimizer_registry.cc:114] Plugin optimizer for device_type GPU is enabled.\n"
     ]
    },
    {
     "name": "stdout",
     "output_type": "stream",
     "text": [
      "395/395 [==============================] - 7s 17ms/step - loss: 0.0041\n",
      "Epoch 20/20\n",
      "198/198 [==============================] - 11s 22ms/step - loss: 0.0411\n",
      "Epoch 2/10\n",
      "395/395 [==============================] - 7s 18ms/step - loss: 0.0041\n",
      "Epoch 18/20\n",
      "198/198 [==============================] - 10s 21ms/step - loss: 0.0147\n",
      "Epoch 2/10\n",
      "395/395 [==============================] - 7s 18ms/step - loss: 0.0043\n",
      "Epoch 15/20\n",
      "395/395 [==============================] - 8s 20ms/step - loss: 0.0044\n",
      " 20/395 [>.............................] - ETA: 7s - loss: 0.0050Epoch 20/20\n",
      "395/395 [==============================] - 7s 18ms/step - loss: 0.0046\n",
      "Epoch 10/20\n",
      "395/395 [==============================] - 7s 18ms/step - loss: 0.0044\n",
      "  4/395 [..............................] - ETA: 7s - loss: 0.0032Epoch 19/20\n",
      "198/198 [==============================] - 4s 20ms/step - loss: 0.0058\n",
      "Epoch 3/10\n",
      "198/198 [==============================] - 4s 19ms/step - loss: 0.0048\n",
      "Epoch 3/10\n",
      "395/395 [==============================] - 7s 18ms/step - loss: 0.0041\n",
      "198/198 [==============================] - 4s 20ms/step - loss: 0.0043\n",
      "Epoch 4/10\n",
      "395/395 [==============================] - 7s 19ms/step - loss: 0.0041\n",
      "Epoch 19/20\n",
      "  8/395 [..............................] - ETA: 7s - loss: 0.0024    "
     ]
    },
    {
     "name": "stderr",
     "output_type": "stream",
     "text": [
      "2023-05-02 11:30:43.447338: I tensorflow/core/grappler/optimizers/custom_graph_optimizer_registry.cc:114] Plugin optimizer for device_type GPU is enabled.\n"
     ]
    },
    {
     "name": "stdout",
     "output_type": "stream",
     "text": [
      "198/198 [==============================] - 4s 20ms/step - loss: 0.0043\n",
      "291/395 [=====================>........] - ETA: 1s - loss: 0.0043Epoch 4/10\n",
      "395/395 [==============================] - 7s 19ms/step - loss: 0.0043\n",
      "Epoch 16/20\n",
      " 64/198 [========>.....................] - ETA: 2s - loss: 0.0040"
     ]
    },
    {
     "name": "stderr",
     "output_type": "stream",
     "text": [
      "2023-05-02 11:30:44.098162: I tensorflow/core/grappler/optimizers/custom_graph_optimizer_registry.cc:114] Plugin optimizer for device_type GPU is enabled.\n"
     ]
    },
    {
     "name": "stdout",
     "output_type": "stream",
     "text": [
      "395/395 [==============================] - 8s 20ms/step - loss: 0.0044\n",
      "395/395 [==============================] - 7s 18ms/step - loss: 0.0045\n",
      "128/198 [==================>...........] - ETA: 1s - loss: 0.0040Epoch 11/20\n",
      "99/99 [==============================] - 4s 13ms/step - loss: 0.0048\n",
      "395/395 [==============================] - 7s 18ms/step - loss: 0.0044\n",
      "Epoch 20/20\n",
      " 34/395 [=>............................] - ETA: 4s - loss: 0.0042"
     ]
    },
    {
     "name": "stderr",
     "output_type": "stream",
     "text": [
      "2023-05-02 11:30:45.899023: I tensorflow/core/grappler/optimizers/custom_graph_optimizer_registry.cc:114] Plugin optimizer for device_type GPU is enabled.\n"
     ]
    },
    {
     "name": "stdout",
     "output_type": "stream",
     "text": [
      "132/198 [===================>..........] - ETA: 1s - loss: 0.0043"
     ]
    },
    {
     "name": "stderr",
     "output_type": "stream",
     "text": [
      "2023-05-02 11:30:46.146942: I tensorflow/core/grappler/optimizers/custom_graph_optimizer_registry.cc:114] Plugin optimizer for device_type GPU is enabled.\n"
     ]
    },
    {
     "name": "stdout",
     "output_type": "stream",
     "text": [
      "198/198 [==============================] - 4s 19ms/step - loss: 0.0043\n",
      "161/198 [=======================>......] - ETA: 0s - loss: 0.0044Epoch 5/10\n",
      "198/198 [==============================] - 4s 19ms/step - loss: 0.0042\n",
      "Epoch 5/10\n",
      "99/99 [==============================] - 3s 13ms/step - loss: 0.0036\n",
      "395/395 [==============================] - 5s 12ms/step - loss: 0.0039\n",
      "395/395 [==============================] - 7s 18ms/step - loss: 0.0042\n",
      "Epoch 20/20\n",
      "198/198 [==============================] - 4s 19ms/step - loss: 0.0042\n",
      "Epoch 6/10\n",
      "395/395 [==============================] - 7s 17ms/step - loss: 0.0043\n",
      "Epoch 17/20\n",
      "198/198 [==============================] - 4s 19ms/step - loss: 0.0043\n",
      "Epoch 6/10\n",
      " 64/198 [========>.....................] - ETA: 2s - loss: 0.0041Epoch 1/10\n",
      "395/395 [==============================] - 7s 17ms/step - loss: 0.0045\n",
      "Epoch 12/20\n",
      "395/395 [==============================] - 7s 17ms/step - loss: 0.0044\n",
      "395/395 [==============================] - 4s 11ms/step - loss: 0.0042\n",
      "151/198 [=====================>........] - ETA: 0s - loss: 0.0043"
     ]
    },
    {
     "name": "stderr",
     "output_type": "stream",
     "text": [
      "2023-05-02 11:30:53.144213: I tensorflow/core/grappler/optimizers/custom_graph_optimizer_registry.cc:114] Plugin optimizer for device_type GPU is enabled.\n"
     ]
    },
    {
     "name": "stdout",
     "output_type": "stream",
     "text": [
      "160/198 [=======================>......] - ETA: 0s - loss: 0.0043Epoch 1/10\n",
      "128/198 [==================>...........] - ETA: 1s - loss: 0.0041"
     ]
    },
    {
     "name": "stderr",
     "output_type": "stream",
     "text": [
      "2023-05-02 11:30:53.376760: I tensorflow/core/grappler/optimizers/custom_graph_optimizer_registry.cc:114] Plugin optimizer for device_type GPU is enabled.\n"
     ]
    },
    {
     "name": "stdout",
     "output_type": "stream",
     "text": [
      "198/198 [==============================] - 4s 19ms/step - loss: 0.0043\n",
      "Epoch 7/10\n",
      "99/99 [==============================] - 2s 9ms/step - loss: 0.0041\n",
      "198/198 [==============================] - 4s 18ms/step - loss: 0.0042\n",
      "Epoch 7/10\n",
      " 36/198 [====>.........................] - ETA: 2s - loss: 0.0045"
     ]
    },
    {
     "name": "stderr",
     "output_type": "stream",
     "text": [
      "2023-05-02 11:30:55.364309: I tensorflow/core/grappler/optimizers/custom_graph_optimizer_registry.cc:114] Plugin optimizer for device_type GPU is enabled.\n"
     ]
    },
    {
     "name": "stdout",
     "output_type": "stream",
     "text": [
      " 85/198 [===========>..................] - ETA: 1s - loss: 0.0042"
     ]
    },
    {
     "name": "stderr",
     "output_type": "stream",
     "text": [
      "2023-05-02 11:30:56.183870: I tensorflow/core/grappler/optimizers/custom_graph_optimizer_registry.cc:114] Plugin optimizer for device_type GPU is enabled.\n"
     ]
    },
    {
     "name": "stdout",
     "output_type": "stream",
     "text": [
      "225/395 [================>.............] - ETA: 1s - loss: 0.0045"
     ]
    },
    {
     "name": "stderr",
     "output_type": "stream",
     "text": [
      "2023-05-02 11:30:56.515091: I tensorflow/core/grappler/optimizers/custom_graph_optimizer_registry.cc:114] Plugin optimizer for device_type GPU is enabled.\n"
     ]
    },
    {
     "name": "stdout",
     "output_type": "stream",
     "text": [
      "395/395 [==============================] - 6s 16ms/step - loss: 0.0041\n",
      "120/198 [=================>............] - ETA: 1s - loss: 0.0041  "
     ]
    },
    {
     "name": "stderr",
     "output_type": "stream",
     "text": [
      "2023-05-02 11:30:56.811780: I tensorflow/core/grappler/optimizers/custom_graph_optimizer_registry.cc:114] Plugin optimizer for device_type GPU is enabled.\n"
     ]
    },
    {
     "name": "stdout",
     "output_type": "stream",
     "text": [
      "395/395 [==============================] - 7s 17ms/step - loss: 0.0043\n",
      "Epoch 18/20\n",
      " 33/198 [====>.........................] - ETA: 3s - loss: 0.5193"
     ]
    },
    {
     "name": "stderr",
     "output_type": "stream",
     "text": [
      "2023-05-02 11:30:57.473349: I tensorflow/core/grappler/optimizers/custom_graph_optimizer_registry.cc:114] Plugin optimizer for device_type GPU is enabled.\n",
      "2023-05-02 11:30:57.551029: I tensorflow/core/grappler/optimizers/custom_graph_optimizer_registry.cc:114] Plugin optimizer for device_type GPU is enabled.\n"
     ]
    },
    {
     "name": "stdout",
     "output_type": "stream",
     "text": [
      "174/198 [=========================>....] - ETA: 0s - loss: 0.0042"
     ]
    },
    {
     "name": "stderr",
     "output_type": "stream",
     "text": [
      "2023-05-02 11:30:57.886922: I tensorflow/core/grappler/optimizers/custom_graph_optimizer_registry.cc:114] Plugin optimizer for device_type GPU is enabled.\n"
     ]
    },
    {
     "name": "stdout",
     "output_type": "stream",
     "text": [
      "198/198 [==============================] - 4s 19ms/step - loss: 0.0043\n",
      "Epoch 8/10\n",
      " 57/395 [===>..........................] - ETA: 5s - loss: 0.0048"
     ]
    },
    {
     "name": "stderr",
     "output_type": "stream",
     "text": [
      "2023-05-02 11:30:58.130449: I tensorflow/core/grappler/optimizers/custom_graph_optimizer_registry.cc:114] Plugin optimizer for device_type GPU is enabled.\n"
     ]
    },
    {
     "name": "stdout",
     "output_type": "stream",
     "text": [
      "198/198 [==============================] - 4s 19ms/step - loss: 0.0042\n",
      "Epoch 8/10\n",
      "395/395 [==============================] - 4s 11ms/step - loss: 0.0043\n",
      "395/395 [==============================] - 7s 17ms/step - loss: 0.0045\n",
      " 22/198 [==>...........................] - ETA: 3s - loss: 0.0043Epoch 13/20\n",
      "99/99 [==============================] - 2s 13ms/step - loss: 0.0044\n",
      "129/395 [========>.....................] - ETA: 4s - loss: 0.0046Epoch 1/10\n",
      "198/198 [==============================] - 9s 21ms/step - loss: 0.3345\n",
      "Epoch 2/10\n",
      "198/198 [==============================] - 4s 21ms/step - loss: 0.0043\n",
      " 57/198 [=======>......................] - ETA: 2s - loss: 0.1544Epoch 9/10\n",
      "198/198 [==============================] - 4s 20ms/step - loss: 0.0042\n",
      "Epoch 9/10\n",
      "198/198 [==============================] - 9s 21ms/step - loss: 0.1173\n",
      "205/395 [==============>...............] - ETA: 3s - loss: 0.0043Epoch 2/10\n",
      "395/395 [==============================] - 5s 12ms/step - loss: 0.0040\n",
      "395/395 [==============================] - 7s 18ms/step - loss: 0.0043\n",
      " 97/198 [=============>................] - ETA: 1s - loss: 0.0480Epoch 19/20\n",
      "198/198 [==============================] - 4s 20ms/step - loss: 0.1184\n",
      " 28/395 [=>............................] - ETA: 6s - loss: 0.0045Epoch 3/10\n",
      "123/198 [=================>............] - ETA: 1s - loss: 0.0457Epoch 1/10\n",
      "395/395 [==============================] - 7s 17ms/step - loss: 0.0045\n",
      "Epoch 14/20\n",
      "198/198 [==============================] - 4s 19ms/step - loss: 0.0043\n",
      "181/198 [==========================>...] - ETA: 0s - loss: 0.0404Epoch 10/10\n",
      "198/198 [==============================] - 4s 19ms/step - loss: 0.0042\n",
      "Epoch 10/10\n",
      "  5/198 [..............................] - ETA: 2s - loss: 0.0043"
     ]
    },
    {
     "name": "stderr",
     "output_type": "stream",
     "text": [
      "2023-05-02 11:31:05.939125: I tensorflow/core/grappler/optimizers/custom_graph_optimizer_registry.cc:114] Plugin optimizer for device_type GPU is enabled.\n"
     ]
    },
    {
     "name": "stdout",
     "output_type": "stream",
     "text": [
      "198/198 [==============================] - 4s 18ms/step - loss: 0.0388\n",
      "Epoch 3/10\n",
      "165/395 [===========>..................] - ETA: 3s - loss: 0.0042"
     ]
    },
    {
     "name": "stderr",
     "output_type": "stream",
     "text": [
      "2023-05-02 11:31:06.923506: I tensorflow/core/grappler/optimizers/custom_graph_optimizer_registry.cc:114] Plugin optimizer for device_type GPU is enabled.\n"
     ]
    },
    {
     "name": "stdout",
     "output_type": "stream",
     "text": [
      "142/198 [====================>.........] - ETA: 1s - loss: 0.0592"
     ]
    },
    {
     "name": "stderr",
     "output_type": "stream",
     "text": [
      "2023-05-02 11:31:07.465023: I tensorflow/core/grappler/optimizers/custom_graph_optimizer_registry.cc:114] Plugin optimizer for device_type GPU is enabled.\n"
     ]
    },
    {
     "name": "stdout",
     "output_type": "stream",
     "text": [
      "198/198 [==============================] - 4s 19ms/step - loss: 0.0530\n",
      "Epoch 4/10\n",
      "198/198 [==============================] - 4s 20ms/step - loss: 0.0043\n",
      "198/198 [==============================] - 4s 19ms/step - loss: 0.0042\n",
      "198/198 [==============================] - 4s 20ms/step - loss: 0.0163\n",
      "Epoch 4/10\n",
      " 11/198 [>.............................] - ETA: 3s - loss: 0.0109"
     ]
    },
    {
     "name": "stderr",
     "output_type": "stream",
     "text": [
      "2023-05-02 11:31:10.186414: I tensorflow/core/grappler/optimizers/custom_graph_optimizer_registry.cc:114] Plugin optimizer for device_type GPU is enabled.\n",
      "2023-05-02 11:31:10.377702: I tensorflow/core/grappler/optimizers/custom_graph_optimizer_registry.cc:114] Plugin optimizer for device_type GPU is enabled.\n"
     ]
    },
    {
     "name": "stdout",
     "output_type": "stream",
     "text": [
      " 35/198 [====>.........................] - ETA: 2s - loss: 0.0104"
     ]
    },
    {
     "name": "stderr",
     "output_type": "stream",
     "text": [
      "2023-05-02 11:31:10.589392: I tensorflow/core/grappler/optimizers/custom_graph_optimizer_registry.cc:114] Plugin optimizer for device_type GPU is enabled.\n"
     ]
    },
    {
     "name": "stdout",
     "output_type": "stream",
     "text": [
      "50/50 [==============================] - 1s 10ms/step - loss: 0.0041\n",
      "395/395 [==============================] - 7s 17ms/step - loss: 0.0043\n",
      "Epoch 20/20\n",
      "198/198 [==============================] - 12s 17ms/step - loss: 0.0044\n",
      "Epoch 2/10\n",
      "  1/198 [..............................] - ETA: 2s - loss: 0.0038"
     ]
    },
    {
     "name": "stderr",
     "output_type": "stream",
     "text": [
      "2023-05-02 11:31:11.208744: I tensorflow/core/grappler/optimizers/custom_graph_optimizer_registry.cc:114] Plugin optimizer for device_type GPU is enabled.\n"
     ]
    },
    {
     "name": "stdout",
     "output_type": "stream",
     "text": [
      " 23/395 [>.............................] - ETA: 6s - loss: 0.0038"
     ]
    },
    {
     "name": "stderr",
     "output_type": "stream",
     "text": [
      "2023-05-02 11:31:11.447481: I tensorflow/core/grappler/optimizers/custom_graph_optimizer_registry.cc:114] Plugin optimizer for device_type GPU is enabled.\n"
     ]
    },
    {
     "name": "stdout",
     "output_type": "stream",
     "text": [
      "198/198 [==============================] - 4s 19ms/step - loss: 0.0280\n",
      "Epoch 5/10\n",
      "395/395 [==============================] - 7s 17ms/step - loss: 0.0045\n",
      "Epoch 15/20\n",
      "145/198 [====================>.........] - ETA: 0s - loss: 0.0085"
     ]
    },
    {
     "name": "stderr",
     "output_type": "stream",
     "text": [
      "2023-05-02 11:31:12.657536: I tensorflow/core/grappler/optimizers/custom_graph_optimizer_registry.cc:114] Plugin optimizer for device_type GPU is enabled.\n"
     ]
    },
    {
     "name": "stdout",
     "output_type": "stream",
     "text": [
      "179/198 [==========================>...] - ETA: 0s - loss: 0.0043"
     ]
    },
    {
     "name": "stderr",
     "output_type": "stream",
     "text": [
      "2023-05-02 11:31:13.096842: I tensorflow/core/grappler/optimizers/custom_graph_optimizer_registry.cc:114] Plugin optimizer for device_type GPU is enabled.\n"
     ]
    },
    {
     "name": "stdout",
     "output_type": "stream",
     "text": [
      "198/198 [==============================] - 2s 12ms/step - loss: 0.0043\n",
      "198/198 [==============================] - 4s 19ms/step - loss: 0.0077\n",
      " 71/198 [=========>....................] - ETA: 2s - loss: 0.0192Epoch 5/10\n",
      "50/50 [==============================] - 2s 14ms/step - loss: 0.0047\n",
      " 48/198 [======>.......................] - ETA: 2s - loss: 0.0051Epoch 1/10\n",
      "198/198 [==============================] - 4s 18ms/step - loss: 0.0039\n",
      "Epoch 3/10\n",
      "198/198 [==============================] - 11s 19ms/step - loss: 0.0330\n",
      "Epoch 2/10\n",
      "198/198 [==============================] - 4s 19ms/step - loss: 0.0167\n",
      " 78/198 [==========>...................] - ETA: 1s - loss: 0.0043Epoch 6/10\n",
      "198/198 [==============================] - 2s 11ms/step - loss: 0.0043\n",
      " 92/198 [============>.................] - ETA: 1s - loss: 0.0113Epoch 1/10\n",
      "198/198 [==============================] - 4s 18ms/step - loss: 0.0049\n",
      "Epoch 6/10\n",
      "395/395 [==============================] - 7s 17ms/step - loss: 0.0044\n",
      "198/198 [==============================] - 3s 17ms/step - loss: 0.0040\n",
      "Epoch 4/10\n",
      "126/198 [==================>...........] - ETA: 1s - loss: 0.0114"
     ]
    },
    {
     "name": "stderr",
     "output_type": "stream",
     "text": [
      "2023-05-02 11:31:18.247507: I tensorflow/core/grappler/optimizers/custom_graph_optimizer_registry.cc:114] Plugin optimizer for device_type GPU is enabled.\n",
      "2023-05-02 11:31:18.258960: I tensorflow/core/grappler/optimizers/custom_graph_optimizer_registry.cc:114] Plugin optimizer for device_type GPU is enabled.\n"
     ]
    },
    {
     "name": "stdout",
     "output_type": "stream",
     "text": [
      "188/198 [===========================>..] - ETA: 0s - loss: 0.0095"
     ]
    },
    {
     "name": "stderr",
     "output_type": "stream",
     "text": [
      "2023-05-02 11:31:18.514462: I tensorflow/core/grappler/optimizers/custom_graph_optimizer_registry.cc:114] Plugin optimizer for device_type GPU is enabled.\n"
     ]
    },
    {
     "name": "stdout",
     "output_type": "stream",
     "text": [
      "198/198 [==============================] - 3s 17ms/step - loss: 0.0093\n",
      "Epoch 3/10\n",
      "48/99 [=============>................] - ETA: 0s - loss: 0.00353"
     ]
    },
    {
     "name": "stderr",
     "output_type": "stream",
     "text": [
      "2023-05-02 11:31:19.073661: I tensorflow/core/grappler/optimizers/custom_graph_optimizer_registry.cc:114] Plugin optimizer for device_type GPU is enabled.\n"
     ]
    },
    {
     "name": "stdout",
     "output_type": "stream",
     "text": [
      "395/395 [==============================] - 7s 17ms/step - loss: 0.0046\n",
      "Epoch 16/20\n",
      "106/198 [===============>..............] - ETA: 1s - loss: 0.0045"
     ]
    },
    {
     "name": "stderr",
     "output_type": "stream",
     "text": [
      "2023-05-02 11:31:19.342318: I tensorflow/core/grappler/optimizers/custom_graph_optimizer_registry.cc:114] Plugin optimizer for device_type GPU is enabled.\n"
     ]
    },
    {
     "name": "stdout",
     "output_type": "stream",
     "text": [
      "99/99 [==============================] - 2s 12ms/step - loss: 0.0036\n",
      "198/198 [==============================] - 4s 19ms/step - loss: 0.0109\n",
      "Epoch 7/10\n",
      "198/198 [==============================] - 4s 19ms/step - loss: 0.0043\n",
      "113/395 [=======>......................] - ETA: 4s - loss: 0.0043Epoch 7/10\n",
      "198/198 [==============================] - 4s 18ms/step - loss: 0.0040\n",
      "Epoch 5/10\n",
      "198/198 [==============================] - 4s 18ms/step - loss: 0.0052\n",
      "139/198 [====================>.........] - ETA: 1s - loss: 0.0083Epoch 4/10\n",
      "234/395 [================>.............] - ETA: 1s - loss: 0.0043"
     ]
    },
    {
     "name": "stderr",
     "output_type": "stream",
     "text": [
      "2023-05-02 11:31:22.460540: I tensorflow/core/grappler/optimizers/custom_graph_optimizer_registry.cc:114] Plugin optimizer for device_type GPU is enabled.\n"
     ]
    },
    {
     "name": "stdout",
     "output_type": "stream",
     "text": [
      "198/198 [==============================] - 9s 18ms/step - loss: 0.0104\n",
      "Epoch 2/10\n",
      "198/198 [==============================] - 4s 18ms/step - loss: 0.0077\n",
      " 12/198 [>.............................] - ETA: 2s - loss: 0.0053Epoch 8/10\n",
      " 24/198 [==>...........................] - ETA: 3s - loss: 0.0055"
     ]
    },
    {
     "name": "stderr",
     "output_type": "stream",
     "text": [
      "2023-05-02 11:31:23.581041: I tensorflow/core/grappler/optimizers/custom_graph_optimizer_registry.cc:114] Plugin optimizer for device_type GPU is enabled.\n"
     ]
    },
    {
     "name": "stdout",
     "output_type": "stream",
     "text": [
      " 33/198 [====>.........................] - ETA: 3s - loss: 0.0070"
     ]
    },
    {
     "name": "stderr",
     "output_type": "stream",
     "text": [
      "2023-05-02 11:31:24.123563: I tensorflow/core/grappler/optimizers/custom_graph_optimizer_registry.cc:114] Plugin optimizer for device_type GPU is enabled.\n"
     ]
    },
    {
     "name": "stdout",
     "output_type": "stream",
     "text": [
      "395/395 [==============================] - 4s 11ms/step - loss: 0.0041\n",
      "198/198 [==============================] - 4s 19ms/step - loss: 0.0043\n",
      "Epoch 8/10\n",
      "198/198 [==============================] - 3s 17ms/step - loss: 0.0040\n",
      "Epoch 6/10\n",
      "391/395 [============================>.] - ETA: 0s - loss: 0.0045Epoch 1/10\n",
      "198/198 [==============================] - 3s 17ms/step - loss: 0.0044\n",
      " 80/198 [===========>..................] - ETA: 1s - loss: 0.0107Epoch 5/10\n",
      "395/395 [==============================] - 7s 17ms/step - loss: 0.0045\n",
      "Epoch 17/20\n",
      "198/198 [==============================] - 4s 18ms/step - loss: 0.0047\n",
      "105/198 [==============>...............] - ETA: 1s - loss: 0.0042Epoch 3/10\n",
      "198/198 [==============================] - 4s 19ms/step - loss: 0.0061\n",
      " 76/395 [====>.........................] - ETA: 6s - loss: 0.0044Epoch 9/10\n",
      "198/198 [==============================] - 11s 20ms/step - loss: 0.0093\n",
      "Epoch 2/10\n",
      "198/198 [==============================] - 4s 20ms/step - loss: 0.0043\n",
      "Epoch 9/10\n",
      "198/198 [==============================] - 4s 19ms/step - loss: 0.0039\n",
      "162/198 [=======================>......] - ETA: 0s - loss: 0.0044Epoch 7/10\n",
      "198/198 [==============================] - 4s 19ms/step - loss: 0.0043\n",
      "Epoch 6/10\n",
      "198/198 [==============================] - 4s 19ms/step - loss: 0.0047\n",
      "Epoch 4/10\n",
      "198/198 [==============================] - 4s 19ms/step - loss: 0.0051\n",
      "Epoch 10/10\n",
      "198/198 [==============================] - 3s 17ms/step - loss: 0.0076\n",
      "Epoch 3/10\n",
      "198/198 [==============================] - 3s 17ms/step - loss: 0.0039\n",
      "Epoch 8/10\n",
      "198/198 [==============================] - 4s 19ms/step - loss: 0.0043\n",
      "Epoch 10/10\n",
      "395/395 [==============================] - 7s 17ms/step - loss: 0.0046\n",
      "Epoch 18/20\n",
      "198/198 [==============================] - 3s 17ms/step - loss: 0.0043\n",
      "Epoch 7/10\n",
      " 80/198 [===========>..................] - ETA: 2s - loss: 0.0039"
     ]
    },
    {
     "name": "stderr",
     "output_type": "stream",
     "text": [
      "2023-05-02 11:31:33.530378: I tensorflow/core/grappler/optimizers/custom_graph_optimizer_registry.cc:114] Plugin optimizer for device_type GPU is enabled.\n"
     ]
    },
    {
     "name": "stdout",
     "output_type": "stream",
     "text": [
      "198/198 [==============================] - 3s 17ms/step - loss: 0.0047\n",
      "Epoch 5/10\n",
      "198/198 [==============================] - 4s 18ms/step - loss: 0.0047\n",
      "118/395 [=======>......................] - ETA: 4s - loss: 0.0045"
     ]
    },
    {
     "name": "stderr",
     "output_type": "stream",
     "text": [
      "2023-05-02 11:31:34.622428: I tensorflow/core/grappler/optimizers/custom_graph_optimizer_registry.cc:114] Plugin optimizer for device_type GPU is enabled.\n"
     ]
    },
    {
     "name": "stdout",
     "output_type": "stream",
     "text": [
      "129/198 [==================>...........] - ETA: 1s - loss: 0.0045"
     ]
    },
    {
     "name": "stderr",
     "output_type": "stream",
     "text": [
      "2023-05-02 11:31:35.025724: I tensorflow/core/grappler/optimizers/custom_graph_optimizer_registry.cc:114] Plugin optimizer for device_type GPU is enabled.\n"
     ]
    },
    {
     "name": "stdout",
     "output_type": "stream",
     "text": [
      "198/198 [==============================] - 3s 17ms/step - loss: 0.0067\n",
      "Epoch 4/10\n",
      "198/198 [==============================] - 3s 18ms/step - loss: 0.0040\n",
      "Epoch 9/10\n",
      " 43/198 [=====>........................] - ETA: 2s - loss: 0.2779"
     ]
    },
    {
     "name": "stderr",
     "output_type": "stream",
     "text": [
      "2023-05-02 11:31:35.858074: I tensorflow/core/grappler/optimizers/custom_graph_optimizer_registry.cc:114] Plugin optimizer for device_type GPU is enabled.\n"
     ]
    },
    {
     "name": "stdout",
     "output_type": "stream",
     "text": [
      "198/198 [==============================] - 4s 19ms/step - loss: 0.0043\n",
      "198/198 [==============================] - 3s 17ms/step - loss: 0.0043\n",
      "Epoch 8/10\n",
      " 35/198 [====>.........................] - ETA: 2s - loss: 0.0044"
     ]
    },
    {
     "name": "stderr",
     "output_type": "stream",
     "text": [
      "2023-05-02 11:31:36.354814: I tensorflow/core/grappler/optimizers/custom_graph_optimizer_registry.cc:114] Plugin optimizer for device_type GPU is enabled.\n"
     ]
    },
    {
     "name": "stdout",
     "output_type": "stream",
     "text": [
      "50/50 [==============================] - 2s 13ms/step - loss: 0.0041\n",
      "198/198 [==============================] - 3s 17ms/step - loss: 0.0046\n",
      "Epoch 6/10\n",
      "129/198 [==================>...........] - ETA: 1s - loss: 0.1552"
     ]
    },
    {
     "name": "stderr",
     "output_type": "stream",
     "text": [
      "2023-05-02 11:31:37.289990: I tensorflow/core/grappler/optimizers/custom_graph_optimizer_registry.cc:114] Plugin optimizer for device_type GPU is enabled.\n"
     ]
    },
    {
     "name": "stdout",
     "output_type": "stream",
     "text": [
      " 3/50 [>.............................] - ETA: 1s - loss: 0.0061  "
     ]
    },
    {
     "name": "stderr",
     "output_type": "stream",
     "text": [
      "2023-05-02 11:31:37.528639: I tensorflow/core/grappler/optimizers/custom_graph_optimizer_registry.cc:114] Plugin optimizer for device_type GPU is enabled.\n"
     ]
    },
    {
     "name": "stdout",
     "output_type": "stream",
     "text": [
      "50/50 [==============================] - 2s 15ms/step - loss: 0.0036\n",
      "198/198 [==============================] - 4s 18ms/step - loss: 0.0060\n",
      "354/395 [=========================>....] - ETA: 0s - loss: 0.0045Epoch 5/10\n",
      "198/198 [==============================] - 13s 18ms/step - loss: 0.1194\n",
      "Epoch 2/10\n",
      "198/198 [==============================] - 4s 18ms/step - loss: 0.0040\n",
      "102/198 [==============>...............] - ETA: 1s - loss: 0.0049Epoch 10/10\n",
      "395/395 [==============================] - 7s 17ms/step - loss: 0.0045\n",
      "Epoch 19/20\n",
      "198/198 [==============================] - 4s 18ms/step - loss: 0.0042\n",
      " 31/198 [===>..........................] - ETA: 3s - loss: 0.0043Epoch 9/10\n",
      "198/198 [==============================] - 2s 12ms/step - loss: 0.0047\n",
      "162/198 [=======================>......] - ETA: 0s - loss: 0.0043Epoch 1/10\n",
      "198/198 [==============================] - 4s 18ms/step - loss: 0.0046\n",
      "Epoch 7/10\n",
      "198/198 [==============================] - 2s 12ms/step - loss: 0.0042\n",
      "106/198 [===============>..............] - ETA: 1s - loss: 0.0044Epoch 1/10\n",
      "198/198 [==============================] - 4s 19ms/step - loss: 0.0053\n",
      "Epoch 6/10\n",
      "198/198 [==============================] - 4s 19ms/step - loss: 0.0305\n",
      "Epoch 3/10\n",
      "198/198 [==============================] - 4s 19ms/step - loss: 0.0039\n",
      "198/198 [==============================] - 4s 19ms/step - loss: 0.0042\n",
      "Epoch 10/10\n",
      "143/198 [====================>.........] - ETA: 1s - loss: 0.0045"
     ]
    },
    {
     "name": "stderr",
     "output_type": "stream",
     "text": [
      "2023-05-02 11:31:43.618777: I tensorflow/core/grappler/optimizers/custom_graph_optimizer_registry.cc:114] Plugin optimizer for device_type GPU is enabled.\n"
     ]
    },
    {
     "name": "stdout",
     "output_type": "stream",
     "text": [
      "151/198 [=====================>........] - ETA: 0s - loss: 0.0046"
     ]
    },
    {
     "name": "stderr",
     "output_type": "stream",
     "text": [
      "2023-05-02 11:31:43.917803: I tensorflow/core/grappler/optimizers/custom_graph_optimizer_registry.cc:114] Plugin optimizer for device_type GPU is enabled.\n"
     ]
    },
    {
     "name": "stdout",
     "output_type": "stream",
     "text": [
      "50/50 [==============================] - 2s 18ms/step - loss: 0.0048\n",
      "198/198 [==============================] - 4s 20ms/step - loss: 0.0046\n",
      "Epoch 8/10\n",
      "127/198 [==================>...........] - ETA: 1s - loss: 0.0053"
     ]
    },
    {
     "name": "stderr",
     "output_type": "stream",
     "text": [
      "2023-05-02 11:31:44.876450: I tensorflow/core/grappler/optimizers/custom_graph_optimizer_registry.cc:114] Plugin optimizer for device_type GPU is enabled.\n"
     ]
    },
    {
     "name": "stdout",
     "output_type": "stream",
     "text": [
      "138/198 [===================>..........] - ETA: 1s - loss: 0.0051"
     ]
    },
    {
     "name": "stderr",
     "output_type": "stream",
     "text": [
      "2023-05-02 11:31:45.258172: I tensorflow/core/grappler/optimizers/custom_graph_optimizer_registry.cc:114] Plugin optimizer for device_type GPU is enabled.\n",
      "2023-05-02 11:31:45.454217: I tensorflow/core/grappler/optimizers/custom_graph_optimizer_registry.cc:114] Plugin optimizer for device_type GPU is enabled.\n"
     ]
    },
    {
     "name": "stdout",
     "output_type": "stream",
     "text": [
      "  3/198 [..............................] - ETA: 5s - loss: 0.0546   "
     ]
    },
    {
     "name": "stderr",
     "output_type": "stream",
     "text": [
      "2023-05-02 11:31:45.594836: I tensorflow/core/grappler/optimizers/custom_graph_optimizer_registry.cc:114] Plugin optimizer for device_type GPU is enabled.\n"
     ]
    },
    {
     "name": "stdout",
     "output_type": "stream",
     "text": [
      "198/198 [==============================] - 4s 19ms/step - loss: 0.0203\n",
      "Epoch 4/10\n",
      "198/198 [==============================] - 4s 20ms/step - loss: 0.0049\n",
      "Epoch 7/10\n",
      "384/395 [============================>.] - ETA: 0s - loss: 0.0045"
     ]
    },
    {
     "name": "stderr",
     "output_type": "stream",
     "text": [
      "2023-05-02 11:31:46.547411: I tensorflow/core/grappler/optimizers/custom_graph_optimizer_registry.cc:114] Plugin optimizer for device_type GPU is enabled.\n"
     ]
    },
    {
     "name": "stdout",
     "output_type": "stream",
     "text": [
      "395/395 [==============================] - 7s 18ms/step - loss: 0.0045\n",
      "Epoch 20/20\n",
      "170/198 [========================>.....] - ETA: 0s - loss: 0.0041"
     ]
    },
    {
     "name": "stderr",
     "output_type": "stream",
     "text": [
      "2023-05-02 11:31:46.929582: I tensorflow/core/grappler/optimizers/custom_graph_optimizer_registry.cc:114] Plugin optimizer for device_type GPU is enabled.\n"
     ]
    },
    {
     "name": "stdout",
     "output_type": "stream",
     "text": [
      "198/198 [==============================] - 4s 19ms/step - loss: 0.0043\n",
      "198/198 [==============================] - 3s 13ms/step - loss: 0.0039\n",
      " 63/198 [========>.....................] - ETA: 2s - loss: 0.1090"
     ]
    },
    {
     "name": "stderr",
     "output_type": "stream",
     "text": [
      "2023-05-02 11:31:48.381297: I tensorflow/core/grappler/optimizers/custom_graph_optimizer_registry.cc:114] Plugin optimizer for device_type GPU is enabled.\n"
     ]
    },
    {
     "name": "stdout",
     "output_type": "stream",
     "text": [
      "140/198 [====================>.........] - ETA: 1s - loss: 0.0591Epoch 1/10\n",
      "198/198 [==============================] - 4s 18ms/step - loss: 0.0046\n",
      "Epoch 9/10\n",
      "138/198 [===================>..........] - ETA: 1s - loss: 0.0046"
     ]
    },
    {
     "name": "stderr",
     "output_type": "stream",
     "text": [
      "2023-05-02 11:31:48.683769: I tensorflow/core/grappler/optimizers/custom_graph_optimizer_registry.cc:114] Plugin optimizer for device_type GPU is enabled.\n"
     ]
    },
    {
     "name": "stdout",
     "output_type": "stream",
     "text": [
      "50/50 [==============================] - 2s 13ms/step - loss: 0.0040\n",
      "198/198 [==============================] - 9s 21ms/step - loss: 0.0464\n",
      "Epoch 2/10\n",
      "198/198 [==============================] - 3s 17ms/step - loss: 0.0046\n",
      "Epoch 8/10\n",
      "198/198 [==============================] - 4s 18ms/step - loss: 0.0163\n",
      "Epoch 5/10\n",
      "198/198 [==============================] - 9s 21ms/step - loss: 0.0779\n",
      "Epoch 2/10\n",
      "198/198 [==============================] - 2s 11ms/step - loss: 0.0042\n",
      "198/198 [==============================] - 3s 17ms/step - loss: 0.0045\n",
      "Epoch 10/10\n",
      "149/198 [=====================>........] - ETA: 0s - loss: 0.0076Epoch 1/10\n",
      "152/198 [======================>.......] - ETA: 0s - loss: 0.0075"
     ]
    },
    {
     "name": "stderr",
     "output_type": "stream",
     "text": [
      "2023-05-02 11:31:52.393664: I tensorflow/core/grappler/optimizers/custom_graph_optimizer_registry.cc:114] Plugin optimizer for device_type GPU is enabled.\n"
     ]
    },
    {
     "name": "stdout",
     "output_type": "stream",
     "text": [
      "198/198 [==============================] - 3s 16ms/step - loss: 0.0143\n",
      "Epoch 6/10\n",
      "198/198 [==============================] - 3s 17ms/step - loss: 0.0044\n",
      "Epoch 9/10\n",
      "395/395 [==============================] - 7s 16ms/step - loss: 0.0045\n",
      " 95/198 [=============>................] - ETA: 1s - loss: 0.0044"
     ]
    },
    {
     "name": "stderr",
     "output_type": "stream",
     "text": [
      "2023-05-02 11:31:53.274916: I tensorflow/core/grappler/optimizers/custom_graph_optimizer_registry.cc:114] Plugin optimizer for device_type GPU is enabled.\n"
     ]
    },
    {
     "name": "stdout",
     "output_type": "stream",
     "text": [
      "198/198 [==============================] - 4s 19ms/step - loss: 0.0072\n",
      "Epoch 3/10\n",
      "104/198 [==============>...............] - ETA: 1s - loss: 0.0043"
     ]
    },
    {
     "name": "stderr",
     "output_type": "stream",
     "text": [
      "2023-05-02 11:31:53.559245: I tensorflow/core/grappler/optimizers/custom_graph_optimizer_registry.cc:114] Plugin optimizer for device_type GPU is enabled.\n"
     ]
    },
    {
     "name": "stdout",
     "output_type": "stream",
     "text": [
      "123/198 [=================>............] - ETA: 1s - loss: 0.0043  "
     ]
    },
    {
     "name": "stderr",
     "output_type": "stream",
     "text": [
      "2023-05-02 11:31:53.934589: I tensorflow/core/grappler/optimizers/custom_graph_optimizer_registry.cc:114] Plugin optimizer for device_type GPU is enabled.\n"
     ]
    },
    {
     "name": "stdout",
     "output_type": "stream",
     "text": [
      " 36/198 [====>.........................] - ETA: 2s - loss: 0.0136"
     ]
    },
    {
     "name": "stderr",
     "output_type": "stream",
     "text": [
      "2023-05-02 11:31:54.317435: I tensorflow/core/grappler/optimizers/custom_graph_optimizer_registry.cc:114] Plugin optimizer for device_type GPU is enabled.\n"
     ]
    },
    {
     "name": "stdout",
     "output_type": "stream",
     "text": [
      "198/198 [==============================] - 4s 19ms/step - loss: 0.0305\n",
      "Epoch 3/10\n",
      "198/198 [==============================] - 4s 18ms/step - loss: 0.0045\n",
      "99/99 [==============================] - 2s 12ms/step - loss: 0.0039\n",
      " 61/198 [========>.....................] - ETA: 2s - loss: 0.0207"
     ]
    },
    {
     "name": "stderr",
     "output_type": "stream",
     "text": [
      "2023-05-02 11:31:56.083467: I tensorflow/core/grappler/optimizers/custom_graph_optimizer_registry.cc:114] Plugin optimizer for device_type GPU is enabled.\n"
     ]
    },
    {
     "name": "stdout",
     "output_type": "stream",
     "text": [
      "173/198 [=========================>....] - ETA: 0s - loss: 0.0043"
     ]
    },
    {
     "name": "stderr",
     "output_type": "stream",
     "text": [
      "2023-05-02 11:31:56.319331: I tensorflow/core/grappler/optimizers/custom_graph_optimizer_registry.cc:114] Plugin optimizer for device_type GPU is enabled.\n"
     ]
    },
    {
     "name": "stdout",
     "output_type": "stream",
     "text": [
      "198/198 [==============================] - 4s 18ms/step - loss: 0.0131\n",
      "27/50 [===============>..............] - ETA: 0s - loss: 0.0048Epoch 7/10\n",
      "198/198 [==============================] - 4s 18ms/step - loss: 0.0043\n",
      "Epoch 10/10\n",
      "172/198 [=========================>....] - ETA: 0s - loss: 0.0068"
     ]
    },
    {
     "name": "stderr",
     "output_type": "stream",
     "text": [
      "2023-05-02 11:31:56.969085: I tensorflow/core/grappler/optimizers/custom_graph_optimizer_registry.cc:114] Plugin optimizer for device_type GPU is enabled.\n"
     ]
    },
    {
     "name": "stdout",
     "output_type": "stream",
     "text": [
      "50/50 [==============================] - 2s 13ms/step - loss: 0.0050\n",
      "198/198 [==============================] - 4s 20ms/step - loss: 0.0050\n",
      "Epoch 4/10\n",
      "198/198 [==============================] - 9s 19ms/step - loss: 0.0065\n",
      "Epoch 2/10\n",
      " 85/198 [===========>..................] - ETA: 1s - loss: 0.0052"
     ]
    },
    {
     "name": "stderr",
     "output_type": "stream",
     "text": [
      "2023-05-02 11:31:58.046621: I tensorflow/core/grappler/optimizers/custom_graph_optimizer_registry.cc:114] Plugin optimizer for device_type GPU is enabled.\n"
     ]
    },
    {
     "name": "stdout",
     "output_type": "stream",
     "text": [
      "102/198 [==============>...............] - ETA: 1s - loss: 0.0044"
     ]
    },
    {
     "name": "stderr",
     "output_type": "stream",
     "text": [
      "2023-05-02 11:31:58.442164: I tensorflow/core/grappler/optimizers/custom_graph_optimizer_registry.cc:114] Plugin optimizer for device_type GPU is enabled.\n"
     ]
    },
    {
     "name": "stdout",
     "output_type": "stream",
     "text": [
      "198/198 [==============================] - 4s 20ms/step - loss: 0.0180\n",
      "Epoch 4/10\n",
      "198/198 [==============================] - 3s 13ms/step - loss: 0.0046\n",
      "198/198 [==============================] - 4s 18ms/step - loss: 0.0123\n",
      "Epoch 8/10\n",
      "395/395 [==============================] - 5s 12ms/step - loss: 0.0044\n",
      "198/198 [==============================] - 4s 18ms/step - loss: 0.0043\n",
      "  7/198 [>.............................] - ETA: 3s - loss: 0.0121Epoch 1/10\n",
      "117/198 [================>.............] - ETA: 1s - loss: 0.1067Epoch 1/10\n",
      "198/198 [==============================] - 4s 20ms/step - loss: 0.0049\n",
      "Epoch 5/10\n",
      "135/198 [===================>..........] - ETA: 1s - loss: 0.1002"
     ]
    },
    {
     "name": "stderr",
     "output_type": "stream",
     "text": [
      "2023-05-02 11:32:01.163090: I tensorflow/core/grappler/optimizers/custom_graph_optimizer_registry.cc:114] Plugin optimizer for device_type GPU is enabled.\n"
     ]
    },
    {
     "name": "stdout",
     "output_type": "stream",
     "text": [
      "198/198 [==============================] - 4s 19ms/step - loss: 0.0042\n",
      "Epoch 3/10\n",
      " 63/198 [========>.....................] - ETA: 2s - loss: 0.0124"
     ]
    },
    {
     "name": "stderr",
     "output_type": "stream",
     "text": [
      "2023-05-02 11:32:01.407001: I tensorflow/core/grappler/optimizers/custom_graph_optimizer_registry.cc:114] Plugin optimizer for device_type GPU is enabled.\n"
     ]
    },
    {
     "name": "stdout",
     "output_type": "stream",
     "text": [
      "50/50 [==============================] - 2s 18ms/step - loss: 0.0037\n",
      "198/198 [==============================] - 11s 22ms/step - loss: 0.0838\n",
      "Epoch 2/10\n",
      "198/198 [==============================] - 4s 22ms/step - loss: 0.0129\n",
      "Epoch 5/10\n",
      "198/198 [==============================] - 4s 20ms/step - loss: 0.0118\n",
      " 61/198 [========>.....................] - ETA: 2s - loss: 0.0117Epoch 9/10\n",
      " 11/198 [>.............................] - ETA: 3s - loss: 0.0116"
     ]
    },
    {
     "name": "stderr",
     "output_type": "stream",
     "text": [
      "2023-05-02 11:32:04.456789: I tensorflow/core/grappler/optimizers/custom_graph_optimizer_registry.cc:114] Plugin optimizer for device_type GPU is enabled.\n"
     ]
    },
    {
     "name": "stdout",
     "output_type": "stream",
     "text": [
      "198/198 [==============================] - 2s 12ms/step - loss: 0.0042\n",
      " 63/198 [========>.....................] - ETA: 2s - loss: 0.0109"
     ]
    },
    {
     "name": "stderr",
     "output_type": "stream",
     "text": [
      "2023-05-02 11:32:05.216394: I tensorflow/core/grappler/optimizers/custom_graph_optimizer_registry.cc:114] Plugin optimizer for device_type GPU is enabled.\n",
      "2023-05-02 11:32:05.347257: I tensorflow/core/grappler/optimizers/custom_graph_optimizer_registry.cc:114] Plugin optimizer for device_type GPU is enabled.\n"
     ]
    },
    {
     "name": "stdout",
     "output_type": "stream",
     "text": [
      "198/198 [==============================] - 4s 21ms/step - loss: 0.0048\n",
      "Epoch 6/10\n",
      "  7/198 [>.............................] - ETA: 3s - loss: 0.0041Epoch 1/10\n",
      "198/198 [==============================] - 4s 21ms/step - loss: 0.0041\n",
      "131/198 [==================>...........] - ETA: 1s - loss: 0.0104Epoch 4/10\n",
      " 81/198 [===========>..................] - ETA: 2s - loss: 0.0108"
     ]
    },
    {
     "name": "stderr",
     "output_type": "stream",
     "text": [
      "2023-05-02 11:32:05.715596: I tensorflow/core/grappler/optimizers/custom_graph_optimizer_registry.cc:114] Plugin optimizer for device_type GPU is enabled.\n",
      "2023-05-02 11:32:05.908191: I tensorflow/core/grappler/optimizers/custom_graph_optimizer_registry.cc:114] Plugin optimizer for device_type GPU is enabled.\n"
     ]
    },
    {
     "name": "stdout",
     "output_type": "stream",
     "text": [
      "172/198 [=========================>....] - ETA: 0s - loss: 0.0103"
     ]
    },
    {
     "name": "stderr",
     "output_type": "stream",
     "text": [
      "2023-05-02 11:32:06.461409: I tensorflow/core/grappler/optimizers/custom_graph_optimizer_registry.cc:114] Plugin optimizer for device_type GPU is enabled.\n"
     ]
    },
    {
     "name": "stdout",
     "output_type": "stream",
     "text": [
      "198/198 [==============================] - 4s 20ms/step - loss: 0.0270\n",
      "Epoch 3/10\n",
      "198/198 [==============================] - 4s 21ms/step - loss: 0.0102\n",
      "Epoch 6/10\n",
      "198/198 [==============================] - 4s 18ms/step - loss: 0.0114\n",
      " 45/198 [=====>........................] - ETA: 2s - loss: 0.0172Epoch 10/10\n",
      "198/198 [==============================] - 4s 20ms/step - loss: 0.0048\n",
      "Epoch 7/10\n",
      "198/198 [==============================] - 4s 20ms/step - loss: 0.0041\n",
      "Epoch 5/10\n",
      "198/198 [==============================] - 10s 21ms/step - loss: 0.0335\n",
      "151/198 [=====================>........] - ETA: 0s - loss: 0.0083Epoch 2/10\n",
      "198/198 [==============================] - 9s 19ms/step - loss: 0.0050\n",
      "Epoch 2/10\n",
      " 22/198 [==>...........................] - ETA: 2s - loss: 0.0038"
     ]
    },
    {
     "name": "stderr",
     "output_type": "stream",
     "text": [
      "2023-05-02 11:32:10.590559: I tensorflow/core/grappler/optimizers/custom_graph_optimizer_registry.cc:114] Plugin optimizer for device_type GPU is enabled.\n"
     ]
    },
    {
     "name": "stdout",
     "output_type": "stream",
     "text": [
      "198/198 [==============================] - 4s 19ms/step - loss: 0.0136\n",
      "Epoch 4/10\n",
      "198/198 [==============================] - 4s 19ms/step - loss: 0.0083\n",
      "Epoch 7/10\n",
      "198/198 [==============================] - 3s 18ms/step - loss: 0.0111\n",
      " 93/198 [=============>................] - ETA: 1s - loss: 0.0071"
     ]
    },
    {
     "name": "stderr",
     "output_type": "stream",
     "text": [
      "2023-05-02 11:32:11.775367: I tensorflow/core/grappler/optimizers/custom_graph_optimizer_registry.cc:114] Plugin optimizer for device_type GPU is enabled.\n"
     ]
    },
    {
     "name": "stdout",
     "output_type": "stream",
     "text": [
      "138/198 [===================>..........] - ETA: 1s - loss: 0.0041"
     ]
    },
    {
     "name": "stderr",
     "output_type": "stream",
     "text": [
      "2023-05-02 11:32:12.139171: I tensorflow/core/grappler/optimizers/custom_graph_optimizer_registry.cc:114] Plugin optimizer for device_type GPU is enabled.\n"
     ]
    },
    {
     "name": "stdout",
     "output_type": "stream",
     "text": [
      "115/198 [================>.............] - ETA: 1s - loss: 0.004197"
     ]
    },
    {
     "name": "stderr",
     "output_type": "stream",
     "text": [
      "2023-05-02 11:32:12.430232: I tensorflow/core/grappler/optimizers/custom_graph_optimizer_registry.cc:114] Plugin optimizer for device_type GPU is enabled.\n"
     ]
    },
    {
     "name": "stdout",
     "output_type": "stream",
     "text": [
      " 38/198 [====>.........................] - ETA: 2s - loss: 0.1677"
     ]
    },
    {
     "name": "stderr",
     "output_type": "stream",
     "text": [
      "2023-05-02 11:32:12.943404: I tensorflow/core/grappler/optimizers/custom_graph_optimizer_registry.cc:114] Plugin optimizer for device_type GPU is enabled.\n"
     ]
    },
    {
     "name": "stdout",
     "output_type": "stream",
     "text": [
      "198/198 [==============================] - 4s 19ms/step - loss: 0.0041\n",
      "121/198 [=================>............] - ETA: 1s - loss: 0.0070Epoch 6/10\n",
      "198/198 [==============================] - 4s 20ms/step - loss: 0.0047\n",
      "136/198 [===================>..........] - ETA: 1s - loss: 0.0091Epoch 8/10\n",
      "50/50 [==============================] - 2s 15ms/step - loss: 0.0092\n",
      "198/198 [==============================] - 4s 19ms/step - loss: 0.0057\n",
      "146/198 [=====================>........] - ETA: 1s - loss: 0.0069Epoch 3/10\n",
      "198/198 [==============================] - 4s 18ms/step - loss: 0.0041\n",
      " 28/198 [===>..........................] - ETA: 3s - loss: 0.0048Epoch 3/10\n",
      "198/198 [==============================] - 4s 20ms/step - loss: 0.0084\n",
      "Epoch 5/10\n",
      "198/198 [==============================] - 4s 20ms/step - loss: 0.0067\n",
      "Epoch 8/10\n",
      "198/198 [==============================] - 11s 19ms/step - loss: 0.0537\n",
      "Epoch 2/10\n",
      "198/198 [==============================] - 3s 15ms/step - loss: 0.0110\n",
      "198/198 [==============================] - 4s 20ms/step - loss: 0.0041\n",
      "Epoch 7/10\n",
      "198/198 [==============================] - 4s 20ms/step - loss: 0.0047\n",
      "122/198 [=================>............] - ETA: 1s - loss: 0.0057Epoch 9/10\n",
      "198/198 [==============================] - 4s 18ms/step - loss: 0.0040\n",
      "Epoch 4/10\n",
      "198/198 [==============================] - 4s 20ms/step - loss: 0.0043\n",
      "Epoch 4/10\n",
      " 34/198 [====>.........................] - ETA: 3s - loss: 0.0039Epoch 1/10\n",
      "198/198 [==============================] - 4s 20ms/step - loss: 0.0059\n",
      "Epoch 6/10\n",
      "198/198 [==============================] - 4s 20ms/step - loss: 0.0054\n",
      "Epoch 9/10\n",
      "198/198 [==============================] - 4s 18ms/step - loss: 0.0053\n",
      "Epoch 3/10\n",
      "198/198 [==============================] - 4s 19ms/step - loss: 0.0041\n",
      "Epoch 8/10\n",
      "198/198 [==============================] - 4s 18ms/step - loss: 0.0040\n",
      "Epoch 5/10\n",
      "198/198 [==============================] - 4s 19ms/step - loss: 0.0046\n",
      "Epoch 10/10\n",
      "198/198 [==============================] - 4s 19ms/step - loss: 0.0044\n",
      "Epoch 5/10\n",
      "198/198 [==============================] - 4s 19ms/step - loss: 0.0049\n",
      "Epoch 7/10\n",
      "198/198 [==============================] - 4s 20ms/step - loss: 0.0046\n",
      "Epoch 10/10\n",
      "198/198 [==============================] - 3s 17ms/step - loss: 0.0047\n",
      "Epoch 4/10\n",
      "174/198 [=========================>....] - ETA: 0s - loss: 0.0040"
     ]
    },
    {
     "name": "stderr",
     "output_type": "stream",
     "text": [
      "2023-05-02 11:32:24.190435: I tensorflow/core/grappler/optimizers/custom_graph_optimizer_registry.cc:114] Plugin optimizer for device_type GPU is enabled.\n"
     ]
    },
    {
     "name": "stdout",
     "output_type": "stream",
     "text": [
      "198/198 [==============================] - 3s 18ms/step - loss: 0.0040\n",
      " 95/198 [=============>................] - ETA: 1s - loss: 0.0043Epoch 6/10\n",
      "198/198 [==============================] - 4s 19ms/step - loss: 0.0041\n",
      "Epoch 9/10\n",
      "198/198 [==============================] - 4s 19ms/step - loss: 0.0046\n",
      "138/198 [===================>..........] - ETA: 1s - loss: 0.0044"
     ]
    },
    {
     "name": "stderr",
     "output_type": "stream",
     "text": [
      "2023-05-02 11:32:25.451161: I tensorflow/core/grappler/optimizers/custom_graph_optimizer_registry.cc:114] Plugin optimizer for device_type GPU is enabled.\n"
     ]
    },
    {
     "name": "stdout",
     "output_type": "stream",
     "text": [
      "198/198 [==============================] - 4s 20ms/step - loss: 0.0043\n",
      "Epoch 6/10\n",
      " 73/198 [==========>...................] - ETA: 2s - loss: 0.0037"
     ]
    },
    {
     "name": "stderr",
     "output_type": "stream",
     "text": [
      "2023-05-02 11:32:25.831008: I tensorflow/core/grappler/optimizers/custom_graph_optimizer_registry.cc:114] Plugin optimizer for device_type GPU is enabled.\n"
     ]
    },
    {
     "name": "stdout",
     "output_type": "stream",
     "text": [
      "198/198 [==============================] - 4s 19ms/step - loss: 0.0046\n",
      "Epoch 8/10\n",
      "198/198 [==============================] - 3s 17ms/step - loss: 0.0047\n",
      " 17/198 [=>............................] - ETA: 3s - loss: 0.0041Epoch 5/10\n",
      "198/198 [==============================] - 4s 19ms/step - loss: 0.0043\n",
      " 34/198 [====>.........................] - ETA: 3s - loss: 0.0043"
     ]
    },
    {
     "name": "stderr",
     "output_type": "stream",
     "text": [
      "2023-05-02 11:32:26.810015: I tensorflow/core/grappler/optimizers/custom_graph_optimizer_registry.cc:114] Plugin optimizer for device_type GPU is enabled.\n"
     ]
    },
    {
     "name": "stdout",
     "output_type": "stream",
     "text": [
      " 78/198 [==========>...................] - ETA: 2s - loss: 0.0044"
     ]
    },
    {
     "name": "stderr",
     "output_type": "stream",
     "text": [
      "2023-05-02 11:32:27.150227: I tensorflow/core/grappler/optimizers/custom_graph_optimizer_registry.cc:114] Plugin optimizer for device_type GPU is enabled.\n"
     ]
    },
    {
     "name": "stdout",
     "output_type": "stream",
     "text": [
      "50/50 [==============================] - 3s 13ms/step - loss: 0.0062\n",
      "119/198 [=================>............] - ETA: 1s - loss: 0.0045"
     ]
    },
    {
     "name": "stderr",
     "output_type": "stream",
     "text": [
      "2023-05-02 11:32:27.870721: I tensorflow/core/grappler/optimizers/custom_graph_optimizer_registry.cc:114] Plugin optimizer for device_type GPU is enabled.\n"
     ]
    },
    {
     "name": "stdout",
     "output_type": "stream",
     "text": [
      "198/198 [==============================] - 4s 18ms/step - loss: 0.0040\n",
      "Epoch 7/10\n",
      " 34/198 [====>.........................] - ETA: 2s - loss: 0.0051"
     ]
    },
    {
     "name": "stderr",
     "output_type": "stream",
     "text": [
      "2023-05-02 11:32:28.336738: I tensorflow/core/grappler/optimizers/custom_graph_optimizer_registry.cc:114] Plugin optimizer for device_type GPU is enabled.\n"
     ]
    },
    {
     "name": "stdout",
     "output_type": "stream",
     "text": [
      "198/198 [==============================] - 4s 20ms/step - loss: 0.0041\n",
      "Epoch 10/10\n",
      "50/50 [==============================] - 2s 13ms/step - loss: 0.0040\n",
      "198/198 [==============================] - 4s 20ms/step - loss: 0.0044\n",
      " 41/198 [=====>........................] - ETA: 2s - loss: 0.0037Epoch 7/10\n",
      "198/198 [==============================] - 12s 21ms/step - loss: 0.0452\n",
      " 27/198 [===>..........................] - ETA: 3s - loss: 0.0055Epoch 2/10\n",
      "198/198 [==============================] - 4s 20ms/step - loss: 0.0045\n",
      "Epoch 9/10\n",
      "198/198 [==============================] - 4s 19ms/step - loss: 0.0047\n",
      "Epoch 6/10\n",
      "198/198 [==============================] - 3s 13ms/step - loss: 0.0049\n",
      "123/198 [=================>............] - ETA: 1s - loss: 0.0041Epoch 1/10\n",
      "198/198 [==============================] - 4s 18ms/step - loss: 0.0040\n",
      "Epoch 8/10\n",
      "198/198 [==============================] - 3s 13ms/step - loss: 0.0042\n",
      "198/198 [==============================] - 4s 19ms/step - loss: 0.0041\n",
      " 71/198 [=========>....................] - ETA: 2s - loss: 0.0040Epoch 1/10\n",
      "198/198 [==============================] - 3s 17ms/step - loss: 0.0051\n",
      "Epoch 3/10\n",
      "  1/198 [..............................] - ETA: 3s - loss: 0.0014"
     ]
    },
    {
     "name": "stderr",
     "output_type": "stream",
     "text": [
      "2023-05-02 11:32:33.353377: I tensorflow/core/grappler/optimizers/custom_graph_optimizer_registry.cc:114] Plugin optimizer for device_type GPU is enabled.\n"
     ]
    },
    {
     "name": "stdout",
     "output_type": "stream",
     "text": [
      "198/198 [==============================] - 4s 20ms/step - loss: 0.0044\n",
      "Epoch 8/10\n",
      "198/198 [==============================] - 3s 17ms/step - loss: 0.0046\n",
      "Epoch 7/10\n",
      " 4/50 [=>............................] - ETA: 0s - loss: 0.0051 2"
     ]
    },
    {
     "name": "stderr",
     "output_type": "stream",
     "text": [
      "2023-05-02 11:32:33.574752: I tensorflow/core/grappler/optimizers/custom_graph_optimizer_registry.cc:114] Plugin optimizer for device_type GPU is enabled.\n"
     ]
    },
    {
     "name": "stdout",
     "output_type": "stream",
     "text": [
      "198/198 [==============================] - 4s 19ms/step - loss: 0.0044\n",
      "Epoch 10/10\n",
      "50/50 [==============================] - 2s 12ms/step - loss: 0.0047\n",
      " 41/198 [=====>........................] - ETA: 2s - loss: 0.0048"
     ]
    },
    {
     "name": "stderr",
     "output_type": "stream",
     "text": [
      "2023-05-02 11:32:34.688055: I tensorflow/core/grappler/optimizers/custom_graph_optimizer_registry.cc:114] Plugin optimizer for device_type GPU is enabled.\n"
     ]
    },
    {
     "name": "stdout",
     "output_type": "stream",
     "text": [
      "198/198 [==============================] - 3s 16ms/step - loss: 0.0040\n",
      "Epoch 9/10\n",
      "125/198 [=================>............] - ETA: 1s - loss: 0.0045"
     ]
    },
    {
     "name": "stderr",
     "output_type": "stream",
     "text": [
      "2023-05-02 11:32:35.559458: I tensorflow/core/grappler/optimizers/custom_graph_optimizer_registry.cc:114] Plugin optimizer for device_type GPU is enabled.\n"
     ]
    },
    {
     "name": "stdout",
     "output_type": "stream",
     "text": [
      "128/198 [==================>...........] - ETA: 1s - loss: 0.0045"
     ]
    },
    {
     "name": "stderr",
     "output_type": "stream",
     "text": [
      "2023-05-02 11:32:35.824932: I tensorflow/core/grappler/optimizers/custom_graph_optimizer_registry.cc:114] Plugin optimizer for device_type GPU is enabled.\n"
     ]
    },
    {
     "name": "stdout",
     "output_type": "stream",
     "text": [
      "149/198 [=====================>........] - ETA: 0s - loss: 0.0044  "
     ]
    },
    {
     "name": "stderr",
     "output_type": "stream",
     "text": [
      "2023-05-02 11:32:36.189753: I tensorflow/core/grappler/optimizers/custom_graph_optimizer_registry.cc:114] Plugin optimizer for device_type GPU is enabled.\n"
     ]
    },
    {
     "name": "stdout",
     "output_type": "stream",
     "text": [
      "198/198 [==============================] - 2s 10ms/step - loss: 0.0043\n",
      "198/198 [==============================] - 3s 17ms/step - loss: 0.0045\n",
      "Epoch 4/10\n",
      "198/198 [==============================] - 3s 17ms/step - loss: 0.0046\n",
      " 56/198 [=======>......................] - ETA: 2s - loss: 0.1057Epoch 8/10\n",
      " 67/198 [=========>....................] - ETA: 2s - loss: 0.0924Epoch 1/10\n",
      "198/198 [==============================] - 4s 19ms/step - loss: 0.0044\n",
      "Epoch 9/10\n",
      "122/198 [=================>............] - ETA: 1s - loss: 0.0042"
     ]
    },
    {
     "name": "stderr",
     "output_type": "stream",
     "text": [
      "2023-05-02 11:32:37.221802: I tensorflow/core/grappler/optimizers/custom_graph_optimizer_registry.cc:114] Plugin optimizer for device_type GPU is enabled.\n"
     ]
    },
    {
     "name": "stdout",
     "output_type": "stream",
     "text": [
      "181/198 [==========================>...] - ETA: 0s - loss: 0.0045"
     ]
    },
    {
     "name": "stderr",
     "output_type": "stream",
     "text": [
      "2023-05-02 11:32:37.526781: I tensorflow/core/grappler/optimizers/custom_graph_optimizer_registry.cc:114] Plugin optimizer for device_type GPU is enabled.\n"
     ]
    },
    {
     "name": "stdout",
     "output_type": "stream",
     "text": [
      "198/198 [==============================] - 4s 19ms/step - loss: 0.0044\n",
      "198/198 [==============================] - 4s 18ms/step - loss: 0.0040\n",
      "Epoch 10/10\n",
      " 97/198 [=============>................] - ETA: 1s - loss: 0.0046"
     ]
    },
    {
     "name": "stderr",
     "output_type": "stream",
     "text": [
      "2023-05-02 11:32:38.741604: I tensorflow/core/grappler/optimizers/custom_graph_optimizer_registry.cc:114] Plugin optimizer for device_type GPU is enabled.\n"
     ]
    },
    {
     "name": "stdout",
     "output_type": "stream",
     "text": [
      "100/198 [==============>...............] - ETA: 1s - loss: 0.0047"
     ]
    },
    {
     "name": "stderr",
     "output_type": "stream",
     "text": [
      "2023-05-02 11:32:39.048736: I tensorflow/core/grappler/optimizers/custom_graph_optimizer_registry.cc:114] Plugin optimizer for device_type GPU is enabled.\n"
     ]
    },
    {
     "name": "stdout",
     "output_type": "stream",
     "text": [
      "198/198 [==============================] - 8s 18ms/step - loss: 0.0366\n",
      "Epoch 2/10\n",
      "50/50 [==============================] - 2s 17ms/step - loss: 0.0038\n",
      "198/198 [==============================] - 3s 18ms/step - loss: 0.0044\n",
      "Epoch 5/10\n",
      "198/198 [==============================] - 4s 18ms/step - loss: 0.0046\n",
      "Epoch 9/10\n",
      "198/198 [==============================] - 4s 20ms/step - loss: 0.0044\n",
      "Epoch 10/10\n",
      "198/198 [==============================] - 8s 18ms/step - loss: 0.0051\n",
      "Epoch 2/10\n",
      "198/198 [==============================] - 4s 19ms/step - loss: 0.0040\n",
      "198/198 [==============================] - 2s 12ms/step - loss: 0.0044\n",
      "165/198 [========================>.....] - ETA: 0s - loss: 0.0044"
     ]
    },
    {
     "name": "stderr",
     "output_type": "stream",
     "text": [
      "2023-05-02 11:32:42.902355: I tensorflow/core/grappler/optimizers/custom_graph_optimizer_registry.cc:114] Plugin optimizer for device_type GPU is enabled.\n"
     ]
    },
    {
     "name": "stdout",
     "output_type": "stream",
     "text": [
      "144/198 [====================>.........] - ETA: 1s - loss: 0.0045"
     ]
    },
    {
     "name": "stderr",
     "output_type": "stream",
     "text": [
      "2023-05-02 11:32:43.160674: I tensorflow/core/grappler/optimizers/custom_graph_optimizer_registry.cc:114] Plugin optimizer for device_type GPU is enabled.\n"
     ]
    },
    {
     "name": "stdout",
     "output_type": "stream",
     "text": [
      "148/198 [=====================>........] - ETA: 0s - loss: 0.0045"
     ]
    },
    {
     "name": "stderr",
     "output_type": "stream",
     "text": [
      "2023-05-02 11:32:43.392343: I tensorflow/core/grappler/optimizers/custom_graph_optimizer_registry.cc:114] Plugin optimizer for device_type GPU is enabled.\n"
     ]
    },
    {
     "name": "stdout",
     "output_type": "stream",
     "text": [
      "104/198 [==============>...............] - ETA: 2s - loss: 0.0044Epoch 1/10\n",
      "198/198 [==============================] - 4s 19ms/step - loss: 0.0044\n",
      "Epoch 3/10\n",
      "166/198 [========================>.....] - ETA: 0s - loss: 0.0045"
     ]
    },
    {
     "name": "stderr",
     "output_type": "stream",
     "text": [
      "2023-05-02 11:32:43.669194: I tensorflow/core/grappler/optimizers/custom_graph_optimizer_registry.cc:114] Plugin optimizer for device_type GPU is enabled.\n"
     ]
    },
    {
     "name": "stdout",
     "output_type": "stream",
     "text": [
      "22/50 [============>.................] - ETA: 0s - loss: 0.00574"
     ]
    },
    {
     "name": "stderr",
     "output_type": "stream",
     "text": [
      "2023-05-02 11:32:43.936425: I tensorflow/core/grappler/optimizers/custom_graph_optimizer_registry.cc:114] Plugin optimizer for device_type GPU is enabled.\n"
     ]
    },
    {
     "name": "stdout",
     "output_type": "stream",
     "text": [
      "198/198 [==============================] - 4s 20ms/step - loss: 0.0044\n",
      "Epoch 6/10\n",
      "50/50 [==============================] - 2s 20ms/step - loss: 0.0048\n",
      "198/198 [==============================] - 4s 20ms/step - loss: 0.0046\n",
      "Epoch 10/10\n",
      "198/198 [==============================] - 4s 19ms/step - loss: 0.0043\n",
      "Epoch 3/10\n",
      "198/198 [==============================] - 4s 21ms/step - loss: 0.0044\n",
      "107/198 [===============>..............] - ETA: 1s - loss: 0.0334"
     ]
    },
    {
     "name": "stderr",
     "output_type": "stream",
     "text": [
      "2023-05-02 11:32:46.178807: I tensorflow/core/grappler/optimizers/custom_graph_optimizer_registry.cc:114] Plugin optimizer for device_type GPU is enabled.\n",
      "2023-05-02 11:32:46.363901: I tensorflow/core/grappler/optimizers/custom_graph_optimizer_registry.cc:114] Plugin optimizer for device_type GPU is enabled.\n"
     ]
    },
    {
     "name": "stdout",
     "output_type": "stream",
     "text": [
      "127/198 [==================>...........] - ETA: 1s - loss: 0.0043"
     ]
    },
    {
     "name": "stderr",
     "output_type": "stream",
     "text": [
      "2023-05-02 11:32:46.438990: I tensorflow/core/grappler/optimizers/custom_graph_optimizer_registry.cc:114] Plugin optimizer for device_type GPU is enabled.\n"
     ]
    },
    {
     "name": "stdout",
     "output_type": "stream",
     "text": [
      "198/198 [==============================] - 2s 12ms/step - loss: 0.0039\n",
      "198/198 [==============================] - 4s 18ms/step - loss: 0.0043\n",
      "Epoch 4/10\n",
      "50/50 [==============================] - 2s 14ms/step - loss: 0.0038\n",
      " 10/198 [>.............................] - ETA: 3s - loss: 0.0044"
     ]
    },
    {
     "name": "stderr",
     "output_type": "stream",
     "text": [
      "2023-05-02 11:32:47.168368: I tensorflow/core/grappler/optimizers/custom_graph_optimizer_registry.cc:114] Plugin optimizer for device_type GPU is enabled.\n"
     ]
    },
    {
     "name": "stdout",
     "output_type": "stream",
     "text": [
      "190/198 [===========================>..] - ETA: 0s - loss: 0.0044Epoch 1/10\n",
      "193/198 [============================>.] - ETA: 0s - loss: 0.0044"
     ]
    },
    {
     "name": "stderr",
     "output_type": "stream",
     "text": [
      "2023-05-02 11:32:47.637092: I tensorflow/core/grappler/optimizers/custom_graph_optimizer_registry.cc:114] Plugin optimizer for device_type GPU is enabled.\n"
     ]
    },
    {
     "name": "stdout",
     "output_type": "stream",
     "text": [
      "198/198 [==============================] - 4s 18ms/step - loss: 0.0044\n",
      "185/198 [===========================>..] - ETA: 0s - loss: 0.0242Epoch 7/10\n",
      "198/198 [==============================] - 4s 18ms/step - loss: 0.0046\n",
      "198/198 [==============================] - 11s 21ms/step - loss: 0.0232\n",
      "Epoch 2/10\n",
      "145/198 [====================>.........] - ETA: 0s - loss: 0.0045"
     ]
    },
    {
     "name": "stderr",
     "output_type": "stream",
     "text": [
      "2023-05-02 11:32:48.708848: I tensorflow/core/grappler/optimizers/custom_graph_optimizer_registry.cc:114] Plugin optimizer for device_type GPU is enabled.\n"
     ]
    },
    {
     "name": "stdout",
     "output_type": "stream",
     "text": [
      "198/198 [==============================] - 4s 18ms/step - loss: 0.0043\n",
      "Epoch 4/10\n",
      " 4/50 [=>............................] - ETA: 1s - loss: 0.0046 4"
     ]
    },
    {
     "name": "stderr",
     "output_type": "stream",
     "text": [
      "2023-05-02 11:32:49.045197: I tensorflow/core/grappler/optimizers/custom_graph_optimizer_registry.cc:114] Plugin optimizer for device_type GPU is enabled.\n"
     ]
    },
    {
     "name": "stdout",
     "output_type": "stream",
     "text": [
      "198/198 [==============================] - 2s 11ms/step - loss: 0.0044\n",
      "50/50 [==============================] - 2s 11ms/step - loss: 0.0043\n",
      "143/198 [====================>.........] - ETA: 1s - loss: 0.0053Epoch 1/10\n",
      "198/198 [==============================] - 4s 18ms/step - loss: 0.0043\n",
      "Epoch 5/10\n",
      " 23/198 [==>...........................] - ETA: 2s - loss: 0.0035"
     ]
    },
    {
     "name": "stderr",
     "output_type": "stream",
     "text": [
      "2023-05-02 11:32:51.022179: I tensorflow/core/grappler/optimizers/custom_graph_optimizer_registry.cc:114] Plugin optimizer for device_type GPU is enabled.\n"
     ]
    },
    {
     "name": "stdout",
     "output_type": "stream",
     "text": [
      "198/198 [==============================] - 4s 18ms/step - loss: 0.0044\n",
      "163/198 [=======================>......] - ETA: 0s - loss: 0.0056Epoch 8/10\n",
      "198/198 [==============================] - 2s 10ms/step - loss: 0.0046\n",
      "198/198 [==============================] - 8s 20ms/step - loss: 0.0050\n",
      "Epoch 2/10\n",
      " 31/198 [===>..........................] - ETA: 2s - loss: 0.0050"
     ]
    },
    {
     "name": "stderr",
     "output_type": "stream",
     "text": [
      "2023-05-02 11:32:51.802695: I tensorflow/core/grappler/optimizers/custom_graph_optimizer_registry.cc:114] Plugin optimizer for device_type GPU is enabled.\n"
     ]
    },
    {
     "name": "stdout",
     "output_type": "stream",
     "text": [
      "198/198 [==============================] - 4s 19ms/step - loss: 0.0055\n",
      "Epoch 3/10\n"
     ]
    },
    {
     "name": "stderr",
     "output_type": "stream",
     "text": [
      "2023-05-02 11:32:52.129786: I tensorflow/core/grappler/optimizers/custom_graph_optimizer_registry.cc:114] Plugin optimizer for device_type GPU is enabled.\n"
     ]
    },
    {
     "name": "stdout",
     "output_type": "stream",
     "text": [
      "198/198 [==============================] - 3s 18ms/step - loss: 0.0043\n",
      "Epoch 5/10\n",
      " 16/198 [=>............................] - ETA: 3s - loss: 0.0039Epoch 1/10\n",
      "190/198 [===========================>..] - ETA: 0s - loss: 0.0043"
     ]
    },
    {
     "name": "stderr",
     "output_type": "stream",
     "text": [
      "2023-05-02 11:32:53.800511: I tensorflow/core/grappler/optimizers/custom_graph_optimizer_registry.cc:114] Plugin optimizer for device_type GPU is enabled.\n"
     ]
    },
    {
     "name": "stdout",
     "output_type": "stream",
     "text": [
      "198/198 [==============================] - 3s 17ms/step - loss: 0.0043\n",
      " 90/198 [============>.................] - ETA: 2s - loss: 0.0197Epoch 6/10\n",
      "158/198 [======================>.......] - ETA: 0s - loss: 0.0044"
     ]
    },
    {
     "name": "stderr",
     "output_type": "stream",
     "text": [
      "2023-05-02 11:32:54.670524: I tensorflow/core/grappler/optimizers/custom_graph_optimizer_registry.cc:114] Plugin optimizer for device_type GPU is enabled.\n"
     ]
    },
    {
     "name": "stdout",
     "output_type": "stream",
     "text": [
      "198/198 [==============================] - 4s 18ms/step - loss: 0.0044\n",
      "Epoch 9/10\n",
      "  7/198 [>.............................] - ETA: 3s - loss: 0.0038"
     ]
    },
    {
     "name": "stderr",
     "output_type": "stream",
     "text": [
      "2023-05-02 11:32:54.936520: I tensorflow/core/grappler/optimizers/custom_graph_optimizer_registry.cc:114] Plugin optimizer for device_type GPU is enabled.\n"
     ]
    },
    {
     "name": "stdout",
     "output_type": "stream",
     "text": [
      "198/198 [==============================] - 4s 20ms/step - loss: 0.0043\n",
      " 43/198 [=====>........................] - ETA: 2s - loss: 0.0047Epoch 3/10\n",
      "198/198 [==============================] - 4s 18ms/step - loss: 0.0042\n",
      "100/198 [==============>...............] - ETA: 1s - loss: 0.0040Epoch 6/10\n",
      "198/198 [==============================] - 4s 20ms/step - loss: 0.0042\n",
      "Epoch 4/10\n",
      "198/198 [==============================] - 9s 22ms/step - loss: 0.0159\n",
      " 70/198 [=========>....................] - ETA: 2s - loss: 0.0333Epoch 2/10\n",
      "198/198 [==============================] - 4s 19ms/step - loss: 0.0043\n",
      " 90/198 [============>.................] - ETA: 2s - loss: 0.0043Epoch 7/10\n",
      "198/198 [==============================] - 4s 19ms/step - loss: 0.0044\n",
      "Epoch 10/10\n",
      "151/198 [=====================>........] - ETA: 0s - loss: 0.0042"
     ]
    },
    {
     "name": "stderr",
     "output_type": "stream",
     "text": [
      "2023-05-02 11:32:58.731357: I tensorflow/core/grappler/optimizers/custom_graph_optimizer_registry.cc:114] Plugin optimizer for device_type GPU is enabled.\n"
     ]
    },
    {
     "name": "stdout",
     "output_type": "stream",
     "text": [
      "198/198 [==============================] - 9s 22ms/step - loss: 0.0233\n",
      "Epoch 2/10\n",
      "198/198 [==============================] - 4s 18ms/step - loss: 0.0042\n",
      " 52/198 [======>.......................] - ETA: 2s - loss: 0.0040Epoch 7/10\n",
      "198/198 [==============================] - 4s 20ms/step - loss: 0.0042\n",
      " 10/198 [>.............................] - ETA: 2s - loss: 0.0121Epoch 4/10\n",
      "198/198 [==============================] - 4s 21ms/step - loss: 0.0040\n",
      "Epoch 5/10\n",
      "140/198 [====================>.........] - ETA: 1s - loss: 0.0043"
     ]
    },
    {
     "name": "stderr",
     "output_type": "stream",
     "text": [
      "2023-05-02 11:33:00.362062: I tensorflow/core/grappler/optimizers/custom_graph_optimizer_registry.cc:114] Plugin optimizer for device_type GPU is enabled.\n"
     ]
    },
    {
     "name": "stdout",
     "output_type": "stream",
     "text": [
      "198/198 [==============================] - 4s 20ms/step - loss: 0.0079\n",
      "Epoch 3/10\n",
      " 76/198 [==========>...................] - ETA: 2s - loss: 0.0114"
     ]
    },
    {
     "name": "stderr",
     "output_type": "stream",
     "text": [
      "2023-05-02 11:33:01.033260: I tensorflow/core/grappler/optimizers/custom_graph_optimizer_registry.cc:114] Plugin optimizer for device_type GPU is enabled.\n"
     ]
    },
    {
     "name": "stdout",
     "output_type": "stream",
     "text": [
      "198/198 [==============================] - 4s 19ms/step - loss: 0.0043\n",
      "Epoch 8/10\n",
      "198/198 [==============================] - 4s 20ms/step - loss: 0.0044\n",
      "198/198 [==============================] - 4s 19ms/step - loss: 0.0043\n",
      "Epoch 8/10\n",
      "198/198 [==============================] - 4s 21ms/step - loss: 0.0102\n",
      "106/198 [===============>..............] - ETA: 1s - loss: 0.0043Epoch 3/10\n",
      "  4/198 [..............................] - ETA: 3s - loss: 0.0064"
     ]
    },
    {
     "name": "stderr",
     "output_type": "stream",
     "text": [
      "2023-05-02 11:33:03.667616: I tensorflow/core/grappler/optimizers/custom_graph_optimizer_registry.cc:114] Plugin optimizer for device_type GPU is enabled.\n"
     ]
    },
    {
     "name": "stdout",
     "output_type": "stream",
     "text": [
      "198/198 [==============================] - 4s 21ms/step - loss: 0.0042\n",
      "Epoch 5/10\n",
      "198/198 [==============================] - 4s 22ms/step - loss: 0.0041\n"
     ]
    },
    {
     "name": "stderr",
     "output_type": "stream",
     "text": [
      "2023-05-02 11:33:04.285374: I tensorflow/core/grappler/optimizers/custom_graph_optimizer_registry.cc:114] Plugin optimizer for device_type GPU is enabled.\n"
     ]
    },
    {
     "name": "stdout",
     "output_type": "stream",
     "text": [
      "Epoch 6/10\n",
      "198/198 [==============================] - 4s 21ms/step - loss: 0.0046\n",
      "Epoch 4/10\n",
      "50/50 [==============================] - 2s 15ms/step - loss: 0.0047\n",
      "198/198 [==============================] - 4s 19ms/step - loss: 0.0043\n",
      "Epoch 9/10\n",
      "198/198 [==============================] - 14s 22ms/step - loss: 0.2336\n",
      "Epoch 2/10\n",
      "198/198 [==============================] - 4s 18ms/step - loss: 0.0043\n",
      "Epoch 9/10\n",
      "198/198 [==============================] - 4s 20ms/step - loss: 0.0060\n",
      "Epoch 4/10\n",
      "198/198 [==============================] - 4s 20ms/step - loss: 0.0042\n",
      "Epoch 6/10\n",
      "198/198 [==============================] - 3s 15ms/step - loss: 0.0043\n",
      "198/198 [==============================] - 4s 20ms/step - loss: 0.0040\n",
      "Epoch 7/10\n",
      "198/198 [==============================] - 4s 20ms/step - loss: 0.0041\n",
      "Epoch 5/10\n",
      "198/198 [==============================] - 4s 18ms/step - loss: 0.0043\n",
      "Epoch 10/10\n",
      "168/198 [========================>.....] - ETA: 0s - loss: 0.0933Epoch 1/10\n",
      "198/198 [==============================] - 4s 20ms/step - loss: 0.0883\n",
      "123/198 [=================>............] - ETA: 1s - loss: 0.0044Epoch 3/10\n",
      "198/198 [==============================] - 4s 18ms/step - loss: 0.0042\n",
      "Epoch 10/10\n",
      "198/198 [==============================] - 4s 19ms/step - loss: 0.0042\n",
      "Epoch 7/10\n",
      "198/198 [==============================] - 4s 20ms/step - loss: 0.0044\n",
      "  1/198 [..............................] - ETA: 3s - loss: 0.0015Epoch 5/10\n",
      "198/198 [==============================] - 4s 20ms/step - loss: 0.0040\n",
      " 38/198 [====>.........................] - ETA: 3s - loss: 0.0038Epoch 8/10\n",
      "198/198 [==============================] - 3s 18ms/step - loss: 0.0043\n",
      "198/198 [==============================] - 4s 20ms/step - loss: 0.0042\n",
      "Epoch 6/10\n",
      " 54/198 [=======>......................] - ETA: 2s - loss: 0.0043"
     ]
    },
    {
     "name": "stderr",
     "output_type": "stream",
     "text": [
      "2023-05-02 11:33:13.579402: I tensorflow/core/grappler/optimizers/custom_graph_optimizer_registry.cc:114] Plugin optimizer for device_type GPU is enabled.\n"
     ]
    },
    {
     "name": "stdout",
     "output_type": "stream",
     "text": [
      " 80/198 [===========>..................] - ETA: 2s - loss: 0.0040"
     ]
    },
    {
     "name": "stderr",
     "output_type": "stream",
     "text": [
      "2023-05-02 11:33:13.910325: I tensorflow/core/grappler/optimizers/custom_graph_optimizer_registry.cc:114] Plugin optimizer for device_type GPU is enabled.\n"
     ]
    },
    {
     "name": "stdout",
     "output_type": "stream",
     "text": [
      "198/198 [==============================] - 3s 17ms/step - loss: 0.0043\n",
      "198/198 [==============================] - 4s 20ms/step - loss: 0.0427\n",
      "Epoch 4/10\n",
      "50/50 [==============================] - 2s 13ms/step - loss: 0.0037\n",
      "163/198 [=======================>......] - ETA: 0s - loss: 0.0042"
     ]
    },
    {
     "name": "stderr",
     "output_type": "stream",
     "text": [
      "2023-05-02 11:33:14.874179: I tensorflow/core/grappler/optimizers/custom_graph_optimizer_registry.cc:114] Plugin optimizer for device_type GPU is enabled.\n"
     ]
    },
    {
     "name": "stdout",
     "output_type": "stream",
     "text": [
      "183/198 [==========================>...] - ETA: 0s - loss: 0.0042"
     ]
    },
    {
     "name": "stderr",
     "output_type": "stream",
     "text": [
      "2023-05-02 11:33:15.393435: I tensorflow/core/grappler/optimizers/custom_graph_optimizer_registry.cc:114] Plugin optimizer for device_type GPU is enabled.\n"
     ]
    },
    {
     "name": "stdout",
     "output_type": "stream",
     "text": [
      "198/198 [==============================] - 4s 20ms/step - loss: 0.0043\n",
      "Epoch 6/10\n",
      "198/198 [==============================] - 4s 20ms/step - loss: 0.0042\n",
      "Epoch 8/10\n",
      "109/198 [===============>..............] - ETA: 1s - loss: 0.0043"
     ]
    },
    {
     "name": "stderr",
     "output_type": "stream",
     "text": [
      "2023-05-02 11:33:15.975661: I tensorflow/core/grappler/optimizers/custom_graph_optimizer_registry.cc:114] Plugin optimizer for device_type GPU is enabled.\n"
     ]
    },
    {
     "name": "stdout",
     "output_type": "stream",
     "text": [
      "50/50 [==============================] - 2s 14ms/step - loss: 0.0035\n",
      "198/198 [==============================] - 4s 20ms/step - loss: 0.0040\n",
      "Epoch 9/10\n",
      "198/198 [==============================] - 4s 20ms/step - loss: 0.0041\n",
      "173/198 [=========================>....] - ETA: 0s - loss: 0.0044Epoch 7/10\n",
      "198/198 [==============================] - 2s 12ms/step - loss: 0.0042\n",
      " 90/198 [============>.................] - ETA: 2s - loss: 0.0040"
     ]
    },
    {
     "name": "stderr",
     "output_type": "stream",
     "text": [
      "2023-05-02 11:33:17.482169: I tensorflow/core/grappler/optimizers/custom_graph_optimizer_registry.cc:114] Plugin optimizer for device_type GPU is enabled.\n"
     ]
    },
    {
     "name": "stdout",
     "output_type": "stream",
     "text": [
      " 64/198 [========>.....................] - ETA: 2s - loss: 0.0040Epoch 1/10\n",
      " 72/198 [=========>....................] - ETA: 2s - loss: 0.0040"
     ]
    },
    {
     "name": "stderr",
     "output_type": "stream",
     "text": [
      "2023-05-02 11:33:17.967123: I tensorflow/core/grappler/optimizers/custom_graph_optimizer_registry.cc:114] Plugin optimizer for device_type GPU is enabled.\n"
     ]
    },
    {
     "name": "stdout",
     "output_type": "stream",
     "text": [
      "198/198 [==============================] - 4s 20ms/step - loss: 0.0254\n",
      "Epoch 5/10\n",
      "198/198 [==============================] - 2s 12ms/step - loss: 0.0042\n",
      " 59/198 [=======>......................] - ETA: 2s - loss: 0.2071Epoch 1/10\n",
      "198/198 [==============================] - 4s 19ms/step - loss: 0.0043\n",
      " 71/198 [=========>....................] - ETA: 2s - loss: 0.1858Epoch 7/10\n",
      "198/198 [==============================] - 4s 19ms/step - loss: 0.0042\n",
      "Epoch 9/10\n",
      "198/198 [==============================] - 4s 20ms/step - loss: 0.0040\n",
      "Epoch 10/10\n",
      "198/198 [==============================] - 4s 20ms/step - loss: 0.0041\n",
      "Epoch 8/10\n",
      "198/198 [==============================] - 13s 20ms/step - loss: 0.0956\n",
      "Epoch 2/10\n",
      "198/198 [==============================] - 4s 20ms/step - loss: 0.0172\n",
      "127/198 [==================>...........] - ETA: 1s - loss: 0.0042Epoch 6/10\n",
      "198/198 [==============================] - 4s 19ms/step - loss: 0.0043\n",
      "Epoch 8/10\n",
      " 80/198 [===========>..................] - ETA: 2s - loss: 0.0190"
     ]
    },
    {
     "name": "stderr",
     "output_type": "stream",
     "text": [
      "2023-05-02 11:33:23.405695: I tensorflow/core/grappler/optimizers/custom_graph_optimizer_registry.cc:114] Plugin optimizer for device_type GPU is enabled.\n"
     ]
    },
    {
     "name": "stdout",
     "output_type": "stream",
     "text": [
      "198/198 [==============================] - 4s 20ms/step - loss: 0.0042\n",
      "Epoch 10/10\n",
      " 31/198 [===>..........................] - ETA: 4s - loss: 0.0041"
     ]
    },
    {
     "name": "stderr",
     "output_type": "stream",
     "text": [
      "2023-05-02 11:33:24.169485: I tensorflow/core/grappler/optimizers/custom_graph_optimizer_registry.cc:114] Plugin optimizer for device_type GPU is enabled.\n"
     ]
    },
    {
     "name": "stdout",
     "output_type": "stream",
     "text": [
      " 33/198 [====>.........................] - ETA: 3s - loss: 0.0040"
     ]
    },
    {
     "name": "stderr",
     "output_type": "stream",
     "text": [
      "2023-05-02 11:33:24.396304: I tensorflow/core/grappler/optimizers/custom_graph_optimizer_registry.cc:114] Plugin optimizer for device_type GPU is enabled.\n"
     ]
    },
    {
     "name": "stdout",
     "output_type": "stream",
     "text": [
      "198/198 [==============================] - 4s 21ms/step - loss: 0.0040\n",
      "198/198 [==============================] - 4s 21ms/step - loss: 0.0041\n",
      " 57/198 [=======>......................] - ETA: 3s - loss: 0.0043"
     ]
    },
    {
     "name": "stderr",
     "output_type": "stream",
     "text": [
      "2023-05-02 11:33:24.659915: I tensorflow/core/grappler/optimizers/custom_graph_optimizer_registry.cc:114] Plugin optimizer for device_type GPU is enabled.\n"
     ]
    },
    {
     "name": "stdout",
     "output_type": "stream",
     "text": [
      "Epoch 9/10\n",
      " 28/198 [===>..........................] - ETA: 3s - loss: 0.0036"
     ]
    },
    {
     "name": "stderr",
     "output_type": "stream",
     "text": [
      "2023-05-02 11:33:25.274240: I tensorflow/core/grappler/optimizers/custom_graph_optimizer_registry.cc:114] Plugin optimizer for device_type GPU is enabled.\n"
     ]
    },
    {
     "name": "stdout",
     "output_type": "stream",
     "text": [
      " 37/198 [====>.........................] - ETA: 3s - loss: 0.0035"
     ]
    },
    {
     "name": "stderr",
     "output_type": "stream",
     "text": [
      "2023-05-02 11:33:25.511339: I tensorflow/core/grappler/optimizers/custom_graph_optimizer_registry.cc:114] Plugin optimizer for device_type GPU is enabled.\n",
      "2023-05-02 11:33:25.639141: I tensorflow/core/grappler/optimizers/custom_graph_optimizer_registry.cc:114] Plugin optimizer for device_type GPU is enabled.\n"
     ]
    },
    {
     "name": "stdout",
     "output_type": "stream",
     "text": [
      " 57/198 [=======>......................] - ETA: 3s - loss: 0.0035"
     ]
    },
    {
     "name": "stderr",
     "output_type": "stream",
     "text": [
      "2023-05-02 11:33:26.042563: I tensorflow/core/grappler/optimizers/custom_graph_optimizer_registry.cc:114] Plugin optimizer for device_type GPU is enabled.\n"
     ]
    },
    {
     "name": "stdout",
     "output_type": "stream",
     "text": [
      "198/198 [==============================] - 4s 20ms/step - loss: 0.0153\n",
      "Epoch 3/10\n",
      "198/198 [==============================] - 4s 22ms/step - loss: 0.0126\n",
      "Epoch 7/10\n",
      "50/50 [==============================] - 2s 16ms/step - loss: 0.0051\n",
      "198/198 [==============================] - 4s 22ms/step - loss: 0.0043\n",
      "Epoch 9/10\n",
      "198/198 [==============================] - 4s 22ms/step - loss: 0.0042\n",
      "198/198 [==============================] - 11s 22ms/step - loss: 0.0405\n",
      "Epoch 2/10\n",
      "198/198 [==============================] - 4s 22ms/step - loss: 0.0041\n",
      "Epoch 10/10\n",
      "198/198 [==============================] - 3s 16ms/step - loss: 0.0039\n",
      "198/198 [==============================] - 4s 21ms/step - loss: 0.0080\n",
      "Epoch 4/10\n",
      "130/198 [==================>...........] - ETA: 1s - loss: 0.0043"
     ]
    },
    {
     "name": "stderr",
     "output_type": "stream",
     "text": [
      "2023-05-02 11:33:30.520341: I tensorflow/core/grappler/optimizers/custom_graph_optimizer_registry.cc:114] Plugin optimizer for device_type GPU is enabled.\n"
     ]
    },
    {
     "name": "stdout",
     "output_type": "stream",
     "text": [
      " 84/198 [===========>..................] - ETA: 2s - loss: 0.0114Epoch 1/10\n",
      "198/198 [==============================] - 4s 22ms/step - loss: 0.0098\n",
      "Epoch 8/10\n",
      "198/198 [==============================] - 12s 22ms/step - loss: 0.0545\n",
      "Epoch 2/10\n",
      " 1/50 [..............................] - ETA: 2:30 - loss: 0.0044"
     ]
    },
    {
     "name": "stderr",
     "output_type": "stream",
     "text": [
      "2023-05-02 11:33:30.925319: I tensorflow/core/grappler/optimizers/custom_graph_optimizer_registry.cc:114] Plugin optimizer for device_type GPU is enabled.\n"
     ]
    },
    {
     "name": "stdout",
     "output_type": "stream",
     "text": [
      "50/50 [==============================] - 4s 14ms/step - loss: 0.0040\n",
      "198/198 [==============================] - 4s 21ms/step - loss: 0.0043\n",
      "Epoch 10/10\n",
      "198/198 [==============================] - 4s 20ms/step - loss: 0.0092\n",
      "Epoch 3/10\n",
      "198/198 [==============================] - 4s 20ms/step - loss: 0.0041\n",
      "197/198 [============================>.] - ETA: 0s - loss: 0.0057"
     ]
    },
    {
     "name": "stderr",
     "output_type": "stream",
     "text": [
      "2023-05-02 11:33:33.952826: I tensorflow/core/grappler/optimizers/custom_graph_optimizer_registry.cc:114] Plugin optimizer for device_type GPU is enabled.\n"
     ]
    },
    {
     "name": "stdout",
     "output_type": "stream",
     "text": [
      "198/198 [==============================] - 4s 19ms/step - loss: 0.0057\n",
      "Epoch 5/10\n",
      "198/198 [==============================] - 2s 12ms/step - loss: 0.0041\n",
      " 1/50 [..............................] - ETA: 55s - loss: 0.00253"
     ]
    },
    {
     "name": "stderr",
     "output_type": "stream",
     "text": [
      "2023-05-02 11:33:34.350291: I tensorflow/core/grappler/optimizers/custom_graph_optimizer_registry.cc:114] Plugin optimizer for device_type GPU is enabled.\n"
     ]
    },
    {
     "name": "stdout",
     "output_type": "stream",
     "text": [
      "198/198 [==============================] - 4s 18ms/step - loss: 0.0050\n",
      "185/198 [===========================>..] - ETA: 0s - loss: 0.0079Epoch 3/10\n",
      "198/198 [==============================] - 4s 20ms/step - loss: 0.0078\n",
      "Epoch 9/10\n",
      "50/50 [==============================] - 2s 12ms/step - loss: 0.0045\n",
      " 58/198 [=======>......................] - ETA: 2s - loss: 0.0050"
     ]
    },
    {
     "name": "stderr",
     "output_type": "stream",
     "text": [
      "2023-05-02 11:33:35.081072: I tensorflow/core/grappler/optimizers/custom_graph_optimizer_registry.cc:114] Plugin optimizer for device_type GPU is enabled.\n"
     ]
    },
    {
     "name": "stdout",
     "output_type": "stream",
     "text": [
      " 37/198 [====>.........................] - ETA: 2s - loss: 0.0057Epoch 1/10\n",
      "198/198 [==============================] - 4s 19ms/step - loss: 0.0043\n",
      " 59/198 [=======>......................] - ETA: 2s - loss: 0.0074"
     ]
    },
    {
     "name": "stderr",
     "output_type": "stream",
     "text": [
      "2023-05-02 11:33:35.814676: I tensorflow/core/grappler/optimizers/custom_graph_optimizer_registry.cc:114] Plugin optimizer for device_type GPU is enabled.\n"
     ]
    },
    {
     "name": "stdout",
     "output_type": "stream",
     "text": [
      "127/198 [==================>...........] - ETA: 1s - loss: 0.0048"
     ]
    },
    {
     "name": "stderr",
     "output_type": "stream",
     "text": [
      "2023-05-02 11:33:36.163453: I tensorflow/core/grappler/optimizers/custom_graph_optimizer_registry.cc:114] Plugin optimizer for device_type GPU is enabled.\n",
      "2023-05-02 11:33:36.342976: I tensorflow/core/grappler/optimizers/custom_graph_optimizer_registry.cc:114] Plugin optimizer for device_type GPU is enabled.\n"
     ]
    },
    {
     "name": "stdout",
     "output_type": "stream",
     "text": [
      "198/198 [==============================] - 4s 18ms/step - loss: 0.0050\n",
      "113/198 [================>.............] - ETA: 1s - loss: 0.0051Epoch 4/10\n",
      " 17/198 [=>............................] - ETA: 4s - loss: 0.0335   "
     ]
    },
    {
     "name": "stderr",
     "output_type": "stream",
     "text": [
      "2023-05-02 11:33:36.629745: I tensorflow/core/grappler/optimizers/custom_graph_optimizer_registry.cc:114] Plugin optimizer for device_type GPU is enabled.\n"
     ]
    },
    {
     "name": "stdout",
     "output_type": "stream",
     "text": [
      "50/50 [==============================] - 2s 13ms/step - loss: 0.0037\n",
      "198/198 [==============================] - 2s 12ms/step - loss: 0.0041\n",
      "198/198 [==============================] - 4s 19ms/step - loss: 0.0048\n",
      " 65/198 [========>.....................] - ETA: 2s - loss: 0.0041Epoch 6/10\n",
      "198/198 [==============================] - 4s 18ms/step - loss: 0.0049\n",
      "Epoch 4/10\n",
      " 76/198 [==========>...................] - ETA: 1s - loss: 0.0046Epoch 1/20\n",
      " 52/198 [======>.......................] - ETA: 2s - loss: 0.0043"
     ]
    },
    {
     "name": "stderr",
     "output_type": "stream",
     "text": [
      "2023-05-02 11:33:38.523954: I tensorflow/core/grappler/optimizers/custom_graph_optimizer_registry.cc:114] Plugin optimizer for device_type GPU is enabled.\n"
     ]
    },
    {
     "name": "stdout",
     "output_type": "stream",
     "text": [
      "198/198 [==============================] - 4s 20ms/step - loss: 0.0065\n",
      "Epoch 10/10\n",
      "176/198 [=========================>....] - ETA: 0s - loss: 0.0135"
     ]
    },
    {
     "name": "stderr",
     "output_type": "stream",
     "text": [
      "2023-05-02 11:33:39.352740: I tensorflow/core/grappler/optimizers/custom_graph_optimizer_registry.cc:114] Plugin optimizer for device_type GPU is enabled.\n"
     ]
    },
    {
     "name": "stdout",
     "output_type": "stream",
     "text": [
      "198/198 [==============================] - 2s 11ms/step - loss: 0.0042\n",
      "101/198 [==============>...............] - ETA: 1s - loss: 0.0046"
     ]
    },
    {
     "name": "stderr",
     "output_type": "stream",
     "text": [
      "2023-05-02 11:33:39.747998: I tensorflow/core/grappler/optimizers/custom_graph_optimizer_registry.cc:114] Plugin optimizer for device_type GPU is enabled.\n"
     ]
    },
    {
     "name": "stdout",
     "output_type": "stream",
     "text": [
      "198/198 [==============================] - 9s 18ms/step - loss: 0.0127\n",
      "Epoch 2/10\n",
      "198/198 [==============================] - 4s 18ms/step - loss: 0.0044\n",
      "Epoch 5/10\n",
      "141/198 [====================>.........] - ETA: 0s - loss: 0.0043Epoch 1/20\n",
      "198/198 [==============================] - 3s 18ms/step - loss: 0.0044\n",
      "Epoch 7/10\n",
      "198/198 [==============================] - 3s 18ms/step - loss: 0.0048\n",
      "Epoch 5/10\n",
      "198/198 [==============================] - 4s 21ms/step - loss: 0.0055\n",
      " 71/198 [=========>....................] - ETA: 2s - loss: 0.0051"
     ]
    },
    {
     "name": "stderr",
     "output_type": "stream",
     "text": [
      "2023-05-02 11:33:43.083933: I tensorflow/core/grappler/optimizers/custom_graph_optimizer_registry.cc:114] Plugin optimizer for device_type GPU is enabled.\n"
     ]
    },
    {
     "name": "stdout",
     "output_type": "stream",
     "text": [
      "174/198 [=========================>....] - ETA: 0s - loss: 0.0049"
     ]
    },
    {
     "name": "stderr",
     "output_type": "stream",
     "text": [
      "2023-05-02 11:33:43.308303: I tensorflow/core/grappler/optimizers/custom_graph_optimizer_registry.cc:114] Plugin optimizer for device_type GPU is enabled.\n"
     ]
    },
    {
     "name": "stdout",
     "output_type": "stream",
     "text": [
      "187/198 [===========================>..] - ETA: 0s - loss: 0.0048"
     ]
    },
    {
     "name": "stderr",
     "output_type": "stream",
     "text": [
      "2023-05-02 11:33:43.571786: I tensorflow/core/grappler/optimizers/custom_graph_optimizer_registry.cc:114] Plugin optimizer for device_type GPU is enabled.\n",
      "2023-05-02 11:33:43.582162: I tensorflow/core/grappler/optimizers/custom_graph_optimizer_registry.cc:114] Plugin optimizer for device_type GPU is enabled.\n"
     ]
    },
    {
     "name": "stdout",
     "output_type": "stream",
     "text": [
      "198/198 [==============================] - 4s 20ms/step - loss: 0.0047\n",
      "Epoch 3/10\n",
      "198/198 [==============================] - 9s 21ms/step - loss: 0.0049\n",
      "198/198 [==============================] - 4s 20ms/step - loss: 0.0043\n",
      "Epoch 2/10\n",
      "Epoch 6/10\n",
      "31/50 [=================>............] - ETA: 0s - loss: 0.00465"
     ]
    },
    {
     "name": "stderr",
     "output_type": "stream",
     "text": [
      "2023-05-02 11:33:44.162654: I tensorflow/core/grappler/optimizers/custom_graph_optimizer_registry.cc:114] Plugin optimizer for device_type GPU is enabled.\n"
     ]
    },
    {
     "name": "stdout",
     "output_type": "stream",
     "text": [
      " 29/198 [===>..........................] - ETA: 3s - loss: 0.0048"
     ]
    },
    {
     "name": "stderr",
     "output_type": "stream",
     "text": [
      "2023-05-02 11:33:44.506120: I tensorflow/core/grappler/optimizers/custom_graph_optimizer_registry.cc:114] Plugin optimizer for device_type GPU is enabled.\n",
      "2023-05-02 11:33:44.597964: I tensorflow/core/grappler/optimizers/custom_graph_optimizer_registry.cc:114] Plugin optimizer for device_type GPU is enabled.\n"
     ]
    },
    {
     "name": "stdout",
     "output_type": "stream",
     "text": [
      "50/50 [==============================] - 2s 20ms/step - loss: 0.0045\n",
      "198/198 [==============================] - 4s 21ms/step - loss: 0.0043\n",
      "Epoch 8/10\n",
      " 24/198 [==>...........................] - ETA: 3s - loss: 0.0042"
     ]
    },
    {
     "name": "stderr",
     "output_type": "stream",
     "text": [
      "2023-05-02 11:33:45.731757: I tensorflow/core/grappler/optimizers/custom_graph_optimizer_registry.cc:114] Plugin optimizer for device_type GPU is enabled.\n"
     ]
    },
    {
     "name": "stdout",
     "output_type": "stream",
     "text": [
      "198/198 [==============================] - 4s 21ms/step - loss: 0.0048\n",
      "Epoch 6/10\n",
      "198/198 [==============================] - 4s 20ms/step - loss: 0.0047\n",
      "131/198 [==================>...........] - ETA: 1s - loss: 0.0044Epoch 4/10\n",
      "198/198 [==============================] - 3s 15ms/step - loss: 0.0053\n",
      "198/198 [==============================] - 4s 20ms/step - loss: 0.0043\n",
      "Epoch 3/10\n",
      "198/198 [==============================] - 4s 21ms/step - loss: 0.0043\n",
      "Epoch 7/10\n",
      " 46/198 [=====>........................] - ETA: 2s - loss: 0.0044Epoch 1/20\n",
      "198/198 [==============================] - 4s 20ms/step - loss: 0.0043\n",
      " 60/198 [========>.....................] - ETA: 2s - loss: 0.0048Epoch 9/10\n",
      "198/198 [==============================] - 11s 24ms/step - loss: 0.0071\n",
      "Epoch 2/20\n",
      "198/198 [==============================] - 4s 20ms/step - loss: 0.0047\n",
      " 99/198 [==============>...............] - ETA: 1s - loss: 0.0046Epoch 7/10\n",
      "198/198 [==============================] - 10s 22ms/step - loss: 0.0237\n",
      " 46/198 [=====>........................] - ETA: 2s - loss: 0.0038Epoch 2/20\n",
      "198/198 [==============================] - 4s 18ms/step - loss: 0.0046\n",
      "Epoch 5/10\n",
      "198/198 [==============================] - 4s 18ms/step - loss: 0.0043\n",
      "111/198 [===============>..............] - ETA: 1s - loss: 0.0039Epoch 4/10\n",
      "198/198 [==============================] - 4s 18ms/step - loss: 0.0042\n",
      "Epoch 8/10\n",
      "198/198 [==============================] - 3s 17ms/step - loss: 0.0042\n",
      "166/198 [========================>.....] - ETA: 0s - loss: 0.0040Epoch 10/10\n",
      "198/198 [==============================] - 3s 18ms/step - loss: 0.0047\n",
      "195/198 [============================>.] - ETA: 0s - loss: 0.0040Epoch 8/10\n",
      "198/198 [==============================] - 4s 19ms/step - loss: 0.0040\n",
      "Epoch 3/20\n",
      "198/198 [==============================] - 4s 18ms/step - loss: 0.0127\n",
      "Epoch 3/20\n",
      "198/198 [==============================] - 3s 17ms/step - loss: 0.0046\n",
      "178/198 [=========================>....] - ETA: 0s - loss: 0.0043Epoch 6/10\n",
      "198/198 [==============================] - 4s 18ms/step - loss: 0.0043\n",
      "Epoch 5/10\n",
      "198/198 [==============================] - 4s 18ms/step - loss: 0.0043\n",
      " 20/198 [==>...........................] - ETA: 3s - loss: 0.0044Epoch 9/10\n",
      " 24/198 [==>...........................] - ETA: 2s - loss: 0.0052"
     ]
    },
    {
     "name": "stderr",
     "output_type": "stream",
     "text": [
      "2023-05-02 11:33:55.543387: I tensorflow/core/grappler/optimizers/custom_graph_optimizer_registry.cc:114] Plugin optimizer for device_type GPU is enabled.\n"
     ]
    },
    {
     "name": "stdout",
     "output_type": "stream",
     "text": [
      "198/198 [==============================] - 4s 20ms/step - loss: 0.0042\n",
      "114/198 [================>.............] - ETA: 1s - loss: 0.0046"
     ]
    },
    {
     "name": "stderr",
     "output_type": "stream",
     "text": [
      "2023-05-02 11:33:57.016201: I tensorflow/core/grappler/optimizers/custom_graph_optimizer_registry.cc:114] Plugin optimizer for device_type GPU is enabled.\n"
     ]
    },
    {
     "name": "stdout",
     "output_type": "stream",
     "text": [
      "198/198 [==============================] - 4s 20ms/step - loss: 0.0047\n",
      " 99/198 [==============>...............] - ETA: 1s - loss: 0.0043Epoch 9/10\n",
      "198/198 [==============================] - 4s 21ms/step - loss: 0.0040\n",
      " 19/198 [=>............................] - ETA: 2s - loss: 0.0053Epoch 4/20\n",
      "172/198 [=========================>....] - ETA: 0s - loss: 0.0107"
     ]
    },
    {
     "name": "stderr",
     "output_type": "stream",
     "text": [
      "2023-05-02 11:33:57.550183: I tensorflow/core/grappler/optimizers/custom_graph_optimizer_registry.cc:114] Plugin optimizer for device_type GPU is enabled.\n",
      "2023-05-02 11:33:57.679977: I tensorflow/core/grappler/optimizers/custom_graph_optimizer_registry.cc:114] Plugin optimizer for device_type GPU is enabled.\n"
     ]
    },
    {
     "name": "stdout",
     "output_type": "stream",
     "text": [
      "162/198 [=======================>......] - ETA: 0s - loss: 0.0046"
     ]
    },
    {
     "name": "stderr",
     "output_type": "stream",
     "text": [
      "2023-05-02 11:33:57.897753: I tensorflow/core/grappler/optimizers/custom_graph_optimizer_registry.cc:114] Plugin optimizer for device_type GPU is enabled.\n"
     ]
    },
    {
     "name": "stdout",
     "output_type": "stream",
     "text": [
      "198/198 [==============================] - 4s 21ms/step - loss: 0.0106\n",
      "Epoch 4/20\n",
      "198/198 [==============================] - 4s 19ms/step - loss: 0.0046\n",
      "Epoch 7/10\n",
      "50/50 [==============================] - 2s 18ms/step - loss: 0.0051\n",
      "198/198 [==============================] - 4s 20ms/step - loss: 0.0043\n",
      "Epoch 6/10\n",
      "198/198 [==============================] - 4s 20ms/step - loss: 0.0043\n",
      "Epoch 10/10\n",
      "198/198 [==============================] - 4s 19ms/step - loss: 0.0047\n",
      "Epoch 10/10\n",
      "198/198 [==============================] - 4s 21ms/step - loss: 0.0040\n",
      "Epoch 5/20\n",
      "198/198 [==============================] - 3s 14ms/step - loss: 0.0042\n",
      "198/198 [==============================] - 4s 18ms/step - loss: 0.0046\n",
      " 71/198 [=========>....................] - ETA: 2s - loss: 0.0051Epoch 8/10\n",
      "198/198 [==============================] - 13s 22ms/step - loss: 0.0287\n",
      "172/198 [=========================>....] - ETA: 0s - loss: 0.0043Epoch 2/20\n",
      "198/198 [==============================] - 4s 20ms/step - loss: 0.0094\n",
      "Epoch 5/20\n",
      "198/198 [==============================] - 4s 18ms/step - loss: 0.0042\n",
      "Epoch 7/10\n",
      "198/198 [==============================] - 4s 18ms/step - loss: 0.0043\n",
      " 36/198 [====>.........................] - ETA: 2s - loss: 0.0044"
     ]
    },
    {
     "name": "stderr",
     "output_type": "stream",
     "text": [
      "2023-05-02 11:34:03.292939: I tensorflow/core/grappler/optimizers/custom_graph_optimizer_registry.cc:114] Plugin optimizer for device_type GPU is enabled.\n",
      "2023-05-02 11:34:03.483023: I tensorflow/core/grappler/optimizers/custom_graph_optimizer_registry.cc:114] Plugin optimizer for device_type GPU is enabled.\n"
     ]
    },
    {
     "name": "stdout",
     "output_type": "stream",
     "text": [
      "50/50 [==============================] - 1s 14ms/step - loss: 0.0040\n",
      "198/198 [==============================] - 4s 18ms/step - loss: 0.0047\n",
      "166/198 [========================>.....] - ETA: 0s - loss: 0.0048Epoch 1/20\n",
      "145/198 [====================>.........] - ETA: 0s - loss: 0.0042"
     ]
    },
    {
     "name": "stderr",
     "output_type": "stream",
     "text": [
      "2023-05-02 11:34:05.268666: I tensorflow/core/grappler/optimizers/custom_graph_optimizer_registry.cc:114] Plugin optimizer for device_type GPU is enabled.\n"
     ]
    },
    {
     "name": "stdout",
     "output_type": "stream",
     "text": [
      "110/198 [===============>..............] - ETA: 1s - loss: 0.0044"
     ]
    },
    {
     "name": "stderr",
     "output_type": "stream",
     "text": [
      "2023-05-02 11:34:05.584188: I tensorflow/core/grappler/optimizers/custom_graph_optimizer_registry.cc:114] Plugin optimizer for device_type GPU is enabled.\n"
     ]
    },
    {
     "name": "stdout",
     "output_type": "stream",
     "text": [
      "198/198 [==============================] - 4s 20ms/step - loss: 0.0040\n",
      "Epoch 6/20\n",
      "198/198 [==============================] - 4s 18ms/step - loss: 0.0046\n",
      "179/198 [==========================>...] - ETA: 0s - loss: 0.0068Epoch 9/10\n",
      "198/198 [==============================] - 4s 20ms/step - loss: 0.0057\n",
      "135/198 [===================>..........] - ETA: 0s - loss: 0.0043Epoch 3/20\n",
      "198/198 [==============================] - 4s 20ms/step - loss: 0.0068\n",
      "  3/198 [..............................] - ETA: 5s - loss: 0.0030Epoch 6/20\n",
      "198/198 [==============================] - 4s 18ms/step - loss: 0.0043\n",
      "Epoch 8/10\n",
      "50/50 [==============================] - 2s 16ms/step - loss: 0.0050\n",
      "198/198 [==============================] - 3s 13ms/step - loss: 0.0042\n",
      "107/198 [===============>..............] - ETA: 1s - loss: 0.0048Epoch 1/20\n",
      "198/198 [==============================] - 2s 10ms/step - loss: 0.0046\n",
      "198/198 [==============================] - 4s 18ms/step - loss: 0.0046\n",
      "185/198 [===========================>..] - ETA: 0s - loss: 0.0040Epoch 10/10\n",
      "174/198 [=========================>....] - ETA: 0s - loss: 0.0043"
     ]
    },
    {
     "name": "stderr",
     "output_type": "stream",
     "text": [
      "2023-05-02 11:34:09.365067: I tensorflow/core/grappler/optimizers/custom_graph_optimizer_registry.cc:114] Plugin optimizer for device_type GPU is enabled.\n"
     ]
    },
    {
     "name": "stdout",
     "output_type": "stream",
     "text": [
      "198/198 [==============================] - 4s 20ms/step - loss: 0.0040\n",
      "Epoch 7/20\n",
      "185/198 [===========================>..] - ETA: 0s - loss: 0.0044Epoch 1/20\n",
      "195/198 [============================>.] - ETA: 0s - loss: 0.0042"
     ]
    },
    {
     "name": "stderr",
     "output_type": "stream",
     "text": [
      "2023-05-02 11:34:09.879225: I tensorflow/core/grappler/optimizers/custom_graph_optimizer_registry.cc:114] Plugin optimizer for device_type GPU is enabled.\n"
     ]
    },
    {
     "name": "stdout",
     "output_type": "stream",
     "text": [
      "198/198 [==============================] - 4s 18ms/step - loss: 0.0043\n",
      "Epoch 9/10\n",
      "198/198 [==============================] - 4s 19ms/step - loss: 0.0044\n",
      " 31/198 [===>..........................] - ETA: 3s - loss: 0.0050Epoch 7/20\n",
      "198/198 [==============================] - 4s 20ms/step - loss: 0.0044\n",
      "Epoch 4/20\n",
      " 15/198 [=>............................] - ETA: 4s - loss: 0.0040"
     ]
    },
    {
     "name": "stderr",
     "output_type": "stream",
     "text": [
      "2023-05-02 11:34:10.148777: I tensorflow/core/grappler/optimizers/custom_graph_optimizer_registry.cc:114] Plugin optimizer for device_type GPU is enabled.\n",
      "2023-05-02 11:34:10.295037: I tensorflow/core/grappler/optimizers/custom_graph_optimizer_registry.cc:114] Plugin optimizer for device_type GPU is enabled.\n"
     ]
    },
    {
     "name": "stdout",
     "output_type": "stream",
     "text": [
      " 47/198 [======>.......................] - ETA: 3s - loss: 0.0040"
     ]
    },
    {
     "name": "stderr",
     "output_type": "stream",
     "text": [
      "2023-05-02 11:34:10.919983: I tensorflow/core/grappler/optimizers/custom_graph_optimizer_registry.cc:114] Plugin optimizer for device_type GPU is enabled.\n"
     ]
    },
    {
     "name": "stdout",
     "output_type": "stream",
     "text": [
      " 39/198 [====>.........................] - ETA: 3s - loss: 0.0477"
     ]
    },
    {
     "name": "stderr",
     "output_type": "stream",
     "text": [
      "2023-05-02 11:34:11.159506: I tensorflow/core/grappler/optimizers/custom_graph_optimizer_registry.cc:114] Plugin optimizer for device_type GPU is enabled.\n"
     ]
    },
    {
     "name": "stdout",
     "output_type": "stream",
     "text": [
      "134/198 [===================>..........] - ETA: 1s - loss: 0.0041"
     ]
    },
    {
     "name": "stderr",
     "output_type": "stream",
     "text": [
      "2023-05-02 11:34:12.722899: I tensorflow/core/grappler/optimizers/custom_graph_optimizer_registry.cc:114] Plugin optimizer for device_type GPU is enabled.\n"
     ]
    },
    {
     "name": "stdout",
     "output_type": "stream",
     "text": [
      "198/198 [==============================] - 4s 19ms/step - loss: 0.0047\n",
      "198/198 [==============================] - 4s 19ms/step - loss: 0.0043\n",
      "Epoch 10/10\n",
      "198/198 [==============================] - 4s 21ms/step - loss: 0.0040\n",
      "Epoch 8/20\n",
      "176/198 [=========================>....] - ETA: 0s - loss: 0.0293"
     ]
    },
    {
     "name": "stderr",
     "output_type": "stream",
     "text": [
      "2023-05-02 11:34:13.841410: I tensorflow/core/grappler/optimizers/custom_graph_optimizer_registry.cc:114] Plugin optimizer for device_type GPU is enabled.\n"
     ]
    },
    {
     "name": "stdout",
     "output_type": "stream",
     "text": [
      "198/198 [==============================] - 4s 20ms/step - loss: 0.0043\n",
      "Epoch 5/20\n",
      "198/198 [==============================] - 4s 21ms/step - loss: 0.0043\n",
      " 19/198 [=>............................] - ETA: 3s - loss: 0.0041Epoch 8/20\n",
      "194/198 [============================>.] - ETA: 0s - loss: 0.0274"
     ]
    },
    {
     "name": "stderr",
     "output_type": "stream",
     "text": [
      "2023-05-02 11:34:14.304809: I tensorflow/core/grappler/optimizers/custom_graph_optimizer_registry.cc:114] Plugin optimizer for device_type GPU is enabled.\n",
      "2023-05-02 11:34:14.341210: I tensorflow/core/grappler/optimizers/custom_graph_optimizer_registry.cc:114] Plugin optimizer for device_type GPU is enabled.\n"
     ]
    },
    {
     "name": "stdout",
     "output_type": "stream",
     "text": [
      " 27/198 [===>..........................] - ETA: 3s - loss: 0.0047"
     ]
    },
    {
     "name": "stderr",
     "output_type": "stream",
     "text": [
      "2023-05-02 11:34:14.558361: I tensorflow/core/grappler/optimizers/custom_graph_optimizer_registry.cc:114] Plugin optimizer for device_type GPU is enabled.\n"
     ]
    },
    {
     "name": "stdout",
     "output_type": "stream",
     "text": [
      "198/198 [==============================] - 9s 22ms/step - loss: 0.0270\n",
      " 1/50 [..............................] - ETA: 1:08 - loss: 0.0064Epoch 2/20\n",
      "50/50 [==============================] - 2s 18ms/step - loss: 0.0039\n",
      "198/198 [==============================] - 8s 21ms/step - loss: 0.0056\n",
      " 75/198 [==========>...................] - ETA: 2s - loss: 0.0040Epoch 2/20\n",
      "198/198 [==============================] - 4s 19ms/step - loss: 0.0042\n",
      "198/198 [==============================] - 4s 21ms/step - loss: 0.0040\n",
      "197/198 [============================>.] - ETA: 0s - loss: 0.0043Epoch 9/20\n",
      "198/198 [==============================] - 4s 20ms/step - loss: 0.0043\n",
      "Epoch 9/20\n",
      "198/198 [==============================] - 4s 21ms/step - loss: 0.0043\n",
      "Epoch 6/20\n",
      "198/198 [==============================] - 3s 14ms/step - loss: 0.0046\n",
      "198/198 [==============================] - 4s 20ms/step - loss: 0.0053\n",
      " 27/198 [===>..........................] - ETA: 3s - loss: 0.0040Epoch 3/20\n",
      "198/198 [==============================] - 9s 20ms/step - loss: 0.0221\n",
      "  1/198 [..............................] - ETA: 3s - loss: 0.0088Epoch 2/20\n",
      " 10/198 [>.............................] - ETA: 2s - loss: 0.0149"
     ]
    },
    {
     "name": "stderr",
     "output_type": "stream",
     "text": [
      "2023-05-02 11:34:18.632099: I tensorflow/core/grappler/optimizers/custom_graph_optimizer_registry.cc:114] Plugin optimizer for device_type GPU is enabled.\n"
     ]
    },
    {
     "name": "stdout",
     "output_type": "stream",
     "text": [
      " 41/198 [=====>........................] - ETA: 3s - loss: 0.0039"
     ]
    },
    {
     "name": "stderr",
     "output_type": "stream",
     "text": [
      "2023-05-02 11:34:18.991319: I tensorflow/core/grappler/optimizers/custom_graph_optimizer_registry.cc:114] Plugin optimizer for device_type GPU is enabled.\n"
     ]
    },
    {
     "name": "stdout",
     "output_type": "stream",
     "text": [
      "198/198 [==============================] - 4s 20ms/step - loss: 0.0043\n",
      "Epoch 3/20\n",
      " 82/198 [===========>..................] - ETA: 2s - loss: 0.0039Epoch 1/20\n",
      "50/50 [==============================] - 2s 17ms/step - loss: 0.0036\n",
      "198/198 [==============================] - 4s 20ms/step - loss: 0.0039\n",
      "Epoch 10/20\n",
      "198/198 [==============================] - 4s 20ms/step - loss: 0.0043\n",
      "  1/198 [..............................] - ETA: 3s - loss: 0.0030Epoch 10/20\n",
      "198/198 [==============================] - 4s 20ms/step - loss: 0.0043\n",
      "Epoch 7/20\n",
      "198/198 [==============================] - 3s 18ms/step - loss: 0.0128\n",
      "191/198 [===========================>..] - ETA: 0s - loss: 0.0042Epoch 3/20\n",
      "198/198 [==============================] - 2s 11ms/step - loss: 0.0042\n",
      "198/198 [==============================] - 4s 19ms/step - loss: 0.0042\n",
      "Epoch 4/20\n",
      "179/198 [==========================>...] - ETA: 0s - loss: 0.0043Epoch 1/20\n",
      "198/198 [==============================] - 4s 19ms/step - loss: 0.0043\n",
      "Epoch 4/20\n",
      " 52/198 [======>.......................] - ETA: 2s - loss: 0.0045"
     ]
    },
    {
     "name": "stderr",
     "output_type": "stream",
     "text": [
      "2023-05-02 11:34:24.238297: I tensorflow/core/grappler/optimizers/custom_graph_optimizer_registry.cc:114] Plugin optimizer for device_type GPU is enabled.\n"
     ]
    },
    {
     "name": "stdout",
     "output_type": "stream",
     "text": [
      "163/198 [=======================>......] - ETA: 0s - loss: 0.0040"
     ]
    },
    {
     "name": "stderr",
     "output_type": "stream",
     "text": [
      "2023-05-02 11:34:25.062604: I tensorflow/core/grappler/optimizers/custom_graph_optimizer_registry.cc:114] Plugin optimizer for device_type GPU is enabled.\n"
     ]
    },
    {
     "name": "stdout",
     "output_type": "stream",
     "text": [
      "182/198 [==========================>...] - ETA: 0s - loss: 0.0044"
     ]
    },
    {
     "name": "stderr",
     "output_type": "stream",
     "text": [
      "2023-05-02 11:34:25.443243: I tensorflow/core/grappler/optimizers/custom_graph_optimizer_registry.cc:114] Plugin optimizer for device_type GPU is enabled.\n"
     ]
    },
    {
     "name": "stdout",
     "output_type": "stream",
     "text": [
      "198/198 [==============================] - 3s 17ms/step - loss: 0.0093\n",
      "Epoch 4/20\n",
      "198/198 [==============================] - 4s 18ms/step - loss: 0.0043\n",
      "Epoch 8/20\n",
      "198/198 [==============================] - 4s 19ms/step - loss: 0.0043\n",
      "Epoch 11/20\n",
      "198/198 [==============================] - 4s 20ms/step - loss: 0.0040\n",
      "131/198 [==================>...........] - ETA: 1s - loss: 0.0043Epoch 11/20\n",
      "198/198 [==============================] - 4s 19ms/step - loss: 0.0042\n",
      "Epoch 5/20\n",
      "198/198 [==============================] - 4s 19ms/step - loss: 0.0043\n",
      "Epoch 5/20\n",
      "  1/198 [..............................] - ETA: 2s - loss: 0.0055"
     ]
    },
    {
     "name": "stderr",
     "output_type": "stream",
     "text": [
      "2023-05-02 11:34:27.320796: I tensorflow/core/grappler/optimizers/custom_graph_optimizer_registry.cc:114] Plugin optimizer for device_type GPU is enabled.\n"
     ]
    },
    {
     "name": "stdout",
     "output_type": "stream",
     "text": [
      "140/198 [====================>.........] - ETA: 1s - loss: 0.0039"
     ]
    },
    {
     "name": "stderr",
     "output_type": "stream",
     "text": [
      "2023-05-02 11:34:28.741298: I tensorflow/core/grappler/optimizers/custom_graph_optimizer_registry.cc:114] Plugin optimizer for device_type GPU is enabled.\n"
     ]
    },
    {
     "name": "stdout",
     "output_type": "stream",
     "text": [
      "198/198 [==============================] - 4s 19ms/step - loss: 0.0073\n",
      " 99/198 [==============>...............] - ETA: 1s - loss: 0.0041Epoch 5/20\n",
      "158/198 [======================>.......] - ETA: 0s - loss: 0.0041"
     ]
    },
    {
     "name": "stderr",
     "output_type": "stream",
     "text": [
      "2023-05-02 11:34:29.275351: I tensorflow/core/grappler/optimizers/custom_graph_optimizer_registry.cc:114] Plugin optimizer for device_type GPU is enabled.\n"
     ]
    },
    {
     "name": "stdout",
     "output_type": "stream",
     "text": [
      "198/198 [==============================] - 10s 19ms/step - loss: 0.0890\n",
      "Epoch 2/20\n",
      "198/198 [==============================] - 4s 20ms/step - loss: 0.0043\n",
      "Epoch 9/20\n",
      "198/198 [==============================] - 4s 20ms/step - loss: 0.0043\n",
      "174/198 [=========================>....] - ETA: 0s - loss: 0.0042Epoch 12/20\n",
      "198/198 [==============================] - 4s 21ms/step - loss: 0.0040\n",
      "Epoch 12/20\n",
      "198/198 [==============================] - 4s 21ms/step - loss: 0.0043\n",
      " 51/198 [======>.......................] - ETA: 3s - loss: 0.0062Epoch 6/20\n",
      "198/198 [==============================] - 4s 20ms/step - loss: 0.0043\n",
      "Epoch 6/20\n",
      "198/198 [==============================] - 4s 20ms/step - loss: 0.0060\n",
      "167/198 [========================>.....] - ETA: 0s - loss: 0.0042Epoch 6/20\n",
      "198/198 [==============================] - 4s 19ms/step - loss: 0.0210\n",
      "Epoch 3/20\n",
      "198/198 [==============================] - 4s 20ms/step - loss: 0.0043\n",
      " 23/198 [==>...........................] - ETA: 3s - loss: 0.0164Epoch 13/20\n",
      "198/198 [==============================] - 11s 21ms/step - loss: 0.0717\n",
      "Epoch 2/20\n",
      "198/198 [==============================] - 4s 21ms/step - loss: 0.0043\n",
      "Epoch 10/20\n",
      "198/198 [==============================] - 4s 21ms/step - loss: 0.0040\n",
      "Epoch 13/20\n",
      "198/198 [==============================] - 4s 20ms/step - loss: 0.0043\n",
      "Epoch 7/20\n",
      "198/198 [==============================] - 4s 21ms/step - loss: 0.0043\n",
      "Epoch 7/20\n",
      "198/198 [==============================] - 4s 20ms/step - loss: 0.0052\n",
      "175/198 [=========================>....] - ETA: 0s - loss: 0.0251Epoch 7/20\n",
      "198/198 [==============================] - 4s 19ms/step - loss: 0.0120\n",
      " 87/198 [============>.................] - ETA: 2s - loss: 0.0043Epoch 4/20\n",
      "198/198 [==============================] - 4s 19ms/step - loss: 0.0250\n",
      " 25/198 [==>...........................] - ETA: 3s - loss: 0.0046Epoch 3/20\n",
      "198/198 [==============================] - 4s 21ms/step - loss: 0.0043\n",
      "Epoch 14/20\n",
      "198/198 [==============================] - 4s 20ms/step - loss: 0.0042\n",
      "Epoch 11/20\n",
      "198/198 [==============================] - 4s 20ms/step - loss: 0.0042\n",
      " 21/198 [==>...........................] - ETA: 3s - loss: 0.0040Epoch 8/20\n",
      "198/198 [==============================] - 4s 21ms/step - loss: 0.0040\n",
      "Epoch 14/20\n",
      "198/198 [==============================] - 4s 21ms/step - loss: 0.0043\n",
      "Epoch 8/20\n",
      "198/198 [==============================] - 4s 19ms/step - loss: 0.0047\n",
      "174/198 [=========================>....] - ETA: 0s - loss: 0.0169Epoch 8/20\n",
      "198/198 [==============================] - 4s 19ms/step - loss: 0.0084\n",
      "Epoch 5/20\n",
      "198/198 [==============================] - 4s 19ms/step - loss: 0.0167\n",
      "Epoch 4/20\n",
      "198/198 [==============================] - 4s 21ms/step - loss: 0.0043\n",
      "Epoch 15/20\n",
      "198/198 [==============================] - 4s 21ms/step - loss: 0.0042\n",
      "Epoch 12/20\n",
      "198/198 [==============================] - 4s 21ms/step - loss: 0.0043\n",
      " 20/198 [==>...........................] - ETA: 3s - loss: 0.0047Epoch 9/20\n",
      "198/198 [==============================] - 4s 22ms/step - loss: 0.0040\n",
      "Epoch 15/20\n",
      "198/198 [==============================] - 4s 21ms/step - loss: 0.0043\n",
      "Epoch 9/20\n",
      "198/198 [==============================] - 4s 20ms/step - loss: 0.0066\n",
      "196/198 [============================>.] - ETA: 0s - loss: 0.0043Epoch 6/20\n",
      "198/198 [==============================] - 4s 21ms/step - loss: 0.0043\n",
      "Epoch 9/20\n",
      "198/198 [==============================] - 4s 20ms/step - loss: 0.0132\n",
      " 88/198 [============>.................] - ETA: 2s - loss: 0.0044Epoch 5/20\n",
      "198/198 [==============================] - 4s 20ms/step - loss: 0.0042\n",
      "Epoch 13/20\n",
      "198/198 [==============================] - 4s 22ms/step - loss: 0.0043\n",
      "Epoch 16/20\n",
      "198/198 [==============================] - 4s 21ms/step - loss: 0.0043\n",
      "Epoch 10/20\n",
      "198/198 [==============================] - 4s 22ms/step - loss: 0.0040\n",
      "Epoch 16/20\n",
      "198/198 [==============================] - 4s 21ms/step - loss: 0.0043\n",
      "Epoch 10/20\n",
      "198/198 [==============================] - 4s 19ms/step - loss: 0.0055\n",
      "Epoch 7/20\n",
      "198/198 [==============================] - 4s 19ms/step - loss: 0.0041\n",
      "Epoch 10/20\n",
      "198/198 [==============================] - 4s 19ms/step - loss: 0.0113\n",
      " 71/198 [=========>....................] - ETA: 2s - loss: 0.0041Epoch 6/20\n",
      "198/198 [==============================] - 4s 20ms/step - loss: 0.0042\n",
      "Epoch 14/20\n",
      "198/198 [==============================] - 4s 20ms/step - loss: 0.0043\n",
      "Epoch 17/20\n",
      "198/198 [==============================] - 4s 20ms/step - loss: 0.0043\n",
      "Epoch 11/20\n",
      "198/198 [==============================] - 4s 20ms/step - loss: 0.0039\n",
      "Epoch 17/20\n",
      "198/198 [==============================] - 4s 21ms/step - loss: 0.0043\n",
      " 82/198 [===========>..................] - ETA: 2s - loss: 0.0038Epoch 11/20\n",
      "198/198 [==============================] - 4s 19ms/step - loss: 0.0050\n",
      "Epoch 8/20\n",
      "198/198 [==============================] - 4s 19ms/step - loss: 0.0041\n",
      "Epoch 11/20\n",
      "198/198 [==============================] - 4s 20ms/step - loss: 0.0099\n",
      "Epoch 7/20\n",
      "198/198 [==============================] - 4s 20ms/step - loss: 0.0043\n",
      "Epoch 18/20\n",
      "198/198 [==============================] - 4s 21ms/step - loss: 0.0042\n",
      "120/198 [=================>............] - ETA: 1s - loss: 0.0044Epoch 15/20\n",
      "198/198 [==============================] - 4s 21ms/step - loss: 0.0043\n",
      " 23/198 [==>...........................] - ETA: 4s - loss: 0.0054Epoch 12/20\n",
      "198/198 [==============================] - 4s 21ms/step - loss: 0.0040\n",
      " 15/198 [=>............................] - ETA: 4s - loss: 0.0033Epoch 18/20\n",
      "198/198 [==============================] - 4s 20ms/step - loss: 0.0043\n",
      "Epoch 12/20\n",
      "198/198 [==============================] - 4s 20ms/step - loss: 0.0047\n",
      "Epoch 9/20\n",
      "198/198 [==============================] - 4s 20ms/step - loss: 0.0040\n",
      "Epoch 12/20\n",
      "198/198 [==============================] - 4s 20ms/step - loss: 0.0088\n",
      "Epoch 8/20\n",
      "198/198 [==============================] - 4s 20ms/step - loss: 0.0043\n",
      "Epoch 19/20\n",
      "198/198 [==============================] - 4s 21ms/step - loss: 0.0042\n",
      "Epoch 16/20\n",
      "198/198 [==============================] - 4s 21ms/step - loss: 0.0043\n",
      "Epoch 13/20\n",
      "198/198 [==============================] - 4s 21ms/step - loss: 0.0040\n",
      "Epoch 19/20\n",
      "198/198 [==============================] - 4s 21ms/step - loss: 0.0043\n",
      " 48/198 [======>.......................] - ETA: 3s - loss: 0.0042Epoch 13/20\n",
      "198/198 [==============================] - 4s 19ms/step - loss: 0.0045\n",
      "Epoch 10/20\n",
      "198/198 [==============================] - 4s 19ms/step - loss: 0.0040\n",
      "Epoch 13/20\n",
      "198/198 [==============================] - 4s 19ms/step - loss: 0.0079\n",
      "Epoch 9/20\n",
      "198/198 [==============================] - 4s 20ms/step - loss: 0.0043\n",
      "Epoch 20/20\n",
      "198/198 [==============================] - 4s 20ms/step - loss: 0.0042\n",
      "Epoch 17/20\n",
      "198/198 [==============================] - 4s 21ms/step - loss: 0.0043\n",
      "Epoch 14/20\n",
      "198/198 [==============================] - 4s 21ms/step - loss: 0.0040\n",
      "Epoch 20/20\n",
      "198/198 [==============================] - 4s 20ms/step - loss: 0.0043\n",
      "Epoch 14/20\n",
      "198/198 [==============================] - 4s 19ms/step - loss: 0.0044\n",
      "Epoch 11/20\n",
      "198/198 [==============================] - 4s 20ms/step - loss: 0.0040\n",
      "Epoch 14/20\n",
      "198/198 [==============================] - 4s 19ms/step - loss: 0.0071\n",
      "Epoch 10/20\n",
      "198/198 [==============================] - 4s 21ms/step - loss: 0.0043\n",
      "198/198 [==============================] - 4s 21ms/step - loss: 0.0042\n",
      "Epoch 18/20\n",
      "198/198 [==============================] - 4s 21ms/step - loss: 0.0043\n",
      "Epoch 15/20\n",
      "  4/198 [..............................] - ETA: 3s - loss: 0.0029"
     ]
    },
    {
     "name": "stderr",
     "output_type": "stream",
     "text": [
      "2023-05-02 11:35:07.100682: I tensorflow/core/grappler/optimizers/custom_graph_optimizer_registry.cc:114] Plugin optimizer for device_type GPU is enabled.\n"
     ]
    },
    {
     "name": "stdout",
     "output_type": "stream",
     "text": [
      "193/198 [============================>.] - ETA: 0s - loss: 0.0043"
     ]
    },
    {
     "name": "stderr",
     "output_type": "stream",
     "text": [
      "2023-05-02 11:35:07.595833: I tensorflow/core/grappler/optimizers/custom_graph_optimizer_registry.cc:114] Plugin optimizer for device_type GPU is enabled.\n"
     ]
    },
    {
     "name": "stdout",
     "output_type": "stream",
     "text": [
      "198/198 [==============================] - 4s 19ms/step - loss: 0.0043\n",
      "Epoch 12/20\n",
      "198/198 [==============================] - 4s 22ms/step - loss: 0.0039\n",
      "198/198 [==============================] - 4s 21ms/step - loss: 0.0043\n",
      "Epoch 15/20\n",
      "198/198 [==============================] - 4s 20ms/step - loss: 0.0040\n",
      "Epoch 15/20\n",
      "198/198 [==============================] - 4s 19ms/step - loss: 0.0064\n",
      "Epoch 11/20\n",
      "50/50 [==============================] - 2s 17ms/step - loss: 0.0041\n",
      " 34/198 [====>.........................] - ETA: 2s - loss: 0.0044"
     ]
    },
    {
     "name": "stderr",
     "output_type": "stream",
     "text": [
      "2023-05-02 11:35:08.909357: I tensorflow/core/grappler/optimizers/custom_graph_optimizer_registry.cc:114] Plugin optimizer for device_type GPU is enabled.\n"
     ]
    },
    {
     "name": "stdout",
     "output_type": "stream",
     "text": [
      " 57/198 [=======>......................] - ETA: 2s - loss: 0.0042"
     ]
    },
    {
     "name": "stderr",
     "output_type": "stream",
     "text": [
      "2023-05-02 11:35:09.224310: I tensorflow/core/grappler/optimizers/custom_graph_optimizer_registry.cc:114] Plugin optimizer for device_type GPU is enabled.\n"
     ]
    },
    {
     "name": "stdout",
     "output_type": "stream",
     "text": [
      "50/50 [==============================] - 2s 16ms/step - loss: 0.0048\n",
      "198/198 [==============================] - 4s 20ms/step - loss: 0.0042\n",
      "Epoch 19/20\n",
      "198/198 [==============================] - 4s 20ms/step - loss: 0.0042\n",
      "Epoch 16/20\n",
      "198/198 [==============================] - 3s 14ms/step - loss: 0.0043\n",
      "198/198 [==============================] - 4s 18ms/step - loss: 0.0043\n",
      "Epoch 13/20\n",
      "198/198 [==============================] - 4s 18ms/step - loss: 0.0040\n",
      "Epoch 16/20\n",
      "198/198 [==============================] - 4s 20ms/step - loss: 0.0043\n",
      "Epoch 16/20\n",
      "198/198 [==============================] - 4s 18ms/step - loss: 0.0057\n",
      "Epoch 12/20\n",
      "198/198 [==============================] - 3s 13ms/step - loss: 0.0039\n",
      "165/198 [========================>.....] - ETA: 0s - loss: 0.0042Epoch 1/20\n",
      "157/198 [======================>.......] - ETA: 0s - loss: 0.0044Epoch 1/20\n",
      "198/198 [==============================] - 4s 20ms/step - loss: 0.0041\n",
      "Epoch 20/20\n",
      "198/198 [==============================] - 4s 18ms/step - loss: 0.0043\n",
      "161/198 [=======================>......] - ETA: 0s - loss: 0.0040Epoch 14/20\n",
      "198/198 [==============================] - 4s 20ms/step - loss: 0.0043\n",
      "Epoch 17/20\n",
      "198/198 [==============================] - 4s 19ms/step - loss: 0.0040\n",
      "Epoch 17/20\n",
      "198/198 [==============================] - 4s 19ms/step - loss: 0.0052\n",
      " 11/198 [>.............................] - ETA: 3s - loss: 0.0038Epoch 13/20\n",
      "198/198 [==============================] - 4s 20ms/step - loss: 0.0043\n",
      " 25/198 [==>...........................] - ETA: 3s - loss: 0.0039Epoch 17/20\n",
      "178/198 [=========================>....] - ETA: 0s - loss: 0.0041"
     ]
    },
    {
     "name": "stderr",
     "output_type": "stream",
     "text": [
      "2023-05-02 11:35:17.642607: I tensorflow/core/grappler/optimizers/custom_graph_optimizer_registry.cc:114] Plugin optimizer for device_type GPU is enabled.\n"
     ]
    },
    {
     "name": "stdout",
     "output_type": "stream",
     "text": [
      "198/198 [==============================] - 4s 18ms/step - loss: 0.0041\n",
      "198/198 [==============================] - 3s 17ms/step - loss: 0.0043\n",
      "Epoch 15/20\n",
      "160/198 [=======================>......] - ETA: 0s - loss: 0.0050"
     ]
    },
    {
     "name": "stderr",
     "output_type": "stream",
     "text": [
      "2023-05-02 11:35:18.231364: I tensorflow/core/grappler/optimizers/custom_graph_optimizer_registry.cc:114] Plugin optimizer for device_type GPU is enabled.\n"
     ]
    },
    {
     "name": "stdout",
     "output_type": "stream",
     "text": [
      "138/198 [===================>..........] - ETA: 1s - loss: 0.0045"
     ]
    },
    {
     "name": "stderr",
     "output_type": "stream",
     "text": [
      "2023-05-02 11:35:18.527091: I tensorflow/core/grappler/optimizers/custom_graph_optimizer_registry.cc:114] Plugin optimizer for device_type GPU is enabled.\n",
      "2023-05-02 11:35:18.718934: I tensorflow/core/grappler/optimizers/custom_graph_optimizer_registry.cc:114] Plugin optimizer for device_type GPU is enabled.\n"
     ]
    },
    {
     "name": "stdout",
     "output_type": "stream",
     "text": [
      "198/198 [==============================] - 4s 18ms/step - loss: 0.0043\n",
      "Epoch 18/20\n",
      "178/198 [=========================>....] - ETA: 0s - loss: 0.0050"
     ]
    },
    {
     "name": "stderr",
     "output_type": "stream",
     "text": [
      "2023-05-02 11:35:18.798805: I tensorflow/core/grappler/optimizers/custom_graph_optimizer_registry.cc:114] Plugin optimizer for device_type GPU is enabled.\n"
     ]
    },
    {
     "name": "stdout",
     "output_type": "stream",
     "text": [
      "156/198 [======================>.......] - ETA: 0s - loss: 0.004593"
     ]
    },
    {
     "name": "stderr",
     "output_type": "stream",
     "text": [
      "2023-05-02 11:35:19.026565: I tensorflow/core/grappler/optimizers/custom_graph_optimizer_registry.cc:114] Plugin optimizer for device_type GPU is enabled.\n",
      "2023-05-02 11:35:19.206833: I tensorflow/core/grappler/optimizers/custom_graph_optimizer_registry.cc:114] Plugin optimizer for device_type GPU is enabled.\n"
     ]
    },
    {
     "name": "stdout",
     "output_type": "stream",
     "text": [
      "198/198 [==============================] - 3s 17ms/step - loss: 0.0040\n",
      "Epoch 18/20\n",
      "198/198 [==============================] - 3s 17ms/step - loss: 0.0049\n",
      "Epoch 14/20\n",
      "48/50 [===========================>..] - ETA: 0s - loss: 0.00565"
     ]
    },
    {
     "name": "stderr",
     "output_type": "stream",
     "text": [
      "2023-05-02 11:35:19.712591: I tensorflow/core/grappler/optimizers/custom_graph_optimizer_registry.cc:114] Plugin optimizer for device_type GPU is enabled.\n"
     ]
    },
    {
     "name": "stdout",
     "output_type": "stream",
     "text": [
      "50/50 [==============================] - 2s 16ms/step - loss: 0.0055\n",
      "198/198 [==============================] - 4s 20ms/step - loss: 0.0043\n",
      "Epoch 18/20\n",
      "198/198 [==============================] - 4s 18ms/step - loss: 0.0043\n",
      " 96/198 [=============>................] - ETA: 2s - loss: 0.0043Epoch 16/20\n",
      "198/198 [==============================] - 4s 18ms/step - loss: 0.0040\n",
      "Epoch 19/20\n",
      "198/198 [==============================] - 4s 20ms/step - loss: 0.0043\n",
      "142/198 [====================>.........] - ETA: 1s - loss: 0.0393Epoch 19/20\n",
      "198/198 [==============================] - 4s 18ms/step - loss: 0.0046\n",
      "Epoch 15/20\n",
      "198/198 [==============================] - 9s 20ms/step - loss: 0.0573\n",
      "Epoch 2/20\n",
      "198/198 [==============================] - 3s 15ms/step - loss: 0.0051\n",
      "198/198 [==============================] - 4s 20ms/step - loss: 0.0043\n",
      "Epoch 19/20\n",
      "198/198 [==============================] - 10s 20ms/step - loss: 0.0334\n",
      " 65/198 [========>.....................] - ETA: 2s - loss: 0.0040Epoch 2/20\n",
      " 20/198 [==>...........................] - ETA: 2s - loss: 0.0178Epoch 1/20\n",
      "198/198 [==============================] - 3s 17ms/step - loss: 0.0043\n",
      "Epoch 17/20\n",
      "198/198 [==============================] - 3s 18ms/step - loss: 0.0040\n",
      "189/198 [===========================>..] - ETA: 0s - loss: 0.0044Epoch 20/20\n",
      "198/198 [==============================] - 3s 18ms/step - loss: 0.0044\n",
      "Epoch 16/20\n",
      "198/198 [==============================] - 3s 17ms/step - loss: 0.0044\n",
      "Epoch 3/20\n",
      "198/198 [==============================] - 4s 20ms/step - loss: 0.0042\n",
      "Epoch 20/20\n",
      "198/198 [==============================] - 3s 17ms/step - loss: 0.0134\n",
      "Epoch 3/20\n",
      "198/198 [==============================] - 4s 20ms/step - loss: 0.0043\n",
      " 89/198 [============>.................] - ETA: 2s - loss: 0.0039Epoch 20/20\n",
      "198/198 [==============================] - 3s 18ms/step - loss: 0.0043\n",
      "Epoch 18/20\n",
      "198/198 [==============================] - 4s 18ms/step - loss: 0.0040\n",
      "198/198 [==============================] - 4s 18ms/step - loss: 0.0043\n",
      "Epoch 17/20\n",
      "198/198 [==============================] - 3s 18ms/step - loss: 0.0043\n",
      "  1/198 [..............................] - ETA: 5s - loss: 0.0041Epoch 4/20\n",
      "198/198 [==============================] - 4s 19ms/step - loss: 0.0043\n",
      "102/198 [==============>...............] - ETA: 1s - loss: 0.0043"
     ]
    },
    {
     "name": "stderr",
     "output_type": "stream",
     "text": [
      "2023-05-02 11:35:30.601471: I tensorflow/core/grappler/optimizers/custom_graph_optimizer_registry.cc:114] Plugin optimizer for device_type GPU is enabled.\n",
      "2023-05-02 11:35:30.755803: I tensorflow/core/grappler/optimizers/custom_graph_optimizer_registry.cc:114] Plugin optimizer for device_type GPU is enabled.\n"
     ]
    },
    {
     "name": "stdout",
     "output_type": "stream",
     "text": [
      " 58/198 [=======>......................] - ETA: 2s - loss: 0.0044"
     ]
    },
    {
     "name": "stderr",
     "output_type": "stream",
     "text": [
      "2023-05-02 11:35:30.862685: I tensorflow/core/grappler/optimizers/custom_graph_optimizer_registry.cc:114] Plugin optimizer for device_type GPU is enabled.\n"
     ]
    },
    {
     "name": "stdout",
     "output_type": "stream",
     "text": [
      "198/198 [==============================] - 4s 18ms/step - loss: 0.0086\n",
      "Epoch 4/20\n",
      "178/198 [=========================>....] - ETA: 0s - loss: 0.0044"
     ]
    },
    {
     "name": "stderr",
     "output_type": "stream",
     "text": [
      "2023-05-02 11:35:31.275710: I tensorflow/core/grappler/optimizers/custom_graph_optimizer_registry.cc:114] Plugin optimizer for device_type GPU is enabled.\n"
     ]
    },
    {
     "name": "stdout",
     "output_type": "stream",
     "text": [
      "50/50 [==============================] - 2s 13ms/step - loss: 0.0048\n",
      "198/198 [==============================] - 4s 20ms/step - loss: 0.0043\n",
      "161/198 [=======================>......] - ETA: 0s - loss: 0.0043"
     ]
    },
    {
     "name": "stderr",
     "output_type": "stream",
     "text": [
      "2023-05-02 11:35:31.543184: I tensorflow/core/grappler/optimizers/custom_graph_optimizer_registry.cc:114] Plugin optimizer for device_type GPU is enabled.\n",
      "2023-05-02 11:35:31.741749: I tensorflow/core/grappler/optimizers/custom_graph_optimizer_registry.cc:114] Plugin optimizer for device_type GPU is enabled.\n"
     ]
    },
    {
     "name": "stdout",
     "output_type": "stream",
     "text": [
      "122/198 [=================>............] - ETA: 1s - loss: 0.0044"
     ]
    },
    {
     "name": "stderr",
     "output_type": "stream",
     "text": [
      "2023-05-02 11:35:32.088113: I tensorflow/core/grappler/optimizers/custom_graph_optimizer_registry.cc:114] Plugin optimizer for device_type GPU is enabled.\n"
     ]
    },
    {
     "name": "stdout",
     "output_type": "stream",
     "text": [
      "50/50 [==============================] - 2s 13ms/step - loss: 0.0037\n",
      "198/198 [==============================] - 4s 18ms/step - loss: 0.0043\n",
      "Epoch 19/20\n",
      " 14/198 [=>............................] - ETA: 2s - loss: 0.007013"
     ]
    },
    {
     "name": "stderr",
     "output_type": "stream",
     "text": [
      "2023-05-02 11:35:32.561440: I tensorflow/core/grappler/optimizers/custom_graph_optimizer_registry.cc:114] Plugin optimizer for device_type GPU is enabled.\n"
     ]
    },
    {
     "name": "stdout",
     "output_type": "stream",
     "text": [
      "110/198 [===============>..............] - ETA: 1s - loss: 0.0067 "
     ]
    },
    {
     "name": "stderr",
     "output_type": "stream",
     "text": [
      "2023-05-02 11:35:32.985181: I tensorflow/core/grappler/optimizers/custom_graph_optimizer_registry.cc:114] Plugin optimizer for device_type GPU is enabled.\n"
     ]
    },
    {
     "name": "stdout",
     "output_type": "stream",
     "text": [
      "198/198 [==============================] - 4s 19ms/step - loss: 0.0042\n",
      "Epoch 18/20\n",
      "198/198 [==============================] - 4s 19ms/step - loss: 0.0043\n",
      "Epoch 5/20\n",
      "50/50 [==============================] - 2s 14ms/step - loss: 0.0036\n",
      "198/198 [==============================] - 2s 12ms/step - loss: 0.0039\n",
      "198/198 [==============================] - 4s 19ms/step - loss: 0.0063\n",
      "Epoch 5/20\n",
      "198/198 [==============================] - 3s 13ms/step - loss: 0.0043\n",
      "Epoch 1/20\n",
      "168/198 [========================>.....] - ETA: 0s - loss: 0.0042Epoch 1/20\n",
      "198/198 [==============================] - 4s 18ms/step - loss: 0.0043\n",
      "Epoch 20/20\n",
      "198/198 [==============================] - 2s 11ms/step - loss: 0.0042\n",
      "198/198 [==============================] - 12s 21ms/step - loss: 0.0050\n",
      "Epoch 2/20\n",
      "119/198 [=================>............] - ETA: 1s - loss: 0.0051Epoch 1/20\n",
      "198/198 [==============================] - 3s 18ms/step - loss: 0.0042\n",
      "Epoch 19/20\n",
      "198/198 [==============================] - 3s 18ms/step - loss: 0.0044\n",
      "Epoch 6/20\n",
      "172/198 [=========================>....] - ETA: 0s - loss: 0.0053"
     ]
    },
    {
     "name": "stderr",
     "output_type": "stream",
     "text": [
      "2023-05-02 11:35:37.558908: I tensorflow/core/grappler/optimizers/custom_graph_optimizer_registry.cc:114] Plugin optimizer for device_type GPU is enabled.\n"
     ]
    },
    {
     "name": "stdout",
     "output_type": "stream",
     "text": [
      "195/198 [============================>.] - ETA: 0s - loss: 0.0052"
     ]
    },
    {
     "name": "stderr",
     "output_type": "stream",
     "text": [
      "2023-05-02 11:35:37.933711: I tensorflow/core/grappler/optimizers/custom_graph_optimizer_registry.cc:114] Plugin optimizer for device_type GPU is enabled.\n"
     ]
    },
    {
     "name": "stdout",
     "output_type": "stream",
     "text": [
      "198/198 [==============================] - 3s 18ms/step - loss: 0.0052\n",
      " 61/198 [========>.....................] - ETA: 2s - loss: 0.0039Epoch 6/20\n",
      "  7/198 [>.............................] - ETA: 3s - loss: 0.0044"
     ]
    },
    {
     "name": "stderr",
     "output_type": "stream",
     "text": [
      "2023-05-02 11:35:38.153394: I tensorflow/core/grappler/optimizers/custom_graph_optimizer_registry.cc:114] Plugin optimizer for device_type GPU is enabled.\n"
     ]
    },
    {
     "name": "stdout",
     "output_type": "stream",
     "text": [
      " 75/198 [==========>...................] - ETA: 2s - loss: 0.0037"
     ]
    },
    {
     "name": "stderr",
     "output_type": "stream",
     "text": [
      "2023-05-02 11:35:38.419889: I tensorflow/core/grappler/optimizers/custom_graph_optimizer_registry.cc:114] Plugin optimizer for device_type GPU is enabled.\n",
      "2023-05-02 11:35:38.606663: I tensorflow/core/grappler/optimizers/custom_graph_optimizer_registry.cc:114] Plugin optimizer for device_type GPU is enabled.\n"
     ]
    },
    {
     "name": "stdout",
     "output_type": "stream",
     "text": [
      " 30/198 [===>..........................] - ETA: 3s - loss: 0.0047  "
     ]
    },
    {
     "name": "stderr",
     "output_type": "stream",
     "text": [
      "2023-05-02 11:35:38.783015: I tensorflow/core/grappler/optimizers/custom_graph_optimizer_registry.cc:114] Plugin optimizer for device_type GPU is enabled.\n",
      "2023-05-02 11:35:38.876100: I tensorflow/core/grappler/optimizers/custom_graph_optimizer_registry.cc:114] Plugin optimizer for device_type GPU is enabled.\n"
     ]
    },
    {
     "name": "stdout",
     "output_type": "stream",
     "text": [
      " 14/198 [=>............................] - ETA: 5s - loss: 0.03067"
     ]
    },
    {
     "name": "stderr",
     "output_type": "stream",
     "text": [
      "2023-05-02 11:35:39.312374: I tensorflow/core/grappler/optimizers/custom_graph_optimizer_registry.cc:114] Plugin optimizer for device_type GPU is enabled.\n"
     ]
    },
    {
     "name": "stdout",
     "output_type": "stream",
     "text": [
      "198/198 [==============================] - 4s 19ms/step - loss: 0.0043\n",
      " 48/198 [======>.......................] - ETA: 3s - loss: 0.1693"
     ]
    },
    {
     "name": "stderr",
     "output_type": "stream",
     "text": [
      "2023-05-02 11:35:39.744079: I tensorflow/core/grappler/optimizers/custom_graph_optimizer_registry.cc:114] Plugin optimizer for device_type GPU is enabled.\n"
     ]
    },
    {
     "name": "stdout",
     "output_type": "stream",
     "text": [
      " 71/198 [=========>....................] - ETA: 2s - loss: 0.0194"
     ]
    },
    {
     "name": "stderr",
     "output_type": "stream",
     "text": [
      "2023-05-02 11:35:40.563652: I tensorflow/core/grappler/optimizers/custom_graph_optimizer_registry.cc:114] Plugin optimizer for device_type GPU is enabled.\n"
     ]
    },
    {
     "name": "stdout",
     "output_type": "stream",
     "text": [
      "198/198 [==============================] - 4s 21ms/step - loss: 0.0042\n",
      " 88/198 [============>.................] - ETA: 2s - loss: 0.1370Epoch 3/20\n",
      "198/198 [==============================] - 4s 20ms/step - loss: 0.0041\n",
      "Epoch 20/20\n",
      "195/198 [============================>.] - ETA: 0s - loss: 0.0043"
     ]
    },
    {
     "name": "stderr",
     "output_type": "stream",
     "text": [
      "2023-05-02 11:35:41.009808: I tensorflow/core/grappler/optimizers/custom_graph_optimizer_registry.cc:114] Plugin optimizer for device_type GPU is enabled.\n"
     ]
    },
    {
     "name": "stdout",
     "output_type": "stream",
     "text": [
      "198/198 [==============================] - 4s 21ms/step - loss: 0.0043\n",
      " 46/198 [=====>........................] - ETA: 3s - loss: 0.0476Epoch 7/20\n",
      "50/50 [==============================] - 2s 14ms/step - loss: 0.0040\n",
      "198/198 [==============================] - 4s 20ms/step - loss: 0.0047\n",
      "Epoch 7/20\n",
      "198/198 [==============================] - 8s 23ms/step - loss: 0.0849\n",
      " 60/198 [========>.....................] - ETA: 2s - loss: 0.0045Epoch 2/20\n",
      "198/198 [==============================] - 8s 23ms/step - loss: 0.0113\n",
      "Epoch 2/20\n",
      "198/198 [==============================] - 8s 23ms/step - loss: 0.0243\n",
      "Epoch 2/20\n",
      "198/198 [==============================] - 4s 20ms/step - loss: 0.0042\n",
      "198/198 [==============================] - 4s 21ms/step - loss: 0.0041\n",
      "198/198 [==============================] - 3s 15ms/step - loss: 0.0042\n",
      "Epoch 4/20\n",
      "198/198 [==============================] - 4s 20ms/step - loss: 0.0043\n",
      "Epoch 8/20\n",
      "198/198 [==============================] - 4s 19ms/step - loss: 0.0045\n",
      "Epoch 8/20\n"
     ]
    },
    {
     "name": "stderr",
     "output_type": "stream",
     "text": [
      "2023-05-02 11:35:45.857708: I tensorflow/core/grappler/optimizers/custom_graph_optimizer_registry.cc:114] Plugin optimizer for device_type GPU is enabled.\n"
     ]
    },
    {
     "name": "stdout",
     "output_type": "stream",
     "text": [
      "  1/198 [..............................] - ETA: 2s - loss: 0.0041Epoch 1/20\n",
      " 61/198 [========>.....................] - ETA: 2s - loss: 0.0045"
     ]
    },
    {
     "name": "stderr",
     "output_type": "stream",
     "text": [
      "2023-05-02 11:35:46.189387: I tensorflow/core/grappler/optimizers/custom_graph_optimizer_registry.cc:114] Plugin optimizer for device_type GPU is enabled.\n"
     ]
    },
    {
     "name": "stdout",
     "output_type": "stream",
     "text": [
      "50/50 [==============================] - 2s 15ms/step - loss: 0.0045\n",
      "198/198 [==============================] - 4s 21ms/step - loss: 0.0110\n",
      "Epoch 3/20\n",
      "198/198 [==============================] - 4s 21ms/step - loss: 0.0048\n",
      "Epoch 3/20\n",
      "198/198 [==============================] - 4s 21ms/step - loss: 0.0060\n",
      "Epoch 3/20\n",
      "198/198 [==============================] - 4s 19ms/step - loss: 0.0043\n",
      "Epoch 9/20\n",
      "198/198 [==============================] - 4s 21ms/step - loss: 0.0042\n",
      "Epoch 5/20\n",
      "198/198 [==============================] - 4s 19ms/step - loss: 0.0045\n",
      "179/198 [==========================>...] - ETA: 0s - loss: 0.0041Epoch 9/20\n",
      "198/198 [==============================] - 3s 14ms/step - loss: 0.0040\n",
      " 61/198 [========>.....................] - ETA: 2s - loss: 0.0045Epoch 1/20\n",
      "198/198 [==============================] - 4s 21ms/step - loss: 0.0044\n",
      "Epoch 4/20\n",
      "198/198 [==============================] - 4s 20ms/step - loss: 0.0046\n",
      "135/198 [===================>..........] - ETA: 1s - loss: 0.0042Epoch 4/20\n",
      "198/198 [==============================] - 4s 19ms/step - loss: 0.0043\n",
      "188/198 [===========================>..] - ETA: 0s - loss: 0.0049Epoch 10/20\n",
      "198/198 [==============================] - 4s 20ms/step - loss: 0.0048\n",
      "Epoch 4/20\n",
      "198/198 [==============================] - 4s 21ms/step - loss: 0.0041\n",
      "Epoch 6/20\n",
      " 63/198 [========>.....................] - ETA: 3s - loss: 0.0050"
     ]
    },
    {
     "name": "stderr",
     "output_type": "stream",
     "text": [
      "2023-05-02 11:35:53.045165: I tensorflow/core/grappler/optimizers/custom_graph_optimizer_registry.cc:114] Plugin optimizer for device_type GPU is enabled.\n"
     ]
    },
    {
     "name": "stdout",
     "output_type": "stream",
     "text": [
      "198/198 [==============================] - 4s 19ms/step - loss: 0.0044\n",
      "Epoch 10/20\n",
      " 88/198 [============>.................] - ETA: 2s - loss: 0.0047"
     ]
    },
    {
     "name": "stderr",
     "output_type": "stream",
     "text": [
      "2023-05-02 11:35:53.776733: I tensorflow/core/grappler/optimizers/custom_graph_optimizer_registry.cc:114] Plugin optimizer for device_type GPU is enabled.\n"
     ]
    },
    {
     "name": "stdout",
     "output_type": "stream",
     "text": [
      " 36/198 [====>.........................] - ETA: 3s - loss: 0.0044"
     ]
    },
    {
     "name": "stderr",
     "output_type": "stream",
     "text": [
      "2023-05-02 11:35:54.074264: I tensorflow/core/grappler/optimizers/custom_graph_optimizer_registry.cc:114] Plugin optimizer for device_type GPU is enabled.\n"
     ]
    },
    {
     "name": "stdout",
     "output_type": "stream",
     "text": [
      "198/198 [==============================] - 4s 21ms/step - loss: 0.0042\n",
      "Epoch 5/20\n",
      "198/198 [==============================] - 4s 22ms/step - loss: 0.0045\n",
      "Epoch 5/20\n",
      "154/198 [======================>.......] - ETA: 0s - loss: 0.0045"
     ]
    },
    {
     "name": "stderr",
     "output_type": "stream",
     "text": [
      "2023-05-02 11:35:56.113261: I tensorflow/core/grappler/optimizers/custom_graph_optimizer_registry.cc:114] Plugin optimizer for device_type GPU is enabled.\n"
     ]
    },
    {
     "name": "stdout",
     "output_type": "stream",
     "text": [
      "198/198 [==============================] - 4s 20ms/step - loss: 0.0043\n",
      "165/198 [========================>.....] - ETA: 0s - loss: 0.0047Epoch 11/20\n",
      "198/198 [==============================] - 4s 19ms/step - loss: 0.0044\n",
      "177/198 [=========================>....] - ETA: 0s - loss: 0.0041Epoch 11/20\n",
      "198/198 [==============================] - 4s 21ms/step - loss: 0.0047\n",
      "Epoch 5/20\n",
      "198/198 [==============================] - 4s 21ms/step - loss: 0.0041\n",
      "Epoch 7/20\n",
      " 53/198 [=======>......................] - ETA: 2s - loss: 0.0045 "
     ]
    },
    {
     "name": "stderr",
     "output_type": "stream",
     "text": [
      "2023-05-02 11:35:57.802327: I tensorflow/core/grappler/optimizers/custom_graph_optimizer_registry.cc:114] Plugin optimizer for device_type GPU is enabled.\n"
     ]
    },
    {
     "name": "stdout",
     "output_type": "stream",
     "text": [
      "129/198 [==================>...........] - ETA: 1s - loss: 0.0044"
     ]
    },
    {
     "name": "stderr",
     "output_type": "stream",
     "text": [
      "2023-05-02 11:35:58.597796: I tensorflow/core/grappler/optimizers/custom_graph_optimizer_registry.cc:114] Plugin optimizer for device_type GPU is enabled.\n"
     ]
    },
    {
     "name": "stdout",
     "output_type": "stream",
     "text": [
      "198/198 [==============================] - 13s 23ms/step - loss: 0.0743\n",
      "Epoch 2/20\n",
      "198/198 [==============================] - 4s 20ms/step - loss: 0.0042\n",
      "Epoch 6/20\n",
      "198/198 [==============================] - 4s 20ms/step - loss: 0.0044\n",
      " 24/198 [==>...........................] - ETA: 3s - loss: 0.0042Epoch 6/20\n",
      "198/198 [==============================] - 4s 19ms/step - loss: 0.0043\n",
      "Epoch 12/20\n",
      "198/198 [==============================] - 4s 19ms/step - loss: 0.0044\n",
      "Epoch 12/20\n",
      "198/198 [==============================] - 4s 21ms/step - loss: 0.0047\n",
      "Epoch 6/20\n",
      "198/198 [==============================] - 4s 20ms/step - loss: 0.0041\n",
      "Epoch 8/20\n",
      "198/198 [==============================] - 4s 21ms/step - loss: 0.0197\n",
      "154/198 [======================>.......] - ETA: 0s - loss: 0.0042Epoch 3/20\n",
      "198/198 [==============================] - 12s 21ms/step - loss: 0.0929\n",
      "Epoch 2/20\n",
      "198/198 [==============================] - 4s 21ms/step - loss: 0.0042\n",
      "Epoch 7/20\n",
      "198/198 [==============================] - 4s 21ms/step - loss: 0.0043\n",
      "187/198 [===========================>..] - ETA: 0s - loss: 0.0044Epoch 7/20\n",
      "198/198 [==============================] - 4s 20ms/step - loss: 0.0043\n",
      "Epoch 13/20\n",
      "198/198 [==============================] - 4s 19ms/step - loss: 0.0044\n",
      "Epoch 13/20\n",
      "198/198 [==============================] - 4s 21ms/step - loss: 0.0047\n",
      "134/198 [===================>..........] - ETA: 1s - loss: 0.0086Epoch 7/20\n",
      "198/198 [==============================] - 4s 21ms/step - loss: 0.0041\n",
      "Epoch 9/20\n",
      "198/198 [==============================] - 4s 19ms/step - loss: 0.0072\n",
      "185/198 [===========================>..] - ETA: 0s - loss: 0.0075Epoch 3/20\n",
      "198/198 [==============================] - 4s 22ms/step - loss: 0.0074\n",
      "145/198 [====================>.........] - ETA: 1s - loss: 0.0046Epoch 4/20\n",
      "198/198 [==============================] - 4s 21ms/step - loss: 0.0042\n",
      "Epoch 8/20\n",
      "198/198 [==============================] - 4s 20ms/step - loss: 0.0043\n",
      "Epoch 14/20\n",
      "198/198 [==============================] - 4s 19ms/step - loss: 0.0044\n",
      "Epoch 14/20\n",
      "198/198 [==============================] - 4s 21ms/step - loss: 0.0043\n",
      "Epoch 8/20\n",
      "198/198 [==============================] - 4s 22ms/step - loss: 0.0041\n",
      " 78/198 [==========>...................] - ETA: 2s - loss: 0.0043Epoch 10/20\n",
      "198/198 [==============================] - 4s 22ms/step - loss: 0.0046\n",
      "Epoch 8/20\n",
      "198/198 [==============================] - 4s 20ms/step - loss: 0.0043\n",
      "Epoch 4/20\n",
      "198/198 [==============================] - 4s 21ms/step - loss: 0.0046\n",
      "Epoch 5/20\n",
      "198/198 [==============================] - 4s 19ms/step - loss: 0.0043\n",
      "194/198 [============================>.] - ETA: 0s - loss: 0.0044Epoch 15/20\n",
      "198/198 [==============================] - 4s 19ms/step - loss: 0.0044\n",
      "Epoch 15/20\n",
      "198/198 [==============================] - 4s 21ms/step - loss: 0.0042\n",
      "Epoch 9/20\n",
      "198/198 [==============================] - 4s 21ms/step - loss: 0.0043\n",
      " 24/198 [==>...........................] - ETA: 3s - loss: 0.0038Epoch 9/20\n",
      "198/198 [==============================] - 4s 21ms/step - loss: 0.0046\n",
      "Epoch 9/20\n",
      "198/198 [==============================] - 4s 21ms/step - loss: 0.0041\n",
      "  1/198 [..............................] - ETA: 7s - loss: 0.0028Epoch 11/20\n",
      "198/198 [==============================] - 4s 19ms/step - loss: 0.0041\n",
      "Epoch 5/20\n",
      "198/198 [==============================] - 4s 21ms/step - loss: 0.0043\n",
      "Epoch 6/20\n",
      "198/198 [==============================] - 4s 19ms/step - loss: 0.0044\n",
      "Epoch 16/20\n",
      "198/198 [==============================] - 4s 20ms/step - loss: 0.0043\n",
      " 15/198 [=>............................] - ETA: 4s - loss: 0.0038Epoch 16/20\n",
      "198/198 [==============================] - 4s 20ms/step - loss: 0.0042\n",
      "Epoch 10/20\n",
      "198/198 [==============================] - 4s 20ms/step - loss: 0.0042\n",
      "Epoch 10/20\n",
      "198/198 [==============================] - 4s 20ms/step - loss: 0.0046\n",
      " 70/198 [=========>....................] - ETA: 2s - loss: 0.0045Epoch 10/20\n",
      "198/198 [==============================] - 4s 21ms/step - loss: 0.0041\n",
      "Epoch 12/20\n",
      "198/198 [==============================] - 4s 19ms/step - loss: 0.0041\n",
      "140/198 [====================>.........] - ETA: 1s - loss: 0.0043Epoch 6/20\n",
      "198/198 [==============================] - 4s 19ms/step - loss: 0.0044\n",
      "Epoch 17/20\n",
      "198/198 [==============================] - 4s 19ms/step - loss: 0.0043\n",
      "Epoch 17/20\n",
      "198/198 [==============================] - 4s 21ms/step - loss: 0.0043\n",
      "Epoch 7/20\n",
      "198/198 [==============================] - 4s 20ms/step - loss: 0.0042\n",
      "Epoch 11/20\n",
      "198/198 [==============================] - 4s 20ms/step - loss: 0.0042\n",
      "Epoch 11/20\n",
      "198/198 [==============================] - 4s 20ms/step - loss: 0.0041\n",
      "198/198 [==============================] - 4s 20ms/step - loss: 0.0046\n",
      "Epoch 13/20\n",
      "129/198 [==================>...........] - ETA: 1s - loss: 0.0046Epoch 11/20\n",
      "198/198 [==============================] - 4s 20ms/step - loss: 0.0041\n",
      "Epoch 7/20\n",
      "198/198 [==============================] - 4s 19ms/step - loss: 0.0044\n",
      "Epoch 18/20\n",
      "198/198 [==============================] - 4s 19ms/step - loss: 0.0043\n",
      "Epoch 18/20\n",
      "198/198 [==============================] - 4s 21ms/step - loss: 0.0043\n",
      "Epoch 8/20\n",
      "198/198 [==============================] - 4s 21ms/step - loss: 0.0042\n",
      "Epoch 12/20\n",
      "198/198 [==============================] - 4s 21ms/step - loss: 0.0041\n",
      "Epoch 12/20\n",
      "198/198 [==============================] - 4s 21ms/step - loss: 0.0046\n",
      "Epoch 12/20\n",
      "198/198 [==============================] - 4s 21ms/step - loss: 0.0041\n",
      "Epoch 14/20\n",
      "198/198 [==============================] - 4s 19ms/step - loss: 0.0040\n",
      "147/198 [=====================>........] - ETA: 0s - loss: 0.0042Epoch 8/20\n",
      "198/198 [==============================] - 4s 19ms/step - loss: 0.0044\n",
      "124/198 [=================>............] - ETA: 1s - loss: 0.0042Epoch 19/20\n",
      "198/198 [==============================] - 4s 19ms/step - loss: 0.0043\n",
      "Epoch 19/20\n",
      "198/198 [==============================] - 4s 20ms/step - loss: 0.0043\n",
      "Epoch 9/20\n",
      "198/198 [==============================] - 4s 20ms/step - loss: 0.0041\n",
      "Epoch 13/20\n",
      "198/198 [==============================] - 4s 21ms/step - loss: 0.0042\n",
      "Epoch 13/20\n",
      "198/198 [==============================] - 4s 20ms/step - loss: 0.0040\n",
      "Epoch 15/20\n",
      "198/198 [==============================] - 4s 19ms/step - loss: 0.0041\n",
      "Epoch 9/20\n",
      "198/198 [==============================] - 4s 21ms/step - loss: 0.0045\n",
      "161/198 [=======================>......] - ETA: 0s - loss: 0.0043Epoch 13/20\n",
      "198/198 [==============================] - 4s 19ms/step - loss: 0.0044\n",
      "Epoch 20/20\n",
      "198/198 [==============================] - 4s 19ms/step - loss: 0.0043\n",
      "Epoch 20/20\n",
      "198/198 [==============================] - 4s 21ms/step - loss: 0.0043\n",
      "Epoch 10/20\n",
      "198/198 [==============================] - 4s 20ms/step - loss: 0.0042\n",
      " 21/198 [==>...........................] - ETA: 4s - loss: 0.0048Epoch 14/20\n",
      "198/198 [==============================] - 4s 20ms/step - loss: 0.0042\n",
      "Epoch 14/20\n",
      "198/198 [==============================] - 4s 19ms/step - loss: 0.0040\n",
      " 69/198 [=========>....................] - ETA: 2s - loss: 0.0041Epoch 10/20\n",
      "198/198 [==============================] - 4s 20ms/step - loss: 0.0041\n",
      "Epoch 16/20\n",
      "198/198 [==============================] - 4s 21ms/step - loss: 0.0045\n",
      "Epoch 14/20\n",
      "198/198 [==============================] - 4s 19ms/step - loss: 0.0044\n",
      "198/198 [==============================] - 4s 19ms/step - loss: 0.0043\n",
      "141/198 [====================>.........] - ETA: 1s - loss: 0.0042"
     ]
    },
    {
     "name": "stderr",
     "output_type": "stream",
     "text": [
      "2023-05-02 11:36:35.463493: I tensorflow/core/grappler/optimizers/custom_graph_optimizer_registry.cc:114] Plugin optimizer for device_type GPU is enabled.\n",
      "2023-05-02 11:36:35.637945: I tensorflow/core/grappler/optimizers/custom_graph_optimizer_registry.cc:114] Plugin optimizer for device_type GPU is enabled.\n"
     ]
    },
    {
     "name": "stdout",
     "output_type": "stream",
     "text": [
      " 4/50 [=>............................] - ETA: 0s - loss: 0.0019 3"
     ]
    },
    {
     "name": "stderr",
     "output_type": "stream",
     "text": [
      "2023-05-02 11:36:35.787140: I tensorflow/core/grappler/optimizers/custom_graph_optimizer_registry.cc:114] Plugin optimizer for device_type GPU is enabled.\n"
     ]
    },
    {
     "name": "stdout",
     "output_type": "stream",
     "text": [
      "166/198 [========================>.....] - ETA: 0s - loss: 0.0041"
     ]
    },
    {
     "name": "stderr",
     "output_type": "stream",
     "text": [
      "2023-05-02 11:36:36.051094: I tensorflow/core/grappler/optimizers/custom_graph_optimizer_registry.cc:114] Plugin optimizer for device_type GPU is enabled.\n"
     ]
    },
    {
     "name": "stdout",
     "output_type": "stream",
     "text": [
      "198/198 [==============================] - 4s 21ms/step - loss: 0.0043\n",
      "18/50 [=========>....................] - ETA: 0s - loss: 0.0031Epoch 11/20\n",
      "198/198 [==============================] - 4s 21ms/step - loss: 0.0042\n",
      "Epoch 15/20\n",
      "50/50 [==============================] - 2s 18ms/step - loss: 0.0038\n",
      "198/198 [==============================] - 4s 21ms/step - loss: 0.0042\n",
      "Epoch 15/20\n",
      "50/50 [==============================] - 2s 18ms/step - loss: 0.0037\n",
      "198/198 [==============================] - 4s 19ms/step - loss: 0.0040\n",
      "176/198 [=========================>....] - ETA: 0s - loss: 0.0041Epoch 11/20\n",
      "198/198 [==============================] - 4s 21ms/step - loss: 0.0041\n",
      " 70/198 [=========>....................] - ETA: 2s - loss: 0.0041Epoch 17/20\n",
      "198/198 [==============================] - 4s 21ms/step - loss: 0.0045\n",
      "116/198 [================>.............] - ETA: 1s - loss: 0.0045Epoch 15/20\n",
      "198/198 [==============================] - 3s 14ms/step - loss: 0.0043\n",
      "198/198 [==============================] - 3s 14ms/step - loss: 0.0042\n",
      "198/198 [==============================] - 4s 21ms/step - loss: 0.0043\n",
      "Epoch 12/20\n",
      "  4/198 [..............................] - ETA: 3s - loss: 0.0066Epoch 1/20\n",
      "198/198 [==============================] - 4s 20ms/step - loss: 0.0041\n",
      "Epoch 16/20\n",
      "198/198 [==============================] - 4s 20ms/step - loss: 0.0042\n",
      "159/198 [=======================>......] - ETA: 0s - loss: 0.0041Epoch 16/20\n",
      " 27/198 [===>..........................] - ETA: 3s - loss: 0.0040Epoch 1/20\n",
      "198/198 [==============================] - 4s 19ms/step - loss: 0.0040\n",
      "Epoch 12/20\n",
      "198/198 [==============================] - 4s 20ms/step - loss: 0.0041\n",
      "Epoch 18/20\n",
      "198/198 [==============================] - 4s 20ms/step - loss: 0.0044\n",
      "Epoch 16/20\n",
      "198/198 [==============================] - 4s 18ms/step - loss: 0.0043\n",
      "Epoch 13/20\n",
      "198/198 [==============================] - 4s 18ms/step - loss: 0.0041\n",
      "162/198 [=======================>......] - ETA: 0s - loss: 0.0040Epoch 17/20\n",
      "118/198 [================>.............] - ETA: 1s - loss: 0.0044"
     ]
    },
    {
     "name": "stderr",
     "output_type": "stream",
     "text": [
      "2023-05-02 11:36:44.403725: I tensorflow/core/grappler/optimizers/custom_graph_optimizer_registry.cc:114] Plugin optimizer for device_type GPU is enabled.\n"
     ]
    },
    {
     "name": "stdout",
     "output_type": "stream",
     "text": [
      "198/198 [==============================] - 4s 19ms/step - loss: 0.0042\n",
      "133/198 [===================>..........] - ETA: 1s - loss: 0.0042Epoch 17/20\n",
      "198/198 [==============================] - 3s 17ms/step - loss: 0.0040\n",
      "Epoch 13/20\n",
      " 39/198 [====>.........................] - ETA: 2s - loss: 0.0045"
     ]
    },
    {
     "name": "stderr",
     "output_type": "stream",
     "text": [
      "2023-05-02 11:36:44.944865: I tensorflow/core/grappler/optimizers/custom_graph_optimizer_registry.cc:114] Plugin optimizer for device_type GPU is enabled.\n",
      "2023-05-02 11:36:45.139022: I tensorflow/core/grappler/optimizers/custom_graph_optimizer_registry.cc:114] Plugin optimizer for device_type GPU is enabled.\n"
     ]
    },
    {
     "name": "stdout",
     "output_type": "stream",
     "text": [
      "172/198 [=========================>....] - ETA: 0s - loss: 0.0046"
     ]
    },
    {
     "name": "stderr",
     "output_type": "stream",
     "text": [
      "2023-05-02 11:36:45.495871: I tensorflow/core/grappler/optimizers/custom_graph_optimizer_registry.cc:114] Plugin optimizer for device_type GPU is enabled.\n"
     ]
    },
    {
     "name": "stdout",
     "output_type": "stream",
     "text": [
      "198/198 [==============================] - 4s 19ms/step - loss: 0.0040\n",
      "Epoch 19/20\n",
      "198/198 [==============================] - 4s 19ms/step - loss: 0.0045\n",
      " 59/198 [=======>......................] - ETA: 2s - loss: 0.0039Epoch 17/20\n",
      " 90/198 [============>.................] - ETA: 2s - loss: 0.0042"
     ]
    },
    {
     "name": "stderr",
     "output_type": "stream",
     "text": [
      "2023-05-02 11:36:46.289238: I tensorflow/core/grappler/optimizers/custom_graph_optimizer_registry.cc:114] Plugin optimizer for device_type GPU is enabled.\n"
     ]
    },
    {
     "name": "stdout",
     "output_type": "stream",
     "text": [
      " 33/198 [====>.........................] - ETA: 3s - loss: 0.0038"
     ]
    },
    {
     "name": "stderr",
     "output_type": "stream",
     "text": [
      "2023-05-02 11:36:46.572999: I tensorflow/core/grappler/optimizers/custom_graph_optimizer_registry.cc:114] Plugin optimizer for device_type GPU is enabled.\n"
     ]
    },
    {
     "name": "stdout",
     "output_type": "stream",
     "text": [
      "198/198 [==============================] - 4s 21ms/step - loss: 0.0043\n",
      "Epoch 14/20\n",
      "198/198 [==============================] - 4s 21ms/step - loss: 0.0041\n",
      "176/198 [=========================>....] - ETA: 0s - loss: 0.0039Epoch 18/20\n",
      "198/198 [==============================] - 4s 21ms/step - loss: 0.0042\n",
      "Epoch 18/20\n",
      "198/198 [==============================] - 4s 20ms/step - loss: 0.0041\n",
      "Epoch 14/20\n",
      "198/198 [==============================] - 4s 21ms/step - loss: 0.0040\n",
      "Epoch 20/20\n",
      "198/198 [==============================] - 10s 22ms/step - loss: 0.0248\n",
      "Epoch 2/20\n",
      "198/198 [==============================] - 4s 22ms/step - loss: 0.0044\n",
      "Epoch 18/20\n",
      "198/198 [==============================] - 10s 20ms/step - loss: 0.0956\n",
      "Epoch 2/20\n",
      "198/198 [==============================] - 4s 22ms/step - loss: 0.0043\n",
      "Epoch 15/20\n",
      "198/198 [==============================] - 4s 21ms/step - loss: 0.0041\n",
      "Epoch 19/20\n",
      "198/198 [==============================] - 4s 20ms/step - loss: 0.0041\n",
      "Epoch 15/20\n",
      "198/198 [==============================] - 4s 21ms/step - loss: 0.0042\n",
      "Epoch 19/20\n",
      "198/198 [==============================] - 4s 20ms/step - loss: 0.0069\n",
      "Epoch 3/20\n",
      "198/198 [==============================] - 4s 22ms/step - loss: 0.0040\n",
      "198/198 [==============================] - 4s 19ms/step - loss: 0.0244\n",
      "Epoch 3/20\n",
      "198/198 [==============================] - 4s 21ms/step - loss: 0.0044\n",
      "Epoch 19/20\n",
      "143/198 [====================>.........] - ETA: 1s - loss: 0.0043"
     ]
    },
    {
     "name": "stderr",
     "output_type": "stream",
     "text": [
      "2023-05-02 11:36:55.288202: I tensorflow/core/grappler/optimizers/custom_graph_optimizer_registry.cc:114] Plugin optimizer for device_type GPU is enabled.\n"
     ]
    },
    {
     "name": "stdout",
     "output_type": "stream",
     "text": [
      " 94/198 [=============>................] - ETA: 1s - loss: 0.0047"
     ]
    },
    {
     "name": "stderr",
     "output_type": "stream",
     "text": [
      "2023-05-02 11:36:55.659700: I tensorflow/core/grappler/optimizers/custom_graph_optimizer_registry.cc:114] Plugin optimizer for device_type GPU is enabled.\n"
     ]
    },
    {
     "name": "stdout",
     "output_type": "stream",
     "text": [
      "198/198 [==============================] - 4s 20ms/step - loss: 0.0041\n",
      "195/198 [============================>.] - ETA: 0s - loss: 0.0040Epoch 20/20\n",
      "198/198 [==============================] - 4s 21ms/step - loss: 0.0043\n",
      "Epoch 16/20\n",
      "198/198 [==============================] - 4s 19ms/step - loss: 0.0040\n",
      "Epoch 16/20\n",
      "50/50 [==============================] - 2s 19ms/step - loss: 0.0052\n",
      "198/198 [==============================] - 4s 21ms/step - loss: 0.0042\n",
      "155/198 [======================>.......] - ETA: 0s - loss: 0.0048Epoch 20/20\n",
      "198/198 [==============================] - 4s 19ms/step - loss: 0.0049\n",
      " 61/198 [========>.....................] - ETA: 2s - loss: 0.0045Epoch 4/20\n",
      "198/198 [==============================] - 4s 19ms/step - loss: 0.0137\n",
      "Epoch 4/20\n",
      "198/198 [==============================] - 4s 20ms/step - loss: 0.0044\n",
      " 19/198 [=>............................] - ETA: 3s - loss: 0.0095Epoch 20/20\n",
      "198/198 [==============================] - 3s 15ms/step - loss: 0.0043\n",
      "198/198 [==============================] - 4s 19ms/step - loss: 0.0040\n",
      "Epoch 17/20\n",
      "198/198 [==============================] - 4s 20ms/step - loss: 0.0041\n",
      "198/198 [==============================] - 4s 21ms/step - loss: 0.0043\n",
      "Epoch 17/20\n",
      "198/198 [==============================] - 4s 20ms/step - loss: 0.0042\n",
      " 34/198 [====>.........................] - ETA: 3s - loss: 0.0042Epoch 1/20\n",
      "198/198 [==============================] - 4s 19ms/step - loss: 0.0044\n",
      "Epoch 5/20\n",
      " 70/198 [=========>....................] - ETA: 2s - loss: 0.0040"
     ]
    },
    {
     "name": "stderr",
     "output_type": "stream",
     "text": [
      "2023-05-02 11:37:01.465342: I tensorflow/core/grappler/optimizers/custom_graph_optimizer_registry.cc:114] Plugin optimizer for device_type GPU is enabled.\n"
     ]
    },
    {
     "name": "stdout",
     "output_type": "stream",
     "text": [
      " 81/198 [===========>..................] - ETA: 2s - loss: 0.0040"
     ]
    },
    {
     "name": "stderr",
     "output_type": "stream",
     "text": [
      "2023-05-02 11:37:01.763737: I tensorflow/core/grappler/optimizers/custom_graph_optimizer_registry.cc:114] Plugin optimizer for device_type GPU is enabled.\n",
      "2023-05-02 11:37:01.764250: I tensorflow/core/grappler/optimizers/custom_graph_optimizer_registry.cc:114] Plugin optimizer for device_type GPU is enabled.\n"
     ]
    },
    {
     "name": "stdout",
     "output_type": "stream",
     "text": [
      "198/198 [==============================] - 4s 18ms/step - loss: 0.0092\n",
      "Epoch 5/20\n",
      "179/198 [==========================>...] - ETA: 0s - loss: 0.0043"
     ]
    },
    {
     "name": "stderr",
     "output_type": "stream",
     "text": [
      "2023-05-02 11:37:02.086401: I tensorflow/core/grappler/optimizers/custom_graph_optimizer_registry.cc:114] Plugin optimizer for device_type GPU is enabled.\n"
     ]
    },
    {
     "name": "stdout",
     "output_type": "stream",
     "text": [
      "50/50 [==============================] - 2s 15ms/step - loss: 0.0044\n",
      "198/198 [==============================] - 4s 20ms/step - loss: 0.0043\n",
      "50/50 [==============================] - 2s 13ms/step - loss: 0.0040\n",
      " 30/198 [===>..........................] - ETA: 3s - loss: 0.0056"
     ]
    },
    {
     "name": "stderr",
     "output_type": "stream",
     "text": [
      "2023-05-02 11:37:03.106331: I tensorflow/core/grappler/optimizers/custom_graph_optimizer_registry.cc:114] Plugin optimizer for device_type GPU is enabled.\n"
     ]
    },
    {
     "name": "stdout",
     "output_type": "stream",
     "text": [
      " 95/198 [=============>................] - ETA: 2s - loss: 0.0044"
     ]
    },
    {
     "name": "stderr",
     "output_type": "stream",
     "text": [
      "2023-05-02 11:37:03.390993: I tensorflow/core/grappler/optimizers/custom_graph_optimizer_registry.cc:114] Plugin optimizer for device_type GPU is enabled.\n"
     ]
    },
    {
     "name": "stdout",
     "output_type": "stream",
     "text": [
      "50/50 [==============================] - 1s 15ms/step - loss: 0.0038\n",
      "198/198 [==============================] - 4s 20ms/step - loss: 0.0040\n",
      "Epoch 18/20\n",
      "198/198 [==============================] - 4s 22ms/step - loss: 0.0043\n",
      "164/198 [=======================>......] - ETA: 0s - loss: 0.0041Epoch 18/20\n",
      "198/198 [==============================] - 4s 20ms/step - loss: 0.0043\n",
      "198/198 [==============================] - 3s 14ms/step - loss: 0.0040\n",
      "Epoch 6/20\n",
      "198/198 [==============================] - 4s 20ms/step - loss: 0.0069\n",
      "Epoch 6/20\n",
      " 84/198 [===========>..................] - ETA: 2s - loss: 0.0041Epoch 1/20\n",
      " 28/198 [===>..........................] - ETA: 2s - loss: 0.0054"
     ]
    },
    {
     "name": "stderr",
     "output_type": "stream",
     "text": [
      "2023-05-02 11:37:06.054038: I tensorflow/core/grappler/optimizers/custom_graph_optimizer_registry.cc:114] Plugin optimizer for device_type GPU is enabled.\n"
     ]
    },
    {
     "name": "stdout",
     "output_type": "stream",
     "text": [
      "198/198 [==============================] - 3s 14ms/step - loss: 0.0041\n",
      "113/198 [================>.............] - ETA: 1s - loss: 0.0041Epoch 1/20\n",
      " 51/198 [======>.......................] - ETA: 3s - loss: 0.0043"
     ]
    },
    {
     "name": "stderr",
     "output_type": "stream",
     "text": [
      "2023-05-02 11:37:06.699113: I tensorflow/core/grappler/optimizers/custom_graph_optimizer_registry.cc:114] Plugin optimizer for device_type GPU is enabled.\n"
     ]
    },
    {
     "name": "stdout",
     "output_type": "stream",
     "text": [
      " 88/198 [============>.................] - ETA: 2s - loss: 0.0039"
     ]
    },
    {
     "name": "stderr",
     "output_type": "stream",
     "text": [
      "2023-05-02 11:37:07.132665: I tensorflow/core/grappler/optimizers/custom_graph_optimizer_registry.cc:114] Plugin optimizer for device_type GPU is enabled.\n"
     ]
    },
    {
     "name": "stdout",
     "output_type": "stream",
     "text": [
      "198/198 [==============================] - 5s 23ms/step - loss: 0.0040\n",
      "134/198 [===================>..........] - ETA: 1s - loss: 0.0041Epoch 19/20\n",
      "198/198 [==============================] - 4s 19ms/step - loss: 0.0044\n",
      "198/198 [==============================] - 5s 25ms/step - loss: 0.0043\n",
      "Epoch 19/20\n",
      " 63/198 [========>.....................] - ETA: 2s - loss: 0.0044"
     ]
    },
    {
     "name": "stderr",
     "output_type": "stream",
     "text": [
      "2023-05-02 11:37:10.027737: I tensorflow/core/grappler/optimizers/custom_graph_optimizer_registry.cc:114] Plugin optimizer for device_type GPU is enabled.\n"
     ]
    },
    {
     "name": "stdout",
     "output_type": "stream",
     "text": [
      "198/198 [==============================] - ETA: 0s - loss: 0.0042Epoch 1/20\n",
      "198/198 [==============================] - 5s 23ms/step - loss: 0.0042\n",
      " 66/198 [=========>....................] - ETA: 2s - loss: 0.0044Epoch 7/20\n",
      "198/198 [==============================] - 4s 22ms/step - loss: 0.0055\n",
      "Epoch 7/20\n",
      " 84/198 [===========>..................] - ETA: 2s - loss: 0.0043"
     ]
    },
    {
     "name": "stderr",
     "output_type": "stream",
     "text": [
      "2023-05-02 11:37:10.486118: I tensorflow/core/grappler/optimizers/custom_graph_optimizer_registry.cc:114] Plugin optimizer for device_type GPU is enabled.\n",
      "2023-05-02 11:37:10.653417: I tensorflow/core/grappler/optimizers/custom_graph_optimizer_registry.cc:114] Plugin optimizer for device_type GPU is enabled.\n"
     ]
    },
    {
     "name": "stdout",
     "output_type": "stream",
     "text": [
      "156/198 [======================>.......] - ETA: 0s - loss: 0.0086"
     ]
    },
    {
     "name": "stderr",
     "output_type": "stream",
     "text": [
      "2023-05-02 11:37:10.797274: I tensorflow/core/grappler/optimizers/custom_graph_optimizer_registry.cc:114] Plugin optimizer for device_type GPU is enabled.\n"
     ]
    },
    {
     "name": "stdout",
     "output_type": "stream",
     "text": [
      " 66/198 [=========>....................] - ETA: 2s - loss: 0.0044"
     ]
    },
    {
     "name": "stderr",
     "output_type": "stream",
     "text": [
      "2023-05-02 11:37:11.419823: I tensorflow/core/grappler/optimizers/custom_graph_optimizer_registry.cc:114] Plugin optimizer for device_type GPU is enabled.\n"
     ]
    },
    {
     "name": "stdout",
     "output_type": "stream",
     "text": [
      "195/198 [============================>.] - ETA: 0s - loss: 0.0079"
     ]
    },
    {
     "name": "stderr",
     "output_type": "stream",
     "text": [
      "2023-05-02 11:37:11.825017: I tensorflow/core/grappler/optimizers/custom_graph_optimizer_registry.cc:114] Plugin optimizer for device_type GPU is enabled.\n"
     ]
    },
    {
     "name": "stdout",
     "output_type": "stream",
     "text": [
      "198/198 [==============================] - 11s 24ms/step - loss: 0.0079\n",
      " 92/198 [============>.................] - ETA: 2s - loss: 0.0044Epoch 2/20\n",
      "198/198 [==============================] - 4s 21ms/step - loss: 0.0040\n",
      "Epoch 20/20\n",
      "151/198 [=====================>........] - ETA: 0s - loss: 0.0049"
     ]
    },
    {
     "name": "stderr",
     "output_type": "stream",
     "text": [
      "2023-05-02 11:37:13.222423: I tensorflow/core/grappler/optimizers/custom_graph_optimizer_registry.cc:114] Plugin optimizer for device_type GPU is enabled.\n"
     ]
    },
    {
     "name": "stdout",
     "output_type": "stream",
     "text": [
      "198/198 [==============================] - 4s 20ms/step - loss: 0.0042\n",
      "189/198 [===========================>..] - ETA: 0s - loss: 0.0043Epoch 8/20\n",
      "198/198 [==============================] - 4s 19ms/step - loss: 0.0048\n",
      "  4/198 [..............................] - ETA: 4s - loss: 0.0042Epoch 8/20\n",
      "198/198 [==============================] - 4s 22ms/step - loss: 0.0043\n",
      "155/198 [======================>.......] - ETA: 0s - loss: 0.0203Epoch 20/20\n",
      " 21/198 [==>...........................] - ETA: 3s - loss: 0.0041  "
     ]
    },
    {
     "name": "stderr",
     "output_type": "stream",
     "text": [
      "2023-05-02 11:37:14.653808: I tensorflow/core/grappler/optimizers/custom_graph_optimizer_registry.cc:114] Plugin optimizer for device_type GPU is enabled.\n"
     ]
    },
    {
     "name": "stdout",
     "output_type": "stream",
     "text": [
      "133/198 [===================>..........] - ETA: 1s - loss: 0.0217"
     ]
    },
    {
     "name": "stderr",
     "output_type": "stream",
     "text": [
      "2023-05-02 11:37:14.892309: I tensorflow/core/grappler/optimizers/custom_graph_optimizer_registry.cc:114] Plugin optimizer for device_type GPU is enabled.\n"
     ]
    },
    {
     "name": "stdout",
     "output_type": "stream",
     "text": [
      "198/198 [==============================] - 9s 22ms/step - loss: 0.0194\n",
      "134/198 [===================>..........] - ETA: 1s - loss: 0.0042Epoch 2/20\n",
      "198/198 [==============================] - 4s 20ms/step - loss: 0.0045\n",
      "Epoch 3/20\n",
      "198/198 [==============================] - 10s 23ms/step - loss: 0.0188\n",
      "Epoch 2/20\n",
      "198/198 [==============================] - 4s 20ms/step - loss: 0.0041\n",
      " 35/198 [====>.........................] - ETA: 3s - loss: 0.0106"
     ]
    },
    {
     "name": "stderr",
     "output_type": "stream",
     "text": [
      "2023-05-02 11:37:17.308805: I tensorflow/core/grappler/optimizers/custom_graph_optimizer_registry.cc:114] Plugin optimizer for device_type GPU is enabled.\n"
     ]
    },
    {
     "name": "stdout",
     "output_type": "stream",
     "text": [
      "162/198 [=======================>......] - ETA: 0s - loss: 0.0042"
     ]
    },
    {
     "name": "stderr",
     "output_type": "stream",
     "text": [
      "2023-05-02 11:37:17.761687: I tensorflow/core/grappler/optimizers/custom_graph_optimizer_registry.cc:114] Plugin optimizer for device_type GPU is enabled.\n"
     ]
    },
    {
     "name": "stdout",
     "output_type": "stream",
     "text": [
      "198/198 [==============================] - 4s 21ms/step - loss: 0.0042\n",
      "Epoch 9/20\n",
      "198/198 [==============================] - 4s 21ms/step - loss: 0.0045\n",
      "125/198 [=================>............] - ETA: 1s - loss: 0.0992Epoch 9/20\n",
      "198/198 [==============================] - 4s 22ms/step - loss: 0.0043\n",
      "50/50 [==============================] - 2s 15ms/step - loss: 0.0048\n",
      "198/198 [==============================] - 4s 20ms/step - loss: 0.0124\n",
      "Epoch 3/20\n",
      "126/198 [==================>...........] - ETA: 1s - loss: 0.0101"
     ]
    },
    {
     "name": "stderr",
     "output_type": "stream",
     "text": [
      "2023-05-02 11:37:19.494605: I tensorflow/core/grappler/optimizers/custom_graph_optimizer_registry.cc:114] Plugin optimizer for device_type GPU is enabled.\n"
     ]
    },
    {
     "name": "stdout",
     "output_type": "stream",
     "text": [
      "198/198 [==============================] - 4s 20ms/step - loss: 0.0043\n",
      "Epoch 4/20\n",
      "198/198 [==============================] - 10s 24ms/step - loss: 0.0757\n",
      "Epoch 2/20\n",
      " 31/198 [===>..........................] - ETA: 3s - loss: 0.0100"
     ]
    },
    {
     "name": "stderr",
     "output_type": "stream",
     "text": [
      "2023-05-02 11:37:19.969703: I tensorflow/core/grappler/optimizers/custom_graph_optimizer_registry.cc:114] Plugin optimizer for device_type GPU is enabled.\n"
     ]
    },
    {
     "name": "stdout",
     "output_type": "stream",
     "text": [
      "50/50 [==============================] - 2s 15ms/step - loss: 0.0041\n",
      "198/198 [==============================] - 4s 23ms/step - loss: 0.0090\n",
      " 50/198 [======>.......................] - ETA: 3s - loss: 0.0210Epoch 3/20\n",
      "198/198 [==============================] - 3s 15ms/step - loss: 0.0040\n",
      "198/198 [==============================] - 4s 19ms/step - loss: 0.0043\n",
      "Epoch 10/20\n",
      "198/198 [==============================] - 4s 20ms/step - loss: 0.0042\n",
      "Epoch 10/20\n",
      "141/198 [====================>.........] - ETA: 1s - loss: 0.0135Epoch 1/20\n",
      "198/198 [==============================] - 4s 20ms/step - loss: 0.0095\n",
      "Epoch 4/20\n",
      "198/198 [==============================] - 3s 13ms/step - loss: 0.0046\n",
      "198/198 [==============================] - 4s 19ms/step - loss: 0.0043\n",
      "Epoch 5/20\n",
      "198/198 [==============================] - 4s 21ms/step - loss: 0.0112\n",
      "Epoch 3/20\n",
      "169/198 [========================>.....] - ETA: 0s - loss: 0.0056Epoch 1/20\n",
      "198/198 [==============================] - 4s 21ms/step - loss: 0.0053\n",
      "Epoch 4/20\n",
      "198/198 [==============================] - 3s 18ms/step - loss: 0.0042\n",
      "Epoch 11/20\n",
      "198/198 [==============================] - 4s 18ms/step - loss: 0.0042\n",
      "  8/198 [>.............................] - ETA: 3s - loss: 0.0032Epoch 11/20\n",
      "198/198 [==============================] - 3s 18ms/step - loss: 0.0075\n",
      "Epoch 5/20\n",
      "198/198 [==============================] - 3s 17ms/step - loss: 0.0042\n",
      "Epoch 6/20\n",
      "111/198 [===============>..............] - ETA: 1s - loss: 0.0041"
     ]
    },
    {
     "name": "stderr",
     "output_type": "stream",
     "text": [
      "2023-05-02 11:37:27.184201: I tensorflow/core/grappler/optimizers/custom_graph_optimizer_registry.cc:114] Plugin optimizer for device_type GPU is enabled.\n"
     ]
    },
    {
     "name": "stdout",
     "output_type": "stream",
     "text": [
      "198/198 [==============================] - 4s 19ms/step - loss: 0.0055\n",
      "Epoch 4/20\n",
      "160/198 [=======================>......] - ETA: 0s - loss: 0.0042"
     ]
    },
    {
     "name": "stderr",
     "output_type": "stream",
     "text": [
      "2023-05-02 11:37:28.040078: I tensorflow/core/grappler/optimizers/custom_graph_optimizer_registry.cc:114] Plugin optimizer for device_type GPU is enabled.\n"
     ]
    },
    {
     "name": "stdout",
     "output_type": "stream",
     "text": [
      "163/198 [=======================>......] - ETA: 0s - loss: 0.0041"
     ]
    },
    {
     "name": "stderr",
     "output_type": "stream",
     "text": [
      "2023-05-02 11:37:28.323593: I tensorflow/core/grappler/optimizers/custom_graph_optimizer_registry.cc:114] Plugin optimizer for device_type GPU is enabled.\n",
      "2023-05-02 11:37:28.455321: I tensorflow/core/grappler/optimizers/custom_graph_optimizer_registry.cc:114] Plugin optimizer for device_type GPU is enabled.\n"
     ]
    },
    {
     "name": "stdout",
     "output_type": "stream",
     "text": [
      "198/198 [==============================] - 3s 17ms/step - loss: 0.0042\n",
      "Epoch 12/20\n",
      "198/198 [==============================] - 4s 20ms/step - loss: 0.0041\n",
      "Epoch 5/20\n",
      "198/198 [==============================] - 4s 18ms/step - loss: 0.0042\n",
      "Epoch 12/20\n",
      " 53/198 [=======>......................] - ETA: 2s - loss: 0.0035"
     ]
    },
    {
     "name": "stderr",
     "output_type": "stream",
     "text": [
      "2023-05-02 11:37:29.997966: I tensorflow/core/grappler/optimizers/custom_graph_optimizer_registry.cc:114] Plugin optimizer for device_type GPU is enabled.\n"
     ]
    },
    {
     "name": "stdout",
     "output_type": "stream",
     "text": [
      "198/198 [==============================] - 4s 18ms/step - loss: 0.0062\n",
      "Epoch 6/20\n",
      "198/198 [==============================] - 4s 18ms/step - loss: 0.0043\n",
      "Epoch 7/20\n",
      " 94/198 [=============>................] - ETA: 1s - loss: 0.0040"
     ]
    },
    {
     "name": "stderr",
     "output_type": "stream",
     "text": [
      "2023-05-02 11:37:30.793067: I tensorflow/core/grappler/optimizers/custom_graph_optimizer_registry.cc:114] Plugin optimizer for device_type GPU is enabled.\n"
     ]
    },
    {
     "name": "stdout",
     "output_type": "stream",
     "text": [
      "198/198 [==============================] - 4s 21ms/step - loss: 0.0050\n",
      "159/198 [=======================>......] - ETA: 0s - loss: 0.0042Epoch 5/20\n",
      "198/198 [==============================] - 4s 19ms/step - loss: 0.0042\n",
      "Epoch 13/20\n",
      "198/198 [==============================] - 4s 19ms/step - loss: 0.0042\n",
      "Epoch 13/20\n",
      "198/198 [==============================] - 4s 21ms/step - loss: 0.0040\n",
      "Epoch 6/20\n",
      "198/198 [==============================] - 10s 24ms/step - loss: 0.0925\n",
      "  9/198 [>.............................] - ETA: 4s - loss: 0.0045Epoch 2/20\n",
      "198/198 [==============================] - 4s 21ms/step - loss: 0.0053\n",
      "Epoch 7/20\n",
      "198/198 [==============================] - 4s 21ms/step - loss: 0.0043\n",
      "151/198 [=====================>........] - ETA: 1s - loss: 0.0762Epoch 8/20\n",
      "198/198 [==============================] - 12s 24ms/step - loss: 0.0632\n",
      "Epoch 2/20\n",
      "198/198 [==============================] - 4s 21ms/step - loss: 0.0050\n",
      "Epoch 6/20\n",
      "198/198 [==============================] - 4s 19ms/step - loss: 0.0042\n",
      "Epoch 14/20\n",
      "198/198 [==============================] - 4s 20ms/step - loss: 0.0042\n",
      " 26/198 [==>...........................] - ETA: 3s - loss: 0.0183Epoch 14/20\n",
      "198/198 [==============================] - 4s 21ms/step - loss: 0.0291\n",
      "Epoch 3/20\n",
      "198/198 [==============================] - 4s 22ms/step - loss: 0.0041\n",
      "Epoch 7/20\n",
      "198/198 [==============================] - 4s 20ms/step - loss: 0.0048\n",
      "Epoch 8/20\n",
      "198/198 [==============================] - 4s 20ms/step - loss: 0.0043\n",
      "Epoch 9/20\n",
      "198/198 [==============================] - 4s 19ms/step - loss: 0.0042\n",
      "126/198 [==================>...........] - ETA: 1s - loss: 0.0137Epoch 15/20\n",
      "198/198 [==============================] - 4s 21ms/step - loss: 0.0049\n",
      "Epoch 7/20\n",
      "198/198 [==============================] - 4s 21ms/step - loss: 0.0099\n",
      "192/198 [============================>.] - ETA: 0s - loss: 0.0041Epoch 3/20\n",
      "198/198 [==============================] - 4s 19ms/step - loss: 0.0042\n",
      "Epoch 15/20\n",
      "198/198 [==============================] - 4s 21ms/step - loss: 0.0123\n",
      "Epoch 4/20\n",
      "198/198 [==============================] - 4s 22ms/step - loss: 0.0040\n",
      "Epoch 8/20\n",
      "198/198 [==============================] - 4s 21ms/step - loss: 0.0045\n",
      "Epoch 9/20\n",
      "198/198 [==============================] - 4s 21ms/step - loss: 0.0042\n",
      "Epoch 10/20\n",
      "198/198 [==============================] - 4s 20ms/step - loss: 0.0041\n",
      " 59/198 [=======>......................] - ETA: 2s - loss: 0.0043Epoch 16/20\n",
      "198/198 [==============================] - 4s 21ms/step - loss: 0.0042\n",
      "192/198 [============================>.] - ETA: 0s - loss: 0.0049Epoch 16/20\n",
      "198/198 [==============================] - 4s 22ms/step - loss: 0.0049\n",
      "Epoch 4/20\n",
      "198/198 [==============================] - 4s 23ms/step - loss: 0.0049\n",
      "Epoch 8/20\n",
      "198/198 [==============================] - 4s 22ms/step - loss: 0.0062\n",
      "Epoch 5/20\n",
      "198/198 [==============================] - 4s 22ms/step - loss: 0.0040\n",
      "Epoch 9/20\n",
      "198/198 [==============================] - 4s 20ms/step - loss: 0.0044\n",
      "Epoch 10/20\n",
      "198/198 [==============================] - 4s 19ms/step - loss: 0.0042\n",
      "Epoch 11/20\n",
      "198/198 [==============================] - 4s 19ms/step - loss: 0.0041\n",
      " 84/198 [===========>..................] - ETA: 2s - loss: 0.0041Epoch 17/20\n",
      "198/198 [==============================] - 4s 20ms/step - loss: 0.0042\n",
      "Epoch 17/20\n",
      "198/198 [==============================] - 4s 21ms/step - loss: 0.0046\n",
      " 56/198 [=======>......................] - ETA: 2s - loss: 0.0046Epoch 5/20\n",
      "198/198 [==============================] - 4s 21ms/step - loss: 0.0049\n",
      "Epoch 9/20\n",
      "198/198 [==============================] - 4s 20ms/step - loss: 0.0044\n",
      "Epoch 6/20\n",
      "198/198 [==============================] - 4s 20ms/step - loss: 0.0040\n",
      " 65/198 [========>.....................] - ETA: 2s - loss: 0.0041Epoch 10/20\n",
      "198/198 [==============================] - 4s 20ms/step - loss: 0.0043\n",
      "Epoch 11/20\n",
      "198/198 [==============================] - 4s 19ms/step - loss: 0.0042\n",
      " 22/198 [==>...........................] - ETA: 3s - loss: 0.0039Epoch 12/20\n",
      "198/198 [==============================] - 4s 19ms/step - loss: 0.0042\n",
      "Epoch 18/20\n",
      "198/198 [==============================] - 4s 19ms/step - loss: 0.0042\n",
      "Epoch 18/20\n",
      "198/198 [==============================] - 4s 20ms/step - loss: 0.0046\n",
      "193/198 [============================>.] - ETA: 0s - loss: 0.0048Epoch 6/20\n",
      "198/198 [==============================] - 4s 20ms/step - loss: 0.0048\n",
      "Epoch 10/20\n",
      "198/198 [==============================] - 4s 21ms/step - loss: 0.0041\n",
      "Epoch 7/20\n",
      "198/198 [==============================] - 4s 21ms/step - loss: 0.0040\n",
      " 68/198 [=========>....................] - ETA: 2s - loss: 0.0045Epoch 11/20\n",
      "198/198 [==============================] - 4s 20ms/step - loss: 0.0043\n",
      "Epoch 12/20\n",
      "198/198 [==============================] - 4s 20ms/step - loss: 0.0042\n",
      "Epoch 13/20\n",
      "198/198 [==============================] - 4s 19ms/step - loss: 0.0041\n",
      "Epoch 19/20\n",
      "198/198 [==============================] - 4s 20ms/step - loss: 0.0042\n",
      "Epoch 19/20\n",
      "198/198 [==============================] - 4s 21ms/step - loss: 0.0046\n",
      "Epoch 7/20\n",
      "198/198 [==============================] - 4s 22ms/step - loss: 0.0048\n",
      "Epoch 11/20\n",
      "198/198 [==============================] - 4s 22ms/step - loss: 0.0041\n",
      "191/198 [===========================>..] - ETA: 0s - loss: 0.0040Epoch 8/20\n",
      "198/198 [==============================] - 4s 20ms/step - loss: 0.0043\n",
      "Epoch 14/20\n",
      "198/198 [==============================] - 4s 20ms/step - loss: 0.0043\n",
      "Epoch 13/20\n",
      "198/198 [==============================] - 4s 22ms/step - loss: 0.0040\n",
      "Epoch 12/20\n",
      "198/198 [==============================] - 4s 19ms/step - loss: 0.0041\n",
      "Epoch 20/20\n",
      "198/198 [==============================] - 4s 20ms/step - loss: 0.0042\n",
      "Epoch 20/20\n",
      "198/198 [==============================] - 4s 21ms/step - loss: 0.0046\n",
      "135/198 [===================>..........] - ETA: 1s - loss: 0.0045Epoch 8/20\n",
      "198/198 [==============================] - 4s 21ms/step - loss: 0.0047\n",
      "Epoch 12/20\n",
      "198/198 [==============================] - 4s 20ms/step - loss: 0.0042\n",
      "Epoch 15/20\n",
      "198/198 [==============================] - 4s 21ms/step - loss: 0.0043\n",
      "Epoch 14/20\n",
      "198/198 [==============================] - 4s 21ms/step - loss: 0.0041\n",
      "Epoch 9/20\n",
      "198/198 [==============================] - 4s 21ms/step - loss: 0.0040\n",
      " 77/198 [==========>...................] - ETA: 2s - loss: 0.0046Epoch 13/20\n",
      "198/198 [==============================] - 4s 19ms/step - loss: 0.0042\n",
      "198/198 [==============================] - 4s 19ms/step - loss: 0.0042\n",
      " 89/198 [============>.................] - ETA: 2s - loss: 0.0043"
     ]
    },
    {
     "name": "stderr",
     "output_type": "stream",
     "text": [
      "2023-05-02 11:38:04.478726: I tensorflow/core/grappler/optimizers/custom_graph_optimizer_registry.cc:114] Plugin optimizer for device_type GPU is enabled.\n"
     ]
    },
    {
     "name": "stdout",
     "output_type": "stream",
     "text": [
      "100/198 [==============>...............] - ETA: 2s - loss: 0.0041"
     ]
    },
    {
     "name": "stderr",
     "output_type": "stream",
     "text": [
      "2023-05-02 11:38:04.756589: I tensorflow/core/grappler/optimizers/custom_graph_optimizer_registry.cc:114] Plugin optimizer for device_type GPU is enabled.\n"
     ]
    },
    {
     "name": "stdout",
     "output_type": "stream",
     "text": [
      "198/198 [==============================] - 4s 21ms/step - loss: 0.0045\n",
      "Epoch 9/20\n",
      "50/50 [==============================] - 2s 14ms/step - loss: 0.0045\n",
      "198/198 [==============================] - 4s 21ms/step - loss: 0.0047\n",
      "Epoch 13/20\n",
      "198/198 [==============================] - 4s 19ms/step - loss: 0.0043\n",
      "Epoch 16/20\n",
      "198/198 [==============================] - 4s 19ms/step - loss: 0.0043\n",
      " 83/198 [===========>..................] - ETA: 1s - loss: 0.0046Epoch 15/20\n",
      "198/198 [==============================] - 4s 20ms/step - loss: 0.0041\n",
      "Epoch 10/20\n",
      "198/198 [==============================] - 4s 21ms/step - loss: 0.0040\n",
      "Epoch 14/20\n",
      " 84/198 [===========>..................] - ETA: 2s - loss: 0.0042"
     ]
    },
    {
     "name": "stderr",
     "output_type": "stream",
     "text": [
      "2023-05-02 11:38:08.049326: I tensorflow/core/grappler/optimizers/custom_graph_optimizer_registry.cc:114] Plugin optimizer for device_type GPU is enabled.\n"
     ]
    },
    {
     "name": "stdout",
     "output_type": "stream",
     "text": [
      "198/198 [==============================] - 3s 13ms/step - loss: 0.0041\n",
      " 83/198 [===========>..................] - ETA: 2s - loss: 0.0041"
     ]
    },
    {
     "name": "stderr",
     "output_type": "stream",
     "text": [
      "2023-05-02 11:38:08.540213: I tensorflow/core/grappler/optimizers/custom_graph_optimizer_registry.cc:114] Plugin optimizer for device_type GPU is enabled.\n"
     ]
    },
    {
     "name": "stdout",
     "output_type": "stream",
     "text": [
      "50/50 [==============================] - 2s 14ms/step - loss: 0.0039\n",
      "128/198 [==================>...........] - ETA: 1s - loss: 0.0040Epoch 1/20\n",
      "198/198 [==============================] - 4s 21ms/step - loss: 0.0045\n",
      "Epoch 10/20\n",
      "198/198 [==============================] - 4s 21ms/step - loss: 0.0047\n",
      "Epoch 14/20\n",
      "198/198 [==============================] - 4s 20ms/step - loss: 0.0043\n",
      "Epoch 17/20\n",
      "198/198 [==============================] - 4s 20ms/step - loss: 0.0043\n",
      " 36/198 [====>.........................] - ETA: 3s - loss: 0.0044Epoch 16/20\n",
      "198/198 [==============================] - 4s 22ms/step - loss: 0.0041\n",
      "Epoch 11/20\n",
      "198/198 [==============================] - 4s 22ms/step - loss: 0.0040\n",
      " 67/198 [=========>....................] - ETA: 3s - loss: 0.0044Epoch 15/20\n",
      "198/198 [==============================] - 3s 14ms/step - loss: 0.0041\n",
      "155/198 [======================>.......] - ETA: 0s - loss: 0.0043Epoch 1/20\n",
      "198/198 [==============================] - 4s 21ms/step - loss: 0.0045\n",
      "Epoch 11/20\n",
      "198/198 [==============================] - 4s 19ms/step - loss: 0.0042\n",
      " 11/198 [>.............................] - ETA: 3s - loss: 0.0044Epoch 18/20\n",
      "198/198 [==============================] - 4s 19ms/step - loss: 0.0043\n",
      "150/198 [=====================>........] - ETA: 1s - loss: 0.0041Epoch 17/20\n",
      "198/198 [==============================] - 4s 22ms/step - loss: 0.0046\n",
      "Epoch 15/20\n",
      "198/198 [==============================] - 4s 20ms/step - loss: 0.0041\n",
      " 39/198 [====>.........................] - ETA: 3s - loss: 0.0043Epoch 12/20\n",
      "198/198 [==============================] - 4s 20ms/step - loss: 0.0040\n",
      " 22/198 [==>...........................] - ETA: 3s - loss: 0.0044Epoch 16/20\n",
      " 90/198 [============>.................] - ETA: 2s - loss: 0.0042"
     ]
    },
    {
     "name": "stderr",
     "output_type": "stream",
     "text": [
      "2023-05-02 11:38:16.363519: I tensorflow/core/grappler/optimizers/custom_graph_optimizer_registry.cc:114] Plugin optimizer for device_type GPU is enabled.\n"
     ]
    },
    {
     "name": "stdout",
     "output_type": "stream",
     "text": [
      "151/198 [=====================>........] - ETA: 0s - loss: 0.0044"
     ]
    },
    {
     "name": "stderr",
     "output_type": "stream",
     "text": [
      "2023-05-02 11:38:17.180688: I tensorflow/core/grappler/optimizers/custom_graph_optimizer_registry.cc:114] Plugin optimizer for device_type GPU is enabled.\n"
     ]
    },
    {
     "name": "stdout",
     "output_type": "stream",
     "text": [
      "181/198 [==========================>...] - ETA: 0s - loss: 0.0043"
     ]
    },
    {
     "name": "stderr",
     "output_type": "stream",
     "text": [
      "2023-05-02 11:38:17.587474: I tensorflow/core/grappler/optimizers/custom_graph_optimizer_registry.cc:114] Plugin optimizer for device_type GPU is enabled.\n"
     ]
    },
    {
     "name": "stdout",
     "output_type": "stream",
     "text": [
      "198/198 [==============================] - 4s 19ms/step - loss: 0.0042\n",
      "165/198 [========================>.....] - ETA: 0s - loss: 0.0044Epoch 19/20\n",
      "198/198 [==============================] - 4s 21ms/step - loss: 0.0045\n",
      "  5/198 [..............................] - ETA: 6s - loss: 0.1327Epoch 12/20\n",
      "198/198 [==============================] - 4s 20ms/step - loss: 0.0043\n",
      "137/198 [===================>..........] - ETA: 1s - loss: 0.0040Epoch 18/20\n",
      "139/198 [====================>.........] - ETA: 1s - loss: 0.0040e-0"
     ]
    },
    {
     "name": "stderr",
     "output_type": "stream",
     "text": [
      "2023-05-02 11:38:18.223514: I tensorflow/core/grappler/optimizers/custom_graph_optimizer_registry.cc:114] Plugin optimizer for device_type GPU is enabled.\n"
     ]
    },
    {
     "name": "stdout",
     "output_type": "stream",
     "text": [
      "198/198 [==============================] - 4s 22ms/step - loss: 0.0046\n",
      "Epoch 16/20\n",
      "198/198 [==============================] - 4s 22ms/step - loss: 0.0041\n",
      "Epoch 13/20\n",
      " 39/198 [====>.........................] - ETA: 3s - loss: 0.0045"
     ]
    },
    {
     "name": "stderr",
     "output_type": "stream",
     "text": [
      "2023-05-02 11:38:19.565905: I tensorflow/core/grappler/optimizers/custom_graph_optimizer_registry.cc:114] Plugin optimizer for device_type GPU is enabled.\n"
     ]
    },
    {
     "name": "stdout",
     "output_type": "stream",
     "text": [
      " 90/198 [============>.................] - ETA: 2s - loss: 0.0047"
     ]
    },
    {
     "name": "stderr",
     "output_type": "stream",
     "text": [
      "2023-05-02 11:38:19.948063: I tensorflow/core/grappler/optimizers/custom_graph_optimizer_registry.cc:114] Plugin optimizer for device_type GPU is enabled.\n"
     ]
    },
    {
     "name": "stdout",
     "output_type": "stream",
     "text": [
      "198/198 [==============================] - 4s 22ms/step - loss: 0.0040\n",
      "Epoch 17/20\n",
      "198/198 [==============================] - 4s 20ms/step - loss: 0.0043\n",
      "Epoch 20/20\n",
      "198/198 [==============================] - 4s 20ms/step - loss: 0.0043\n",
      "Epoch 19/20\n",
      "198/198 [==============================] - 4s 21ms/step - loss: 0.0045\n",
      "Epoch 13/20\n",
      "198/198 [==============================] - 13s 23ms/step - loss: 0.0729\n",
      "135/198 [===================>..........] - ETA: 1s - loss: 0.0040Epoch 2/20\n",
      "198/198 [==============================] - 4s 22ms/step - loss: 0.0045\n",
      "Epoch 17/20\n",
      "198/198 [==============================] - 4s 22ms/step - loss: 0.0041\n",
      "Epoch 14/20\n",
      "198/198 [==============================] - 4s 21ms/step - loss: 0.0040\n",
      "Epoch 18/20\n",
      "198/198 [==============================] - 11s 22ms/step - loss: 0.0072\n",
      "Epoch 2/20\n",
      "198/198 [==============================] - 4s 21ms/step - loss: 0.0042\n",
      "198/198 [==============================] - 4s 21ms/step - loss: 0.0043\n",
      "Epoch 20/20\n",
      "198/198 [==============================] - 4s 21ms/step - loss: 0.0045\n",
      "Epoch 14/20\n",
      "198/198 [==============================] - 4s 21ms/step - loss: 0.0284\n",
      " 16/198 [=>............................] - ETA: 3s - loss: 0.0042Epoch 3/20\n",
      "154/198 [======================>.......] - ETA: 0s - loss: 0.0042"
     ]
    },
    {
     "name": "stderr",
     "output_type": "stream",
     "text": [
      "2023-05-02 11:38:27.113794: I tensorflow/core/grappler/optimizers/custom_graph_optimizer_registry.cc:114] Plugin optimizer for device_type GPU is enabled.\n",
      "2023-05-02 11:38:27.276620: I tensorflow/core/grappler/optimizers/custom_graph_optimizer_registry.cc:114] Plugin optimizer for device_type GPU is enabled.\n"
     ]
    },
    {
     "name": "stdout",
     "output_type": "stream",
     "text": [
      "198/198 [==============================] - 4s 22ms/step - loss: 0.0045\n",
      "Epoch 18/20\n",
      "198/198 [==============================] - 4s 22ms/step - loss: 0.0041\n",
      "Epoch 15/20\n",
      "50/50 [==============================] - 2s 17ms/step - loss: 0.0037\n",
      "198/198 [==============================] - 4s 22ms/step - loss: 0.0040\n",
      "Epoch 19/20\n",
      "198/198 [==============================] - 4s 20ms/step - loss: 0.0043\n",
      "115/198 [================>.............] - ETA: 1s - loss: 0.0043Epoch 3/20\n",
      "198/198 [==============================] - 4s 20ms/step - loss: 0.0043\n",
      "198/198 [==============================] - 4s 21ms/step - loss: 0.0045\n",
      "Epoch 15/20\n",
      "198/198 [==============================] - 4s 21ms/step - loss: 0.0172\n",
      "Epoch 4/20\n",
      " 20/198 [==>...........................] - ETA: 3s - loss: 0.0157"
     ]
    },
    {
     "name": "stderr",
     "output_type": "stream",
     "text": [
      "2023-05-02 11:38:31.217180: I tensorflow/core/grappler/optimizers/custom_graph_optimizer_registry.cc:114] Plugin optimizer for device_type GPU is enabled.\n"
     ]
    },
    {
     "name": "stdout",
     "output_type": "stream",
     "text": [
      "195/198 [============================>.] - ETA: 0s - loss: 0.0045"
     ]
    },
    {
     "name": "stderr",
     "output_type": "stream",
     "text": [
      "2023-05-02 11:38:31.427697: I tensorflow/core/grappler/optimizers/custom_graph_optimizer_registry.cc:114] Plugin optimizer for device_type GPU is enabled.\n"
     ]
    },
    {
     "name": "stdout",
     "output_type": "stream",
     "text": [
      "198/198 [==============================] - 4s 21ms/step - loss: 0.0045\n",
      "Epoch 19/20\n",
      "198/198 [==============================] - 3s 17ms/step - loss: 0.0041\n",
      "198/198 [==============================] - 4s 21ms/step - loss: 0.0041\n",
      "Epoch 16/20\n",
      "50/50 [==============================] - 2s 16ms/step - loss: 0.0035\n",
      "198/198 [==============================] - 4s 21ms/step - loss: 0.0040\n",
      "Epoch 20/20\n",
      "198/198 [==============================] - 4s 20ms/step - loss: 0.0041\n",
      "Epoch 4/20\n",
      "164/198 [=======================>......] - ETA: 0s - loss: 0.0042Epoch 1/20\n",
      "198/198 [==============================] - 4s 21ms/step - loss: 0.0044\n",
      "Epoch 16/20\n",
      "198/198 [==============================] - 4s 21ms/step - loss: 0.0132\n",
      "Epoch 5/20\n",
      "198/198 [==============================] - 3s 13ms/step - loss: 0.0042\n",
      "198/198 [==============================] - 4s 21ms/step - loss: 0.0044\n",
      "Epoch 20/20\n",
      "174/198 [=========================>....] - ETA: 0s - loss: 0.0041Epoch 1/20\n",
      "198/198 [==============================] - 4s 21ms/step - loss: 0.0041\n",
      "171/198 [========================>.....] - ETA: 0s - loss: 0.0038Epoch 17/20\n",
      "198/198 [==============================] - 4s 19ms/step - loss: 0.0041\n",
      " 19/198 [=>............................] - ETA: 3s - loss: 0.0034Epoch 5/20\n",
      "198/198 [==============================] - 4s 20ms/step - loss: 0.0040\n",
      "129/198 [==================>...........] - ETA: 1s - loss: 0.0046"
     ]
    },
    {
     "name": "stderr",
     "output_type": "stream",
     "text": [
      "2023-05-02 11:38:37.336699: I tensorflow/core/grappler/optimizers/custom_graph_optimizer_registry.cc:114] Plugin optimizer for device_type GPU is enabled.\n"
     ]
    },
    {
     "name": "stdout",
     "output_type": "stream",
     "text": [
      " 95/198 [=============>................] - ETA: 2s - loss: 0.0046"
     ]
    },
    {
     "name": "stderr",
     "output_type": "stream",
     "text": [
      "2023-05-02 11:38:37.643805: I tensorflow/core/grappler/optimizers/custom_graph_optimizer_registry.cc:114] Plugin optimizer for device_type GPU is enabled.\n"
     ]
    },
    {
     "name": "stdout",
     "output_type": "stream",
     "text": [
      "15/50 [========>.....................] - ETA: 0s - loss: 0.00654"
     ]
    },
    {
     "name": "stderr",
     "output_type": "stream",
     "text": [
      "2023-05-02 11:38:37.994714: I tensorflow/core/grappler/optimizers/custom_graph_optimizer_registry.cc:114] Plugin optimizer for device_type GPU is enabled.\n"
     ]
    },
    {
     "name": "stdout",
     "output_type": "stream",
     "text": [
      "50/50 [==============================] - 2s 16ms/step - loss: 0.0052\n",
      "198/198 [==============================] - 4s 20ms/step - loss: 0.0044\n",
      "Epoch 17/20\n",
      "198/198 [==============================] - 4s 20ms/step - loss: 0.0113\n",
      "136/198 [===================>..........] - ETA: 1s - loss: 0.0041Epoch 6/20\n",
      " 12/198 [>.............................] - ETA: 3s - loss: 0.0049"
     ]
    },
    {
     "name": "stderr",
     "output_type": "stream",
     "text": [
      "2023-05-02 11:38:39.056107: I tensorflow/core/grappler/optimizers/custom_graph_optimizer_registry.cc:114] Plugin optimizer for device_type GPU is enabled.\n"
     ]
    },
    {
     "name": "stdout",
     "output_type": "stream",
     "text": [
      " 33/198 [====>.........................] - ETA: 3s - loss: 0.0046"
     ]
    },
    {
     "name": "stderr",
     "output_type": "stream",
     "text": [
      "2023-05-02 11:38:39.380678: I tensorflow/core/grappler/optimizers/custom_graph_optimizer_registry.cc:114] Plugin optimizer for device_type GPU is enabled.\n",
      "2023-05-02 11:38:39.550077: I tensorflow/core/grappler/optimizers/custom_graph_optimizer_registry.cc:114] Plugin optimizer for device_type GPU is enabled.\n"
     ]
    },
    {
     "name": "stdout",
     "output_type": "stream",
     "text": [
      "198/198 [==============================] - 4s 21ms/step - loss: 0.0044\n",
      "198/198 [==============================] - 4s 20ms/step - loss: 0.0041\n",
      "Epoch 18/20\n",
      "198/198 [==============================] - 4s 19ms/step - loss: 0.0040\n",
      "Epoch 6/20\n",
      "153/198 [======================>.......] - ETA: 0s - loss: 0.0044"
     ]
    },
    {
     "name": "stderr",
     "output_type": "stream",
     "text": [
      "2023-05-02 11:38:40.571739: I tensorflow/core/grappler/optimizers/custom_graph_optimizer_registry.cc:114] Plugin optimizer for device_type GPU is enabled.\n"
     ]
    },
    {
     "name": "stdout",
     "output_type": "stream",
     "text": [
      " 42/198 [=====>........................] - ETA: 3s - loss: 0.0608"
     ]
    },
    {
     "name": "stderr",
     "output_type": "stream",
     "text": [
      "2023-05-02 11:38:40.821934: I tensorflow/core/grappler/optimizers/custom_graph_optimizer_registry.cc:114] Plugin optimizer for device_type GPU is enabled.\n",
      "2023-05-02 11:38:40.823574: I tensorflow/core/grappler/optimizers/custom_graph_optimizer_registry.cc:114] Plugin optimizer for device_type GPU is enabled.\n"
     ]
    },
    {
     "name": "stdout",
     "output_type": "stream",
     "text": [
      "188/198 [===========================>..] - ETA: 0s - loss: 0.0043"
     ]
    },
    {
     "name": "stderr",
     "output_type": "stream",
     "text": [
      "2023-05-02 11:38:41.213604: I tensorflow/core/grappler/optimizers/custom_graph_optimizer_registry.cc:114] Plugin optimizer for device_type GPU is enabled.\n"
     ]
    },
    {
     "name": "stdout",
     "output_type": "stream",
     "text": [
      "198/198 [==============================] - 3s 14ms/step - loss: 0.0043\n",
      "50/50 [==============================] - 2s 20ms/step - loss: 0.0041\n",
      " 90/198 [============>.................] - ETA: 2s - loss: 0.0043Epoch 1/20\n",
      "198/198 [==============================] - 4s 22ms/step - loss: 0.0044\n",
      "Epoch 18/20\n",
      "198/198 [==============================] - 4s 22ms/step - loss: 0.0101\n",
      "Epoch 7/20\n",
      "198/198 [==============================] - 10s 22ms/step - loss: 0.0309\n",
      "Epoch 2/20\n",
      "198/198 [==============================] - 4s 21ms/step - loss: 0.0041\n",
      "Epoch 7/20\n",
      "198/198 [==============================] - 4s 22ms/step - loss: 0.0041\n",
      "Epoch 19/20\n",
      "198/198 [==============================] - 3s 14ms/step - loss: 0.0043\n",
      "198/198 [==============================] - 10s 22ms/step - loss: 0.0186\n",
      "Epoch 2/20\n",
      " 91/198 [============>.................] - ETA: 1s - loss: 0.0043Epoch 1/20\n",
      "198/198 [==============================] - 4s 19ms/step - loss: 0.0044\n",
      "193/198 [============================>.] - ETA: 0s - loss: 0.0092Epoch 19/20\n",
      "198/198 [==============================] - 4s 19ms/step - loss: 0.0091\n",
      "Epoch 8/20\n",
      "161/198 [=======================>......] - ETA: 0s - loss: 0.0040"
     ]
    },
    {
     "name": "stderr",
     "output_type": "stream",
     "text": [
      "2023-05-02 11:38:47.373351: I tensorflow/core/grappler/optimizers/custom_graph_optimizer_registry.cc:114] Plugin optimizer for device_type GPU is enabled.\n"
     ]
    },
    {
     "name": "stdout",
     "output_type": "stream",
     "text": [
      "198/198 [==============================] - 3s 17ms/step - loss: 0.0077\n",
      "Epoch 3/20\n",
      "194/198 [============================>.] - ETA: 0s - loss: 0.0040"
     ]
    },
    {
     "name": "stderr",
     "output_type": "stream",
     "text": [
      "2023-05-02 11:38:48.006107: I tensorflow/core/grappler/optimizers/custom_graph_optimizer_registry.cc:114] Plugin optimizer for device_type GPU is enabled.\n"
     ]
    },
    {
     "name": "stdout",
     "output_type": "stream",
     "text": [
      "198/198 [==============================] - 4s 18ms/step - loss: 0.0040\n",
      "Epoch 8/20\n",
      "165/198 [========================>.....] - ETA: 0s - loss: 0.0083"
     ]
    },
    {
     "name": "stderr",
     "output_type": "stream",
     "text": [
      "2023-05-02 11:38:48.382254: I tensorflow/core/grappler/optimizers/custom_graph_optimizer_registry.cc:114] Plugin optimizer for device_type GPU is enabled.\n"
     ]
    },
    {
     "name": "stdout",
     "output_type": "stream",
     "text": [
      "198/198 [==============================] - 4s 19ms/step - loss: 0.0041\n",
      "Epoch 20/20\n",
      "198/198 [==============================] - 3s 18ms/step - loss: 0.0079\n",
      "Epoch 3/20\n",
      "103/198 [==============>...............] - ETA: 1s - loss: 0.0087"
     ]
    },
    {
     "name": "stderr",
     "output_type": "stream",
     "text": [
      "2023-05-02 11:38:49.346608: I tensorflow/core/grappler/optimizers/custom_graph_optimizer_registry.cc:114] Plugin optimizer for device_type GPU is enabled.\n"
     ]
    },
    {
     "name": "stdout",
     "output_type": "stream",
     "text": [
      " 97/198 [=============>................] - ETA: 1s - loss: 0.0055"
     ]
    },
    {
     "name": "stderr",
     "output_type": "stream",
     "text": [
      "2023-05-02 11:38:50.905784: I tensorflow/core/grappler/optimizers/custom_graph_optimizer_registry.cc:114] Plugin optimizer for device_type GPU is enabled.\n"
     ]
    },
    {
     "name": "stdout",
     "output_type": "stream",
     "text": [
      "198/198 [==============================] - 4s 20ms/step - loss: 0.0080\n",
      "Epoch 9/20\n",
      "198/198 [==============================] - 4s 20ms/step - loss: 0.0044\n",
      "Epoch 20/20\n",
      "198/198 [==============================] - 4s 19ms/step - loss: 0.0047\n",
      "Epoch 4/20\n",
      "173/198 [=========================>....] - ETA: 0s - loss: 0.0041"
     ]
    },
    {
     "name": "stderr",
     "output_type": "stream",
     "text": [
      "2023-05-02 11:38:51.522398: I tensorflow/core/grappler/optimizers/custom_graph_optimizer_registry.cc:114] Plugin optimizer for device_type GPU is enabled.\n"
     ]
    },
    {
     "name": "stdout",
     "output_type": "stream",
     "text": [
      "198/198 [==============================] - 4s 20ms/step - loss: 0.0040\n",
      "Epoch 9/20\n",
      "198/198 [==============================] - 4s 21ms/step - loss: 0.0041\n",
      "198/198 [==============================] - 11s 21ms/step - loss: 0.0808\n",
      "Epoch 2/20\n",
      " 90/198 [============>.................] - ETA: 2s - loss: 0.0044"
     ]
    },
    {
     "name": "stderr",
     "output_type": "stream",
     "text": [
      "2023-05-02 11:38:53.283268: I tensorflow/core/grappler/optimizers/custom_graph_optimizer_registry.cc:114] Plugin optimizer for device_type GPU is enabled.\n"
     ]
    },
    {
     "name": "stdout",
     "output_type": "stream",
     "text": [
      "198/198 [==============================] - 4s 21ms/step - loss: 0.0052\n",
      " 91/198 [============>.................] - ETA: 2s - loss: 0.0044Epoch 4/20\n",
      "111/198 [===============>..............] - ETA: 1s - loss: 0.0041"
     ]
    },
    {
     "name": "stderr",
     "output_type": "stream",
     "text": [
      "2023-05-02 11:38:53.689984: I tensorflow/core/grappler/optimizers/custom_graph_optimizer_registry.cc:114] Plugin optimizer for device_type GPU is enabled.\n"
     ]
    },
    {
     "name": "stdout",
     "output_type": "stream",
     "text": [
      "50/50 [==============================] - 2s 18ms/step - loss: 0.0045\n",
      "198/198 [==============================] - 4s 21ms/step - loss: 0.0043\n",
      "111/198 [===============>..............] - ETA: 1s - loss: 0.0045Epoch 5/20\n",
      "198/198 [==============================] - 4s 22ms/step - loss: 0.0044\n",
      "198/198 [==============================] - 4s 23ms/step - loss: 0.0067\n",
      " 40/198 [=====>........................] - ETA: 2s - loss: 0.0046Epoch 10/20\n",
      "198/198 [==============================] - 4s 21ms/step - loss: 0.0040\n",
      " 84/198 [===========>..................] - ETA: 1s - loss: 0.0046Epoch 10/20\n",
      "198/198 [==============================] - 10s 21ms/step - loss: 0.0055\n",
      "Epoch 2/20\n",
      " 20/198 [==>...........................] - ETA: 2s - loss: 0.0048"
     ]
    },
    {
     "name": "stderr",
     "output_type": "stream",
     "text": [
      "2023-05-02 11:38:56.748633: I tensorflow/core/grappler/optimizers/custom_graph_optimizer_registry.cc:114] Plugin optimizer for device_type GPU is enabled.\n"
     ]
    },
    {
     "name": "stdout",
     "output_type": "stream",
     "text": [
      "198/198 [==============================] - 4s 20ms/step - loss: 0.0043\n",
      "Epoch 3/20\n",
      "198/198 [==============================] - 4s 19ms/step - loss: 0.0044\n",
      "Epoch 5/20\n",
      " 74/198 [==========>...................] - ETA: 2s - loss: 0.0058"
     ]
    },
    {
     "name": "stderr",
     "output_type": "stream",
     "text": [
      "2023-05-02 11:38:57.289173: I tensorflow/core/grappler/optimizers/custom_graph_optimizer_registry.cc:114] Plugin optimizer for device_type GPU is enabled.\n"
     ]
    },
    {
     "name": "stdout",
     "output_type": "stream",
     "text": [
      "198/198 [==============================] - 3s 14ms/step - loss: 0.0041\n",
      "50/50 [==============================] - 2s 13ms/step - loss: 0.0039\n",
      "198/198 [==============================] - 4s 19ms/step - loss: 0.0042\n",
      "Epoch 6/20\n",
      "198/198 [==============================] - 4s 21ms/step - loss: 0.0054\n",
      "Epoch 11/20\n",
      "198/198 [==============================] - 4s 19ms/step - loss: 0.0041\n",
      "Epoch 11/20\n",
      "198/198 [==============================] - 4s 18ms/step - loss: 0.0043\n",
      "Epoch 3/20\n",
      "198/198 [==============================] - 2s 11ms/step - loss: 0.0045\n",
      "198/198 [==============================] - 4s 18ms/step - loss: 0.0043\n",
      "Epoch 4/20\n",
      "198/198 [==============================] - 4s 18ms/step - loss: 0.0042\n",
      "Epoch 6/20\n",
      "198/198 [==============================] - 3s 16ms/step - loss: 0.0042\n",
      "Epoch 7/20\n",
      "198/198 [==============================] - 3s 16ms/step - loss: 0.0042\n",
      "Epoch 4/20\n",
      "198/198 [==============================] - 3s 16ms/step - loss: 0.0040\n",
      "Epoch 12/20\n",
      "198/198 [==============================] - 3s 18ms/step - loss: 0.0046\n",
      "Epoch 12/20\n",
      "198/198 [==============================] - 3s 16ms/step - loss: 0.0043\n",
      "182/198 [==========================>...] - ETA: 0s - loss: 0.0041Epoch 5/20\n",
      "198/198 [==============================] - 3s 16ms/step - loss: 0.0041\n",
      "Epoch 7/20\n",
      "198/198 [==============================] - 3s 16ms/step - loss: 0.0042\n",
      "Epoch 8/20\n",
      "198/198 [==============================] - 3s 16ms/step - loss: 0.0043\n",
      "Epoch 5/20\n",
      "198/198 [==============================] - 3s 16ms/step - loss: 0.0041\n",
      "Epoch 13/20\n",
      "198/198 [==============================] - 3s 17ms/step - loss: 0.0044\n",
      "Epoch 13/20\n",
      "198/198 [==============================] - 3s 16ms/step - loss: 0.0043\n",
      "Epoch 6/20\n",
      "198/198 [==============================] - 3s 16ms/step - loss: 0.0041\n",
      "Epoch 8/20\n",
      "198/198 [==============================] - 3s 16ms/step - loss: 0.0043\n",
      "Epoch 9/20\n",
      "198/198 [==============================] - 3s 16ms/step - loss: 0.0043\n",
      "Epoch 6/20\n",
      "198/198 [==============================] - 3s 17ms/step - loss: 0.0040\n",
      "Epoch 14/20\n",
      "198/198 [==============================] - 3s 17ms/step - loss: 0.0042\n",
      " 26/198 [==>...........................] - ETA: 3s - loss: 0.0039Epoch 7/20\n",
      "198/198 [==============================] - 4s 18ms/step - loss: 0.0043\n",
      "Epoch 14/20\n",
      "198/198 [==============================] - 3s 17ms/step - loss: 0.0041\n",
      "Epoch 9/20\n",
      "198/198 [==============================] - 3s 17ms/step - loss: 0.0042\n",
      "Epoch 10/20\n",
      "198/198 [==============================] - 3s 17ms/step - loss: 0.0043\n",
      "Epoch 7/20\n",
      "198/198 [==============================] - 3s 17ms/step - loss: 0.0041\n",
      "Epoch 15/20\n",
      "198/198 [==============================] - 3s 17ms/step - loss: 0.0043\n",
      "Epoch 8/20\n",
      "198/198 [==============================] - 3s 17ms/step - loss: 0.0041\n",
      "Epoch 10/20\n",
      "198/198 [==============================] - 4s 19ms/step - loss: 0.0043\n",
      "Epoch 15/20\n",
      "198/198 [==============================] - 3s 16ms/step - loss: 0.0042\n",
      "Epoch 11/20\n",
      "198/198 [==============================] - 3s 16ms/step - loss: 0.0042\n",
      "165/198 [========================>.....] - ETA: 0s - loss: 0.0043Epoch 8/20\n",
      "198/198 [==============================] - 3s 17ms/step - loss: 0.0041\n",
      "Epoch 16/20\n",
      "198/198 [==============================] - 3s 16ms/step - loss: 0.0043\n",
      "Epoch 9/20\n",
      "198/198 [==============================] - 3s 16ms/step - loss: 0.0041\n",
      "Epoch 11/20\n",
      "198/198 [==============================] - 3s 17ms/step - loss: 0.0043\n",
      " 73/198 [==========>...................] - ETA: 2s - loss: 0.0041Epoch 16/20\n",
      "198/198 [==============================] - 3s 16ms/step - loss: 0.0043\n",
      "Epoch 12/20\n",
      "198/198 [==============================] - 3s 16ms/step - loss: 0.0042\n",
      "Epoch 9/20\n",
      "198/198 [==============================] - 3s 17ms/step - loss: 0.0040\n",
      "Epoch 17/20\n",
      "198/198 [==============================] - 3s 16ms/step - loss: 0.0043\n",
      " 42/198 [=====>........................] - ETA: 2s - loss: 0.0042Epoch 10/20\n",
      "198/198 [==============================] - 3s 17ms/step - loss: 0.0041\n",
      "Epoch 12/20\n",
      "198/198 [==============================] - 3s 17ms/step - loss: 0.0043\n",
      "Epoch 17/20\n",
      "198/198 [==============================] - 3s 16ms/step - loss: 0.0043\n",
      "Epoch 13/20\n",
      "198/198 [==============================] - 3s 16ms/step - loss: 0.0043\n",
      "Epoch 10/20\n",
      "198/198 [==============================] - 3s 16ms/step - loss: 0.0043\n",
      "Epoch 11/20\n",
      "198/198 [==============================] - 3s 17ms/step - loss: 0.0040\n",
      " 51/198 [======>.......................] - ETA: 2s - loss: 0.0043Epoch 18/20\n",
      "198/198 [==============================] - 3s 16ms/step - loss: 0.0041\n",
      "Epoch 13/20\n",
      "198/198 [==============================] - 3s 18ms/step - loss: 0.0043\n",
      "Epoch 18/20\n",
      "198/198 [==============================] - 3s 16ms/step - loss: 0.0042\n",
      "104/198 [==============>...............] - ETA: 1s - loss: 0.0040Epoch 14/20\n",
      "198/198 [==============================] - 3s 16ms/step - loss: 0.0042\n",
      "Epoch 11/20\n",
      "198/198 [==============================] - 3s 16ms/step - loss: 0.0043\n",
      "Epoch 12/20\n",
      "198/198 [==============================] - 3s 16ms/step - loss: 0.0041\n",
      "Epoch 19/20\n",
      "198/198 [==============================] - 3s 16ms/step - loss: 0.0041\n",
      " 29/198 [===>..........................] - ETA: 2s - loss: 0.0049Epoch 14/20\n",
      "198/198 [==============================] - 4s 18ms/step - loss: 0.0043\n",
      "Epoch 19/20\n",
      "198/198 [==============================] - 3s 16ms/step - loss: 0.0042\n",
      "Epoch 15/20\n",
      "198/198 [==============================] - 3s 16ms/step - loss: 0.0043\n",
      "Epoch 12/20\n",
      "198/198 [==============================] - 3s 16ms/step - loss: 0.0043\n",
      "Epoch 13/20\n",
      "198/198 [==============================] - 3s 17ms/step - loss: 0.0041\n",
      "Epoch 20/20\n",
      "198/198 [==============================] - 3s 16ms/step - loss: 0.0041\n",
      "Epoch 15/20\n",
      "198/198 [==============================] - 3s 16ms/step - loss: 0.0043\n",
      "Epoch 16/20\n",
      "198/198 [==============================] - 3s 18ms/step - loss: 0.0043\n",
      "Epoch 20/20\n",
      "198/198 [==============================] - 3s 16ms/step - loss: 0.0043\n",
      "Epoch 13/20\n",
      "198/198 [==============================] - 3s 16ms/step - loss: 0.0043\n",
      "Epoch 14/20\n",
      "198/198 [==============================] - 3s 16ms/step - loss: 0.0040\n",
      "198/198 [==============================] - 3s 16ms/step - loss: 0.0041\n",
      "Epoch 16/20\n",
      " 45/198 [=====>........................] - ETA: 2s - loss: 0.0042  "
     ]
    },
    {
     "name": "stderr",
     "output_type": "stream",
     "text": [
      "2023-05-02 11:39:33.448194: I tensorflow/core/grappler/optimizers/custom_graph_optimizer_registry.cc:114] Plugin optimizer for device_type GPU is enabled.\n",
      "2023-05-02 11:39:33.605379: I tensorflow/core/grappler/optimizers/custom_graph_optimizer_registry.cc:114] Plugin optimizer for device_type GPU is enabled.\n"
     ]
    },
    {
     "name": "stdout",
     "output_type": "stream",
     "text": [
      "50/50 [==============================] - 1s 11ms/step - loss: 0.0048\n",
      "198/198 [==============================] - 3s 16ms/step - loss: 0.0042\n",
      "Epoch 17/20\n",
      "198/198 [==============================] - 4s 18ms/step - loss: 0.0043\n",
      "198/198 [==============================] - 3s 16ms/step - loss: 0.0043\n",
      "Epoch 14/20\n",
      " 49/198 [======>.......................] - ETA: 2s - loss: 0.0041"
     ]
    },
    {
     "name": "stderr",
     "output_type": "stream",
     "text": [
      "2023-05-02 11:39:35.388866: I tensorflow/core/grappler/optimizers/custom_graph_optimizer_registry.cc:114] Plugin optimizer for device_type GPU is enabled.\n",
      "2023-05-02 11:39:35.578462: I tensorflow/core/grappler/optimizers/custom_graph_optimizer_registry.cc:114] Plugin optimizer for device_type GPU is enabled.\n"
     ]
    },
    {
     "name": "stdout",
     "output_type": "stream",
     "text": [
      "198/198 [==============================] - 3s 16ms/step - loss: 0.0043\n",
      "Epoch 15/20\n",
      "198/198 [==============================] - 2s 10ms/step - loss: 0.0040\n",
      "50/50 [==============================] - 1s 11ms/step - loss: 0.0037\n",
      "198/198 [==============================] - 3s 16ms/step - loss: 0.0042\n",
      " 25/198 [==>...........................] - ETA: 2s - loss: 0.0045Epoch 17/20\n",
      "198/198 [==============================] - 3s 16ms/step - loss: 0.0042\n",
      "115/198 [================>.............] - ETA: 1s - loss: 0.0042Epoch 18/20\n",
      "198/198 [==============================] - 1s 7ms/step - loss: 0.0042\n",
      "198/198 [==============================] - 3s 15ms/step - loss: 0.0043\n",
      "107/198 [===============>..............] - ETA: 1s - loss: 0.0042Epoch 15/20\n",
      "198/198 [==============================] - 3s 14ms/step - loss: 0.0043\n",
      "Epoch 16/20\n",
      "198/198 [==============================] - 3s 14ms/step - loss: 0.0041\n",
      "110/198 [===============>..............] - ETA: 1s - loss: 0.0045Epoch 18/20\n",
      "198/198 [==============================] - 3s 13ms/step - loss: 0.0042\n",
      " 87/198 [============>.................] - ETA: 1s - loss: 0.0045Epoch 19/20\n",
      "198/198 [==============================] - 3s 14ms/step - loss: 0.0043\n",
      " 21/198 [==>...........................] - ETA: 2s - loss: 0.0036Epoch 16/20\n",
      "198/198 [==============================] - 3s 13ms/step - loss: 0.0042\n",
      "Epoch 17/20\n",
      "198/198 [==============================] - 3s 14ms/step - loss: 0.0041\n",
      "Epoch 19/20\n",
      "198/198 [==============================] - 3s 13ms/step - loss: 0.0043\n",
      "Epoch 20/20\n",
      "198/198 [==============================] - 3s 13ms/step - loss: 0.0043\n",
      "Epoch 17/20\n",
      "198/198 [==============================] - 3s 13ms/step - loss: 0.0042\n",
      "Epoch 18/20\n",
      "198/198 [==============================] - 2s 12ms/step - loss: 0.0041\n",
      "Epoch 20/20\n",
      "198/198 [==============================] - 2s 11ms/step - loss: 0.0043\n",
      "198/198 [==============================] - 2s 11ms/step - loss: 0.0042\n",
      "Epoch 18/20\n",
      " 1/50 [..............................] - ETA: 17s - loss: 0.00444"
     ]
    },
    {
     "name": "stderr",
     "output_type": "stream",
     "text": [
      "2023-05-02 11:39:45.494567: I tensorflow/core/grappler/optimizers/custom_graph_optimizer_registry.cc:114] Plugin optimizer for device_type GPU is enabled.\n",
      "2023-05-02 11:39:45.574235: I tensorflow/core/grappler/optimizers/custom_graph_optimizer_registry.cc:114] Plugin optimizer for device_type GPU is enabled.\n"
     ]
    },
    {
     "name": "stdout",
     "output_type": "stream",
     "text": [
      "50/50 [==============================] - 1s 7ms/step - loss: 0.0040\n",
      "198/198 [==============================] - 2s 11ms/step - loss: 0.0043\n",
      "Epoch 19/20\n",
      "198/198 [==============================] - 2s 11ms/step - loss: 0.0041\n",
      "125/198 [=================>............] - ETA: 0s - loss: 0.0043"
     ]
    },
    {
     "name": "stderr",
     "output_type": "stream",
     "text": [
      "2023-05-02 11:39:46.849329: I tensorflow/core/grappler/optimizers/custom_graph_optimizer_registry.cc:114] Plugin optimizer for device_type GPU is enabled.\n",
      "2023-05-02 11:39:46.938874: I tensorflow/core/grappler/optimizers/custom_graph_optimizer_registry.cc:114] Plugin optimizer for device_type GPU is enabled.\n"
     ]
    },
    {
     "name": "stdout",
     "output_type": "stream",
     "text": [
      "198/198 [==============================] - 1s 6ms/step - loss: 0.0041\n",
      "50/50 [==============================] - 1s 6ms/step - loss: 0.0045\n",
      "198/198 [==============================] - 2s 11ms/step - loss: 0.0042\n",
      "Epoch 19/20\n",
      "198/198 [==============================] - 2s 10ms/step - loss: 0.0043\n",
      "188/198 [===========================>..] - ETA: 0s - loss: 0.0041Epoch 20/20\n",
      "198/198 [==============================] - 1s 4ms/step - loss: 0.0040\n",
      "198/198 [==============================] - 2s 8ms/step - loss: 0.0043\n",
      "Epoch 20/20\n",
      "198/198 [==============================] - 2s 8ms/step - loss: 0.0043\n",
      "10/50 [=====>........................] - ETA: 0s - loss: 0.0031 2"
     ]
    },
    {
     "name": "stderr",
     "output_type": "stream",
     "text": [
      "2023-05-02 11:39:49.925436: I tensorflow/core/grappler/optimizers/custom_graph_optimizer_registry.cc:114] Plugin optimizer for device_type GPU is enabled.\n",
      "2023-05-02 11:39:50.000038: I tensorflow/core/grappler/optimizers/custom_graph_optimizer_registry.cc:114] Plugin optimizer for device_type GPU is enabled.\n"
     ]
    },
    {
     "name": "stdout",
     "output_type": "stream",
     "text": [
      "50/50 [==============================] - 0s 4ms/step - loss: 0.0037\n",
      "198/198 [==============================] - 2s 8ms/step - loss: 0.0042\n",
      "171/198 [========================>.....] - ETA: 0s - loss: 0.0043"
     ]
    },
    {
     "name": "stderr",
     "output_type": "stream",
     "text": [
      "2023-05-02 11:39:50.914088: I tensorflow/core/grappler/optimizers/custom_graph_optimizer_registry.cc:114] Plugin optimizer for device_type GPU is enabled.\n",
      "2023-05-02 11:39:50.989453: I tensorflow/core/grappler/optimizers/custom_graph_optimizer_registry.cc:114] Plugin optimizer for device_type GPU is enabled.\n"
     ]
    },
    {
     "name": "stdout",
     "output_type": "stream",
     "text": [
      "198/198 [==============================] - 1s 4ms/step - loss: 0.0042\n",
      "50/50 [==============================] - 0s 4ms/step - loss: 0.0036\n",
      "198/198 [==============================] - 1s 3ms/step - loss: 0.0042\n",
      "Epoch 1/20\n"
     ]
    },
    {
     "name": "stderr",
     "output_type": "stream",
     "text": [
      "2023-05-02 11:39:53.230664: I tensorflow/core/grappler/optimizers/custom_graph_optimizer_registry.cc:114] Plugin optimizer for device_type GPU is enabled.\n",
      "2023-05-02 11:39:53.390434: I tensorflow/core/grappler/optimizers/custom_graph_optimizer_registry.cc:114] Plugin optimizer for device_type GPU is enabled.\n"
     ]
    },
    {
     "name": "stdout",
     "output_type": "stream",
     "text": [
      "  9/247 [>.............................] - ETA: 1s - loss: 0.0115  "
     ]
    },
    {
     "name": "stderr",
     "output_type": "stream",
     "text": [
      "2023-05-02 11:39:53.584461: I tensorflow/core/grappler/optimizers/custom_graph_optimizer_registry.cc:114] Plugin optimizer for device_type GPU is enabled.\n"
     ]
    },
    {
     "name": "stdout",
     "output_type": "stream",
     "text": [
      "247/247 [==============================] - 3s 7ms/step - loss: 0.0068\n",
      "Epoch 2/20\n",
      "247/247 [==============================] - 2s 6ms/step - loss: 0.0043\n",
      "Epoch 3/20\n",
      "247/247 [==============================] - 2s 6ms/step - loss: 0.0041\n",
      "Epoch 4/20\n",
      "247/247 [==============================] - 2s 6ms/step - loss: 0.0042\n",
      "Epoch 5/20\n",
      "247/247 [==============================] - 2s 6ms/step - loss: 0.0042\n",
      "Epoch 6/20\n",
      "247/247 [==============================] - 2s 6ms/step - loss: 0.0041\n",
      "Epoch 7/20\n",
      "247/247 [==============================] - 2s 6ms/step - loss: 0.0042\n",
      "Epoch 8/20\n",
      "247/247 [==============================] - 2s 6ms/step - loss: 0.0041\n",
      "Epoch 9/20\n",
      "247/247 [==============================] - 2s 6ms/step - loss: 0.0042\n",
      "Epoch 10/20\n",
      "247/247 [==============================] - 2s 6ms/step - loss: 0.0042\n",
      "Epoch 11/20\n",
      "247/247 [==============================] - 2s 6ms/step - loss: 0.0041\n",
      "Epoch 12/20\n",
      "247/247 [==============================] - 2s 6ms/step - loss: 0.0042\n",
      "Epoch 13/20\n",
      "247/247 [==============================] - 2s 6ms/step - loss: 0.0042\n",
      "Epoch 14/20\n",
      "247/247 [==============================] - 2s 6ms/step - loss: 0.0042\n",
      "Epoch 15/20\n",
      "247/247 [==============================] - 2s 6ms/step - loss: 0.0042\n",
      "Epoch 16/20\n",
      "247/247 [==============================] - 2s 6ms/step - loss: 0.0041\n",
      "Epoch 17/20\n",
      "247/247 [==============================] - 2s 6ms/step - loss: 0.0041\n",
      "Epoch 18/20\n",
      "247/247 [==============================] - 2s 6ms/step - loss: 0.0042\n",
      "Epoch 19/20\n",
      "247/247 [==============================] - 2s 6ms/step - loss: 0.0042\n",
      "Epoch 20/20\n",
      "247/247 [==============================] - 2s 6ms/step - loss: 0.0042\n"
     ]
    }
   ],
   "source": [
    "grid_result = grid.fit(X_train, Y_train)"
   ]
  },
  {
   "cell_type": "code",
   "execution_count": 34,
   "metadata": {},
   "outputs": [
    {
     "name": "stdout",
     "output_type": "stream",
     "text": [
      "Best: -0.004087 using {'kc__batch_size': 64, 'kc__epochs': 20, 'kc__init': 'zeros', 'kc__optimizer': 'sgd'}\n",
      "-0.004351 (0.000567) with: {'kc__batch_size': 32, 'kc__epochs': 10, 'kc__init': 'uniform', 'kc__optimizer': 'adam'}\n",
      "-0.004213 (0.000453) with: {'kc__batch_size': 32, 'kc__epochs': 10, 'kc__init': 'uniform', 'kc__optimizer': 'sgd'}\n",
      "-0.004206 (0.000405) with: {'kc__batch_size': 32, 'kc__epochs': 10, 'kc__init': 'zeros', 'kc__optimizer': 'adam'}\n",
      "-0.004298 (0.000503) with: {'kc__batch_size': 32, 'kc__epochs': 10, 'kc__init': 'zeros', 'kc__optimizer': 'sgd'}\n",
      "-0.004120 (0.000453) with: {'kc__batch_size': 32, 'kc__epochs': 10, 'kc__init': 'normal', 'kc__optimizer': 'adam'}\n",
      "-0.004357 (0.000941) with: {'kc__batch_size': 32, 'kc__epochs': 10, 'kc__init': 'normal', 'kc__optimizer': 'sgd'}\n",
      "-0.004195 (0.000474) with: {'kc__batch_size': 32, 'kc__epochs': 20, 'kc__init': 'uniform', 'kc__optimizer': 'adam'}\n",
      "-0.004225 (0.000445) with: {'kc__batch_size': 32, 'kc__epochs': 20, 'kc__init': 'uniform', 'kc__optimizer': 'sgd'}\n",
      "-0.004160 (0.000458) with: {'kc__batch_size': 32, 'kc__epochs': 20, 'kc__init': 'zeros', 'kc__optimizer': 'adam'}\n",
      "-0.004226 (0.000365) with: {'kc__batch_size': 32, 'kc__epochs': 20, 'kc__init': 'zeros', 'kc__optimizer': 'sgd'}\n",
      "-0.004090 (0.000509) with: {'kc__batch_size': 32, 'kc__epochs': 20, 'kc__init': 'normal', 'kc__optimizer': 'adam'}\n",
      "-0.004159 (0.000393) with: {'kc__batch_size': 32, 'kc__epochs': 20, 'kc__init': 'normal', 'kc__optimizer': 'sgd'}\n",
      "-0.004268 (0.000442) with: {'kc__batch_size': 64, 'kc__epochs': 10, 'kc__init': 'uniform', 'kc__optimizer': 'adam'}\n",
      "-0.005324 (0.001992) with: {'kc__batch_size': 64, 'kc__epochs': 10, 'kc__init': 'uniform', 'kc__optimizer': 'sgd'}\n",
      "-0.004493 (0.000891) with: {'kc__batch_size': 64, 'kc__epochs': 10, 'kc__init': 'zeros', 'kc__optimizer': 'adam'}\n",
      "-0.004226 (0.000515) with: {'kc__batch_size': 64, 'kc__epochs': 10, 'kc__init': 'zeros', 'kc__optimizer': 'sgd'}\n",
      "-0.004373 (0.000501) with: {'kc__batch_size': 64, 'kc__epochs': 10, 'kc__init': 'normal', 'kc__optimizer': 'adam'}\n",
      "-0.004318 (0.000621) with: {'kc__batch_size': 64, 'kc__epochs': 10, 'kc__init': 'normal', 'kc__optimizer': 'sgd'}\n",
      "-0.004335 (0.000725) with: {'kc__batch_size': 64, 'kc__epochs': 20, 'kc__init': 'uniform', 'kc__optimizer': 'adam'}\n",
      "-0.004142 (0.000416) with: {'kc__batch_size': 64, 'kc__epochs': 20, 'kc__init': 'uniform', 'kc__optimizer': 'sgd'}\n",
      "-0.004282 (0.000470) with: {'kc__batch_size': 64, 'kc__epochs': 20, 'kc__init': 'zeros', 'kc__optimizer': 'adam'}\n",
      "-0.004087 (0.000501) with: {'kc__batch_size': 64, 'kc__epochs': 20, 'kc__init': 'zeros', 'kc__optimizer': 'sgd'}\n",
      "-0.004266 (0.000515) with: {'kc__batch_size': 64, 'kc__epochs': 20, 'kc__init': 'normal', 'kc__optimizer': 'adam'}\n",
      "-0.004112 (0.000478) with: {'kc__batch_size': 64, 'kc__epochs': 20, 'kc__init': 'normal', 'kc__optimizer': 'sgd'}\n"
     ]
    }
   ],
   "source": [
    "# summarize results\n",
    "print(\"Best: %f using %s\" % (grid_result.best_score_, grid_result.best_params_))\n",
    "means = grid_result.cv_results_['mean_test_score']\n",
    "stds = grid_result.cv_results_['std_test_score']\n",
    "params = grid_result.cv_results_['params']\n",
    "for mean, stdev, param in zip(means, stds, params):\n",
    "    print(\"%f (%f) with: %r\" % (mean, stdev, param))"
   ]
  },
  {
   "cell_type": "code",
   "execution_count": 35,
   "metadata": {},
   "outputs": [
    {
     "name": "stderr",
     "output_type": "stream",
     "text": [
      "WARNING:absl:Found untraced functions such as lstm_cell_1_layer_call_fn, lstm_cell_1_layer_call_and_return_conditional_losses while saving (showing 2 of 2). These functions will not be directly callable after loading.\n"
     ]
    },
    {
     "name": "stdout",
     "output_type": "stream",
     "text": [
      "INFO:tensorflow:Assets written to: ram://5a15d0d0-a405-488b-9891-28aa847d362b/assets\n"
     ]
    },
    {
     "name": "stderr",
     "output_type": "stream",
     "text": [
      "INFO:tensorflow:Assets written to: ram://5a15d0d0-a405-488b-9891-28aa847d362b/assets\n"
     ]
    },
    {
     "data": {
      "text/plain": [
       "['GRIDLSTM.joblib']"
      ]
     },
     "execution_count": 35,
     "metadata": {},
     "output_type": "execute_result"
    }
   ],
   "source": [
    "from joblib import dump, load\n",
    "\n",
    "estimator = grid.best_estimator_\n",
    "\n",
    "dump(estimator, \"GRIDLSTM.joblib\")\n",
    "# Somewhere else\n",
    "#estimator = load(\"your-model.joblib\")"
   ]
  },
  {
   "cell_type": "code",
   "execution_count": null,
   "metadata": {},
   "outputs": [],
   "source": []
  }
 ],
 "metadata": {
  "kernelspec": {
   "display_name": "tensorflow",
   "language": "python",
   "name": "python3"
  },
  "language_info": {
   "codemirror_mode": {
    "name": "ipython",
    "version": 3
   },
   "file_extension": ".py",
   "mimetype": "text/x-python",
   "name": "python",
   "nbconvert_exporter": "python",
   "pygments_lexer": "ipython3",
   "version": "3.9.13 | packaged by conda-forge | (main, May 27 2022, 17:01:00) \n[Clang 13.0.1 ]"
  },
  "orig_nbformat": 4,
  "vscode": {
   "interpreter": {
    "hash": "d0b1ba9df282839ae62848ea44343e3acee0fe67a490c1f60f6e07ef30d90977"
   }
  }
 },
 "nbformat": 4,
 "nbformat_minor": 2
}
