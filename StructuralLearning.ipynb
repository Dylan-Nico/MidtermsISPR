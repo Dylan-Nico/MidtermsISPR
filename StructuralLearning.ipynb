{
 "cells": [
  {
   "cell_type": "code",
   "execution_count": 136,
   "metadata": {},
   "outputs": [
    {
     "data": {
      "text/plain": [
       "Index(['Buying', 'Maint', 'Doors', 'Persons', 'Log_size', 'Safety'], dtype='object')"
      ]
     },
     "execution_count": 136,
     "metadata": {},
     "output_type": "execute_result"
    }
   ],
   "source": [
    "import pandas as pd\n",
    "import networkx as nx\n",
    "from time import time\n",
    "from pgmpy.models import BayesianNetwork\n",
    "from sklearn.metrics import f1_score\n",
    "from pgmpy.estimators import MaximumLikelihoodEstimator\n",
    "from pgmpy.models import BayesianModel\n",
    "from pgmpy.estimators import K2Score, BicScore, BDeuScore\n",
    "import matplotlib.pyplot as plt\n",
    "from pgmpy.estimators import TreeSearch\n",
    "from pgmpy.inference import VariableElimination\n",
    "from pgmpy.estimators import PC, HillClimbSearch, ExhaustiveSearch\n",
    "import numpy as np\n",
    "\n",
    "# Data loading\n",
    "colnames=['Buying', 'Maint', 'Doors', 'Persons', 'Log_size','Safety']\n",
    "data = pd.read_csv('car.data', names=colnames)\n",
    "data.columns"
   ]
  },
  {
   "cell_type": "code",
   "execution_count": 137,
   "metadata": {},
   "outputs": [
    {
     "data": {
      "text/html": [
       "<div>\n",
       "<style scoped>\n",
       "    .dataframe tbody tr th:only-of-type {\n",
       "        vertical-align: middle;\n",
       "    }\n",
       "\n",
       "    .dataframe tbody tr th {\n",
       "        vertical-align: top;\n",
       "    }\n",
       "\n",
       "    .dataframe thead th {\n",
       "        text-align: right;\n",
       "    }\n",
       "</style>\n",
       "<table border=\"1\" class=\"dataframe\">\n",
       "  <thead>\n",
       "    <tr style=\"text-align: right;\">\n",
       "      <th></th>\n",
       "      <th>Buying</th>\n",
       "      <th>Maint</th>\n",
       "      <th>Doors</th>\n",
       "      <th>Persons</th>\n",
       "      <th>Log_size</th>\n",
       "      <th>Safety</th>\n",
       "    </tr>\n",
       "  </thead>\n",
       "  <tbody>\n",
       "    <tr>\n",
       "      <th>vhigh</th>\n",
       "      <td>vhigh</td>\n",
       "      <td>2</td>\n",
       "      <td>2</td>\n",
       "      <td>small</td>\n",
       "      <td>low</td>\n",
       "      <td>unacc</td>\n",
       "    </tr>\n",
       "    <tr>\n",
       "      <th>vhigh</th>\n",
       "      <td>vhigh</td>\n",
       "      <td>2</td>\n",
       "      <td>2</td>\n",
       "      <td>small</td>\n",
       "      <td>med</td>\n",
       "      <td>unacc</td>\n",
       "    </tr>\n",
       "    <tr>\n",
       "      <th>vhigh</th>\n",
       "      <td>vhigh</td>\n",
       "      <td>2</td>\n",
       "      <td>2</td>\n",
       "      <td>small</td>\n",
       "      <td>high</td>\n",
       "      <td>unacc</td>\n",
       "    </tr>\n",
       "    <tr>\n",
       "      <th>vhigh</th>\n",
       "      <td>vhigh</td>\n",
       "      <td>2</td>\n",
       "      <td>2</td>\n",
       "      <td>med</td>\n",
       "      <td>low</td>\n",
       "      <td>unacc</td>\n",
       "    </tr>\n",
       "    <tr>\n",
       "      <th>vhigh</th>\n",
       "      <td>vhigh</td>\n",
       "      <td>2</td>\n",
       "      <td>2</td>\n",
       "      <td>med</td>\n",
       "      <td>med</td>\n",
       "      <td>unacc</td>\n",
       "    </tr>\n",
       "  </tbody>\n",
       "</table>\n",
       "</div>"
      ],
      "text/plain": [
       "      Buying Maint Doors Persons Log_size Safety\n",
       "vhigh  vhigh     2     2   small      low  unacc\n",
       "vhigh  vhigh     2     2   small      med  unacc\n",
       "vhigh  vhigh     2     2   small     high  unacc\n",
       "vhigh  vhigh     2     2     med      low  unacc\n",
       "vhigh  vhigh     2     2     med      med  unacc"
      ]
     },
     "execution_count": 137,
     "metadata": {},
     "output_type": "execute_result"
    }
   ],
   "source": [
    "data.head()"
   ]
  },
  {
   "cell_type": "code",
   "execution_count": 138,
   "metadata": {},
   "outputs": [],
   "source": [
    "# Funtion to evaluate the learned model structures.\n",
    "def get_f1_score(estimated_model, true_model):\n",
    "    nodes = estimated_model.nodes()\n",
    "    est_adj = nx.to_numpy_array(\n",
    "        estimated_model, nodelist=nodes, weight=None\n",
    "    )\n",
    "    true_adj = nx.to_numpy_array(\n",
    "        true_model, nodelist=nodes, weight=None\n",
    "    )\n",
    "\n",
    "    f1 = f1_score(np.ravel(true_adj), np.ravel(est_adj))\n",
    "    print(\"F1-score for the model skeleton: \", f1)"
   ]
  },
  {
   "attachments": {},
   "cell_type": "markdown",
   "metadata": {},
   "source": [
    "# Apply algorithms"
   ]
  },
  {
   "cell_type": "code",
   "execution_count": 149,
   "metadata": {},
   "outputs": [
    {
     "data": {
      "application/vnd.jupyter.widget-view+json": {
       "model_id": "0659e5d5707d4e87991b7b1b31d52c05",
       "version_major": 2,
       "version_minor": 0
      },
      "text/plain": [
       "Building tree:   0%|          | 0/15.0 [00:00<?, ?it/s]"
      ]
     },
     "metadata": {},
     "output_type": "display_data"
    },
    {
     "data": {
      "application/vnd.jupyter.widget-view+json": {
       "model_id": "457257451f3b4534982fe7acb62d23b5",
       "version_major": 2,
       "version_minor": 0
      },
      "text/plain": [
       "  0%|          | 0/1000000 [00:00<?, ?it/s]"
      ]
     },
     "metadata": {},
     "output_type": "display_data"
    },
    {
     "name": "stdout",
     "output_type": "stream",
     "text": [
      "F1-score for the model skeleton:  0.7272727272727272\n"
     ]
    }
   ],
   "source": [
    "# Tree search\n",
    "t0 = time()\n",
    "est = TreeSearch(data)\n",
    "estimated_model = est.estimate(estimator_type=\"chow-liu\")\n",
    "t1 = time()\n",
    "\n",
    "# Hill Climb search\n",
    "scoring_method = K2Score(data=data) # higher one\n",
    "est2 = HillClimbSearch(data=data)\n",
    "estimated_model2 = est2.estimate(scoring_method=scoring_method, max_indegree=2) # max_indegree 2, 1 most similar but does not catch some dependencies (3 does not change anything)\n",
    "t2 = time()\n",
    "\n",
    "# Compute metric\n",
    "get_f1_score(estimated_model, estimated_model2)"
   ]
  },
  {
   "attachments": {},
   "cell_type": "markdown",
   "metadata": {},
   "source": [
    "# Draw Structures"
   ]
  },
  {
   "cell_type": "code",
   "execution_count": 140,
   "metadata": {},
   "outputs": [
    {
     "data": {
      "image/png": "[encoded data removed]",
      "text/plain": [
       "<Figure size 640x480 with 1 Axes>"
      ]
     },
     "metadata": {},
     "output_type": "display_data"
    }
   ],
   "source": [
    "# Draw Tree search graph \n",
    "nx.draw_circular(\n",
    "    estimated_model, with_labels=True, arrowsize=30, node_size=800, alpha=0.3, font_weight=\"bold\"\n",
    ")\n",
    "plt.show()"
   ]
  },
  {
   "cell_type": "code",
   "execution_count": 150,
   "metadata": {},
   "outputs": [
    {
     "data": {
      "image/png": "[encoded data removed]",
      "text/plain": [
       "<Figure size 640x480 with 1 Axes>"
      ]
     },
     "metadata": {},
     "output_type": "display_data"
    }
   ],
   "source": [
    "# Draw Hill Climb graph\n",
    "nx.draw_circular(\n",
    "    estimated_model2, with_labels=True, arrowsize=30, node_size=800, alpha=0.3, font_weight=\"bold\"\n",
    ")\n",
    "plt.show()"
   ]
  },
  {
   "attachments": {},
   "cell_type": "markdown",
   "metadata": {},
   "source": [
    "# Identify independencies for Maint Node"
   ]
  },
  {
   "attachments": {},
   "cell_type": "markdown",
   "metadata": {},
   "source": [
    "## Chi2 Test"
   ]
  },
  {
   "cell_type": "code",
   "execution_count": 142,
   "metadata": {},
   "outputs": [
    {
     "name": "stdout",
     "output_type": "stream",
     "text": [
      "True\n",
      "True\n",
      "True\n",
      "True\n",
      "True\n"
     ]
    }
   ],
   "source": [
    "from pgmpy.estimators.CITests import chi_square\n",
    "# true <-> independent\n",
    "# false <-> dependent\n",
    " \n",
    "# In line with both learned structures\n",
    "print(chi_square(X='Maint', Y='Buying', Z=[], data=data, significance_level=0.01)) # independent\n",
    "print(chi_square(X='Maint', Y='Doors', Z=[], data=data, significance_level=0.01)) # indipendent\n",
    "print(chi_square(X='Maint', Y='Persons', Z=[], data=data, significance_level=0.01)) # independent\n",
    "print(chi_square(X='Maint', Y='Log_size', Z=[], data=data, significance_level=0.01)) # independent\n",
    "\n",
    "# But\n",
    "# Safety and Maint are independent (TreeSearch identify a wrong dependency)\n",
    "print(chi_square(X='Maint', Y='Safety', Z=[], data=data, significance_level=0.01)) # independent"
   ]
  },
  {
   "cell_type": "code",
   "execution_count": 143,
   "metadata": {},
   "outputs": [
    {
     "name": "stdout",
     "output_type": "stream",
     "text": [
      "TreeSearch takes 0.056064\n",
      "HillClimb takes 0.088462\n"
     ]
    }
   ],
   "source": [
    "print('TreeSearch takes %f' %(t1-t0))\n",
    "print('HillClimb takes %f' %(t2-t1))"
   ]
  },
  {
   "cell_type": "code",
   "execution_count": null,
   "metadata": {},
   "outputs": [],
   "source": []
  }
 ],
 "metadata": {
  "kernelspec": {
   "display_name": "tensorflow",
   "language": "python",
   "name": "python3"
  },
  "language_info": {
   "codemirror_mode": {
    "name": "ipython",
    "version": 3
   },
   "file_extension": ".py",
   "mimetype": "text/x-python",
   "name": "python",
   "nbconvert_exporter": "python",
   "pygments_lexer": "ipython3",
   "version": "3.9.13"
  },
  "orig_nbformat": 4,
  "vscode": {
   "interpreter": {
    "hash": "d0b1ba9df282839ae62848ea44343e3acee0fe67a490c1f60f6e07ef30d90977"
   }
  }
 },
 "nbformat": 4,
 "nbformat_minor": 2
}
