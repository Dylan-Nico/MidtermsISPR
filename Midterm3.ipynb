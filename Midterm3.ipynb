{
 "cells": [
  {
   "cell_type": "code",
   "execution_count": 386,
   "metadata": {},
   "outputs": [],
   "source": [
    "from math import sqrt\n",
    "import numpy as np\n",
    "from numpy import concatenate\n",
    "from numpy import transpose\n",
    "import pandas as pd\n",
    "from tensorflow import keras\n",
    "from sklearn.preprocessing import MinMaxScaler\n",
    "from pandas.plotting import autocorrelation_plot\n",
    "import tensorflow as tf\n",
    "import matplotlib.pyplot as plt\n",
    "from tensorflow.keras import initializers\n",
    "from sklearn.preprocessing import MinMaxScaler\n",
    "from sklearn.metrics import mean_squared_error\n",
    "from keras.callbacks import TensorBoard\n",
    "from keras.models import Sequential\n",
    "from keras.layers import Dense\n",
    "from keras.layers import BatchNormalization\n",
    "from keras.layers import LSTM\n",
    "from keras.layers import Dropout, Softmax\n",
    "from keras.optimizers import RMSprop, SGD\n",
    "from joblib import dump, load"
   ]
  },
  {
   "cell_type": "code",
   "execution_count": 387,
   "metadata": {},
   "outputs": [],
   "source": [
    "seed_value= 1\n",
    "\n",
    "# 1. Set the `PYTHONHASHSEED` environment variable at a fixed value\n",
    "import os\n",
    "os.environ['PYTHONHASHSEED']=str(seed_value)\n",
    "\n",
    "# 2. Set the `python` built-in pseudo-random generator at a fixed value\n",
    "import random\n",
    "random.seed(seed_value)\n",
    "\n",
    "# 3. Set the `numpy` pseudo-random generator at a fixed value\n",
    "np.random.seed(seed_value)\n",
    "\n",
    "# 4. Set the `tensorflow` pseudo-random generator at a fixed value\n",
    "tf.random.set_seed(seed_value)\n",
    "# for later versions: \n",
    "# tf.compat.v1.set_random_seed(seed_value)"
   ]
  },
  {
   "cell_type": "code",
   "execution_count": 388,
   "metadata": {},
   "outputs": [],
   "source": [
    "# Get same result every time\n",
    "#np.random.seed(10)\n",
    "#tf.random.set_seed(10)"
   ]
  },
  {
   "cell_type": "code",
   "execution_count": 389,
   "metadata": {},
   "outputs": [],
   "source": [
    "dataset = pd.read_csv('energydata_complete.csv', header = 0, sep=',', quotechar='\"', engine='python', usecols=[0, 1], \n",
    "                           dtype = {\"date\" : \"datetime64[ns]\", \"Appliances\" : \"float\"})"
   ]
  },
  {
   "cell_type": "code",
   "execution_count": 390,
   "metadata": {},
   "outputs": [
    {
     "data": {
      "text/html": [
       "<div>\n",
       "<style scoped>\n",
       "    .dataframe tbody tr th:only-of-type {\n",
       "        vertical-align: middle;\n",
       "    }\n",
       "\n",
       "    .dataframe tbody tr th {\n",
       "        vertical-align: top;\n",
       "    }\n",
       "\n",
       "    .dataframe thead th {\n",
       "        text-align: right;\n",
       "    }\n",
       "</style>\n",
       "<table border=\"1\" class=\"dataframe\">\n",
       "  <thead>\n",
       "    <tr style=\"text-align: right;\">\n",
       "      <th></th>\n",
       "      <th>date</th>\n",
       "      <th>Appliances</th>\n",
       "    </tr>\n",
       "  </thead>\n",
       "  <tbody>\n",
       "    <tr>\n",
       "      <th>0</th>\n",
       "      <td>2016-01-11 17:00:00</td>\n",
       "      <td>60.0</td>\n",
       "    </tr>\n",
       "    <tr>\n",
       "      <th>1</th>\n",
       "      <td>2016-01-11 17:10:00</td>\n",
       "      <td>60.0</td>\n",
       "    </tr>\n",
       "    <tr>\n",
       "      <th>2</th>\n",
       "      <td>2016-01-11 17:20:00</td>\n",
       "      <td>50.0</td>\n",
       "    </tr>\n",
       "    <tr>\n",
       "      <th>3</th>\n",
       "      <td>2016-01-11 17:30:00</td>\n",
       "      <td>50.0</td>\n",
       "    </tr>\n",
       "    <tr>\n",
       "      <th>4</th>\n",
       "      <td>2016-01-11 17:40:00</td>\n",
       "      <td>60.0</td>\n",
       "    </tr>\n",
       "    <tr>\n",
       "      <th>...</th>\n",
       "      <td>...</td>\n",
       "      <td>...</td>\n",
       "    </tr>\n",
       "    <tr>\n",
       "      <th>19730</th>\n",
       "      <td>2016-05-27 17:20:00</td>\n",
       "      <td>100.0</td>\n",
       "    </tr>\n",
       "    <tr>\n",
       "      <th>19731</th>\n",
       "      <td>2016-05-27 17:30:00</td>\n",
       "      <td>90.0</td>\n",
       "    </tr>\n",
       "    <tr>\n",
       "      <th>19732</th>\n",
       "      <td>2016-05-27 17:40:00</td>\n",
       "      <td>270.0</td>\n",
       "    </tr>\n",
       "    <tr>\n",
       "      <th>19733</th>\n",
       "      <td>2016-05-27 17:50:00</td>\n",
       "      <td>420.0</td>\n",
       "    </tr>\n",
       "    <tr>\n",
       "      <th>19734</th>\n",
       "      <td>2016-05-27 18:00:00</td>\n",
       "      <td>430.0</td>\n",
       "    </tr>\n",
       "  </tbody>\n",
       "</table>\n",
       "<p>19735 rows × 2 columns</p>\n",
       "</div>"
      ],
      "text/plain": [
       "                     date  Appliances\n",
       "0     2016-01-11 17:00:00        60.0\n",
       "1     2016-01-11 17:10:00        60.0\n",
       "2     2016-01-11 17:20:00        50.0\n",
       "3     2016-01-11 17:30:00        50.0\n",
       "4     2016-01-11 17:40:00        60.0\n",
       "...                   ...         ...\n",
       "19730 2016-05-27 17:20:00       100.0\n",
       "19731 2016-05-27 17:30:00        90.0\n",
       "19732 2016-05-27 17:40:00       270.0\n",
       "19733 2016-05-27 17:50:00       420.0\n",
       "19734 2016-05-27 18:00:00       430.0\n",
       "\n",
       "[19735 rows x 2 columns]"
      ]
     },
     "execution_count": 390,
     "metadata": {},
     "output_type": "execute_result"
    }
   ],
   "source": [
    "dataset"
   ]
  },
  {
   "cell_type": "code",
   "execution_count": 391,
   "metadata": {},
   "outputs": [],
   "source": [
    "#datetime format\n",
    "dataset.index = pd.to_datetime(dataset['date'], format='%Y-%m-%d %H:%M:%S')\n",
    "dataset = dataset.set_index('date')"
   ]
  },
  {
   "cell_type": "code",
   "execution_count": 392,
   "metadata": {},
   "outputs": [],
   "source": [
    "scaler = MinMaxScaler()\n",
    "dataset = scaler.fit_transform(dataset)"
   ]
  },
  {
   "cell_type": "code",
   "execution_count": 393,
   "metadata": {},
   "outputs": [],
   "source": [
    "train_size = int(len(dataset) * 0.80)\n",
    "test_size = len(dataset) - train_size\n",
    "train1, test1 = dataset[0:train_size,:], dataset[train_size:len(dataset),:]\n",
    "# make portion of validation set\n",
    "actual_train_size = int(len(train1) * 0.80)\n",
    "val_size = len(train1) - actual_train_size\n",
    "train1, val1 = train1[0:actual_train_size,:], train1[actual_train_size:len(train1),:]\n",
    "\n",
    "def onestep_split(dataset,k=1):\n",
    "    X, Y = [], []\n",
    "    for i in range(len(dataset)-k-1): #(n -(k+1)) k=1\n",
    "        a = dataset[i:(i+k), 0]\n",
    "        X.append(a)\n",
    "        Y.append(dataset[i + k, 0])\n",
    "    return np.array(X), np.array(Y)\n",
    "   \n",
    "\n",
    "X_train, Y_train = onestep_split(train1, 1)\n",
    "X_val, Y_val = onestep_split(val1, 1)\n",
    "X_test, Y_test = onestep_split(test1, 1)"
   ]
  },
  {
   "cell_type": "code",
   "execution_count": 394,
   "metadata": {},
   "outputs": [
    {
     "data": {
      "text/plain": [
       "array([[0.04672897],\n",
       "       [0.04672897],\n",
       "       [0.03738318],\n",
       "       ...,\n",
       "       [0.06542056],\n",
       "       [0.03738318],\n",
       "       [0.07476636]])"
      ]
     },
     "execution_count": 394,
     "metadata": {},
     "output_type": "execute_result"
    }
   ],
   "source": [
    "X_train"
   ]
  },
  {
   "cell_type": "code",
   "execution_count": 395,
   "metadata": {},
   "outputs": [
    {
     "data": {
      "text/plain": [
       "array([[0.09345794],\n",
       "       [0.08411215],\n",
       "       [0.09345794],\n",
       "       ...,\n",
       "       [0.06542056],\n",
       "       [0.06542056],\n",
       "       [0.03738318]])"
      ]
     },
     "execution_count": 395,
     "metadata": {},
     "output_type": "execute_result"
    }
   ],
   "source": [
    "X_val"
   ]
  },
  {
   "cell_type": "code",
   "execution_count": 396,
   "metadata": {},
   "outputs": [
    {
     "name": "stdout",
     "output_type": "stream",
     "text": [
      "(12628, 1)\n"
     ]
    }
   ],
   "source": [
    "print(X_train.shape)"
   ]
  },
  {
   "cell_type": "code",
   "execution_count": 397,
   "metadata": {},
   "outputs": [
    {
     "name": "stdout",
     "output_type": "stream",
     "text": [
      "(12628, 1, 1)\n"
     ]
    }
   ],
   "source": [
    "# the net needs to get the current time step and the actual value --> shape[1], shape[2]\n",
    "# reshape input to be [samples, time steps, features]\n",
    "X_train = np.reshape(X_train, (X_train.shape[0], 1, X_train.shape[1]))\n",
    "X_val = np.reshape(X_val, (X_val.shape[0], 1, X_val.shape[1]))\n",
    "X_test = np.reshape(X_test, (X_test.shape[0], 1, X_test.shape[1]))\n",
    "\n",
    "print(X_train.shape)"
   ]
  },
  {
   "cell_type": "code",
   "execution_count": 357,
   "metadata": {},
   "outputs": [
    {
     "name": "stdout",
     "output_type": "stream",
     "text": [
      "Model: \"sequential_20\"\n",
      "_________________________________________________________________\n",
      " Layer (type)                Output Shape              Param #   \n",
      "=================================================================\n",
      " lstm_20 (LSTM)              (None, 1)                 12        \n",
      "                                                                 \n",
      " batch_normalization_20 (Bat  (None, 1)                4         \n",
      " chNormalization)                                                \n",
      "                                                                 \n",
      " dense_20 (Dense)            (None, 64)                128       \n",
      "                                                                 \n",
      "=================================================================\n",
      "Total params: 144\n",
      "Trainable params: 142\n",
      "Non-trainable params: 2\n",
      "_________________________________________________________________\n",
      "None\n"
     ]
    }
   ],
   "source": [
    "model = keras.Sequential()\n",
    "model.add(keras.layers.LSTM(1, input_shape=(X_train.shape[1], X_train.shape[2])))\n",
    "model.add(keras.layers.BatchNormalization())\n",
    "model.add(keras.layers.Dense(64,activation='relu', bias_initializer='zeros'))\n",
    "print(model.summary())"
   ]
  },
  {
   "cell_type": "code",
   "execution_count": 358,
   "metadata": {},
   "outputs": [],
   "source": [
    "from keras import optimizers\n",
    "sgd = optimizers.SGD(learning_rate=0.01, momentum=0.1)\n",
    "model.compile(\n",
    "    loss='mean_absolute_error',\n",
    "    optimizer=sgd\n",
    ")"
   ]
  },
  {
   "cell_type": "code",
   "execution_count": 359,
   "metadata": {},
   "outputs": [
    {
     "name": "stdout",
     "output_type": "stream",
     "text": [
      "Epoch 1/20\n"
     ]
    },
    {
     "name": "stderr",
     "output_type": "stream",
     "text": [
      "2023-05-02 14:49:01.069539: I tensorflow/core/grappler/optimizers/custom_graph_optimizer_registry.cc:114] Plugin optimizer for device_type GPU is enabled.\n",
      "2023-05-02 14:49:01.201640: I tensorflow/core/grappler/optimizers/custom_graph_optimizer_registry.cc:114] Plugin optimizer for device_type GPU is enabled.\n"
     ]
    },
    {
     "name": "stdout",
     "output_type": "stream",
     "text": [
      " 10/198 [>.............................] - ETA: 2s - loss: 0.0602 "
     ]
    },
    {
     "name": "stderr",
     "output_type": "stream",
     "text": [
      "2023-05-02 14:49:01.340475: I tensorflow/core/grappler/optimizers/custom_graph_optimizer_registry.cc:114] Plugin optimizer for device_type GPU is enabled.\n"
     ]
    },
    {
     "name": "stdout",
     "output_type": "stream",
     "text": [
      "198/198 [==============================] - ETA: 0s - loss: 0.0674"
     ]
    },
    {
     "name": "stderr",
     "output_type": "stream",
     "text": [
      "2023-05-02 14:49:03.164036: I tensorflow/core/grappler/optimizers/custom_graph_optimizer_registry.cc:114] Plugin optimizer for device_type GPU is enabled.\n",
      "2023-05-02 14:49:03.218642: I tensorflow/core/grappler/optimizers/custom_graph_optimizer_registry.cc:114] Plugin optimizer for device_type GPU is enabled.\n"
     ]
    },
    {
     "name": "stdout",
     "output_type": "stream",
     "text": [
      "198/198 [==============================] - 3s 11ms/step - loss: 0.0674 - val_loss: 0.0705\n",
      "Epoch 2/20\n",
      "198/198 [==============================] - 2s 9ms/step - loss: 0.0616 - val_loss: 0.0606\n",
      "Epoch 3/20\n",
      "198/198 [==============================] - 2s 8ms/step - loss: 0.0565 - val_loss: 0.0529\n",
      "Epoch 4/20\n",
      "198/198 [==============================] - 2s 8ms/step - loss: 0.0533 - val_loss: 0.0486\n",
      "Epoch 5/20\n",
      "198/198 [==============================] - 2s 8ms/step - loss: 0.0519 - val_loss: 0.0468\n",
      "Epoch 6/20\n",
      "198/198 [==============================] - 2s 9ms/step - loss: 0.0508 - val_loss: 0.0454\n",
      "Epoch 7/20\n",
      "198/198 [==============================] - 2s 8ms/step - loss: 0.0502 - val_loss: 0.0448\n",
      "Epoch 8/20\n",
      "198/198 [==============================] - 2s 8ms/step - loss: 0.0498 - val_loss: 0.0442\n",
      "Epoch 9/20\n",
      "198/198 [==============================] - 2s 8ms/step - loss: 0.0494 - val_loss: 0.0437\n",
      "Epoch 10/20\n",
      "198/198 [==============================] - 2s 8ms/step - loss: 0.0491 - val_loss: 0.0432\n",
      "Epoch 11/20\n",
      "198/198 [==============================] - 2s 8ms/step - loss: 0.0486 - val_loss: 0.0429\n",
      "Epoch 12/20\n",
      "198/198 [==============================] - 2s 8ms/step - loss: 0.0485 - val_loss: 0.0425\n",
      "Epoch 13/20\n",
      "198/198 [==============================] - 2s 8ms/step - loss: 0.0481 - val_loss: 0.0422\n",
      "Epoch 14/20\n",
      "198/198 [==============================] - 2s 8ms/step - loss: 0.0478 - val_loss: 0.0419\n",
      "Epoch 15/20\n",
      "198/198 [==============================] - 2s 8ms/step - loss: 0.0476 - val_loss: 0.0417\n",
      "Epoch 16/20\n",
      "198/198 [==============================] - 2s 8ms/step - loss: 0.0473 - val_loss: 0.0414\n",
      "Epoch 17/20\n",
      "198/198 [==============================] - 2s 8ms/step - loss: 0.0470 - val_loss: 0.0412\n",
      "Epoch 18/20\n",
      "198/198 [==============================] - 2s 8ms/step - loss: 0.0469 - val_loss: 0.0410\n",
      "Epoch 19/20\n",
      "198/198 [==============================] - 2s 8ms/step - loss: 0.0467 - val_loss: 0.0407\n",
      "Epoch 20/20\n",
      "198/198 [==============================] - 2s 8ms/step - loss: 0.0465 - val_loss: 0.0405\n"
     ]
    }
   ],
   "source": [
    "h = model.fit(X_train, Y_train, batch_size=64, validation_data=(X_val,Y_val), epochs=20)"
   ]
  },
  {
   "cell_type": "code",
   "execution_count": 361,
   "metadata": {},
   "outputs": [
    {
     "data": {
      "image/png": "[encoded data removed]",
      "text/plain": [
       "<Figure size 640x480 with 1 Axes>"
      ]
     },
     "metadata": {},
     "output_type": "display_data"
    }
   ],
   "source": [
    "plt.plot(h.history['loss'])\n",
    "plt.plot(h.history['val_loss']) \n",
    "plt.title('model loss')\n",
    "plt.ylabel('loss')\n",
    "plt.xlabel('epoch')\n",
    "plt.legend(['train', 'val'])\n",
    "plt.show()"
   ]
  },
  {
   "cell_type": "code",
   "execution_count": 362,
   "metadata": {},
   "outputs": [
    {
     "name": "stdout",
     "output_type": "stream",
     "text": [
      " 11/124 [=>............................] - ETA: 0s "
     ]
    },
    {
     "name": "stderr",
     "output_type": "stream",
     "text": [
      "2023-05-02 15:03:59.527678: I tensorflow/core/grappler/optimizers/custom_graph_optimizer_registry.cc:114] Plugin optimizer for device_type GPU is enabled.\n",
      "2023-05-02 15:03:59.599391: I tensorflow/core/grappler/optimizers/custom_graph_optimizer_registry.cc:114] Plugin optimizer for device_type GPU is enabled.\n"
     ]
    },
    {
     "name": "stdout",
     "output_type": "stream",
     "text": [
      "124/124 [==============================] - 1s 5ms/step\n"
     ]
    }
   ],
   "source": [
    "# Model assesment\n",
    "test_predict = model.predict(X_test)"
   ]
  },
  {
   "cell_type": "code",
   "execution_count": 363,
   "metadata": {},
   "outputs": [
    {
     "data": {
      "text/plain": [
       "array([[0.16162112, 0.080387  , 0.        , ..., 0.        , 0.00948186,\n",
       "        0.        ],\n",
       "       [0.21339265, 0.09557662, 0.        , ..., 0.        , 0.        ,\n",
       "        0.        ],\n",
       "       [0.14637923, 0.07591507, 0.        , ..., 0.        , 0.01431575,\n",
       "        0.        ],\n",
       "       ...,\n",
       "       [0.06362815, 0.05163611, 0.        , ..., 0.00631693, 0.04055985,\n",
       "        0.02476727],\n",
       "       [0.05927416, 0.05035866, 0.        , ..., 0.01394905, 0.0419407 ,\n",
       "        0.02899262],\n",
       "       [0.12980963, 0.07105359, 0.        , ..., 0.        , 0.01957072,\n",
       "        0.        ]], dtype=float32)"
      ]
     },
     "execution_count": 363,
     "metadata": {},
     "output_type": "execute_result"
    }
   ],
   "source": [
    "test_predict"
   ]
  },
  {
   "cell_type": "code",
   "execution_count": 364,
   "metadata": {},
   "outputs": [],
   "source": [
    "# back to original format\n",
    "test_predict = scaler.inverse_transform(test_predict)\n",
    "Y_test = scaler.inverse_transform([Y_test])"
   ]
  },
  {
   "cell_type": "code",
   "execution_count": 365,
   "metadata": {},
   "outputs": [
    {
     "data": {
      "text/plain": [
       "array([[590., 320., 310., ...,  90., 270., 420.]])"
      ]
     },
     "execution_count": 365,
     "metadata": {},
     "output_type": "execute_result"
    }
   ],
   "source": [
    "Y_test"
   ]
  },
  {
   "attachments": {},
   "cell_type": "markdown",
   "metadata": {},
   "source": [
    "# RMSE"
   ]
  },
  {
   "cell_type": "code",
   "execution_count": 366,
   "metadata": {},
   "outputs": [
    {
     "name": "stdout",
     "output_type": "stream",
     "text": [
      "72.89758571753664\n"
     ]
    }
   ],
   "source": [
    "print(np.sqrt(mean_squared_error(Y_test[0], test_predict[:,0])))"
   ]
  },
  {
   "cell_type": "code",
   "execution_count": 367,
   "metadata": {},
   "outputs": [],
   "source": [
    "# save model\n",
    "#model.save('mylstm')"
   ]
  },
  {
   "cell_type": "code",
   "execution_count": 368,
   "metadata": {},
   "outputs": [],
   "source": [
    "#lstm1 = keras.models.load_model('mylstm')"
   ]
  },
  {
   "attachments": {},
   "cell_type": "markdown",
   "metadata": {},
   "source": [
    "# Clockwork RNN"
   ]
  },
  {
   "cell_type": "code",
   "execution_count": 382,
   "metadata": {},
   "outputs": [],
   "source": [
    "from keras.models import Sequential\n",
    "from cwrnn import ClockworkRNN"
   ]
  },
  {
   "cell_type": "code",
   "execution_count": 383,
   "metadata": {},
   "outputs": [
    {
     "name": "stdout",
     "output_type": "stream",
     "text": [
      "Model: \"sequential_25\"\n",
      "_________________________________________________________________\n",
      " Layer (type)                Output Shape              Param #   \n",
      "=================================================================\n",
      " clockwork_simple_rnn_4 (Clo  (None, 1)                737       \n",
      " ckworkSimpleRNN)                                                \n",
      "                                                                 \n",
      "=================================================================\n",
      "Total params: 737\n",
      "Trainable params: 737\n",
      "Non-trainable params: 0\n",
      "_________________________________________________________________\n"
     ]
    }
   ],
   "source": [
    "from keras import optimizers\n",
    "sgd = optimizers.SGD(learning_rate=0.01)\n",
    "model = Sequential()\n",
    "model.add(ClockworkRNN(periods=[10, 32, 64, 128],\n",
    "                       units_per_period=8, \n",
    "                       input_shape=(X_train.shape[1], X_train.shape[2]), \n",
    "                       output_units=1))\n",
    "model.compile(optimizer=sgd, loss='mse')\n",
    "model.summary()"
   ]
  },
  {
   "cell_type": "code",
   "execution_count": 384,
   "metadata": {},
   "outputs": [
    {
     "name": "stdout",
     "output_type": "stream",
     "text": [
      "Epoch 1/20\n"
     ]
    },
    {
     "name": "stderr",
     "output_type": "stream",
     "text": [
      "2023-05-02 15:18:36.850768: I tensorflow/core/grappler/optimizers/custom_graph_optimizer_registry.cc:114] Plugin optimizer for device_type GPU is enabled.\n"
     ]
    },
    {
     "name": "stdout",
     "output_type": "stream",
     "text": [
      "395/395 [==============================] - ETA: 0s - loss: 0.0086"
     ]
    },
    {
     "name": "stderr",
     "output_type": "stream",
     "text": [
      "2023-05-02 15:18:52.219519: I tensorflow/core/grappler/optimizers/custom_graph_optimizer_registry.cc:114] Plugin optimizer for device_type GPU is enabled.\n"
     ]
    },
    {
     "name": "stdout",
     "output_type": "stream",
     "text": [
      "395/395 [==============================] - 18s 41ms/step - loss: 0.0086 - val_loss: 0.0058\n",
      "Epoch 2/20\n",
      "395/395 [==============================] - 15s 38ms/step - loss: 0.0060 - val_loss: 0.0045\n",
      "Epoch 3/20\n",
      "395/395 [==============================] - 15s 37ms/step - loss: 0.0049 - val_loss: 0.0040\n",
      "Epoch 4/20\n",
      "395/395 [==============================] - 15s 37ms/step - loss: 0.0045 - val_loss: 0.0038\n",
      "Epoch 5/20\n",
      "395/395 [==============================] - 15s 37ms/step - loss: 0.0043 - val_loss: 0.0037\n",
      "Epoch 6/20\n",
      "395/395 [==============================] - 15s 37ms/step - loss: 0.0043 - val_loss: 0.0037\n",
      "Epoch 7/20\n",
      "395/395 [==============================] - 15s 37ms/step - loss: 0.0042 - val_loss: 0.0037\n",
      "Epoch 8/20\n",
      "395/395 [==============================] - 15s 37ms/step - loss: 0.0042 - val_loss: 0.0037\n",
      "Epoch 9/20\n",
      "395/395 [==============================] - 15s 37ms/step - loss: 0.0042 - val_loss: 0.0037\n",
      "Epoch 10/20\n",
      "395/395 [==============================] - 15s 37ms/step - loss: 0.0042 - val_loss: 0.0037\n",
      "Epoch 11/20\n",
      "395/395 [==============================] - 15s 37ms/step - loss: 0.0042 - val_loss: 0.0037\n",
      "Epoch 12/20\n",
      "395/395 [==============================] - 15s 37ms/step - loss: 0.0042 - val_loss: 0.0037\n",
      "Epoch 13/20\n",
      "395/395 [==============================] - 15s 37ms/step - loss: 0.0042 - val_loss: 0.0037\n",
      "Epoch 14/20\n",
      "395/395 [==============================] - 15s 37ms/step - loss: 0.0042 - val_loss: 0.0037\n",
      "Epoch 15/20\n",
      "395/395 [==============================] - 15s 37ms/step - loss: 0.0042 - val_loss: 0.0037\n",
      "Epoch 16/20\n",
      "395/395 [==============================] - 15s 37ms/step - loss: 0.0042 - val_loss: 0.0037\n",
      "Epoch 17/20\n",
      "395/395 [==============================] - 15s 37ms/step - loss: 0.0042 - val_loss: 0.0037\n",
      "Epoch 18/20\n",
      "395/395 [==============================] - 15s 37ms/step - loss: 0.0042 - val_loss: 0.0037\n",
      "Epoch 19/20\n",
      "395/395 [==============================] - 15s 37ms/step - loss: 0.0042 - val_loss: 0.0037\n",
      "Epoch 20/20\n",
      "395/395 [==============================] - 15s 38ms/step - loss: 0.0042 - val_loss: 0.0037\n"
     ]
    }
   ],
   "source": [
    "cwrnn = model.fit(X_train, Y_train, validation_data=(X_val,Y_val), epochs=20)"
   ]
  },
  {
   "cell_type": "code",
   "execution_count": 385,
   "metadata": {},
   "outputs": [
    {
     "data": {
      "image/png": "[encoded data removed]",
      "text/plain": [
       "<Figure size 640x480 with 1 Axes>"
      ]
     },
     "metadata": {},
     "output_type": "display_data"
    }
   ],
   "source": [
    "plt.plot(cwrnn.history['loss'])\n",
    "plt.plot(cwrnn.history['val_loss']) \n",
    "plt.title('model loss')\n",
    "plt.ylabel('loss')\n",
    "plt.xlabel('epoch')\n",
    "plt.legend(['train', 'val'])\n",
    "plt.show()"
   ]
  },
  {
   "cell_type": "code",
   "execution_count": 398,
   "metadata": {},
   "outputs": [
    {
     "name": "stderr",
     "output_type": "stream",
     "text": [
      "2023-05-02 15:24:44.460051: I tensorflow/core/grappler/optimizers/custom_graph_optimizer_registry.cc:114] Plugin optimizer for device_type GPU is enabled.\n"
     ]
    },
    {
     "name": "stdout",
     "output_type": "stream",
     "text": [
      "124/124 [==============================] - 2s 16ms/step\n"
     ]
    }
   ],
   "source": [
    "# re-exhecute the preprocessing part first\n",
    "\n",
    "# Model assesment\n",
    "test_predict = model.predict(X_test)"
   ]
  },
  {
   "cell_type": "code",
   "execution_count": 399,
   "metadata": {},
   "outputs": [],
   "source": [
    "# back to original format\n",
    "test_predict = scaler.inverse_transform(test_predict)\n",
    "Y_test = scaler.inverse_transform([Y_test])"
   ]
  },
  {
   "cell_type": "code",
   "execution_count": 400,
   "metadata": {},
   "outputs": [
    {
     "name": "stdout",
     "output_type": "stream",
     "text": [
      "61.774914546708125\n"
     ]
    }
   ],
   "source": [
    "print(np.sqrt(mean_squared_error(Y_test[0], test_predict[:,0])))"
   ]
  },
  {
   "cell_type": "code",
   "execution_count": null,
   "metadata": {},
   "outputs": [],
   "source": [
    "# save model\n",
    "#model.save('mycwrnn')"
   ]
  },
  {
   "cell_type": "code",
   "execution_count": null,
   "metadata": {},
   "outputs": [],
   "source": []
  }
 ],
 "metadata": {
  "kernelspec": {
   "display_name": "Python 3.9 (tensorflow)",
   "language": "python",
   "name": "tensorflow"
  },
  "language_info": {
   "codemirror_mode": {
    "name": "ipython",
    "version": 3
   },
   "file_extension": ".py",
   "mimetype": "text/x-python",
   "name": "python",
   "nbconvert_exporter": "python",
   "pygments_lexer": "ipython3",
   "version": "3.9.13"
  },
  "orig_nbformat": 4,
  "vscode": {
   "interpreter": {
    "hash": "d0b1ba9df282839ae62848ea44343e3acee0fe67a490c1f60f6e07ef30d90977"
   }
  }
 },
 "nbformat": 4,
 "nbformat_minor": 2
}
